{
 "cells": [
  {
   "cell_type": "markdown",
   "metadata": {
    "id": "CFucqz1CsoVY"
   },
   "source": [
    "# References\n",
    "1.   https://mml-book.github.io/book/mml-book.pdf\n",
    "2.   https://docs.pytorch.org/docs/stable/linalg.html"
   ]
  },
  {
   "cell_type": "code",
   "execution_count": 1,
   "metadata": {
    "executionInfo": {
     "elapsed": 6596,
     "status": "ok",
     "timestamp": 1756885757048,
     "user": {
      "displayName": "Piergiorgio Di Pasquale",
      "userId": "07379998051964901818"
     },
     "user_tz": -120
    },
    "id": "71CZaGqjA0kl"
   },
   "outputs": [],
   "source": [
    "import torch\n",
    "import matplotlib.pyplot as plt\n",
    "import numpy as np"
   ]
  },
  {
   "cell_type": "markdown",
   "metadata": {
    "id": "CrhMMscDFHsW"
   },
   "source": [
    "# utils"
   ]
  },
  {
   "cell_type": "code",
   "execution_count": 2,
   "metadata": {
    "executionInfo": {
     "elapsed": 7,
     "status": "ok",
     "timestamp": 1756885757050,
     "user": {
      "displayName": "Piergiorgio Di Pasquale",
      "userId": "07379998051964901818"
     },
     "user_tz": -120
    },
    "id": "rHMFWBG4FJ7O"
   },
   "outputs": [],
   "source": [
    "\n",
    "def show_vectors(*args: torch.tensor, zoom=1, color_map=None, equal_scale=True):\n",
    "    fig, ax = plt.subplots()\n",
    "    if not color_map:\n",
    "        color_map = [\"b\"] * len(args)\n",
    "\n",
    "    for c, vec in zip(color_map, args):\n",
    "        ax.quiver(0, 0, *vec, angles='xy', scale_units='xy', scale=1, color=c)\n",
    "        ax.annotate([round(_.item(), 1) for _ in vec], (vec[0].item(), vec[1].item()))\n",
    "\n",
    "    x_lim = max(abs(vec[0].item()) for vec in args)\n",
    "    y_lim = max(abs(vec[1].item()) for vec in args)\n",
    "\n",
    "    ax.set_xlim(-x_lim - zoom, x_lim + zoom)\n",
    "    ax.set_ylim(-y_lim - zoom, y_lim + zoom)\n",
    "\n",
    "    if equal_scale:\n",
    "        ax.set_aspect('equal')  # keep x and y scale the same\n",
    "\n",
    "    ax.grid()\n",
    "    plt.tight_layout()\n",
    "    plt.show()\n"
   ]
  },
  {
   "cell_type": "markdown",
   "metadata": {
    "id": "y55sysvp_gFw"
   },
   "source": [
    "# linear systems"
   ]
  },
  {
   "cell_type": "code",
   "execution_count": 3,
   "metadata": {
    "executionInfo": {
     "elapsed": 46,
     "status": "ok",
     "timestamp": 1756885757092,
     "user": {
      "displayName": "Piergiorgio Di Pasquale",
      "userId": "07379998051964901818"
     },
     "user_tz": -120
    },
    "id": "LqFb2kRc_iAt"
   },
   "outputs": [],
   "source": [
    "A = torch.tensor([[5.,1.],[3.,-4.]])\n",
    "b = torch.tensor([[8.,14.]])"
   ]
  },
  {
   "cell_type": "code",
   "execution_count": 4,
   "metadata": {
    "colab": {
     "base_uri": "https://localhost:8080/"
    },
    "executionInfo": {
     "elapsed": 50,
     "status": "ok",
     "timestamp": 1756885757150,
     "user": {
      "displayName": "Piergiorgio Di Pasquale",
      "userId": "07379998051964901818"
     },
     "user_tz": -120
    },
    "id": "FIajSF-__pgO",
    "outputId": "22e131f0-46ce-42c1-c2d8-f57843d97139"
   },
   "outputs": [
    {
     "data": {
      "text/plain": [
       "(torch.Size([2, 2]), torch.Size([1, 2]))"
      ]
     },
     "execution_count": 4,
     "metadata": {},
     "output_type": "execute_result"
    }
   ],
   "source": [
    "A.size(), b.size()"
   ]
  },
  {
   "cell_type": "code",
   "execution_count": 5,
   "metadata": {
    "colab": {
     "base_uri": "https://localhost:8080/"
    },
    "executionInfo": {
     "elapsed": 148,
     "status": "ok",
     "timestamp": 1756885757316,
     "user": {
      "displayName": "Piergiorgio Di Pasquale",
      "userId": "07379998051964901818"
     },
     "user_tz": -120
    },
    "id": "utoGXKL9_sBt",
    "outputId": "a79a1cca-879f-4a2c-88c3-7c9b03368caa"
   },
   "outputs": [
    {
     "data": {
      "text/plain": [
       "tensor([[ 0.1739,  0.0435],\n",
       "        [ 0.1304, -0.2174]])"
      ]
     },
     "execution_count": 5,
     "metadata": {},
     "output_type": "execute_result"
    }
   ],
   "source": [
    "inverse = 1/torch.linalg.det(A)*torch.tensor([[-4.,-1.],[-3.,5.]])\n",
    "inverse"
   ]
  },
  {
   "cell_type": "code",
   "execution_count": 6,
   "metadata": {
    "colab": {
     "base_uri": "https://localhost:8080/"
    },
    "executionInfo": {
     "elapsed": 63,
     "status": "ok",
     "timestamp": 1756885757381,
     "user": {
      "displayName": "Piergiorgio Di Pasquale",
      "userId": "07379998051964901818"
     },
     "user_tz": -120
    },
    "id": "o3ZiPFMoAaCh",
    "outputId": "cdec0fa1-dc61-4a8d-f6e6-de216bcf8e40"
   },
   "outputs": [
    {
     "data": {
      "text/plain": [
       "tensor([[1., 0.],\n",
       "        [0., 1.]])"
      ]
     },
     "execution_count": 6,
     "metadata": {},
     "output_type": "execute_result"
    }
   ],
   "source": [
    "A @ inverse"
   ]
  },
  {
   "cell_type": "code",
   "execution_count": 7,
   "metadata": {
    "colab": {
     "base_uri": "https://localhost:8080/"
    },
    "executionInfo": {
     "elapsed": 35,
     "status": "ok",
     "timestamp": 1756885757415,
     "user": {
      "displayName": "Piergiorgio Di Pasquale",
      "userId": "07379998051964901818"
     },
     "user_tz": -120
    },
    "id": "9vktOLW4A6Tx",
    "outputId": "59d82c14-dafe-4221-a9d3-267f9c49c4a3"
   },
   "outputs": [
    {
     "data": {
      "text/plain": [
       "tensor([[ 2.0000],\n",
       "        [-2.0000]])"
      ]
     },
     "execution_count": 7,
     "metadata": {},
     "output_type": "execute_result"
    }
   ],
   "source": [
    "# to solve the linear system Ax = b --> x = b@A^-1\n",
    "x = inverse@b.T\n",
    "x"
   ]
  },
  {
   "cell_type": "code",
   "execution_count": 8,
   "metadata": {
    "colab": {
     "base_uri": "https://localhost:8080/"
    },
    "executionInfo": {
     "elapsed": 34,
     "status": "ok",
     "timestamp": 1756885757447,
     "user": {
      "displayName": "Piergiorgio Di Pasquale",
      "userId": "07379998051964901818"
     },
     "user_tz": -120
    },
    "id": "Oi7uyTTuBHeY",
    "outputId": "3174b257-7221-4060-fa87-af2393d99f11"
   },
   "outputs": [
    {
     "data": {
      "text/plain": [
       "tensor([[ 8.0000],\n",
       "        [14.0000]])"
      ]
     },
     "execution_count": 8,
     "metadata": {},
     "output_type": "execute_result"
    }
   ],
   "source": [
    "A@x # as we can see now we found x such that x @ A gives b"
   ]
  },
  {
   "cell_type": "code",
   "execution_count": 9,
   "metadata": {
    "colab": {
     "base_uri": "https://localhost:8080/"
    },
    "executionInfo": {
     "elapsed": 43,
     "status": "ok",
     "timestamp": 1756885757490,
     "user": {
      "displayName": "Piergiorgio Di Pasquale",
      "userId": "07379998051964901818"
     },
     "user_tz": -120
    },
    "id": "3bxHnHLyCeQo",
    "outputId": "7037d779-152c-40d7-95fa-32552507bd7d"
   },
   "outputs": [
    {
     "data": {
      "text/plain": [
       "tensor([[ 2.],\n",
       "        [-2.]])"
      ]
     },
     "execution_count": 9,
     "metadata": {},
     "output_type": "execute_result"
    }
   ],
   "source": [
    "# using pytorch\n",
    "torch.linalg.solve(A, b.T)"
   ]
  },
  {
   "cell_type": "markdown",
   "metadata": {
    "id": "Yyh-i7ZTBw2i"
   },
   "source": [
    "![image.png](data:image/png;base64,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)"
   ]
  },
  {
   "cell_type": "markdown",
   "metadata": {
    "id": "snt2-GF-kQ17"
   },
   "source": [
    "## what happens if the matrix is not square? (chptr 2.3)"
   ]
  },
  {
   "cell_type": "code",
   "execution_count": 10,
   "metadata": {
    "executionInfo": {
     "elapsed": 2,
     "status": "ok",
     "timestamp": 1756885757494,
     "user": {
      "displayName": "Piergiorgio Di Pasquale",
      "userId": "07379998051964901818"
     },
     "user_tz": -120
    },
    "id": "n7iYOAi-kTIQ"
   },
   "outputs": [],
   "source": [
    "# the type of solution we saw before can be used if and only if the matrix is square and INVERTIBLE\n",
    "# the following is a overdetermined system (more equations than variables)"
   ]
  },
  {
   "cell_type": "code",
   "execution_count": 11,
   "metadata": {
    "colab": {
     "base_uri": "https://localhost:8080/"
    },
    "executionInfo": {
     "elapsed": 102,
     "status": "ok",
     "timestamp": 1756885757615,
     "user": {
      "displayName": "Piergiorgio Di Pasquale",
      "userId": "07379998051964901818"
     },
     "user_tz": -120
    },
    "id": "R2JcgQSlkYoa",
    "outputId": "3eee13d7-ef68-4ebb-9124-bcba72a585e0"
   },
   "outputs": [
    {
     "name": "stdout",
     "output_type": "stream",
     "text": [
      "linalg.det: A must be batches of square matrices, but they are 3 by 2 matrices\n"
     ]
    }
   ],
   "source": [
    "A = torch.tensor([[1., 2.],\n",
    "                  [3., 4.],\n",
    "                  [5., 6.]])\n",
    "b = torch.tensor([7., 8., 9.]).reshape(-1,1)\n",
    "try:\n",
    "  torch.linalg.det(A)\n",
    "except Exception as e:\n",
    "  print(e)\n"
   ]
  },
  {
   "cell_type": "code",
   "execution_count": 12,
   "metadata": {
    "colab": {
     "base_uri": "https://localhost:8080/"
    },
    "executionInfo": {
     "elapsed": 41,
     "status": "ok",
     "timestamp": 1756885757671,
     "user": {
      "displayName": "Piergiorgio Di Pasquale",
      "userId": "07379998051964901818"
     },
     "user_tz": -120
    },
    "id": "JvdUPH_Ak_Na",
    "outputId": "e3916108-bc60-4eb9-a7b6-ecbe02e6ccbe"
   },
   "outputs": [
    {
     "data": {
      "text/plain": [
       "tensor([[35., 44.],\n",
       "        [44., 56.]])"
      ]
     },
     "execution_count": 12,
     "metadata": {},
     "output_type": "execute_result"
    }
   ],
   "source": [
    "# to solve this issue we have to make the matrix squared by multiplying both terms by A.T\n",
    "# Ax=b --> (A.T @ A) @ x = A.T @ b\n",
    "A.T @ A"
   ]
  },
  {
   "cell_type": "code",
   "execution_count": 13,
   "metadata": {
    "colab": {
     "base_uri": "https://localhost:8080/"
    },
    "executionInfo": {
     "elapsed": 23,
     "status": "ok",
     "timestamp": 1756885757692,
     "user": {
      "displayName": "Piergiorgio Di Pasquale",
      "userId": "07379998051964901818"
     },
     "user_tz": -120
    },
    "id": "fGgS2X_elQFp",
    "outputId": "c2d0f184-4f45-4ef3-d18a-34d12efadd96"
   },
   "outputs": [
    {
     "data": {
      "text/plain": [
       "tensor([[-1.3333, -0.3333,  0.6667],\n",
       "        [ 1.0833,  0.3333, -0.4167]])"
      ]
     },
     "execution_count": 13,
     "metadata": {},
     "output_type": "execute_result"
    }
   ],
   "source": [
    "# now we can solve the system by multiplying both terms by (A.T @ A)^-1\n",
    "# Ax=b --> (A.T @ A) @ x = A.T @ b --> multiply both terms by (A.T @ A)^-1 = torch.linalg.inv(A.T@A) -> x (A.T @ A)^-1 @ A.T\n",
    "# we obtain x as:\n",
    "torch.linalg.inv(A.T@A)@A.T # multiply by b and we found x, --> THIS IS ALSO KNOWN AS PSEUDO INVERSE"
   ]
  },
  {
   "cell_type": "code",
   "execution_count": 14,
   "metadata": {
    "colab": {
     "base_uri": "https://localhost:8080/"
    },
    "executionInfo": {
     "elapsed": 47,
     "status": "ok",
     "timestamp": 1756885757740,
     "user": {
      "displayName": "Piergiorgio Di Pasquale",
      "userId": "07379998051964901818"
     },
     "user_tz": -120
    },
    "id": "0Xddymeamdqe",
    "outputId": "ff7c30e6-272f-4b00-b64c-d839183f4a43"
   },
   "outputs": [
    {
     "data": {
      "text/plain": [
       "tensor([[-6.0000],\n",
       "        [ 6.5000]])"
      ]
     },
     "execution_count": 14,
     "metadata": {},
     "output_type": "execute_result"
    }
   ],
   "source": [
    "x = torch.linalg.inv(A.T@A)@A.T @ b\n",
    "x"
   ]
  },
  {
   "cell_type": "code",
   "execution_count": 15,
   "metadata": {
    "executionInfo": {
     "elapsed": 2,
     "status": "ok",
     "timestamp": 1756885757743,
     "user": {
      "displayName": "Piergiorgio Di Pasquale",
      "userId": "07379998051964901818"
     },
     "user_tz": -120
    },
    "id": "AbJxjkL5nq7D"
   },
   "outputs": [],
   "source": [
    "x = torch.linalg.inv(A.T @ A) @ A.T @ b\n"
   ]
  },
  {
   "cell_type": "code",
   "execution_count": 16,
   "metadata": {
    "colab": {
     "base_uri": "https://localhost:8080/"
    },
    "executionInfo": {
     "elapsed": 42,
     "status": "ok",
     "timestamp": 1756885757804,
     "user": {
      "displayName": "Piergiorgio Di Pasquale",
      "userId": "07379998051964901818"
     },
     "user_tz": -120
    },
    "id": "ELlCXeBNmr8q",
    "outputId": "15303d01-9969-4a9f-cbd8-752d1e4d3260"
   },
   "outputs": [
    {
     "data": {
      "text/plain": [
       "tensor([[7.0000],\n",
       "        [7.9999],\n",
       "        [8.9999]])"
      ]
     },
     "execution_count": 16,
     "metadata": {},
     "output_type": "execute_result"
    }
   ],
   "source": [
    "A@x\n"
   ]
  },
  {
   "cell_type": "code",
   "execution_count": 17,
   "metadata": {
    "colab": {
     "base_uri": "https://localhost:8080/"
    },
    "executionInfo": {
     "elapsed": 40,
     "status": "ok",
     "timestamp": 1756885757845,
     "user": {
      "displayName": "Piergiorgio Di Pasquale",
      "userId": "07379998051964901818"
     },
     "user_tz": -120
    },
    "id": "k54FLMJzrUR3",
    "outputId": "f6808bc6-7a24-4bbd-dff8-943bf2e341fa"
   },
   "outputs": [
    {
     "data": {
      "text/plain": [
       "tensor([[-1.3333, -0.3333,  0.6667],\n",
       "        [ 1.0833,  0.3333, -0.4167]])"
      ]
     },
     "execution_count": 17,
     "metadata": {},
     "output_type": "execute_result"
    }
   ],
   "source": [
    "# to calculate the pseudo inverse we can use pytorch\n",
    "torch.linalg.pinv(A)"
   ]
  },
  {
   "cell_type": "code",
   "execution_count": 18,
   "metadata": {
    "colab": {
     "base_uri": "https://localhost:8080/"
    },
    "executionInfo": {
     "elapsed": 6,
     "status": "ok",
     "timestamp": 1756885757853,
     "user": {
      "displayName": "Piergiorgio Di Pasquale",
      "userId": "07379998051964901818"
     },
     "user_tz": -120
    },
    "id": "v3sneSmNrfox",
    "outputId": "e0ec387a-c253-4082-bc5c-a9f98676a4ea"
   },
   "outputs": [
    {
     "data": {
      "text/plain": [
       "True"
      ]
     },
     "execution_count": 18,
     "metadata": {},
     "output_type": "execute_result"
    }
   ],
   "source": [
    "torch.allclose(torch.linalg.pinv(A), torch.linalg.inv(A.T@A)@A.T, atol = 10e-5)"
   ]
  },
  {
   "cell_type": "markdown",
   "metadata": {
    "id": "6pfzp-i5B_RA"
   },
   "source": [
    "# Basis and Vector Spaces"
   ]
  },
  {
   "cell_type": "code",
   "execution_count": 19,
   "metadata": {
    "executionInfo": {
     "elapsed": 34,
     "status": "ok",
     "timestamp": 1756885757888,
     "user": {
      "displayName": "Piergiorgio Di Pasquale",
      "userId": "07379998051964901818"
     },
     "user_tz": -120
    },
    "id": "262TBGGTFoCx"
   },
   "outputs": [],
   "source": [
    "v_standard_basis = torch.tensor([1,2],dtype = torch.float32)"
   ]
  },
  {
   "cell_type": "code",
   "execution_count": 20,
   "metadata": {
    "colab": {
     "base_uri": "https://localhost:8080/"
    },
    "executionInfo": {
     "elapsed": 63,
     "status": "ok",
     "timestamp": 1756885757953,
     "user": {
      "displayName": "Piergiorgio Di Pasquale",
      "userId": "07379998051964901818"
     },
     "user_tz": -120
    },
    "id": "30AfvHd4CIGc",
    "outputId": "68d15ca4-8634-4153-86db-d32226ae906f"
   },
   "outputs": [
    {
     "data": {
      "text/plain": [
       "(tensor([[1.],\n",
       "         [0.]]),\n",
       " tensor([[0.],\n",
       "         [1.]]))"
      ]
     },
     "execution_count": 20,
     "metadata": {},
     "output_type": "execute_result"
    }
   ],
   "source": [
    "# standard basis 2D\n",
    "e1 = torch.tensor([[1,0]], dtype = torch.float32).T\n",
    "e2 =torch.tensor([[0,1]], dtype = torch.float32).T\n",
    "e1,e2"
   ]
  },
  {
   "cell_type": "code",
   "execution_count": 21,
   "metadata": {
    "colab": {
     "base_uri": "https://localhost:8080/"
    },
    "executionInfo": {
     "elapsed": 10,
     "status": "ok",
     "timestamp": 1756885757980,
     "user": {
      "displayName": "Piergiorgio Di Pasquale",
      "userId": "07379998051964901818"
     },
     "user_tz": -120
    },
    "id": "nNg9ud0oE12B",
    "outputId": "b28a3679-e93e-4459-e844-d5ad0ed016fe"
   },
   "outputs": [
    {
     "data": {
      "text/plain": [
       "tensor([[[1.],\n",
       "         [0.]],\n",
       "\n",
       "        [[0.],\n",
       "         [1.]]])"
      ]
     },
     "execution_count": 21,
     "metadata": {},
     "output_type": "execute_result"
    }
   ],
   "source": [
    "standard_basis= torch.stack((e1,e2),dim =1) # stack the basis by columns\n",
    "standard_basis"
   ]
  },
  {
   "cell_type": "code",
   "execution_count": 22,
   "metadata": {
    "colab": {
     "base_uri": "https://localhost:8080/",
     "height": 487
    },
    "executionInfo": {
     "elapsed": 834,
     "status": "ok",
     "timestamp": 1756885758813,
     "user": {
      "displayName": "Piergiorgio Di Pasquale",
      "userId": "07379998051964901818"
     },
     "user_tz": -120
    },
    "id": "V8bIbYfgFkg1",
    "outputId": "946bf39e-6a0d-475b-8665-d40d5a570187"
   },
   "outputs": [
    {
     "data": {
      "image/png": "[encoded data removed]",
      "text/plain": [
       "<Figure size 640x480 with 1 Axes>"
      ]
     },
     "metadata": {},
     "output_type": "display_data"
    }
   ],
   "source": [
    "show_vectors(e1,e2,v_standard_basis, color_map = [\"r\",\"r\", \"b\"])"
   ]
  },
  {
   "cell_type": "code",
   "execution_count": 29,
   "metadata": {
    "colab": {
     "base_uri": "https://localhost:8080/"
    },
    "executionInfo": {
     "elapsed": 37,
     "status": "ok",
     "timestamp": 1756885831731,
     "user": {
      "displayName": "Piergiorgio Di Pasquale",
      "userId": "07379998051964901818"
     },
     "user_tz": -120
    },
    "id": "BkRSdhJOFRh7",
    "outputId": "2112ca28-60f9-4a84-c426-0abd7efcecc1"
   },
   "outputs": [
    {
     "data": {
      "text/plain": [
       "tensor([[ 0.7071,  0.7071],\n",
       "        [ 0.7071, -0.7071]])"
      ]
     },
     "execution_count": 29,
     "metadata": {},
     "output_type": "execute_result"
    }
   ],
   "source": [
    "b1 = (1/2**0.5)*torch.tensor([[1,1]],dtype = torch.float32).T\n",
    "b2 =(1/2**0.5)* torch.tensor([[1,-1]],dtype = torch.float32).T # orthonormal basis\n",
    "new_basis = torch.stack((b1,b2),dim =1).squeeze(-1)\n",
    "new_basis"
   ]
  },
  {
   "cell_type": "code",
   "execution_count": 30,
   "metadata": {
    "colab": {
     "base_uri": "https://localhost:8080/"
    },
    "executionInfo": {
     "elapsed": 22,
     "status": "ok",
     "timestamp": 1756885831981,
     "user": {
      "displayName": "Piergiorgio Di Pasquale",
      "userId": "07379998051964901818"
     },
     "user_tz": -120
    },
    "id": "ro_HYjPFFxg4",
    "outputId": "2a372ae5-093f-4cf9-f228-94b8f92adfa1"
   },
   "outputs": [
    {
     "data": {
      "text/plain": [
       "tensor([ 2.1213, -0.7071])"
      ]
     },
     "execution_count": 30,
     "metadata": {},
     "output_type": "execute_result"
    }
   ],
   "source": [
    "# in order to apply the new basis we multiply by the inverse of new_basis\n",
    "# infact the new_basis matrix is the matrix that we use when we want to calculate the coordinates in the standard basis FROM the basis b1,b2\n",
    "v_new_basis= torch.linalg.inv(new_basis)@v_standard_basis\n",
    "v_new_basis"
   ]
  },
  {
   "cell_type": "code",
   "execution_count": 31,
   "metadata": {
    "colab": {
     "base_uri": "https://localhost:8080/",
     "height": 370
    },
    "executionInfo": {
     "elapsed": 399,
     "status": "ok",
     "timestamp": 1756885838602,
     "user": {
      "displayName": "Piergiorgio Di Pasquale",
      "userId": "07379998051964901818"
     },
     "user_tz": -120
    },
    "id": "gcduNgqWGV8h",
    "outputId": "99d12f92-9086-4266-b074-a6ada0247a64"
   },
   "outputs": [
    {
     "data": {
      "image/png": "[encoded data removed]",
      "text/plain": [
       "<Figure size 640x480 with 1 Axes>"
      ]
     },
     "metadata": {},
     "output_type": "display_data"
    }
   ],
   "source": [
    "show_vectors(b1,b2,v_new_basis,color_map = [\"r\",\"r\", \"b\"])\n",
    "#imagine rotating your head so that the red arrows become the new x– and y–axes, in that case, the blue vector represents \"v_standard_basis\" in the new coordinate system.\n",
    "# EXTREMELY IMPORTANT:\n",
    "# INFACT a Orthonormal BASE will JUST rotate the plane."
   ]
  },
  {
   "cell_type": "code",
   "execution_count": null,
   "metadata": {
    "id": "Gg4uLuxWjPR8"
   },
   "outputs": [],
   "source": [
    "# the basis could be also NOT orthonormal, in that case the change of base will NOT only rotate the plane, but also skew it in some other ways --> see page 108"
   ]
  },
  {
   "cell_type": "markdown",
   "metadata": {
    "id": "drle-2w1rfvh"
   },
   "source": [
    "# Matrix transformations"
   ]
  },
  {
   "cell_type": "code",
   "execution_count": null,
   "metadata": {
    "colab": {
     "base_uri": "https://localhost:8080/"
    },
    "executionInfo": {
     "elapsed": 10,
     "status": "ok",
     "timestamp": 1756810637240,
     "user": {
      "displayName": "Piergiorgio Di Pasquale",
      "userId": "07379998051964901818"
     },
     "user_tz": -120
    },
    "id": "gvT3LGL1A5Vd",
    "outputId": "8a95db1d-1b2c-4097-b277-1d08b275af53"
   },
   "outputs": [
    {
     "data": {
      "text/plain": [
       "tensor([[0, 0],\n",
       "        [1, 0],\n",
       "        [0, 1],\n",
       "        [1, 1]])"
      ]
     },
     "execution_count": 234,
     "metadata": {},
     "output_type": "execute_result"
    }
   ],
   "source": [
    "square = torch.tensor([[0,0],[1,0],[0,1],[1,1]])\n",
    "square"
   ]
  },
  {
   "cell_type": "code",
   "execution_count": null,
   "metadata": {
    "id": "_oFA9mqEl764"
   },
   "outputs": [],
   "source": [
    "x, y = zip(*square)"
   ]
  },
  {
   "cell_type": "code",
   "execution_count": null,
   "metadata": {
    "colab": {
     "base_uri": "https://localhost:8080/",
     "height": 448
    },
    "executionInfo": {
     "elapsed": 41,
     "status": "ok",
     "timestamp": 1756810637285,
     "user": {
      "displayName": "Piergiorgio Di Pasquale",
      "userId": "07379998051964901818"
     },
     "user_tz": -120
    },
    "id": "8HprW5e8BTe6",
    "outputId": "791dc476-9d9b-42f0-b646-ad62d80d67e1"
   },
   "outputs": [
    {
     "data": {
      "text/plain": [
       "[<matplotlib.lines.Line2D at 0x7893f44bf320>]"
      ]
     },
     "execution_count": 236,
     "metadata": {},
     "output_type": "execute_result"
    },
    {
     "data": {
      "image/png": "[encoded data removed]",
      "text/plain": [
       "<Figure size 640x480 with 1 Axes>"
      ]
     },
     "metadata": {},
     "output_type": "display_data"
    }
   ],
   "source": [
    "plt.plot(x,y, \"x\")"
   ]
  },
  {
   "cell_type": "code",
   "execution_count": null,
   "metadata": {
    "id": "HpFsS2lAoMJf"
   },
   "outputs": [],
   "source": [
    "n = 10\n",
    "number  = 10"
   ]
  },
  {
   "cell_type": "code",
   "execution_count": null,
   "metadata": {
    "id": "O75LHVisBXXz"
   },
   "outputs": [],
   "source": [
    "x = torch.tensor(np.linspace(0,n,number+1))\n",
    "y = torch.tensor(np.linspace(0,n,number+1))\n",
    "grid_x, grid_y = torch.meshgrid(x, y, indexing='ij')\n"
   ]
  },
  {
   "cell_type": "code",
   "execution_count": null,
   "metadata": {
    "colab": {
     "base_uri": "https://localhost:8080/"
    },
    "executionInfo": {
     "elapsed": 14,
     "status": "ok",
     "timestamp": 1756810637309,
     "user": {
      "displayName": "Piergiorgio Di Pasquale",
      "userId": "07379998051964901818"
     },
     "user_tz": -120
    },
    "id": "PHSpyrIfMpEJ",
    "outputId": "b91ca81b-eed8-414f-b401-f6747835743c"
   },
   "outputs": [
    {
     "data": {
      "text/plain": [
       "(tensor([[ 0.,  0.,  0.,  0.,  0.,  0.,  0.,  0.,  0.,  0.,  0.],\n",
       "         [ 1.,  1.,  1.,  1.,  1.,  1.,  1.,  1.,  1.,  1.,  1.],\n",
       "         [ 2.,  2.,  2.,  2.,  2.,  2.,  2.,  2.,  2.,  2.,  2.],\n",
       "         [ 3.,  3.,  3.,  3.,  3.,  3.,  3.,  3.,  3.,  3.,  3.],\n",
       "         [ 4.,  4.,  4.,  4.,  4.,  4.,  4.,  4.,  4.,  4.,  4.],\n",
       "         [ 5.,  5.,  5.,  5.,  5.,  5.,  5.,  5.,  5.,  5.,  5.],\n",
       "         [ 6.,  6.,  6.,  6.,  6.,  6.,  6.,  6.,  6.,  6.,  6.],\n",
       "         [ 7.,  7.,  7.,  7.,  7.,  7.,  7.,  7.,  7.,  7.,  7.],\n",
       "         [ 8.,  8.,  8.,  8.,  8.,  8.,  8.,  8.,  8.,  8.,  8.],\n",
       "         [ 9.,  9.,  9.,  9.,  9.,  9.,  9.,  9.,  9.,  9.,  9.],\n",
       "         [10., 10., 10., 10., 10., 10., 10., 10., 10., 10., 10.]],\n",
       "        dtype=torch.float64),\n",
       " tensor([[ 0.,  1.,  2.,  3.,  4.,  5.,  6.,  7.,  8.,  9., 10.],\n",
       "         [ 0.,  1.,  2.,  3.,  4.,  5.,  6.,  7.,  8.,  9., 10.],\n",
       "         [ 0.,  1.,  2.,  3.,  4.,  5.,  6.,  7.,  8.,  9., 10.],\n",
       "         [ 0.,  1.,  2.,  3.,  4.,  5.,  6.,  7.,  8.,  9., 10.],\n",
       "         [ 0.,  1.,  2.,  3.,  4.,  5.,  6.,  7.,  8.,  9., 10.],\n",
       "         [ 0.,  1.,  2.,  3.,  4.,  5.,  6.,  7.,  8.,  9., 10.],\n",
       "         [ 0.,  1.,  2.,  3.,  4.,  5.,  6.,  7.,  8.,  9., 10.],\n",
       "         [ 0.,  1.,  2.,  3.,  4.,  5.,  6.,  7.,  8.,  9., 10.],\n",
       "         [ 0.,  1.,  2.,  3.,  4.,  5.,  6.,  7.,  8.,  9., 10.],\n",
       "         [ 0.,  1.,  2.,  3.,  4.,  5.,  6.,  7.,  8.,  9., 10.],\n",
       "         [ 0.,  1.,  2.,  3.,  4.,  5.,  6.,  7.,  8.,  9., 10.]],\n",
       "        dtype=torch.float64))"
      ]
     },
     "execution_count": 239,
     "metadata": {},
     "output_type": "execute_result"
    }
   ],
   "source": [
    "torch.meshgrid(x, y)\n",
    "# creates 2 matrices, the one for the xs' and the one for the corresponding ys'\n",
    "# so that we have (0,0), (0,1), (0,2)... (10,8), (10,9), (10,10)."
   ]
  },
  {
   "cell_type": "code",
   "execution_count": null,
   "metadata": {
    "colab": {
     "base_uri": "https://localhost:8080/"
    },
    "executionInfo": {
     "elapsed": 13,
     "status": "ok",
     "timestamp": 1756810637325,
     "user": {
      "displayName": "Piergiorgio Di Pasquale",
      "userId": "07379998051964901818"
     },
     "user_tz": -120
    },
    "id": "W_K1PPExNT5-",
    "outputId": "9911abc5-13c4-46d0-ad93-4ad7d3d98a47"
   },
   "outputs": [
    {
     "data": {
      "text/plain": [
       "torch.Size([2, 11, 11])"
      ]
     },
     "execution_count": 240,
     "metadata": {},
     "output_type": "execute_result"
    }
   ],
   "source": [
    "torch.stack([grid_x, grid_y],dim = 0).size()"
   ]
  },
  {
   "cell_type": "code",
   "execution_count": null,
   "metadata": {
    "colab": {
     "base_uri": "https://localhost:8080/"
    },
    "executionInfo": {
     "elapsed": 14,
     "status": "ok",
     "timestamp": 1756810637338,
     "user": {
      "displayName": "Piergiorgio Di Pasquale",
      "userId": "07379998051964901818"
     },
     "user_tz": -120
    },
    "id": "2NO3bOJ7NbuG",
    "outputId": "988a3b89-7422-452f-b901-bba33e7c3450"
   },
   "outputs": [
    {
     "data": {
      "text/plain": [
       "torch.Size([11, 2, 11])"
      ]
     },
     "execution_count": 241,
     "metadata": {},
     "output_type": "execute_result"
    }
   ],
   "source": [
    "torch.stack([grid_x, grid_y], dim = 1).size()"
   ]
  },
  {
   "cell_type": "code",
   "execution_count": null,
   "metadata": {
    "colab": {
     "base_uri": "https://localhost:8080/"
    },
    "executionInfo": {
     "elapsed": 27,
     "status": "ok",
     "timestamp": 1756810637366,
     "user": {
      "displayName": "Piergiorgio Di Pasquale",
      "userId": "07379998051964901818"
     },
     "user_tz": -120
    },
    "id": "J_KagCqLNiWU",
    "outputId": "4b91c94e-a7c5-4355-85e7-a20848fe8546"
   },
   "outputs": [
    {
     "data": {
      "text/plain": [
       "torch.Size([11, 11, 2])"
      ]
     },
     "execution_count": 242,
     "metadata": {},
     "output_type": "execute_result"
    }
   ],
   "source": [
    "torch.stack([grid_x, grid_y],dim = 2).size()"
   ]
  },
  {
   "cell_type": "code",
   "execution_count": null,
   "metadata": {
    "id": "sGlWgQZGpmaC"
   },
   "outputs": [],
   "source": [
    "coords_row_ = torch.stack([grid_x, grid_y], dim=-1)\n",
    "# this way we have 11 lists, each with eleven 2-dimensional vectorsv (coordinates)"
   ]
  },
  {
   "cell_type": "code",
   "execution_count": null,
   "metadata": {
    "id": "0IWnITKNOEi-"
   },
   "outputs": [],
   "source": [
    "coords_row = coords_row_.view(121, 2).T\n"
   ]
  },
  {
   "cell_type": "code",
   "execution_count": null,
   "metadata": {
    "id": "oClLQI-amZTE"
   },
   "outputs": [],
   "source": [
    "grid_x,grid_y = zip(*coords_row.T) # now we assign to grid_x the first value of each one of the 121 2 dimensioal vectors and the second one to grid_y\n"
   ]
  },
  {
   "cell_type": "code",
   "execution_count": null,
   "metadata": {
    "colab": {
     "base_uri": "https://localhost:8080/",
     "height": 430
    },
    "executionInfo": {
     "elapsed": 59,
     "status": "ok",
     "timestamp": 1756810637435,
     "user": {
      "displayName": "Piergiorgio Di Pasquale",
      "userId": "07379998051964901818"
     },
     "user_tz": -120
    },
    "id": "W6WLf46VmcTg",
    "outputId": "06d178f7-1803-47da-9dfb-e19cf91c7207"
   },
   "outputs": [
    {
     "data": {
      "image/png": "[encoded data removed]",
      "text/plain": [
       "<Figure size 640x480 with 1 Axes>"
      ]
     },
     "metadata": {},
     "output_type": "display_data"
    }
   ],
   "source": [
    "plt.plot(grid_x,grid_y, \"o\")\n",
    "plt.show()"
   ]
  },
  {
   "cell_type": "code",
   "execution_count": null,
   "metadata": {
    "id": "2ntq3YnrpF-l"
   },
   "outputs": [],
   "source": [
    "transformation_matrix = torch.tensor([[3,-1],[1,-1]], dtype = torch.float64)\n",
    "rotation_matrix = torch.tensor([[torch.cos(torch.tensor(torch.pi/4)),-torch.sin(torch.tensor(torch.pi/4))],[torch.sin(torch.tensor(torch.pi/4)),torch.cos(torch.tensor(torch.pi/4))]], dtype = torch.float64)"
   ]
  },
  {
   "cell_type": "code",
   "execution_count": null,
   "metadata": {
    "id": "CzUcrsprmdlq"
   },
   "outputs": [],
   "source": [
    "transformation_result = rotation_matrix@coords_row"
   ]
  },
  {
   "cell_type": "code",
   "execution_count": null,
   "metadata": {
    "id": "e78Uwb0vpwxd"
   },
   "outputs": [],
   "source": [
    "x, y = zip(*transformation_result.T)"
   ]
  },
  {
   "cell_type": "code",
   "execution_count": null,
   "metadata": {
    "colab": {
     "base_uri": "https://localhost:8080/",
     "height": 448
    },
    "executionInfo": {
     "elapsed": 34,
     "status": "ok",
     "timestamp": 1756810637468,
     "user": {
      "displayName": "Piergiorgio Di Pasquale",
      "userId": "07379998051964901818"
     },
     "user_tz": -120
    },
    "id": "-_p_8s9NqSwX",
    "outputId": "80611c70-f8fb-40d7-bc18-61506a6f7f0c"
   },
   "outputs": [
    {
     "data": {
      "text/plain": [
       "[<matplotlib.lines.Line2D at 0x7893f4712300>]"
      ]
     },
     "execution_count": 250,
     "metadata": {},
     "output_type": "execute_result"
    },
    {
     "data": {
      "image/png": "[encoded data removed]",
      "text/plain": [
       "<Figure size 640x480 with 1 Axes>"
      ]
     },
     "metadata": {},
     "output_type": "display_data"
    }
   ],
   "source": [
    "plt.plot(x,y, \"o\")"
   ]
  },
  {
   "cell_type": "markdown",
   "metadata": {
    "id": "OYFNCzbyY658"
   },
   "source": [
    "## symmetric matrices"
   ]
  },
  {
   "cell_type": "code",
   "execution_count": null,
   "metadata": {
    "colab": {
     "base_uri": "https://localhost:8080/"
    },
    "executionInfo": {
     "elapsed": 14,
     "status": "ok",
     "timestamp": 1756810637483,
     "user": {
      "displayName": "Piergiorgio Di Pasquale",
      "userId": "07379998051964901818"
     },
     "user_tz": -120
    },
    "id": "OinU8K8iY89D",
    "outputId": "cdf19110-8159-4375-f588-530aea8c83e7"
   },
   "outputs": [
    {
     "data": {
      "text/plain": [
       "tensor([[9, 6],\n",
       "        [6, 3]])"
      ]
     },
     "execution_count": 251,
     "metadata": {},
     "output_type": "execute_result"
    }
   ],
   "source": [
    "A = torch.tensor([[9,6],[6,3]])\n",
    "A"
   ]
  },
  {
   "cell_type": "code",
   "execution_count": null,
   "metadata": {
    "colab": {
     "base_uri": "https://localhost:8080/"
    },
    "executionInfo": {
     "elapsed": 10,
     "status": "ok",
     "timestamp": 1756810637494,
     "user": {
      "displayName": "Piergiorgio Di Pasquale",
      "userId": "07379998051964901818"
     },
     "user_tz": -120
    },
    "id": "66UgMPlrY5na",
    "outputId": "60a7334f-3a58-4c83-c33f-9a9423baa402"
   },
   "outputs": [
    {
     "data": {
      "text/plain": [
       "tensor([[9, 6],\n",
       "        [6, 3]])"
      ]
     },
     "execution_count": 252,
     "metadata": {},
     "output_type": "execute_result"
    }
   ],
   "source": [
    "A.T"
   ]
  },
  {
   "cell_type": "code",
   "execution_count": null,
   "metadata": {
    "colab": {
     "base_uri": "https://localhost:8080/"
    },
    "executionInfo": {
     "elapsed": 74,
     "status": "ok",
     "timestamp": 1756810637570,
     "user": {
      "displayName": "Piergiorgio Di Pasquale",
      "userId": "07379998051964901818"
     },
     "user_tz": -120
    },
    "id": "TcrLyLdwMmBk",
    "outputId": "8569eb57-ed00-4daa-a3d3-82ee05fbaa8d"
   },
   "outputs": [
    {
     "data": {
      "text/plain": [
       "tensor(True)"
      ]
     },
     "execution_count": 253,
     "metadata": {},
     "output_type": "execute_result"
    }
   ],
   "source": [
    "(A.T == A).all()"
   ]
  },
  {
   "cell_type": "markdown",
   "metadata": {
    "id": "K_1FpiyPfIOo"
   },
   "source": [
    "# Inner product"
   ]
  },
  {
   "cell_type": "code",
   "execution_count": null,
   "metadata": {
    "id": "zR2OIuemfJqW"
   },
   "outputs": [],
   "source": [
    "x = torch.tensor([1.,1.]).T"
   ]
  },
  {
   "cell_type": "code",
   "execution_count": null,
   "metadata": {
    "colab": {
     "base_uri": "https://localhost:8080/"
    },
    "executionInfo": {
     "elapsed": 51,
     "status": "ok",
     "timestamp": 1756810637572,
     "user": {
      "displayName": "Piergiorgio Di Pasquale",
      "userId": "07379998051964901818"
     },
     "user_tz": -120
    },
    "id": "byK-1okcY98y",
    "outputId": "6f1d7557-ef50-46c4-a392-60c319e90f2a"
   },
   "outputs": [
    {
     "data": {
      "text/plain": [
       "tensor(1.4142)"
      ]
     },
     "execution_count": 255,
     "metadata": {},
     "output_type": "execute_result"
    }
   ],
   "source": [
    "torch.norm(x)"
   ]
  },
  {
   "cell_type": "code",
   "execution_count": null,
   "metadata": {
    "colab": {
     "base_uri": "https://localhost:8080/"
    },
    "executionInfo": {
     "elapsed": 29,
     "status": "ok",
     "timestamp": 1756810637596,
     "user": {
      "displayName": "Piergiorgio Di Pasquale",
      "userId": "07379998051964901818"
     },
     "user_tz": -120
    },
    "id": "_J305rKKfOpF",
    "outputId": "cd15689a-685b-45ad-d83c-be316bb73bb1"
   },
   "outputs": [
    {
     "data": {
      "text/plain": [
       "tensor([[1., 0.],\n",
       "        [0., 1.]])"
      ]
     },
     "execution_count": 256,
     "metadata": {},
     "output_type": "execute_result"
    }
   ],
   "source": [
    "A_identity = torch.eye(2)\n",
    "A_identity"
   ]
  },
  {
   "cell_type": "code",
   "execution_count": null,
   "metadata": {
    "colab": {
     "base_uri": "https://localhost:8080/"
    },
    "executionInfo": {
     "elapsed": 10,
     "status": "ok",
     "timestamp": 1756810637617,
     "user": {
      "displayName": "Piergiorgio Di Pasquale",
      "userId": "07379998051964901818"
     },
     "user_tz": -120
    },
    "id": "y6yoUejMfUOS",
    "outputId": "33914974-318a-4e73-cf06-cec18ae890f5"
   },
   "outputs": [
    {
     "data": {
      "text/plain": [
       "tensor(1.4142)"
      ]
     },
     "execution_count": 257,
     "metadata": {},
     "output_type": "execute_result"
    }
   ],
   "source": [
    "norm_dot_product_squared = x.T @ A_identity @ x\n",
    "norm_dot_product = norm_dot_product_squared**0.5\n",
    "norm_dot_product"
   ]
  },
  {
   "cell_type": "code",
   "execution_count": null,
   "metadata": {
    "colab": {
     "base_uri": "https://localhost:8080/"
    },
    "executionInfo": {
     "elapsed": 28,
     "status": "ok",
     "timestamp": 1756810637646,
     "user": {
      "displayName": "Piergiorgio Di Pasquale",
      "userId": "07379998051964901818"
     },
     "user_tz": -120
    },
    "id": "v052GPRUffsV",
    "outputId": "b856e51c-6e47-4aa0-9933-f8f6478e5775"
   },
   "outputs": [
    {
     "data": {
      "text/plain": [
       "tensor(1.)"
      ]
     },
     "execution_count": 258,
     "metadata": {},
     "output_type": "execute_result"
    }
   ],
   "source": [
    "A = torch.tensor([[1.0,-0.5],[-0.5,1.0]])\n",
    "norm_inner_product_squared = x.T @ A @ x\n",
    "norm_dot_product = norm_inner_product_squared**0.5\n",
    "norm_dot_product"
   ]
  },
  {
   "cell_type": "code",
   "execution_count": null,
   "metadata": {
    "colab": {
     "base_uri": "https://localhost:8080/"
    },
    "executionInfo": {
     "elapsed": 15,
     "status": "ok",
     "timestamp": 1756810637662,
     "user": {
      "displayName": "Piergiorgio Di Pasquale",
      "userId": "07379998051964901818"
     },
     "user_tz": -120
    },
    "id": "daeYCAXofzB4",
    "outputId": "7c089e40-27eb-4bb6-982f-f9451039f664"
   },
   "outputs": [
    {
     "data": {
      "text/plain": [
       "tensor([[True, True],\n",
       "        [True, True]])"
      ]
     },
     "execution_count": 259,
     "metadata": {},
     "output_type": "execute_result"
    }
   ],
   "source": [
    "# as long as the matrix is symmetric\n",
    "A.T == A\n",
    "# and the quadratic form is always greater than zero (positive definite)"
   ]
  },
  {
   "cell_type": "code",
   "execution_count": null,
   "metadata": {
    "id": "2chfZHKQgPyX"
   },
   "outputs": [],
   "source": [
    "A2 = torch.tensor([[9,6], [6,3]])"
   ]
  },
  {
   "cell_type": "code",
   "execution_count": null,
   "metadata": {
    "colab": {
     "base_uri": "https://localhost:8080/"
    },
    "executionInfo": {
     "elapsed": 46,
     "status": "ok",
     "timestamp": 1756810637712,
     "user": {
      "displayName": "Piergiorgio Di Pasquale",
      "userId": "07379998051964901818"
     },
     "user_tz": -120
    },
    "id": "JMisZ5wbgmBh",
    "outputId": "56dd537c-0877-4e54-94d4-16fdf7722e97"
   },
   "outputs": [
    {
     "data": {
      "text/plain": [
       "tensor([[True, True],\n",
       "        [True, True]])"
      ]
     },
     "execution_count": 261,
     "metadata": {},
     "output_type": "execute_result"
    }
   ],
   "source": [
    "A2.T==A2 # symmetric but not positive definite"
   ]
  },
  {
   "cell_type": "markdown",
   "metadata": {
    "id": "oVR_oBnYhXRy"
   },
   "source": [
    "## angles and inner product"
   ]
  },
  {
   "cell_type": "code",
   "execution_count": null,
   "metadata": {
    "id": "O_l_hxF0hko5"
   },
   "outputs": [],
   "source": [
    "x = torch.tensor([1.0,2.0])\n",
    "y = torch.tensor([1.0,1.0])"
   ]
  },
  {
   "cell_type": "code",
   "execution_count": null,
   "metadata": {
    "id": "JmtiVeGzhX4u"
   },
   "outputs": [],
   "source": [
    "def distance(x: torch.Tensor, y: torch.Tensor, A: torch.Tensor) -> torch.Tensor:\n",
    "    \"\"\"\n",
    "    Compute the A-metric distance between two vectors.\n",
    "    If A = I (identity), this reduces to the Euclidean distance.\n",
    "    \"\"\"\n",
    "    diff = x - y\n",
    "    norm_inner_product_squared = diff.T @ A @ diff\n",
    "    return torch.sqrt(norm_inner_product_squared)\n",
    "\n",
    "\n",
    "def inner_product_A(x: torch.Tensor, y: torch.Tensor, A: torch.Tensor) -> torch.Tensor:\n",
    "    \"\"\"\n",
    "    Compute the A-inner product between two vectors.\n",
    "    If A = I (identity), this reduces to the standard dot product x^T y.\n",
    "    \"\"\"\n",
    "    norm_inner_product_squared = x.T @ A @ y\n",
    "    return norm_inner_product_squared\n",
    "\n",
    "\n",
    "def norm(x: torch.Tensor, A: torch.Tensor) -> torch.Tensor:\n",
    "    \"\"\"\n",
    "    Compute the A-quadratic form of a vector (squared A-norm).\n",
    "    To get the A-norm itself, take torch.sqrt(norm(x, A)).\n",
    "    If A = I (identity), this returns the squared Euclidean norm.\n",
    "    \"\"\"\n",
    "    norm_inner_product_squared = x.T @ A @ x\n",
    "    return torch.sqrt(norm_inner_product_squared)\n",
    "\n",
    "\n",
    "def check_orthogonality(x: torch.Tensor, y: torch.Tensor, A: torch.Tensor = torch.eye(len(x)),atol=1e-8) -> torch.Tensor:\n",
    "    \"\"\"\n",
    "    Check if two vectors are A-orthogonal.\n",
    "    \"\"\"\n",
    "    val = inner_product_A(x, y, A)\n",
    "    return torch.isclose(val, torch.tensor(0.0, dtype=val.dtype), atol=atol).item()\n",
    "\n",
    "\n",
    "def check_spd(A):\n",
    "  \"\"\"\n",
    "  check if matrix is symmetric positive definite\n",
    "  \"\"\"\n",
    "  pass\n",
    "\n"
   ]
  },
  {
   "cell_type": "code",
   "execution_count": null,
   "metadata": {
    "colab": {
     "base_uri": "https://localhost:8080/"
    },
    "executionInfo": {
     "elapsed": 10,
     "status": "ok",
     "timestamp": 1756810637728,
     "user": {
      "displayName": "Piergiorgio Di Pasquale",
      "userId": "07379998051964901818"
     },
     "user_tz": -120
    },
    "id": "6Ev6WqcEhcP3",
    "outputId": "880ccb51-79d9-4378-dd60-2b42ca6a4af5"
   },
   "outputs": [
    {
     "data": {
      "text/plain": [
       "tensor(1.)"
      ]
     },
     "execution_count": 264,
     "metadata": {},
     "output_type": "execute_result"
    }
   ],
   "source": [
    "distance(x,y, torch.eye(2))"
   ]
  },
  {
   "cell_type": "code",
   "execution_count": null,
   "metadata": {
    "id": "coZKyfnqjdQL"
   },
   "outputs": [],
   "source": [
    "norm_x = norm(x, torch.eye(2))\n",
    "norm_y = norm(y, torch.eye(2))\n",
    "inner_product_A_ = inner_product_A(x,y, torch.eye(2))"
   ]
  },
  {
   "cell_type": "code",
   "execution_count": null,
   "metadata": {
    "colab": {
     "base_uri": "https://localhost:8080/"
    },
    "executionInfo": {
     "elapsed": 10,
     "status": "ok",
     "timestamp": 1756810637744,
     "user": {
      "displayName": "Piergiorgio Di Pasquale",
      "userId": "07379998051964901818"
     },
     "user_tz": -120
    },
    "id": "pcn6eUcWjd5q",
    "outputId": "10f9510a-4068-4ee6-a778-0a75e7381741"
   },
   "outputs": [
    {
     "data": {
      "text/plain": [
       "tensor(0.9487)"
      ]
     },
     "execution_count": 266,
     "metadata": {},
     "output_type": "execute_result"
    }
   ],
   "source": [
    "cosine_similarity = inner_product_A_/(norm_x*norm_y)\n",
    "cosine_similarity"
   ]
  },
  {
   "cell_type": "code",
   "execution_count": null,
   "metadata": {
    "colab": {
     "base_uri": "https://localhost:8080/"
    },
    "executionInfo": {
     "elapsed": 7,
     "status": "ok",
     "timestamp": 1756810637768,
     "user": {
      "displayName": "Piergiorgio Di Pasquale",
      "userId": "07379998051964901818"
     },
     "user_tz": -120
    },
    "id": "0RPy7n1zmImc",
    "outputId": "ee5f3823-00b8-4c00-b472-173440eef3e9"
   },
   "outputs": [
    {
     "data": {
      "text/plain": [
       "tensor(0.3218)"
      ]
     },
     "execution_count": 267,
     "metadata": {},
     "output_type": "execute_result"
    }
   ],
   "source": [
    "\n",
    "angle_radians = torch.acos(cosine_similarity)\n",
    "angle_radians"
   ]
  },
  {
   "cell_type": "code",
   "execution_count": null,
   "metadata": {
    "colab": {
     "base_uri": "https://localhost:8080/",
     "height": 435
    },
    "executionInfo": {
     "elapsed": 176,
     "status": "ok",
     "timestamp": 1756810637951,
     "user": {
      "displayName": "Piergiorgio Di Pasquale",
      "userId": "07379998051964901818"
     },
     "user_tz": -120
    },
    "id": "zfK0CygRjtO5",
    "outputId": "2f554f6f-042d-4d5a-af65-8e67da8cc01c"
   },
   "outputs": [
    {
     "data": {
      "image/png": "[encoded data removed]",
      "text/plain": [
       "<Figure size 640x480 with 1 Axes>"
      ]
     },
     "metadata": {},
     "output_type": "display_data"
    }
   ],
   "source": [
    "fig, ax = plt.subplots()\n",
    "\n",
    "ax.quiver(0, 0, *x, angles='xy', scale_units='xy', scale=1, color='b')\n",
    "ax.quiver(0, 0, *y, angles='xy', scale_units='xy', scale=1, color='r')\n",
    "\n",
    "# Set the limits and aspect ratio for a clear plot\n",
    "ax.set_xlim(0, max(x[0], y[0]) + 1)\n",
    "ax.set_ylim(0, max(x[1], y[1]) + 1)\n",
    "\n",
    "ax.grid()\n",
    "\n",
    "plt.show()"
   ]
  },
  {
   "cell_type": "code",
   "execution_count": null,
   "metadata": {
    "colab": {
     "base_uri": "https://localhost:8080/"
    },
    "executionInfo": {
     "elapsed": 19,
     "status": "ok",
     "timestamp": 1756810637972,
     "user": {
      "displayName": "Piergiorgio Di Pasquale",
      "userId": "07379998051964901818"
     },
     "user_tz": -120
    },
    "id": "dG6-axtoPttx",
    "outputId": "8bfadcba-0772-4f0c-ecbb-f802376c699c"
   },
   "outputs": [
    {
     "data": {
      "text/plain": [
       "True"
      ]
     },
     "execution_count": 269,
     "metadata": {},
     "output_type": "execute_result"
    }
   ],
   "source": [
    "x = torch.tensor([1.0,0.0])\n",
    "y = torch.tensor([0.0,1.0])\n",
    "check_orthogonality(x,y)"
   ]
  },
  {
   "cell_type": "code",
   "execution_count": null,
   "metadata": {
    "colab": {
     "base_uri": "https://localhost:8080/"
    },
    "executionInfo": {
     "elapsed": 199,
     "status": "ok",
     "timestamp": 1756810638172,
     "user": {
      "displayName": "Piergiorgio Di Pasquale",
      "userId": "07379998051964901818"
     },
     "user_tz": -120
    },
    "id": "WFB1luy2Omjy",
    "outputId": "dd86899f-00c2-41f5-a838-fdc9ef079ae3"
   },
   "outputs": [
    {
     "data": {
      "text/plain": [
       "False"
      ]
     },
     "execution_count": 270,
     "metadata": {},
     "output_type": "execute_result"
    }
   ],
   "source": [
    "check_orthogonality(x,y, A = torch.tensor([[9.0,6.0],[6.0,5.0]]))"
   ]
  },
  {
   "cell_type": "code",
   "execution_count": null,
   "metadata": {
    "id": "pZnCB1Ctf4bS"
   },
   "outputs": [],
   "source": [
    "x = torch.tensor([1.0,1.0])\n",
    "y = torch.tensor([-1.0,1.0])"
   ]
  },
  {
   "cell_type": "code",
   "execution_count": null,
   "metadata": {
    "id": "IOEQcKYMasMq"
   },
   "outputs": [],
   "source": [
    "\n",
    "norm_x = norm(x, torch.eye(2))\n",
    "norm_y = norm(y, torch.eye(2))\n",
    "inner_product_A_ = inner_product_A(x,y, torch.eye(2))"
   ]
  },
  {
   "cell_type": "code",
   "execution_count": null,
   "metadata": {
    "colab": {
     "base_uri": "https://localhost:8080/"
    },
    "executionInfo": {
     "elapsed": 15,
     "status": "ok",
     "timestamp": 1756810638203,
     "user": {
      "displayName": "Piergiorgio Di Pasquale",
      "userId": "07379998051964901818"
     },
     "user_tz": -120
    },
    "id": "r_drYku8UGhd",
    "outputId": "629b44aa-55ad-4190-dbc7-0752fa86e296"
   },
   "outputs": [
    {
     "data": {
      "text/plain": [
       "tensor(90.)"
      ]
     },
     "execution_count": 273,
     "metadata": {},
     "output_type": "execute_result"
    }
   ],
   "source": [
    "alpha = inner_product_A_/(norm_x*norm_y)\n",
    "torch.acos(alpha)/(2*torch.pi)*360\n",
    "# orthogonal"
   ]
  },
  {
   "cell_type": "code",
   "execution_count": null,
   "metadata": {
    "colab": {
     "base_uri": "https://localhost:8080/"
    },
    "executionInfo": {
     "elapsed": 8,
     "status": "ok",
     "timestamp": 1756810638212,
     "user": {
      "displayName": "Piergiorgio Di Pasquale",
      "userId": "07379998051964901818"
     },
     "user_tz": -120
    },
    "id": "7he4jGiLazfT",
    "outputId": "7cf3b744-16f0-46ea-e766-96dcf338ce5e"
   },
   "outputs": [
    {
     "data": {
      "text/plain": [
       "tensor(109.4712)"
      ]
     },
     "execution_count": 274,
     "metadata": {},
     "output_type": "execute_result"
    }
   ],
   "source": [
    "A = torch.tensor([[2.0,0.0],[0.0,1.0]])\n",
    "\n",
    "norm_x = norm(x, A)\n",
    "norm_y = norm(y, A)\n",
    "inner_product_A_ = inner_product_A(x,y, A)\n",
    "\n",
    "\n",
    "alpha = inner_product_A_/(norm_x*norm_y)\n",
    "torch.acos(alpha)/(2*torch.pi)*360\n",
    "# same vectors but different A matrix, not orthogonal"
   ]
  },
  {
   "cell_type": "code",
   "execution_count": null,
   "metadata": {
    "id": "Bo6na1oybJ3l"
   },
   "outputs": [],
   "source": [
    "# orthogonal matrix\n",
    "Q = torch.tensor([[0., -1.],\n",
    "     [1.,  0.]])"
   ]
  },
  {
   "cell_type": "code",
   "execution_count": null,
   "metadata": {
    "colab": {
     "base_uri": "https://localhost:8080/"
    },
    "executionInfo": {
     "elapsed": 26,
     "status": "ok",
     "timestamp": 1756810638243,
     "user": {
      "displayName": "Piergiorgio Di Pasquale",
      "userId": "07379998051964901818"
     },
     "user_tz": -120
    },
    "id": "qC2iK9f_gqNo",
    "outputId": "59f2bd8d-dd4e-405d-fc9b-6c9a91523f8a"
   },
   "outputs": [
    {
     "data": {
      "text/plain": [
       "tensor([[1., 0.],\n",
       "        [0., 1.]])"
      ]
     },
     "execution_count": 276,
     "metadata": {},
     "output_type": "execute_result"
    }
   ],
   "source": [
    "Q@Q.T"
   ]
  },
  {
   "cell_type": "code",
   "execution_count": null,
   "metadata": {
    "colab": {
     "base_uri": "https://localhost:8080/"
    },
    "executionInfo": {
     "elapsed": 10,
     "status": "ok",
     "timestamp": 1756810638255,
     "user": {
      "displayName": "Piergiorgio Di Pasquale",
      "userId": "07379998051964901818"
     },
     "user_tz": -120
    },
    "id": "WI0Rf1Ixgc8S",
    "outputId": "f7e21628-7bae-4845-ac06-962c2169a817"
   },
   "outputs": [
    {
     "data": {
      "text/plain": [
       "True"
      ]
     },
     "execution_count": 277,
     "metadata": {},
     "output_type": "execute_result"
    }
   ],
   "source": [
    "torch.allclose(Q@Q.T, torch.eye(2))"
   ]
  },
  {
   "cell_type": "code",
   "execution_count": null,
   "metadata": {
    "id": "X41m73VXiEly"
   },
   "outputs": [],
   "source": [
    "x_q = Q@x\n",
    "y_q = Q@y\n",
    "A = torch.eye(2)"
   ]
  },
  {
   "cell_type": "code",
   "execution_count": null,
   "metadata": {
    "colab": {
     "base_uri": "https://localhost:8080/"
    },
    "executionInfo": {
     "elapsed": 48,
     "status": "ok",
     "timestamp": 1756810638307,
     "user": {
      "displayName": "Piergiorgio Di Pasquale",
      "userId": "07379998051964901818"
     },
     "user_tz": -120
    },
    "id": "0m_Drga9geWo",
    "outputId": "2dbb06bc-bf22-430c-8b66-83e378671e11"
   },
   "outputs": [
    {
     "data": {
      "text/plain": [
       "tensor(90.)"
      ]
     },
     "execution_count": 279,
     "metadata": {},
     "output_type": "execute_result"
    }
   ],
   "source": [
    "# orthogonal matrices preserve angles and distances\n",
    "\n",
    "norm_x = norm(x_q, A)\n",
    "norm_y = norm(y_q, A)\n",
    "inner_product_A_ = inner_product_A(x_q,y_q, A)\n",
    "\n",
    "\n",
    "alpha = inner_product_A_/(norm_x*norm_y)\n",
    "torch.acos(alpha)/(2*torch.pi)*360"
   ]
  },
  {
   "cell_type": "markdown",
   "metadata": {
    "id": "DIsLhh4nlSfZ"
   },
   "source": [
    "## orthonormal basis"
   ]
  },
  {
   "cell_type": "code",
   "execution_count": null,
   "metadata": {
    "id": "DK-oAJULhbdM"
   },
   "outputs": [],
   "source": [
    "b1 = 1/(2**0.5) * torch.tensor([1,1])\n",
    "b2 = 1/(2**0.5) * torch.tensor([1,-1])\n"
   ]
  },
  {
   "cell_type": "code",
   "execution_count": null,
   "metadata": {
    "colab": {
     "base_uri": "https://localhost:8080/"
    },
    "executionInfo": {
     "elapsed": 16,
     "status": "ok",
     "timestamp": 1756810638330,
     "user": {
      "displayName": "Piergiorgio Di Pasquale",
      "userId": "07379998051964901818"
     },
     "user_tz": -120
    },
    "id": "Nhu63l6FlbjH",
    "outputId": "80bb9d51-49fd-4eae-de38-bd88c3387d36"
   },
   "outputs": [
    {
     "data": {
      "text/plain": [
       "tensor(1.0000)"
      ]
     },
     "execution_count": 281,
     "metadata": {},
     "output_type": "execute_result"
    }
   ],
   "source": [
    "norm(b1,torch.eye(2))"
   ]
  },
  {
   "cell_type": "code",
   "execution_count": null,
   "metadata": {
    "colab": {
     "base_uri": "https://localhost:8080/"
    },
    "executionInfo": {
     "elapsed": 13,
     "status": "ok",
     "timestamp": 1756810638346,
     "user": {
      "displayName": "Piergiorgio Di Pasquale",
      "userId": "07379998051964901818"
     },
     "user_tz": -120
    },
    "id": "xIq06zR-liz3",
    "outputId": "a537e316-9c63-44e5-a130-17e9fed319a5"
   },
   "outputs": [
    {
     "data": {
      "text/plain": [
       "tensor(1.0000)"
      ]
     },
     "execution_count": 282,
     "metadata": {},
     "output_type": "execute_result"
    }
   ],
   "source": [
    "norm(b2,torch.eye(2))"
   ]
  },
  {
   "cell_type": "code",
   "execution_count": null,
   "metadata": {
    "colab": {
     "base_uri": "https://localhost:8080/"
    },
    "executionInfo": {
     "elapsed": 23,
     "status": "ok",
     "timestamp": 1756810638371,
     "user": {
      "displayName": "Piergiorgio Di Pasquale",
      "userId": "07379998051964901818"
     },
     "user_tz": -120
    },
    "id": "hZ9Z1EEkllzb",
    "outputId": "9381f0bc-d426-49fb-bcad-db8ffb5e276a"
   },
   "outputs": [
    {
     "data": {
      "text/plain": [
       "tensor(0.)"
      ]
     },
     "execution_count": 283,
     "metadata": {},
     "output_type": "execute_result"
    }
   ],
   "source": [
    "b1.T@b2"
   ]
  },
  {
   "cell_type": "code",
   "execution_count": null,
   "metadata": {
    "id": "irgpEiYNloP6"
   },
   "outputs": [],
   "source": [
    "\n",
    "def show_vectors(*args: torch.tensor, zoom=1, color_map=None, equal_scale=True):\n",
    "    fig, ax = plt.subplots()\n",
    "    if not color_map:\n",
    "        color_map = [\"b\"] * len(args)\n",
    "\n",
    "    for c, vec in zip(color_map, args):\n",
    "        ax.quiver(0, 0, *vec, angles='xy', scale_units='xy', scale=1, color=c)\n",
    "        ax.annotate([round(_.item(), 1) for _ in vec], (vec[0].item(), vec[1].item()))\n",
    "\n",
    "    x_lim = max(abs(vec[0].item()) for vec in args)\n",
    "    y_lim = max(abs(vec[1].item()) for vec in args)\n",
    "\n",
    "    ax.set_xlim(-x_lim - zoom, x_lim + zoom)\n",
    "    ax.set_ylim(-y_lim - zoom, y_lim + zoom)\n",
    "\n",
    "    if equal_scale:\n",
    "        ax.set_aspect('equal')  # keep x and y scale the same\n",
    "\n",
    "    ax.grid()\n",
    "    plt.tight_layout()\n",
    "    plt.show()\n"
   ]
  },
  {
   "cell_type": "code",
   "execution_count": null,
   "metadata": {
    "colab": {
     "base_uri": "https://localhost:8080/",
     "height": 487
    },
    "executionInfo": {
     "elapsed": 66,
     "status": "ok",
     "timestamp": 1756810638459,
     "user": {
      "displayName": "Piergiorgio Di Pasquale",
      "userId": "07379998051964901818"
     },
     "user_tz": -120
    },
    "id": "9sd8QhLClsZr",
    "outputId": "d298a669-d3f1-4d35-fc69-84c6c0fcb245"
   },
   "outputs": [
    {
     "data": {
      "image/png": "[encoded data removed]",
      "text/plain": [
       "<Figure size 640x480 with 1 Axes>"
      ]
     },
     "metadata": {},
     "output_type": "display_data"
    }
   ],
   "source": [
    "show_vectors(b1,b2 , color_map = [\"r\", \"b\"])"
   ]
  },
  {
   "cell_type": "markdown",
   "metadata": {
    "id": "RxeemF8b8N8K"
   },
   "source": [
    "# Projections"
   ]
  },
  {
   "cell_type": "markdown",
   "metadata": {
    "id": "eywMfHWXoHR5"
   },
   "source": [
    "## projections to 1d plane (from R^n to a line)"
   ]
  },
  {
   "cell_type": "markdown",
   "metadata": {
    "id": "him27bruvokV"
   },
   "source": [
    "## example 1 [2d -> 1d]"
   ]
  },
  {
   "cell_type": "code",
   "execution_count": null,
   "metadata": {
    "id": "MPYlVJiCmIrO"
   },
   "outputs": [],
   "source": [
    "# project from 2d to 1d\n",
    "\n",
    "lambda_ = torch.zeros(1,1, dtype = torch.float32) # scalar value multiplied to b to obtain the projection\n",
    "projection =  torch.zeros(1,2,dtype = torch.float32) # projection\n",
    "projection_matrix =  torch.zeros(2,2,dtype = torch.float32) # projection matrix"
   ]
  },
  {
   "cell_type": "code",
   "execution_count": null,
   "metadata": {
    "id": "Ao-c3Ojyo1vv"
   },
   "outputs": [],
   "source": [
    "x = torch.tensor([2.,3.]) # vector to project onto the subspace\n",
    "b = torch.tensor([[1.,1.]]).T # basis for the subspace we want to project onto, in this case this is a line that passes through the origin (very important condition for any subspaces, with closure to math mult and scalar mult)\n",
    "\n",
    "# b = (1,1) means  y = x"
   ]
  },
  {
   "cell_type": "code",
   "execution_count": null,
   "metadata": {
    "colab": {
     "base_uri": "https://localhost:8080/"
    },
    "executionInfo": {
     "elapsed": 21,
     "status": "ok",
     "timestamp": 1756810638505,
     "user": {
      "displayName": "Piergiorgio Di Pasquale",
      "userId": "07379998051964901818"
     },
     "user_tz": -120
    },
    "id": "QYOG-r_kpPhT",
    "outputId": "7d45029c-0a38-4e99-9704-16f1e4653896"
   },
   "outputs": [
    {
     "data": {
      "text/plain": [
       "tensor([[2.5000]])"
      ]
     },
     "execution_count": 288,
     "metadata": {},
     "output_type": "execute_result"
    }
   ],
   "source": [
    "lambda_ = (b.T@x)/norm(b, torch.eye(2))**2\n",
    "lambda_"
   ]
  },
  {
   "cell_type": "code",
   "execution_count": null,
   "metadata": {
    "colab": {
     "base_uri": "https://localhost:8080/"
    },
    "executionInfo": {
     "elapsed": 13,
     "status": "ok",
     "timestamp": 1756810638506,
     "user": {
      "displayName": "Piergiorgio Di Pasquale",
      "userId": "07379998051964901818"
     },
     "user_tz": -120
    },
    "id": "N_FDb0EZp1St",
    "outputId": "6e69397b-6edf-491f-f6c2-79bd4c7d38e2"
   },
   "outputs": [
    {
     "data": {
      "text/plain": [
       "tensor([[2.5000],\n",
       "        [2.5000]])"
      ]
     },
     "execution_count": 289,
     "metadata": {},
     "output_type": "execute_result"
    }
   ],
   "source": [
    "projection = (b.T@x)/(norm(b, torch.eye(2))**2)*b\n",
    "projection"
   ]
  },
  {
   "cell_type": "code",
   "execution_count": null,
   "metadata": {
    "id": "wntI8X4jqWZu"
   },
   "outputs": [],
   "source": [
    "projection_matrix = (b@b.T)/(norm(b, torch.eye(2))**2)\n"
   ]
  },
  {
   "cell_type": "code",
   "execution_count": null,
   "metadata": {
    "colab": {
     "base_uri": "https://localhost:8080/"
    },
    "executionInfo": {
     "elapsed": 12,
     "status": "ok",
     "timestamp": 1756810638523,
     "user": {
      "displayName": "Piergiorgio Di Pasquale",
      "userId": "07379998051964901818"
     },
     "user_tz": -120
    },
    "id": "pAFuIFLLqeO8",
    "outputId": "1a34c0e9-6afa-472b-9230-d56304f10a62"
   },
   "outputs": [
    {
     "data": {
      "text/plain": [
       "tensor([[0.5000, 0.5000],\n",
       "        [0.5000, 0.5000]])"
      ]
     },
     "execution_count": 291,
     "metadata": {},
     "output_type": "execute_result"
    }
   ],
   "source": [
    "projection_matrix"
   ]
  },
  {
   "cell_type": "code",
   "execution_count": null,
   "metadata": {
    "id": "6VudE8tvtlbh"
   },
   "outputs": [],
   "source": [
    "projected = torch.tensor([2.,3.]) @ projection_matrix"
   ]
  },
  {
   "cell_type": "code",
   "execution_count": null,
   "metadata": {
    "colab": {
     "base_uri": "https://localhost:8080/"
    },
    "executionInfo": {
     "elapsed": 13,
     "status": "ok",
     "timestamp": 1756810638602,
     "user": {
      "displayName": "Piergiorgio Di Pasquale",
      "userId": "07379998051964901818"
     },
     "user_tz": -120
    },
    "id": "xyt8Nuw3vvE8",
    "outputId": "f882d39b-73db-444e-ba5f-226670ee58b8"
   },
   "outputs": [
    {
     "data": {
      "text/plain": [
       "tensor([[2.5000],\n",
       "        [2.5000]])"
      ]
     },
     "execution_count": 293,
     "metadata": {},
     "output_type": "execute_result"
    }
   ],
   "source": [
    "lambda_*b"
   ]
  },
  {
   "cell_type": "code",
   "execution_count": null,
   "metadata": {
    "colab": {
     "base_uri": "https://localhost:8080/",
     "height": 487
    },
    "executionInfo": {
     "elapsed": 30,
     "status": "ok",
     "timestamp": 1756810638633,
     "user": {
      "displayName": "Piergiorgio Di Pasquale",
      "userId": "07379998051964901818"
     },
     "user_tz": -120
    },
    "id": "0yZVNHTTxK_H",
    "outputId": "31e5024d-43bb-47b5-9b1e-71ba4fe2b7bb"
   },
   "outputs": [
    {
     "data": {
      "image/png": "[encoded data removed]",
      "text/plain": [
       "<Figure size 640x480 with 1 Axes>"
      ]
     },
     "metadata": {},
     "output_type": "display_data"
    }
   ],
   "source": [
    "show_vectors(b, x, projected, color_map = [\"r\",\"r\", \"b\"])"
   ]
  },
  {
   "cell_type": "markdown",
   "metadata": {
    "id": "ATnCYYTFvjyP"
   },
   "source": [
    "## example 2   [3d -> 1d]"
   ]
  },
  {
   "cell_type": "code",
   "execution_count": null,
   "metadata": {
    "id": "Kce-R51St-sS"
   },
   "outputs": [],
   "source": [
    "b = torch.tensor([[1.,2.,2.]]).T # another example"
   ]
  },
  {
   "cell_type": "code",
   "execution_count": null,
   "metadata": {
    "colab": {
     "base_uri": "https://localhost:8080/"
    },
    "executionInfo": {
     "elapsed": 23,
     "status": "ok",
     "timestamp": 1756810638635,
     "user": {
      "displayName": "Piergiorgio Di Pasquale",
      "userId": "07379998051964901818"
     },
     "user_tz": -120
    },
    "id": "hj5XeT84q2X4",
    "outputId": "176d74c1-1b8d-48b4-93c1-b45cb5ac475e"
   },
   "outputs": [
    {
     "data": {
      "text/plain": [
       "torch.Size([3, 1])"
      ]
     },
     "execution_count": 296,
     "metadata": {},
     "output_type": "execute_result"
    }
   ],
   "source": [
    "b.shape"
   ]
  },
  {
   "cell_type": "code",
   "execution_count": null,
   "metadata": {
    "colab": {
     "base_uri": "https://localhost:8080/"
    },
    "executionInfo": {
     "elapsed": 15,
     "status": "ok",
     "timestamp": 1756810638651,
     "user": {
      "displayName": "Piergiorgio Di Pasquale",
      "userId": "07379998051964901818"
     },
     "user_tz": -120
    },
    "id": "MKYOGkuZrANp",
    "outputId": "e29e5897-4a50-4221-c9a3-4cb38fcce006"
   },
   "outputs": [
    {
     "data": {
      "text/plain": [
       "tensor([[0.1111, 0.2222, 0.2222],\n",
       "        [0.2222, 0.4444, 0.4444],\n",
       "        [0.2222, 0.4444, 0.4444]])"
      ]
     },
     "execution_count": 297,
     "metadata": {},
     "output_type": "execute_result"
    }
   ],
   "source": [
    "projection_matrix = (b@b.T)/(norm(b, torch.eye(3))**2)\n",
    "projection_matrix\n",
    "\n"
   ]
  },
  {
   "cell_type": "markdown",
   "metadata": {
    "id": "06Pj98y_lJUT"
   },
   "source": [
    "### important property of projections"
   ]
  },
  {
   "cell_type": "code",
   "execution_count": null,
   "metadata": {
    "colab": {
     "base_uri": "https://localhost:8080/"
    },
    "executionInfo": {
     "elapsed": 16,
     "status": "ok",
     "timestamp": 1756810638669,
     "user": {
      "displayName": "Piergiorgio Di Pasquale",
      "userId": "07379998051964901818"
     },
     "user_tz": -120
    },
    "id": "FVvTLDplkuzg",
    "outputId": "cba27e8f-216e-4d4c-c731-6f380948eedb"
   },
   "outputs": [
    {
     "data": {
      "text/plain": [
       "tensor([[0.1111, 0.2222, 0.2222],\n",
       "        [0.2222, 0.4444, 0.4444],\n",
       "        [0.2222, 0.4444, 0.4444]])"
      ]
     },
     "execution_count": 298,
     "metadata": {},
     "output_type": "execute_result"
    }
   ],
   "source": [
    "projection_matrix@projection_matrix # applying 2 times the same matrix, gives the same result!! this is an important property of projection matrices"
   ]
  },
  {
   "cell_type": "code",
   "execution_count": null,
   "metadata": {
    "colab": {
     "base_uri": "https://localhost:8080/"
    },
    "executionInfo": {
     "elapsed": 48,
     "status": "ok",
     "timestamp": 1756810638718,
     "user": {
      "displayName": "Piergiorgio Di Pasquale",
      "userId": "07379998051964901818"
     },
     "user_tz": -120
    },
    "id": "SEZ7GGDSk-t5",
    "outputId": "4547d205-fee2-4d72-9e21-2b2dec7e6dd5"
   },
   "outputs": [
    {
     "data": {
      "text/plain": [
       "True"
      ]
     },
     "execution_count": 299,
     "metadata": {},
     "output_type": "execute_result"
    }
   ],
   "source": [
    "(projection_matrix@projection_matrix).allclose(projection_matrix@projection_matrix, rtol = 10e-10) # P^2 = P"
   ]
  },
  {
   "cell_type": "code",
   "execution_count": null,
   "metadata": {
    "id": "G8zdWF3Tuc6Y"
   },
   "outputs": [],
   "source": [
    "x = torch.tensor([1.,1.,1.])"
   ]
  },
  {
   "cell_type": "code",
   "execution_count": null,
   "metadata": {
    "colab": {
     "base_uri": "https://localhost:8080/"
    },
    "executionInfo": {
     "elapsed": 38,
     "status": "ok",
     "timestamp": 1756810638768,
     "user": {
      "displayName": "Piergiorgio Di Pasquale",
      "userId": "07379998051964901818"
     },
     "user_tz": -120
    },
    "id": "D-BQ0e2HuvAV",
    "outputId": "7bf297d5-4fe8-47b1-b1fb-0151d1d101c2"
   },
   "outputs": [
    {
     "data": {
      "text/plain": [
       "tensor([0.5556, 1.1111, 1.1111])"
      ]
     },
     "execution_count": 301,
     "metadata": {},
     "output_type": "execute_result"
    }
   ],
   "source": [
    "projected = x@projection_matrix # value of the projected vector x onto the line\n",
    "projected"
   ]
  },
  {
   "cell_type": "code",
   "execution_count": null,
   "metadata": {
    "colab": {
     "base_uri": "https://localhost:8080/"
    },
    "executionInfo": {
     "elapsed": 26,
     "status": "ok",
     "timestamp": 1756810638769,
     "user": {
      "displayName": "Piergiorgio Di Pasquale",
      "userId": "07379998051964901818"
     },
     "user_tz": -120
    },
    "id": "YnXddBRAtBOc",
    "outputId": "000fdd6e-3102-4279-cf2c-633e890d8c93"
   },
   "outputs": [
    {
     "data": {
      "text/plain": [
       "tensor([[0.5556]])"
      ]
     },
     "execution_count": 302,
     "metadata": {},
     "output_type": "execute_result"
    }
   ],
   "source": [
    "lambda_ = (b.T@x)/norm(b, torch.eye(3))**2\n",
    "lambda_"
   ]
  },
  {
   "cell_type": "code",
   "execution_count": null,
   "metadata": {
    "colab": {
     "base_uri": "https://localhost:8080/"
    },
    "executionInfo": {
     "elapsed": 12,
     "status": "ok",
     "timestamp": 1756810638769,
     "user": {
      "displayName": "Piergiorgio Di Pasquale",
      "userId": "07379998051964901818"
     },
     "user_tz": -120
    },
    "id": "pWW0IgWsuW41",
    "outputId": "d33e68f0-44ce-4c00-d745-4589f4352283"
   },
   "outputs": [
    {
     "data": {
      "text/plain": [
       "tensor([[0.5556],\n",
       "        [1.1111],\n",
       "        [1.1111]])"
      ]
     },
     "execution_count": 303,
     "metadata": {},
     "output_type": "execute_result"
    }
   ],
   "source": [
    "lambda_*b # lambda is the value that multiplied by the base of the subspace give you the projection."
   ]
  },
  {
   "cell_type": "markdown",
   "metadata": {
    "id": "_zpyTznLv63_"
   },
   "source": [
    "## example 3 [projection onto the x-axis]"
   ]
  },
  {
   "cell_type": "code",
   "execution_count": null,
   "metadata": {
    "id": "i_YxjsMqu7Tx"
   },
   "outputs": [],
   "source": [
    "# let's project onto the x axis"
   ]
  },
  {
   "cell_type": "code",
   "execution_count": null,
   "metadata": {
    "id": "WcwDwTIzv_Uk"
   },
   "outputs": [],
   "source": [
    "x = torch.tensor([2.,3.]) # vector to project onto the subspace\n",
    "b = torch.tensor([[1.,0.]]).T # basis for the subspace we want to project onto, in this case this is a line that passes through the origin (very important condition for any subspaces, with closure to math mult and scalar mult)"
   ]
  },
  {
   "cell_type": "code",
   "execution_count": null,
   "metadata": {
    "colab": {
     "base_uri": "https://localhost:8080/"
    },
    "executionInfo": {
     "elapsed": 36,
     "status": "ok",
     "timestamp": 1756810638848,
     "user": {
      "displayName": "Piergiorgio Di Pasquale",
      "userId": "07379998051964901818"
     },
     "user_tz": -120
    },
    "id": "YaYqpkzuwAfc",
    "outputId": "d2b87e1f-df61-41dd-ce5c-b5b379dfc8a8"
   },
   "outputs": [
    {
     "data": {
      "text/plain": [
       "tensor([[2.]])"
      ]
     },
     "execution_count": 306,
     "metadata": {},
     "output_type": "execute_result"
    }
   ],
   "source": [
    "lambda_ = (b.T@x)/norm(b, torch.eye(2))**2\n",
    "lambda_"
   ]
  },
  {
   "cell_type": "code",
   "execution_count": null,
   "metadata": {
    "colab": {
     "base_uri": "https://localhost:8080/"
    },
    "executionInfo": {
     "elapsed": 9,
     "status": "ok",
     "timestamp": 1756810638858,
     "user": {
      "displayName": "Piergiorgio Di Pasquale",
      "userId": "07379998051964901818"
     },
     "user_tz": -120
    },
    "id": "FiNXOG3zwCzH",
    "outputId": "83c7d951-63d6-4fa6-fcf8-263286b5247c"
   },
   "outputs": [
    {
     "data": {
      "text/plain": [
       "tensor([[2.],\n",
       "        [0.]])"
      ]
     },
     "execution_count": 307,
     "metadata": {},
     "output_type": "execute_result"
    }
   ],
   "source": [
    "projection = (b.T@x)/(norm(b, torch.eye(2))**2)*b\n",
    "projection"
   ]
  },
  {
   "cell_type": "code",
   "execution_count": null,
   "metadata": {
    "colab": {
     "base_uri": "https://localhost:8080/"
    },
    "executionInfo": {
     "elapsed": 9,
     "status": "ok",
     "timestamp": 1756810638868,
     "user": {
      "displayName": "Piergiorgio Di Pasquale",
      "userId": "07379998051964901818"
     },
     "user_tz": -120
    },
    "id": "xW9f9tTywEqo",
    "outputId": "de929a6b-5141-4cf1-dcaa-e170d2cf5fa0"
   },
   "outputs": [
    {
     "data": {
      "text/plain": [
       "tensor([[1., 0.],\n",
       "        [0., 0.]])"
      ]
     },
     "execution_count": 308,
     "metadata": {},
     "output_type": "execute_result"
    }
   ],
   "source": [
    "projection_matrix = (b@b.T)/(norm(b, torch.eye(2))**2)\n",
    "projection_matrix"
   ]
  },
  {
   "cell_type": "code",
   "execution_count": null,
   "metadata": {
    "colab": {
     "base_uri": "https://localhost:8080/"
    },
    "executionInfo": {
     "elapsed": 9,
     "status": "ok",
     "timestamp": 1756810638879,
     "user": {
      "displayName": "Piergiorgio Di Pasquale",
      "userId": "07379998051964901818"
     },
     "user_tz": -120
    },
    "id": "3sDnTkjUwFDl",
    "outputId": "1fd6c391-3368-4c2b-9fba-47ab55f3fa2b"
   },
   "outputs": [
    {
     "data": {
      "text/plain": [
       "tensor([2., 0.])"
      ]
     },
     "execution_count": 309,
     "metadata": {},
     "output_type": "execute_result"
    }
   ],
   "source": [
    "projected = torch.tensor([2.,3.]) @ projection_matrix\n",
    "projected"
   ]
  },
  {
   "cell_type": "code",
   "execution_count": null,
   "metadata": {
    "colab": {
     "base_uri": "https://localhost:8080/"
    },
    "executionInfo": {
     "elapsed": 10,
     "status": "ok",
     "timestamp": 1756810638890,
     "user": {
      "displayName": "Piergiorgio Di Pasquale",
      "userId": "07379998051964901818"
     },
     "user_tz": -120
    },
    "id": "Y87wbeOBwHax",
    "outputId": "1ffe3add-fc60-4553-b276-fc37921616b2"
   },
   "outputs": [
    {
     "data": {
      "text/plain": [
       "tensor([[2.],\n",
       "        [0.]])"
      ]
     },
     "execution_count": 310,
     "metadata": {},
     "output_type": "execute_result"
    }
   ],
   "source": [
    "lambda_*b"
   ]
  },
  {
   "cell_type": "code",
   "execution_count": null,
   "metadata": {
    "colab": {
     "base_uri": "https://localhost:8080/",
     "height": 487
    },
    "executionInfo": {
     "elapsed": 174,
     "status": "ok",
     "timestamp": 1756810639065,
     "user": {
      "displayName": "Piergiorgio Di Pasquale",
      "userId": "07379998051964901818"
     },
     "user_tz": -120
    },
    "id": "TB-AFFtfwIkm",
    "outputId": "dff2528f-5c99-43d5-f552-099b1386ab08"
   },
   "outputs": [
    {
     "data": {
      "image/png": "[encoded data removed]",
      "text/plain": [
       "<Figure size 640x480 with 1 Axes>"
      ]
     },
     "metadata": {},
     "output_type": "display_data"
    }
   ],
   "source": [
    "show_vectors(b, x,projected, color_map = [\"r\",\"r\", \"b\"])"
   ]
  },
  {
   "cell_type": "markdown",
   "metadata": {
    "id": "2-vr0FFzn-nc"
   },
   "source": [
    "## utils"
   ]
  },
  {
   "cell_type": "code",
   "execution_count": null,
   "metadata": {
    "id": "0xgP826dn_ON"
   },
   "outputs": [],
   "source": [
    "calculate_projection_matrix = lambda b: (b@b.T)/(norm(b, torch.eye(len(b)))**2)\n",
    "calculate_lambda = lambda b, x : (b.T@x)/norm(b, torch.eye(len(b)))**2\n",
    "calculate_projection = lambda b,x: (b.T@x)/(norm(b, torch.eye(len(b)))**2)*b\n"
   ]
  },
  {
   "cell_type": "code",
   "execution_count": null,
   "metadata": {
    "colab": {
     "base_uri": "https://localhost:8080/"
    },
    "executionInfo": {
     "elapsed": 125,
     "status": "ok",
     "timestamp": 1756810639069,
     "user": {
      "displayName": "Piergiorgio Di Pasquale",
      "userId": "07379998051964901818"
     },
     "user_tz": -120
    },
    "id": "jZXZu4gRoFyA",
    "outputId": "f251a96d-4a36-46ee-cfd4-e6a2769be237"
   },
   "outputs": [
    {
     "data": {
      "text/plain": [
       "(tensor([2., 3., 4.]),\n",
       " tensor([[0.],\n",
       "         [1.],\n",
       "         [0.]]))"
      ]
     },
     "execution_count": 313,
     "metadata": {},
     "output_type": "execute_result"
    }
   ],
   "source": [
    "x = torch.tensor([2.,3.,4.])\n",
    "b = torch.tensor([[0.,1.,0.]]).T\n",
    "x, b"
   ]
  },
  {
   "cell_type": "code",
   "execution_count": null,
   "metadata": {
    "colab": {
     "base_uri": "https://localhost:8080/"
    },
    "executionInfo": {
     "elapsed": 37,
     "status": "ok",
     "timestamp": 1756810639069,
     "user": {
      "displayName": "Piergiorgio Di Pasquale",
      "userId": "07379998051964901818"
     },
     "user_tz": -120
    },
    "id": "lrYAScEOoWDt",
    "outputId": "0e8348e2-2cc6-4d3c-e9cd-385fbf27776e"
   },
   "outputs": [
    {
     "data": {
      "text/plain": [
       "tensor([[0., 0., 0.],\n",
       "        [0., 1., 0.],\n",
       "        [0., 0., 0.]])"
      ]
     },
     "execution_count": 314,
     "metadata": {},
     "output_type": "execute_result"
    }
   ],
   "source": [
    "calculate_projection_matrix(b)"
   ]
  },
  {
   "cell_type": "code",
   "execution_count": null,
   "metadata": {
    "colab": {
     "base_uri": "https://localhost:8080/"
    },
    "executionInfo": {
     "elapsed": 46,
     "status": "ok",
     "timestamp": 1756810639116,
     "user": {
      "displayName": "Piergiorgio Di Pasquale",
      "userId": "07379998051964901818"
     },
     "user_tz": -120
    },
    "id": "GFvU5cxLoW5I",
    "outputId": "6eab2210-8b1b-4ad4-c6bb-103fc3917a91"
   },
   "outputs": [
    {
     "data": {
      "text/plain": [
       "tensor([[3.]])"
      ]
     },
     "execution_count": 315,
     "metadata": {},
     "output_type": "execute_result"
    }
   ],
   "source": [
    "calculate_lambda(b,x)"
   ]
  },
  {
   "cell_type": "code",
   "execution_count": null,
   "metadata": {
    "colab": {
     "base_uri": "https://localhost:8080/"
    },
    "executionInfo": {
     "elapsed": 12,
     "status": "ok",
     "timestamp": 1756810639117,
     "user": {
      "displayName": "Piergiorgio Di Pasquale",
      "userId": "07379998051964901818"
     },
     "user_tz": -120
    },
    "id": "rnZm5znJoZks",
    "outputId": "beda5443-9ab0-411c-f638-9601e2399f28"
   },
   "outputs": [
    {
     "data": {
      "text/plain": [
       "tensor([[0.],\n",
       "        [3.],\n",
       "        [0.]])"
      ]
     },
     "execution_count": 316,
     "metadata": {},
     "output_type": "execute_result"
    }
   ],
   "source": [
    "calculate_projection(b,x)"
   ]
  },
  {
   "cell_type": "code",
   "execution_count": null,
   "metadata": {
    "colab": {
     "base_uri": "https://localhost:8080/"
    },
    "executionInfo": {
     "elapsed": 47,
     "status": "ok",
     "timestamp": 1756810639161,
     "user": {
      "displayName": "Piergiorgio Di Pasquale",
      "userId": "07379998051964901818"
     },
     "user_tz": -120
    },
    "id": "0Gm9Lfrsobi6",
    "outputId": "c3b093c0-4484-4fbe-d4e2-894b83079fce"
   },
   "outputs": [
    {
     "data": {
      "text/plain": [
       "tensor([0., 3., 0.])"
      ]
     },
     "execution_count": 317,
     "metadata": {},
     "output_type": "execute_result"
    }
   ],
   "source": [
    "projected = x @ calculate_projection_matrix(b)\n",
    "projected"
   ]
  },
  {
   "cell_type": "markdown",
   "metadata": {
    "id": "fGcY_yYrycJ0"
   },
   "source": [
    "## generalized projection (dim(U)>1 where U is a subspace of R^n)"
   ]
  },
  {
   "cell_type": "markdown",
   "metadata": {
    "id": "GdNYEh4HjE4O"
   },
   "source": [
    "### project to 2 dimensions (example 3.11)"
   ]
  },
  {
   "cell_type": "code",
   "execution_count": null,
   "metadata": {
    "id": "mDQvAT89hdbk"
   },
   "outputs": [],
   "source": [
    "x = torch.tensor([[6.,0.,0.]]).T"
   ]
  },
  {
   "cell_type": "code",
   "execution_count": null,
   "metadata": {
    "id": "_xSVGAByhdoM"
   },
   "outputs": [],
   "source": [
    "B = torch.tensor([[1.,1.,1.],[0.,1.,2.]]).T # we have to basis, meaning 2 dimnesions"
   ]
  },
  {
   "cell_type": "code",
   "execution_count": null,
   "metadata": {
    "colab": {
     "base_uri": "https://localhost:8080/"
    },
    "executionInfo": {
     "elapsed": 19,
     "status": "ok",
     "timestamp": 1756810639187,
     "user": {
      "displayName": "Piergiorgio Di Pasquale",
      "userId": "07379998051964901818"
     },
     "user_tz": -120
    },
    "id": "OuI1SYyQhpfQ",
    "outputId": "83c68486-41b0-4d01-bd5f-004d566ea391"
   },
   "outputs": [
    {
     "data": {
      "text/plain": [
       "tensor([[1., 0.],\n",
       "        [1., 1.],\n",
       "        [1., 2.]])"
      ]
     },
     "execution_count": 320,
     "metadata": {},
     "output_type": "execute_result"
    }
   ],
   "source": [
    "B"
   ]
  },
  {
   "cell_type": "code",
   "execution_count": null,
   "metadata": {
    "colab": {
     "base_uri": "https://localhost:8080/"
    },
    "executionInfo": {
     "elapsed": 12,
     "status": "ok",
     "timestamp": 1756810639200,
     "user": {
      "displayName": "Piergiorgio Di Pasquale",
      "userId": "07379998051964901818"
     },
     "user_tz": -120
    },
    "id": "tlGoSKrwh6Of",
    "outputId": "62c6ede4-b036-496e-8c94-e4a1d351fbf3"
   },
   "outputs": [
    {
     "data": {
      "text/plain": [
       "tensor([[3., 3.],\n",
       "        [3., 5.]])"
      ]
     },
     "execution_count": 321,
     "metadata": {},
     "output_type": "execute_result"
    }
   ],
   "source": [
    "B.T@B"
   ]
  },
  {
   "cell_type": "code",
   "execution_count": null,
   "metadata": {
    "colab": {
     "base_uri": "https://localhost:8080/"
    },
    "executionInfo": {
     "elapsed": 10,
     "status": "ok",
     "timestamp": 1756810639209,
     "user": {
      "displayName": "Piergiorgio Di Pasquale",
      "userId": "07379998051964901818"
     },
     "user_tz": -120
    },
    "id": "f2qvmrktiM_d",
    "outputId": "74a01469-0a80-4be6-ddd4-393492cd5e93"
   },
   "outputs": [
    {
     "data": {
      "text/plain": [
       "tensor([[6.],\n",
       "        [0.]])"
      ]
     },
     "execution_count": 322,
     "metadata": {},
     "output_type": "execute_result"
    }
   ],
   "source": [
    "B.T@x"
   ]
  },
  {
   "cell_type": "code",
   "execution_count": null,
   "metadata": {
    "id": "jcFElc_JiUiK"
   },
   "outputs": [],
   "source": [
    "# to find lambda we have to solve the following linear system of equations:\n",
    "#  B.T@B @ [lambda1, lambda2] = B.T@x\n"
   ]
  },
  {
   "cell_type": "code",
   "execution_count": null,
   "metadata": {
    "colab": {
     "base_uri": "https://localhost:8080/"
    },
    "executionInfo": {
     "elapsed": 10,
     "status": "ok",
     "timestamp": 1756810639224,
     "user": {
      "displayName": "Piergiorgio Di Pasquale",
      "userId": "07379998051964901818"
     },
     "user_tz": -120
    },
    "id": "lVcsH1FRi3Tn",
    "outputId": "bbde3b12-2071-47c5-bfe3-eefd87d4811c"
   },
   "outputs": [
    {
     "data": {
      "text/plain": [
       "tensor([[ 5.],\n",
       "        [-3.]])"
      ]
     },
     "execution_count": 324,
     "metadata": {},
     "output_type": "execute_result"
    }
   ],
   "source": [
    "lambdas_ = torch.linalg.solve(B.T@B, B.T@x)\n",
    "lambdas_"
   ]
  },
  {
   "cell_type": "code",
   "execution_count": null,
   "metadata": {
    "colab": {
     "base_uri": "https://localhost:8080/"
    },
    "executionInfo": {
     "elapsed": 16,
     "status": "ok",
     "timestamp": 1756810639241,
     "user": {
      "displayName": "Piergiorgio Di Pasquale",
      "userId": "07379998051964901818"
     },
     "user_tz": -120
    },
    "id": "OEGf5heLl4In",
    "outputId": "f3e21502-eaba-4751-8814-b567ac972500"
   },
   "outputs": [
    {
     "data": {
      "text/plain": [
       "tensor([[ 5.],\n",
       "        [-3.]])"
      ]
     },
     "execution_count": 325,
     "metadata": {},
     "output_type": "execute_result"
    }
   ],
   "source": [
    "# or we can just calcualte the inverse\n",
    "lambdas_ = torch.linalg.inv(B.T@B)@B.T@x\n",
    "lambdas_"
   ]
  },
  {
   "cell_type": "code",
   "execution_count": null,
   "metadata": {
    "colab": {
     "base_uri": "https://localhost:8080/"
    },
    "executionInfo": {
     "elapsed": 46,
     "status": "ok",
     "timestamp": 1756810639289,
     "user": {
      "displayName": "Piergiorgio Di Pasquale",
      "userId": "07379998051964901818"
     },
     "user_tz": -120
    },
    "id": "WKifDpsNjNbZ",
    "outputId": "33789895-ff46-4b60-9d89-8a60ad295d6e"
   },
   "outputs": [
    {
     "data": {
      "text/plain": [
       "tensor([[ 5.],\n",
       "        [ 2.],\n",
       "        [-1.]])"
      ]
     },
     "execution_count": 326,
     "metadata": {},
     "output_type": "execute_result"
    }
   ],
   "source": [
    "projections = B@lambdas_\n",
    "projections"
   ]
  },
  {
   "cell_type": "code",
   "execution_count": null,
   "metadata": {
    "colab": {
     "base_uri": "https://localhost:8080/"
    },
    "executionInfo": {
     "elapsed": 9,
     "status": "ok",
     "timestamp": 1756810639299,
     "user": {
      "displayName": "Piergiorgio Di Pasquale",
      "userId": "07379998051964901818"
     },
     "user_tz": -120
    },
    "id": "7bLwx_ECkQPO",
    "outputId": "1e58d759-e422-423c-9894-ca01f7f13ed9"
   },
   "outputs": [
    {
     "data": {
      "text/plain": [
       "tensor([[ 0.8333,  0.3333, -0.1667],\n",
       "        [ 0.3333,  0.3333,  0.3333],\n",
       "        [-0.1667,  0.3333,  0.8333]])"
      ]
     },
     "execution_count": 327,
     "metadata": {},
     "output_type": "execute_result"
    }
   ],
   "source": [
    "projection_matrix = B@torch.linalg.inv(B.T@B)@B.T\n",
    "projection_matrix"
   ]
  },
  {
   "cell_type": "code",
   "execution_count": null,
   "metadata": {
    "colab": {
     "base_uri": "https://localhost:8080/"
    },
    "executionInfo": {
     "elapsed": 10,
     "status": "ok",
     "timestamp": 1756810639310,
     "user": {
      "displayName": "Piergiorgio Di Pasquale",
      "userId": "07379998051964901818"
     },
     "user_tz": -120
    },
    "id": "0ol-7kFnlZPR",
    "outputId": "721be03b-2930-4707-fd59-6d5669c76e7a"
   },
   "outputs": [
    {
     "data": {
      "text/plain": [
       "tensor([[ 5.0000,  2.0000, -1.0000],\n",
       "        [ 2.0000,  2.0000,  2.0000],\n",
       "        [-1.0000,  2.0000,  5.0000]])"
      ]
     },
     "execution_count": 328,
     "metadata": {},
     "output_type": "execute_result"
    }
   ],
   "source": [
    "projection_matrix*6"
   ]
  },
  {
   "cell_type": "code",
   "execution_count": null,
   "metadata": {
    "colab": {
     "base_uri": "https://localhost:8080/"
    },
    "executionInfo": {
     "elapsed": 14,
     "status": "ok",
     "timestamp": 1756810639325,
     "user": {
      "displayName": "Piergiorgio Di Pasquale",
      "userId": "07379998051964901818"
     },
     "user_tz": -120
    },
    "id": "IyKA6x6llt-c",
    "outputId": "c8c0afa3-a4d3-4513-ec8e-091ff888dc71"
   },
   "outputs": [
    {
     "data": {
      "text/plain": [
       "tensor([[ 5.0000],\n",
       "        [ 2.0000],\n",
       "        [-1.0000]])"
      ]
     },
     "execution_count": 329,
     "metadata": {},
     "output_type": "execute_result"
    }
   ],
   "source": [
    "projection_matrix@x"
   ]
  },
  {
   "cell_type": "markdown",
   "metadata": {
    "id": "SPBj_Y2zEhYM"
   },
   "source": [
    "# Rotations"
   ]
  },
  {
   "cell_type": "code",
   "execution_count": null,
   "metadata": {
    "colab": {
     "base_uri": "https://localhost:8080/"
    },
    "executionInfo": {
     "elapsed": 8,
     "status": "ok",
     "timestamp": 1756810639335,
     "user": {
      "displayName": "Piergiorgio Di Pasquale",
      "userId": "07379998051964901818"
     },
     "user_tz": -120
    },
    "id": "VZhds7e8Ejmw",
    "outputId": "425cfad0-5827-412a-98c6-3159dc064b48"
   },
   "outputs": [
    {
     "data": {
      "text/plain": [
       "(tensor([[ 0.8660, -0.5000],\n",
       "         [ 0.5000,  0.8660]]),\n",
       " tensor(0.5236))"
      ]
     },
     "execution_count": 330,
     "metadata": {},
     "output_type": "execute_result"
    }
   ],
   "source": [
    "alpha = torch.deg2rad(torch.tensor(30))\n",
    "R = torch.tensor([[torch.cos(alpha), -torch.sin(alpha)],[torch.sin(alpha), torch.cos(alpha)]])\n",
    "R,alpha"
   ]
  },
  {
   "cell_type": "code",
   "execution_count": null,
   "metadata": {
    "colab": {
     "base_uri": "https://localhost:8080/"
    },
    "executionInfo": {
     "elapsed": 7,
     "status": "ok",
     "timestamp": 1756810639349,
     "user": {
      "displayName": "Piergiorgio Di Pasquale",
      "userId": "07379998051964901818"
     },
     "user_tz": -120
    },
    "id": "sF3WWzmKEy9b",
    "outputId": "defd496a-4f8c-4db4-ae57-f87df2938120"
   },
   "outputs": [
    {
     "data": {
      "text/plain": [
       "tensor([1.8660, 1.2321])"
      ]
     },
     "execution_count": 331,
     "metadata": {},
     "output_type": "execute_result"
    }
   ],
   "source": [
    "test = torch.tensor([1.,2.])\n",
    "rotated_vector = test@R\n",
    "rotated_vector"
   ]
  },
  {
   "cell_type": "code",
   "execution_count": null,
   "metadata": {
    "id": "ICSe7fvfHR3S"
   },
   "outputs": [],
   "source": [
    "bx, by = torch.tensor([0.,1.]), torch.tensor([1.,0.])"
   ]
  },
  {
   "cell_type": "code",
   "execution_count": null,
   "metadata": {
    "id": "NNbRSHl4HcqJ"
   },
   "outputs": [],
   "source": [
    "rotated_bx, rotated_by = torch.tensor([0.,1.])@R, torch.tensor([1.,0.])@R"
   ]
  },
  {
   "cell_type": "code",
   "execution_count": null,
   "metadata": {
    "colab": {
     "base_uri": "https://localhost:8080/",
     "height": 487
    },
    "executionInfo": {
     "elapsed": 68,
     "status": "ok",
     "timestamp": 1756810639424,
     "user": {
      "displayName": "Piergiorgio Di Pasquale",
      "userId": "07379998051964901818"
     },
     "user_tz": -120
    },
    "id": "hKwHfcrnFHS9",
    "outputId": "be1e5e35-fed7-42c6-cca2-18914d6c70cb"
   },
   "outputs": [
    {
     "data": {
      "image/png": "[encoded data removed]",
      "text/plain": [
       "<Figure size 640x480 with 1 Axes>"
      ]
     },
     "metadata": {},
     "output_type": "display_data"
    }
   ],
   "source": [
    "show_vectors(test,rotated_vector,bx, by,rotated_bx, rotated_by,color_map = [\"green\",\"purple\",\"green\",\"green\", \"purple\",\"purple\"], zoom = 1)"
   ]
  },
  {
   "cell_type": "code",
   "execution_count": null,
   "metadata": {
    "id": "cLlJi9rXFJKe"
   },
   "outputs": [],
   "source": [
    "x = torch.tensor(np.linspace(0,10,11), dtype = torch.float32)\n",
    "y = torch.tensor(np.linspace(0,10,11),dtype = torch.float32)"
   ]
  },
  {
   "cell_type": "code",
   "execution_count": null,
   "metadata": {
    "id": "bwKNXgUIUUNF"
   },
   "outputs": [],
   "source": [
    "coords = torch.stack(torch.meshgrid(x,y),-1).view(121,2).T\n",
    "grid_x,grid_y = zip(*coords.T)\n"
   ]
  },
  {
   "cell_type": "code",
   "execution_count": null,
   "metadata": {
    "colab": {
     "base_uri": "https://localhost:8080/",
     "height": 430
    },
    "executionInfo": {
     "elapsed": 39,
     "status": "ok",
     "timestamp": 1756810639473,
     "user": {
      "displayName": "Piergiorgio Di Pasquale",
      "userId": "07379998051964901818"
     },
     "user_tz": -120
    },
    "id": "XRpLRD2rSRDL",
    "outputId": "d6af65f3-3371-4541-c7e5-757ae6d414c9"
   },
   "outputs": [
    {
     "data": {
      "image/png": "[encoded data removed]",
      "text/plain": [
       "<Figure size 640x480 with 1 Axes>"
      ]
     },
     "metadata": {},
     "output_type": "display_data"
    }
   ],
   "source": [
    "plt.plot(grid_x,grid_y, \"o\")\n",
    "plt.show()"
   ]
  },
  {
   "cell_type": "code",
   "execution_count": null,
   "metadata": {
    "colab": {
     "base_uri": "https://localhost:8080/",
     "height": 430
    },
    "executionInfo": {
     "elapsed": 125,
     "status": "ok",
     "timestamp": 1756810639600,
     "user": {
      "displayName": "Piergiorgio Di Pasquale",
      "userId": "07379998051964901818"
     },
     "user_tz": -120
    },
    "id": "b7LIULcDTQzU",
    "outputId": "92e8459d-7714-40e8-e10a-03cd68760606"
   },
   "outputs": [
    {
     "data": {
      "image/png": "[encoded data removed]",
      "text/plain": [
       "<Figure size 640x480 with 1 Axes>"
      ]
     },
     "metadata": {},
     "output_type": "display_data"
    }
   ],
   "source": [
    "alpha = torch.deg2rad(torch.tensor(20)) # rotation is counterclockwise for convention\n",
    "R = torch.tensor([[torch.cos(alpha), -torch.sin(alpha)],[torch.sin(alpha), torch.cos(alpha)]])\n",
    "R,alpha\n",
    "coords_row_rotated = R@coords\n",
    "grid_x,grid_y = zip(*coords_row_rotated.T)\n",
    "plt.plot(grid_x,grid_y, \"o\")\n",
    "plt.show()"
   ]
  },
  {
   "cell_type": "code",
   "execution_count": null,
   "metadata": {
    "colab": {
     "base_uri": "https://localhost:8080/",
     "height": 430
    },
    "executionInfo": {
     "elapsed": 135,
     "status": "ok",
     "timestamp": 1756810639736,
     "user": {
      "displayName": "Piergiorgio Di Pasquale",
      "userId": "07379998051964901818"
     },
     "user_tz": -120
    },
    "id": "6IY9ByishWc3",
    "outputId": "176eb3f6-77c7-4494-e253-3c5f47a86189"
   },
   "outputs": [
    {
     "data": {
      "image/png": "[encoded data removed]",
      "text/plain": [
       "<Figure size 640x480 with 1 Axes>"
      ]
     },
     "metadata": {},
     "output_type": "display_data"
    }
   ],
   "source": [
    "alpha = torch.deg2rad(torch.tensor(70)) # rotation is counterclockwise for convention\n",
    "R = torch.tensor([[torch.cos(alpha), -torch.sin(alpha)],[torch.sin(alpha), torch.cos(alpha)]])\n",
    "R,alpha\n",
    "coords_row_rotated = R@coords\n",
    "grid_x,grid_y = zip(*coords_row_rotated.T)\n",
    "plt.plot(grid_x,grid_y, \"o\")\n",
    "plt.show()"
   ]
  },
  {
   "cell_type": "markdown",
   "metadata": {
    "id": "WGdsgroLAlfb"
   },
   "source": [
    "## exercises"
   ]
  },
  {
   "cell_type": "code",
   "execution_count": null,
   "metadata": {
    "colab": {
     "base_uri": "https://localhost:8080/"
    },
    "executionInfo": {
     "elapsed": 14,
     "status": "ok",
     "timestamp": 1756810639738,
     "user": {
      "displayName": "Piergiorgio Di Pasquale",
      "userId": "07379998051964901818"
     },
     "user_tz": -120
    },
    "id": "NuofOY-eATUF",
    "outputId": "c751094a-cf80-4f4e-f18a-b1cb95805011"
   },
   "outputs": [
    {
     "data": {
      "text/plain": [
       "tensor(4.6904)"
      ]
     },
     "execution_count": 340,
     "metadata": {},
     "output_type": "execute_result"
    }
   ],
   "source": [
    "distance(torch.tensor([1,2,3], dtype = torch.float32), torch.tensor([-1,-1,0],dtype = torch.float32), torch.eye(3))"
   ]
  },
  {
   "cell_type": "code",
   "execution_count": null,
   "metadata": {
    "colab": {
     "base_uri": "https://localhost:8080/"
    },
    "executionInfo": {
     "elapsed": 15,
     "status": "ok",
     "timestamp": 1756810639752,
     "user": {
      "displayName": "Piergiorgio Di Pasquale",
      "userId": "07379998051964901818"
     },
     "user_tz": -120
    },
    "id": "yX6MZc5sAlRg",
    "outputId": "ce5d52e3-8a21-4074-90ac-53e1cbf24a42"
   },
   "outputs": [
    {
     "data": {
      "text/plain": [
       "tensor(6.8557)"
      ]
     },
     "execution_count": 341,
     "metadata": {},
     "output_type": "execute_result"
    }
   ],
   "source": [
    "distance(torch.tensor([1,2,3], dtype = torch.float32), torch.tensor([-1,-1,0],dtype = torch.float32), torch.tensor([[2,1,0],[1,3,-1],[0,-1,2]], dtype = torch.float32))"
   ]
  },
  {
   "cell_type": "markdown",
   "metadata": {
    "id": "8yBJGRms8c-m"
   },
   "source": [
    "# Eigen Values and Vectors"
   ]
  },
  {
   "cell_type": "code",
   "execution_count": null,
   "metadata": {
    "id": "p6d_2KFU8esR"
   },
   "outputs": [],
   "source": [
    "# given a square nxn matrix A, it is invertible if and only if the determinant is not zero, determinant is not zero if and only if the matrix is full rank (rank(A) = n)"
   ]
  },
  {
   "cell_type": "code",
   "execution_count": null,
   "metadata": {
    "id": "GNcLAT3NeJpY"
   },
   "outputs": [],
   "source": [
    "A = torch.tensor([[1,2,3],[2,4,6],[0,4,1]], dtype = torch.float32)"
   ]
  },
  {
   "cell_type": "code",
   "execution_count": null,
   "metadata": {
    "colab": {
     "base_uri": "https://localhost:8080/"
    },
    "executionInfo": {
     "elapsed": 35,
     "status": "ok",
     "timestamp": 1756810639792,
     "user": {
      "displayName": "Piergiorgio Di Pasquale",
      "userId": "07379998051964901818"
     },
     "user_tz": -120
    },
    "id": "wery6xmreOlb",
    "outputId": "db923ae3-6b26-4bd4-df69-3c0f6ced0943"
   },
   "outputs": [
    {
     "data": {
      "text/plain": [
       "True"
      ]
     },
     "execution_count": 344,
     "metadata": {},
     "output_type": "execute_result"
    }
   ],
   "source": [
    "torch.allclose(torch.linalg.det(A), torch.tensor(0.),atol=1e-5)\n",
    "\n",
    "# atol (absolute tolerance): how close the numbers can be in absolute terms. Important when comparing to zero.\n",
    "# rtol (relative tolerance): how close they can be relative to the size of b"
   ]
  },
  {
   "cell_type": "code",
   "execution_count": null,
   "metadata": {
    "colab": {
     "base_uri": "https://localhost:8080/"
    },
    "executionInfo": {
     "elapsed": 24,
     "status": "ok",
     "timestamp": 1756810639792,
     "user": {
      "displayName": "Piergiorgio Di Pasquale",
      "userId": "07379998051964901818"
     },
     "user_tz": -120
    },
    "id": "SA50qrC2e5k1",
    "outputId": "54c82f79-0510-434d-9fc3-1c4229356994"
   },
   "outputs": [
    {
     "data": {
      "text/plain": [
       "tensor([[ 2.7962e+07, -1.3981e+07, -5.0000e-01],\n",
       "        [ 2.7962e+06, -1.3981e+06,  2.5000e-01],\n",
       "        [-1.1185e+07,  5.5924e+06,  0.0000e+00]])"
      ]
     },
     "execution_count": 345,
     "metadata": {},
     "output_type": "execute_result"
    }
   ],
   "source": [
    "torch.linalg.inv(A)"
   ]
  },
  {
   "cell_type": "code",
   "execution_count": null,
   "metadata": {
    "colab": {
     "base_uri": "https://localhost:8080/"
    },
    "executionInfo": {
     "elapsed": 12,
     "status": "ok",
     "timestamp": 1756810639793,
     "user": {
      "displayName": "Piergiorgio Di Pasquale",
      "userId": "07379998051964901818"
     },
     "user_tz": -120
    },
    "id": "ujijSmtefblZ",
    "outputId": "add9e57a-87c4-4b06-bda0-a35a5e67c183"
   },
   "outputs": [
    {
     "data": {
      "text/plain": [
       "tensor(True)"
      ]
     },
     "execution_count": 346,
     "metadata": {},
     "output_type": "execute_result"
    }
   ],
   "source": [
    "n = A.shape[0]\n",
    "torch.linalg.matrix_rank(A)<n"
   ]
  },
  {
   "cell_type": "code",
   "execution_count": null,
   "metadata": {
    "id": "feh2_b-Z0RQ2"
   },
   "outputs": [],
   "source": [
    "trace = lambda M: sum([M[i][i] for i in range(M.size()[-1])])"
   ]
  },
  {
   "cell_type": "code",
   "execution_count": null,
   "metadata": {
    "colab": {
     "base_uri": "https://localhost:8080/"
    },
    "executionInfo": {
     "elapsed": 15,
     "status": "ok",
     "timestamp": 1756810639869,
     "user": {
      "displayName": "Piergiorgio Di Pasquale",
      "userId": "07379998051964901818"
     },
     "user_tz": -120
    },
    "id": "IJgsiheu0YuL",
    "outputId": "08af4225-b959-4cee-a9f3-d30bf3cca4e9"
   },
   "outputs": [
    {
     "data": {
      "text/plain": [
       "tensor(10.)"
      ]
     },
     "execution_count": 348,
     "metadata": {},
     "output_type": "execute_result"
    }
   ],
   "source": [
    "trace(torch.eye(10))"
   ]
  },
  {
   "cell_type": "code",
   "execution_count": null,
   "metadata": {
    "id": "XdpGj4s5tNaL"
   },
   "outputs": [],
   "source": [
    "A = torch.tensor([[1,2,3],[2,3,4]],dtype = torch.float32) #2x3\n",
    "K = torch.tensor([[1,2,4,5],[3,4,3,5], [3,1,2,3]],dtype = torch.float32) #3x4\n",
    "L = torch.tensor([[2,3],[1,2],[4,5],[3,5]],dtype = torch.float32) # 4x2\n",
    "\n",
    "# invariant to cyclic transformations"
   ]
  },
  {
   "cell_type": "code",
   "execution_count": null,
   "metadata": {
    "colab": {
     "base_uri": "https://localhost:8080/"
    },
    "executionInfo": {
     "elapsed": 10,
     "status": "ok",
     "timestamp": 1756810639883,
     "user": {
      "displayName": "Piergiorgio Di Pasquale",
      "userId": "07379998051964901818"
     },
     "user_tz": -120
    },
    "id": "RnC3JWGNtPeD",
    "outputId": "01ee3001-2b24-4fd5-fe1a-34d4aa47f6e7"
   },
   "outputs": [
    {
     "data": {
      "text/plain": [
       "tensor(600.)"
      ]
     },
     "execution_count": 350,
     "metadata": {},
     "output_type": "execute_result"
    }
   ],
   "source": [
    "trace(A@K@L)"
   ]
  },
  {
   "cell_type": "code",
   "execution_count": null,
   "metadata": {
    "colab": {
     "base_uri": "https://localhost:8080/"
    },
    "executionInfo": {
     "elapsed": 9,
     "status": "ok",
     "timestamp": 1756810639893,
     "user": {
      "displayName": "Piergiorgio Di Pasquale",
      "userId": "07379998051964901818"
     },
     "user_tz": -120
    },
    "id": "X6oFEThTt2Nr",
    "outputId": "d4043bbf-284e-4ecd-8aa7-540dd1da8732"
   },
   "outputs": [
    {
     "data": {
      "text/plain": [
       "tensor(600.)"
      ]
     },
     "execution_count": 351,
     "metadata": {},
     "output_type": "execute_result"
    }
   ],
   "source": [
    "trace(K@L@A)"
   ]
  },
  {
   "cell_type": "code",
   "execution_count": null,
   "metadata": {
    "colab": {
     "base_uri": "https://localhost:8080/"
    },
    "executionInfo": {
     "elapsed": 57,
     "status": "ok",
     "timestamp": 1756810639952,
     "user": {
      "displayName": "Piergiorgio Di Pasquale",
      "userId": "07379998051964901818"
     },
     "user_tz": -120
    },
    "id": "azPLJeVtuYQs",
    "outputId": "71fbc54b-edbc-463f-ccd5-b65b402f04c3"
   },
   "outputs": [
    {
     "data": {
      "text/plain": [
       "tensor(True)"
      ]
     },
     "execution_count": 352,
     "metadata": {},
     "output_type": "execute_result"
    }
   ],
   "source": [
    "x = torch.tensor([[1,3,2]])\n",
    "y = torch.tensor([[3,4,2]])\n",
    "\n",
    "trace(x@y.T) == trace(y@x.T)"
   ]
  },
  {
   "cell_type": "markdown",
   "metadata": {
    "id": "HnX-8iC_vQd5"
   },
   "source": [
    "## eigen vectors and eigen values"
   ]
  },
  {
   "cell_type": "code",
   "execution_count": null,
   "metadata": {
    "colab": {
     "base_uri": "https://localhost:8080/"
    },
    "executionInfo": {
     "elapsed": 8,
     "status": "ok",
     "timestamp": 1756810639961,
     "user": {
      "displayName": "Piergiorgio Di Pasquale",
      "userId": "07379998051964901818"
     },
     "user_tz": -120
    },
    "id": "3QRY0yIY0Htq",
    "outputId": "dd053c49-7693-49d7-c6c7-b06ff10f8261"
   },
   "outputs": [
    {
     "data": {
      "text/plain": [
       "tensor([[4., 2.],\n",
       "        [1., 3.]])"
      ]
     },
     "execution_count": 353,
     "metadata": {},
     "output_type": "execute_result"
    }
   ],
   "source": [
    "A = torch.tensor([[4,2],[1,3]], dtype = torch.float32)\n",
    "A"
   ]
  },
  {
   "cell_type": "code",
   "execution_count": null,
   "metadata": {
    "colab": {
     "base_uri": "https://localhost:8080/"
    },
    "executionInfo": {
     "elapsed": 8,
     "status": "ok",
     "timestamp": 1756810639971,
     "user": {
      "displayName": "Piergiorgio Di Pasquale",
      "userId": "07379998051964901818"
     },
     "user_tz": -120
    },
    "id": "lQJIazdKYOYw",
    "outputId": "54dd882d-098e-4ce4-ec2a-615257d5ddc7"
   },
   "outputs": [
    {
     "data": {
      "text/plain": [
       "tensor([5.0000+0.j, 2.0000+0.j])"
      ]
     },
     "execution_count": 354,
     "metadata": {},
     "output_type": "execute_result"
    }
   ],
   "source": [
    "torch.linalg.eigvals(A)"
   ]
  },
  {
   "cell_type": "code",
   "execution_count": null,
   "metadata": {
    "id": "YH-Hf7nTB7us"
   },
   "outputs": [],
   "source": [
    "eigen_value = 2"
   ]
  },
  {
   "cell_type": "code",
   "execution_count": null,
   "metadata": {
    "colab": {
     "base_uri": "https://localhost:8080/"
    },
    "executionInfo": {
     "elapsed": 22,
     "status": "ok",
     "timestamp": 1756810640005,
     "user": {
      "displayName": "Piergiorgio Di Pasquale",
      "userId": "07379998051964901818"
     },
     "user_tz": -120
    },
    "id": "CEeaVnQBXQbV",
    "outputId": "44d3f580-3406-4518-cb87-5d30ce248424"
   },
   "outputs": [
    {
     "data": {
      "text/plain": [
       "tensor([[2., 2.],\n",
       "        [1., 1.]])"
      ]
     },
     "execution_count": 356,
     "metadata": {},
     "output_type": "execute_result"
    }
   ],
   "source": [
    "A-eigen_value*torch.eye(2)"
   ]
  },
  {
   "cell_type": "code",
   "execution_count": null,
   "metadata": {
    "colab": {
     "base_uri": "https://localhost:8080/"
    },
    "executionInfo": {
     "elapsed": 14,
     "status": "ok",
     "timestamp": 1756810640008,
     "user": {
      "displayName": "Piergiorgio Di Pasquale",
      "userId": "07379998051964901818"
     },
     "user_tz": -120
    },
    "id": "_0wY-HpG_Hp8",
    "outputId": "e1af2f06-ba19-40ea-dd69-491d642a504d"
   },
   "outputs": [
    {
     "name": "stdout",
     "output_type": "stream",
     "text": [
      "this error is expected, infact we defined the eigen_value such that the above system has non trivial infinite solutions,\n",
      "\n",
      "error: torch.linalg.solve: The solver failed because the input matrix is singular.\n"
     ]
    }
   ],
   "source": [
    "try:\n",
    "  torch.linalg.solve(A-eigen_value*torch.eye(2), torch.zeros((2,1)))\n",
    "except Exception as e:\n",
    "  print(f\"this error is expected, infact we defined the eigen_value such that the above system has non trivial infinite solutions,\\n\\nerror: {e}\")"
   ]
  },
  {
   "cell_type": "code",
   "execution_count": null,
   "metadata": {
    "id": "dRakkj7EXKgr"
   },
   "outputs": [],
   "source": [
    "eigenvalues, eigenvectors = torch.linalg.eig(A)\n",
    "eigenvectors # they are normalized\n",
    "# https://docs.pytorch.org/docs/stable/generated/torch.linalg.eig.html\n",
    "eigenvalues = eigenvalues.real\n",
    "eigenvectors = eigenvectors.real"
   ]
  },
  {
   "cell_type": "code",
   "execution_count": null,
   "metadata": {
    "colab": {
     "base_uri": "https://localhost:8080/"
    },
    "executionInfo": {
     "elapsed": 31,
     "status": "ok",
     "timestamp": 1756810640069,
     "user": {
      "displayName": "Piergiorgio Di Pasquale",
      "userId": "07379998051964901818"
     },
     "user_tz": -120
    },
    "id": "9mvYt7VEQ1OT",
    "outputId": "805181c3-8a96-462b-a9b8-4fdf8fe8e3f8"
   },
   "outputs": [
    {
     "data": {
      "text/plain": [
       "tensor([[ 0.8944, -0.7071],\n",
       "        [ 0.4472,  0.7071]])"
      ]
     },
     "execution_count": 359,
     "metadata": {},
     "output_type": "execute_result"
    }
   ],
   "source": [
    "eigenvectors"
   ]
  },
  {
   "cell_type": "code",
   "execution_count": null,
   "metadata": {
    "colab": {
     "base_uri": "https://localhost:8080/",
     "height": 487
    },
    "executionInfo": {
     "elapsed": 271,
     "status": "ok",
     "timestamp": 1756810640342,
     "user": {
      "displayName": "Piergiorgio Di Pasquale",
      "userId": "07379998051964901818"
     },
     "user_tz": -120
    },
    "id": "67bEjsSmbrUR",
    "outputId": "5c98141a-7c74-4869-8077-ebc564c4ffc5"
   },
   "outputs": [
    {
     "data": {
      "image/png": "[encoded data removed]",
      "text/plain": [
       "<Figure size 640x480 with 1 Axes>"
      ]
     },
     "metadata": {},
     "output_type": "display_data"
    }
   ],
   "source": [
    "show_vectors(*eigenvectors)"
   ]
  },
  {
   "cell_type": "markdown",
   "metadata": {
    "id": "0b8zBSEWUppf"
   },
   "source": [
    "## show eigen values and vectors"
   ]
  },
  {
   "cell_type": "code",
   "execution_count": null,
   "metadata": {
    "id": "5lzdCyehUsAy"
   },
   "outputs": [],
   "source": [
    "A1 = torch.tensor([[0.5,0],[0,2]], dtype = torch.float32)\n",
    "A2 = torch.tensor([[1,0.5],[0,1]], dtype = torch.float32)\n",
    "# alpha = torch.deg2rad(torch.tensor(30)) # rotation is counterclockwise for convention\n",
    "# A3 = torch.tensor([[torch.cos(alpha), -torch.sin(alpha)],[torch.sin(alpha), torch.cos(alpha)]])\n",
    "\n",
    "A4 = torch.tensor([[1,-1],[-1,1]],dtype = torch.float32)\n",
    "\n",
    "\n",
    "A5 = torch.tensor([[1,0.5],[0.5,1]], dtype = torch.float32)\n",
    "\n",
    "A = A4\n",
    "\n",
    "\n"
   ]
  },
  {
   "cell_type": "code",
   "execution_count": null,
   "metadata": {
    "id": "VsEOtP3lRBV6"
   },
   "outputs": [],
   "source": [
    "def create_grid(n, plot=False, transformation_matrix: torch.Tensor = None):\n",
    "    x = torch.tensor(np.linspace(-n/2, n/2, n+1), dtype=torch.float32)\n",
    "    y = torch.tensor(np.linspace(-n/2, n/2, n+1), dtype=torch.float32)\n",
    "    grid_x, grid_y = torch.meshgrid(x, y, indexing='ij')\n",
    "    coords_row_ = torch.stack([grid_x, grid_y], dim=-1)\n",
    "    coords_row = transformation_matrix @ coords_row_.view((n+1)**2, 2).T\n",
    "    grid_x, grid_y = zip(*coords_row.T)\n",
    "\n",
    "    if plot:\n",
    "        plt.plot(grid_x, grid_y, \"o\")\n",
    "        plt.axis(\"equal\")\n",
    "        plt.show()\n",
    "        return\n",
    "\n",
    "    return grid_x, grid_y\n",
    "# there was an error, the book performs the transformation on a column x vector --> i was doing it on a row x vector\n",
    "# coords_row = coords_row_.view((n+1)**2, 2) @ transformation_matrix --> applying on a row vector --> x @ A --> 1x2 @ 2x2 (in our case we have nx2 @ 2x2 because we have multiple vectors)\n",
    "# the book applyis the transformation on a vector 2x1 --> so we have to transpose x to do the same thing --> A @ x.T --> 2x2 @ 2x1\n",
    "# so we just do this: transformation_matrix @ coords_row_.view((n+1)**2, 2).T"
   ]
  },
  {
   "cell_type": "code",
   "execution_count": null,
   "metadata": {
    "colab": {
     "base_uri": "https://localhost:8080/",
     "height": 430
    },
    "executionInfo": {
     "elapsed": 347,
     "status": "ok",
     "timestamp": 1756810640687,
     "user": {
      "displayName": "Piergiorgio Di Pasquale",
      "userId": "07379998051964901818"
     },
     "user_tz": -120
    },
    "id": "FBCbjVCOTrSl",
    "outputId": "f942ebe1-cc91-42f0-88b5-29d756527374"
   },
   "outputs": [
    {
     "data": {
      "image/png": "[encoded data removed]",
      "text/plain": [
       "<Figure size 640x480 with 1 Axes>"
      ]
     },
     "metadata": {},
     "output_type": "display_data"
    }
   ],
   "source": [
    "coords = create_grid(10,plot = True, transformation_matrix = torch.eye(2))"
   ]
  },
  {
   "cell_type": "code",
   "execution_count": null,
   "metadata": {
    "colab": {
     "base_uri": "https://localhost:8080/",
     "height": 430
    },
    "collapsed": true,
    "executionInfo": {
     "elapsed": 195,
     "status": "ok",
     "timestamp": 1756810640880,
     "user": {
      "displayName": "Piergiorgio Di Pasquale",
      "userId": "07379998051964901818"
     },
     "user_tz": -120
    },
    "id": "lmvGVEGCRwT2",
    "outputId": "8852c245-feea-4725-f82f-159648591ff4"
   },
   "outputs": [
    {
     "data": {
      "image/png": "[encoded data removed]",
      "text/plain": [
       "<Figure size 640x480 with 1 Axes>"
      ]
     },
     "metadata": {},
     "output_type": "display_data"
    }
   ],
   "source": [
    "create_grid(10,plot = True, transformation_matrix = A)\n",
    "# The matrix acts simply (just scaling) on the eigenvector directions.\n",
    "# Eigenvectors → the “clean” directions where the matrix only stretches (or shrinks) with no rotation or warping.\n",
    "# Eigenvalues → how much the stretch/shrink happens along those directions.\n",
    "# All other vectors → are combinations of the eigenvectors, so when the matrix acts, each component is stretched differently, and the result looks warped or tilted."
   ]
  },
  {
   "cell_type": "code",
   "execution_count": null,
   "metadata": {
    "colab": {
     "base_uri": "https://localhost:8080/"
    },
    "executionInfo": {
     "elapsed": 45,
     "status": "ok",
     "timestamp": 1756810640903,
     "user": {
      "displayName": "Piergiorgio Di Pasquale",
      "userId": "07379998051964901818"
     },
     "user_tz": -120
    },
    "id": "2LSrNmPPT_3G",
    "outputId": "df209f52-996e-4136-991a-75475636fff6"
   },
   "outputs": [
    {
     "name": "stdout",
     "output_type": "stream",
     "text": [
      "tensor([[ 0.7070,  0.7070],\n",
      "        [-0.7070,  0.7070]])\n",
      "tensor([2., 0.])\n"
     ]
    }
   ],
   "source": [
    "eigenvalues, eigenvectors = torch.linalg.eig(A)\n",
    "\n",
    "eigenvalues = torch.round(eigenvalues.real, decimals=3)\n",
    "eigenvectors = torch.round(eigenvectors.real,decimals=3)\n",
    "print(eigenvectors)\n",
    "print(eigenvalues)\n",
    "# PyTorch shows all eigenvectors in one matrix: the first row = x parts, the second row = y parts. Each column is one full eigenvector."
   ]
  },
  {
   "cell_type": "code",
   "execution_count": null,
   "metadata": {
    "id": "a91F28meYLIC"
   },
   "outputs": [],
   "source": [
    "v1 = eigenvalues[0]*eigenvectors[:, 0]\n",
    "v2 = eigenvalues[1]*eigenvectors[:, 1]\n"
   ]
  },
  {
   "cell_type": "code",
   "execution_count": null,
   "metadata": {
    "colab": {
     "base_uri": "https://localhost:8080/",
     "height": 487
    },
    "executionInfo": {
     "elapsed": 537,
     "status": "ok",
     "timestamp": 1756810641444,
     "user": {
      "displayName": "Piergiorgio Di Pasquale",
      "userId": "07379998051964901818"
     },
     "user_tz": -120
    },
    "id": "SdVbCkMsU0NF",
    "outputId": "4f64371b-277c-4324-e49e-4bf69f3b6595"
   },
   "outputs": [
    {
     "data": {
      "image/png": "[encoded data removed]",
      "text/plain": [
       "<Figure size 640x480 with 1 Axes>"
      ]
     },
     "metadata": {},
     "output_type": "display_data"
    }
   ],
   "source": [
    "show_vectors(v1,v2, zoom = 4)"
   ]
  },
  {
   "cell_type": "code",
   "execution_count": null,
   "metadata": {
    "colab": {
     "base_uri": "https://localhost:8080/",
     "height": 430
    },
    "executionInfo": {
     "elapsed": 614,
     "status": "ok",
     "timestamp": 1756810642060,
     "user": {
      "displayName": "Piergiorgio Di Pasquale",
      "userId": "07379998051964901818"
     },
     "user_tz": -120
    },
    "id": "fBs3KQ5ZaGYZ",
    "outputId": "6294d898-9586-4874-c42c-24ea55f0382e"
   },
   "outputs": [
    {
     "data": {
      "image/png": "[encoded data removed]",
      "text/plain": [
       "<Figure size 640x480 with 1 Axes>"
      ]
     },
     "metadata": {},
     "output_type": "display_data"
    }
   ],
   "source": [
    "def show_transform_eig(n, *args, transformation_matrix= None):\n",
    "    scale_viz_factor = 3 # only for a better visualization\n",
    "\n",
    "    x = torch.tensor(np.linspace(-n/2, n/2, n+1), dtype=torch.float32)\n",
    "    y = torch.tensor(np.linspace(-n/2, n/2, n+1), dtype=torch.float32)\n",
    "    grid_x, grid_y = torch.meshgrid(x, y, indexing='ij')\n",
    "    coords_row_ = torch.stack([grid_x, grid_y], dim=-1)\n",
    "    coords_row = transformation_matrix@ coords_row_.view((n+1)**2, 2).T # .view(-1, 2).T we can make pytorch infere the dimension\n",
    "\n",
    "    grid_x, grid_y = zip(*coords_row.T)\n",
    "\n",
    "    fig, ax = plt.subplots()\n",
    "    ax.plot(grid_x, grid_y, \"o\", zorder=1)\n",
    "    for vec in args:\n",
    "      ax.quiver(0, 0, *vec * scale_viz_factor, angles='xy', scale_units='xy', scale=1,zorder=3)\n",
    "      ax.annotate([round(_.item(),1) for _ in vec], vec)\n",
    "      if not torch.allclose(vec, torch.zeros(1,2)):\n",
    "        ax.axline(vec, vec*2, color = \"purple\", alpha = 0.3, zorder=2)\n",
    "\n",
    "    ax.axis(\"equal\")\n",
    "    ax.grid()\n",
    "    plt.show()\n",
    "\n",
    "\n",
    "show_transform_eig(10, v1, v2,transformation_matrix=A)\n"
   ]
  },
  {
   "cell_type": "code",
   "execution_count": null,
   "metadata": {
    "id": "_ScpwS_VczPq"
   },
   "outputs": [],
   "source": [
    "# all points that are not on the line of the eigenvectors will be stretched along BOTH the eigen vectors, all\n",
    "# the points that are on the same line as a specific eigen vector, will be stretched only by that eigen vector\n",
    "# the amount by which it is stretched is calcualted using the eigen value that corresponds to that eigen vector."
   ]
  },
  {
   "cell_type": "code",
   "execution_count": null,
   "metadata": {
    "colab": {
     "base_uri": "https://localhost:8080/",
     "height": 430
    },
    "executionInfo": {
     "elapsed": 870,
     "status": "ok",
     "timestamp": 1756810643000,
     "user": {
      "displayName": "Piergiorgio Di Pasquale",
      "userId": "07379998051964901818"
     },
     "user_tz": -120
    },
    "id": "UE5waOezrH8O",
    "outputId": "38b7edc4-d954-4849-a883-ee1a8fd92412"
   },
   "outputs": [
    {
     "data": {
      "image/png": "[encoded data removed]",
      "text/plain": [
       "<Figure size 640x480 with 1 Axes>"
      ]
     },
     "metadata": {},
     "output_type": "display_data"
    }
   ],
   "source": [
    "def show_transformation_eig(n, *args, transformation_matrix= None):\n",
    "    scale_viz_factor = 3 # only for a better visualization\n",
    "\n",
    "    x = torch.tensor(np.linspace(-n/2, n/2, n+1), dtype=torch.float32)\n",
    "    y = torch.tensor(np.linspace(-n/2, n/2, n+1), dtype=torch.float32)\n",
    "    grid_x, grid_y = torch.meshgrid(x, y, indexing='ij')\n",
    "\n",
    "    coords_row_ = torch.stack([grid_x, grid_y], dim=-1).view(-1, 2)\n",
    "    coords_row_transformed = (transformation_matrix@ coords_row_.T).T\n",
    "\n",
    "\n",
    "    fig, ax = plt.subplots()\n",
    "    for p, q in zip(coords_row_, coords_row_transformed):\n",
    "        # print(f\"{p}-->{q}\")\n",
    "        ax.arrow(p[0].item(), p[1].item(),(q[0]-p[0]).item(), (q[1]-p[1]).item(), head_width=0.3, length_includes_head = True,color  = \"black\", alpha=0.4,zorder=3)\n",
    "    for vec in args:\n",
    "      if not torch.allclose(vec, torch.zeros(1,2)):\n",
    "        ax.axline(vec, vec*2, color = \"purple\", alpha = 0.3,zorder=0)\n",
    "    ax.plot(coords_row_[:,0], coords_row_[:,1], \"rx\", label=\"original\", markersize = 4,zorder=1)\n",
    "    ax.plot(coords_row_transformed[:,0], coords_row_transformed[:,1], \"bo\", label=\"transformed\",markersize = 5,zorder=1)\n",
    "\n",
    "\n",
    "    ax.axis(\"equal\")\n",
    "    ax.grid()\n",
    "    ax.legend()\n",
    "\n",
    "    plt.show()\n",
    "\n",
    "\n",
    "show_transformation_eig(10, v1, v2,transformation_matrix=A)\n",
    "# as we can see all vectors are transformed in a combination of the 2 eigen vectors (weighted by the corresponding eigenvalue)\n",
    "# all other values get a mix of the two transformations"
   ]
  },
  {
   "cell_type": "code",
   "execution_count": null,
   "metadata": {
    "id": "t1JuwHHyvZP8"
   },
   "outputs": [],
   "source": [
    "# as we can clearly see, eigen vectors tells us the \"lines\" on which reside vectors (points)\n",
    "# that get simpler transformations --> stretchs in only ONE direction (one of the 2 eigen vectors)."
   ]
  },
  {
   "cell_type": "markdown",
   "metadata": {
    "id": "vaSu1dWcRPbW"
   },
   "source": [
    "## Interactive Visualization"
   ]
  },
  {
   "cell_type": "code",
   "execution_count": null,
   "metadata": {
    "cellView": "form",
    "colab": {
     "base_uri": "https://localhost:8080/",
     "height": 836,
     "referenced_widgets": [
      "0aa188f088054b2b9dff40a04342ba37",
      "d2e0f578080a42b099aba9e0c03a40f8",
      "9fe2887026fb44d5a79b4d1f7f2e9c9a",
      "a931d9751fd8453e846cdb7605af4004",
      "4659ad903b344fdca490b7d2725ab9dd",
      "f3c2080896934b9aaf156c2125192f89",
      "3d7cc8e6774348fcb7b9a1fb2c7de8fc",
      "25e06e3e4ecc446f9739a04b117636cf",
      "daa12a045b244c25825f3a34c70d35e8",
      "51f646f0ac4544c5b3bdd5d1c0acce94",
      "f65cf5001b124f71b72b9f365026d7d9",
      "933ae26475ea46a9bd94049a36d306b9",
      "03c71973aba14192b5f574d9ad3c17e8",
      "38779e6c7bd44091a0b5cdba5f09e587",
      "eceb2228755449f381001919c4862f8f",
      "6de28002fa1044369001a9d125ffdc61",
      "024370b5cf0640dcaf6830074526daf9",
      "ba1021da665e434185b26d7f2a32153f",
      "701a55010c404459a55572866473c27b"
     ]
    },
    "executionInfo": {
     "elapsed": 864,
     "status": "ok",
     "timestamp": 1756810643861,
     "user": {
      "displayName": "Piergiorgio Di Pasquale",
      "userId": "07379998051964901818"
     },
     "user_tz": -120
    },
    "id": "rdXCLOFlHjv3",
    "outputId": "32c18a7b-dece-4c07-cefa-9ccb36e027c6"
   },
   "outputs": [
    {
     "data": {
      "application/vnd.jupyter.widget-view+json": {
       "model_id": "0aa188f088054b2b9dff40a04342ba37",
       "version_major": 2,
       "version_minor": 0
      },
      "text/plain": [
       "interactive(children=(FloatSlider(value=1.0, description='a11', max=3.0, min=-3.0, step=0.5), FloatSlider(valu…"
      ]
     },
     "metadata": {},
     "output_type": "display_data"
    }
   ],
   "source": [
    "# @title interactive {\"run\":\"auto\",\"vertical-output\":true}\n",
    "from ipywidgets import interact, FloatSlider, IntSlider\n",
    "\n",
    "CURRENT_MATRIX = None\n",
    "\n",
    "def _plot_transform_with_eigs(a11=1.0, a12=0.0, a21=0.0, a22=1.0, n=3):\n",
    "    global CURRENT_MATRIX\n",
    "    CURRENT_MATRIX = np.array([[a11, a12],\n",
    "                               [a21, a22]], dtype=float)\n",
    "\n",
    "    grid_half_extent = 10.0\n",
    "    arrow_head_width = 0.1\n",
    "    arrow_alpha = 0.35\n",
    "    point_size = 4.0\n",
    "    transformed_point_size = 5.0\n",
    "\n",
    "    x = torch.tensor(np.linspace(-grid_half_extent, grid_half_extent, n+1), dtype=torch.float32)\n",
    "    y = torch.tensor(np.linspace(-grid_half_extent, grid_half_extent, n+1), dtype=torch.float32)\n",
    "    grid_x, grid_y = torch.meshgrid(x, y, indexing='ij')\n",
    "    coords_row_ = torch.stack([grid_x, grid_y], dim=-1).view(-1, 2)\n",
    "\n",
    "    A = torch.tensor(CURRENT_MATRIX, dtype=torch.float32)\n",
    "    coords_row_transformed = (A @ coords_row_.T).T\n",
    "\n",
    "    fig, ax = plt.subplots(figsize=(8,8))\n",
    "\n",
    "    for p, q in zip(coords_row_, coords_row_transformed):\n",
    "        ax.arrow(\n",
    "            p[0].item(), p[1].item(),\n",
    "            (q[0]-p[0]).item(), (q[1]-p[1]).item(),\n",
    "            head_width=arrow_head_width,\n",
    "            length_includes_head=True,\n",
    "            color=\"black\",\n",
    "            alpha=arrow_alpha,\n",
    "            zorder=3\n",
    "        )\n",
    "\n",
    "    vals, vecs = np.linalg.eig(CURRENT_MATRIX)\n",
    "    drew_any = False\n",
    "    for i in range(2):\n",
    "        lam = vals[i]\n",
    "        v = vecs[:, i]\n",
    "        if np.iscomplex(lam) or np.iscomplexobj(v):\n",
    "            continue\n",
    "        if np.allclose(v, 0):\n",
    "            continue\n",
    "        v = np.real(v)\n",
    "        v = v / (np.linalg.norm(v) + 1e-12)\n",
    "        p1 = v * (grid_half_extent * 2.0)\n",
    "        p0 = -p1\n",
    "        ax.plot([p0[0], p1[0]], [p0[1], p1[1]], color=\"purple\", alpha=0.8, zorder=0)\n",
    "        drew_any = True\n",
    "\n",
    "    ax.plot(coords_row_[:,0], coords_row_[:,1], \"rx\", label=\"original\", markersize=point_size, zorder=1, alpha=0.3)\n",
    "    ax.plot(coords_row_transformed[:,0], coords_row_transformed[:,1], \"bo\", label=\"transformed\", markersize=transformed_point_size, zorder=1)\n",
    "\n",
    "    ax.axhline(0, color=\"gray\", linewidth=1, alpha=0.5)\n",
    "    ax.axvline(0, color=\"gray\", linewidth=1, alpha=0.5)\n",
    "    ax.set_aspect(\"equal\", adjustable=\"box\")\n",
    "    ax.grid(True, alpha=0.25)\n",
    "    ax.legend()\n",
    "\n",
    "    pad = grid_half_extent * 0.8 + 5.0\n",
    "    ax.set_xlim(-grid_half_extent - pad, grid_half_extent + pad)\n",
    "    ax.set_ylim(-grid_half_extent - pad, grid_half_extent + pad)\n",
    "\n",
    "    plt.show()\n",
    "\n",
    "interact(\n",
    "    _plot_transform_with_eigs,\n",
    "    n=IntSlider(value=10, min=2, max=30, step=1, description=\"Grid n\"),\n",
    "    a11=FloatSlider(value=1.0, min=-3.0, max=3.0, step=0.5, description=\"a11\"),\n",
    "    a12=FloatSlider(value=0.0, min=-3.0, max=3.0, step=0.5, description=\"a12\"),\n",
    "    a21=FloatSlider(value=0.0, min=-3.0, max=3.0, step=0.5, description=\"a21\"),\n",
    "    a22=FloatSlider(value=1.0, min=-3.0, max=3.0, step=0.5, description=\"a22\"),\n",
    ");\n"
   ]
  },
  {
   "cell_type": "code",
   "execution_count": null,
   "metadata": {
    "cellView": "form",
    "colab": {
     "base_uri": "https://localhost:8080/",
     "height": 485
    },
    "executionInfo": {
     "elapsed": 421,
     "status": "ok",
     "timestamp": 1756810644283,
     "user": {
      "displayName": "Piergiorgio Di Pasquale",
      "userId": "07379998051964901818"
     },
     "user_tz": -120
    },
    "id": "XtTX_g5VLhqo",
    "outputId": "f59932fc-f616-4f04-dcd4-93422edb0b53"
   },
   "outputs": [
    {
     "name": "stdout",
     "output_type": "stream",
     "text": [
      "scaled eigenvector 1: tensor([1., 0.])\n",
      "scaled eigenvector 2: tensor([0., 1.])\n",
      "eigenvalues: tensor([1., 1.])\n"
     ]
    },
    {
     "data": {
      "image/png": "[encoded data removed]",
      "text/plain": [
       "<Figure size 640x480 with 1 Axes>"
      ]
     },
     "metadata": {},
     "output_type": "display_data"
    }
   ],
   "source": [
    "# @title snapshot of Interactive {\"run\":\"auto\",\"vertical-output\":true,\"form-width\":\"50%\"}\n",
    "CURRENT_MATRIX_c = torch.tensor(CURRENT_MATRIX, dtype = torch.float32)\n",
    "eigenvalues, eigenvectors = torch.linalg.eig(CURRENT_MATRIX_c)\n",
    "\n",
    "eigenvalues = torch.round(eigenvalues.real, decimals=3)\n",
    "eigenvectors = torch.round(eigenvectors.real,decimals=3)\n",
    "\n",
    "\n",
    "v1 = eigenvalues[0]*eigenvectors[:, 0]\n",
    "v2 = eigenvalues[1]*eigenvectors[:, 1]\n",
    "print(f\"scaled eigenvector 1: {torch.round(v1,decimals = 1)}\")\n",
    "print(f\"scaled eigenvector 2: {torch.round(v2, decimals = 1)}\")\n",
    "print(f\"eigenvalues: {torch.round(eigenvalues,decimals = 2)}\")\n",
    "\n",
    "def show_transformation_eig(n, *args, transformation_matrix= None):\n",
    "    scale_viz_factor = 3 # only for a better visualization\n",
    "\n",
    "    x = torch.tensor(np.linspace(-n/2, n/2, n+1), dtype=torch.float32)\n",
    "    y = torch.tensor(np.linspace(-n/2, n/2, n+1), dtype=torch.float32)\n",
    "    grid_x, grid_y = torch.meshgrid(x, y, indexing='ij')\n",
    "\n",
    "    coords_row_ = torch.stack([grid_x, grid_y], dim=-1).view(-1, 2)\n",
    "    coords_row_transformed = (transformation_matrix@ coords_row_.T).T\n",
    "\n",
    "\n",
    "    fig, ax = plt.subplots()\n",
    "    for p, q in zip(coords_row_, coords_row_transformed):\n",
    "        # print(f\"{p}-->{q}\")\n",
    "        ax.arrow(p[0].item(), p[1].item(),(q[0]-p[0]).item(), (q[1]-p[1]).item(), head_width=0.3, length_includes_head = True,color  = \"black\", alpha=0.4,zorder=3)\n",
    "    for vec in args:\n",
    "      if not torch.allclose(vec, torch.zeros(1,2)):\n",
    "          ax.axline(vec, vec*2, color=\"purple\", alpha=0.6, zorder=0)\n",
    "          ax.annotate(\n",
    "              [round(_.item(),1) for _ in vec],\n",
    "              vec * 6,  # shift text a bit away from the vector tip\n",
    "              bbox=dict(boxstyle=\"square,pad=0.2\", fc=\"white\", ec=\"black\", alpha=0.7),\n",
    "              fontsize=8,\n",
    "              zorder=4\n",
    "          )\n",
    "    ax.plot(coords_row_[:,0], coords_row_[:,1], \"rx\", label=\"original\", markersize = 4,zorder=1)\n",
    "    ax.plot(coords_row_transformed[:,0], coords_row_transformed[:,1], \"bo\", label=\"transformed\",markersize = 5,zorder=1)\n",
    "\n",
    "\n",
    "    ax.axis(\"equal\")\n",
    "    ax.grid()\n",
    "    ax.legend()\n",
    "\n",
    "    plt.show()\n",
    "\n",
    "\n",
    "show_transformation_eig(10, v1, v2,transformation_matrix=CURRENT_MATRIX_c)\n",
    "# as we can see all vectors are transformed in a combination of the 2 eigen vectors (weighted by the corresponding eigenvalue)\n",
    "# all other values get a mix of the two transformations"
   ]
  },
  {
   "cell_type": "markdown",
   "metadata": {
    "id": "kPKPjc-K9O1a"
   },
   "source": [
    "## theorems on eigen"
   ]
  },
  {
   "cell_type": "code",
   "execution_count": null,
   "metadata": {
    "colab": {
     "base_uri": "https://localhost:8080/"
    },
    "executionInfo": {
     "elapsed": 27,
     "status": "ok",
     "timestamp": 1756810644332,
     "user": {
      "displayName": "Piergiorgio Di Pasquale",
      "userId": "07379998051964901818"
     },
     "user_tz": -120
    },
    "id": "Z5ZX1xTe5ohR",
    "outputId": "31c4a230-a995-49d7-8302-5f1a2e4f3527"
   },
   "outputs": [
    {
     "data": {
      "text/plain": [
       "tensor(0.)"
      ]
     },
     "execution_count": 374,
     "metadata": {},
     "output_type": "execute_result"
    }
   ],
   "source": [
    "# For symmetric matrices, eigenvectors corresponding to different eigenvalues are orthogonal. Therefore, they are also linearly independent\n",
    "inner_product_A(v1,v2, torch.eye(2)) # infact the inner product is zero. inner product in this case measures how much the 2 vectors point in the same direction,\n",
    "                                     # they are orthogonal thus they have completely different directions"
   ]
  },
  {
   "cell_type": "code",
   "execution_count": null,
   "metadata": {
    "id": "iHA3EHRC-KKK"
   },
   "outputs": [],
   "source": [
    "# spectral theorem ensures us that, given a symmetric matrix A there exist a orthonormal basis of its vector space V consisting of EigenVectors of A and each eigenvector is REAL"
   ]
  },
  {
   "cell_type": "markdown",
   "metadata": {
    "id": "I9jEXnahk8yu"
   },
   "source": [
    "## **matrix decomposition**"
   ]
  },
  {
   "cell_type": "markdown",
   "metadata": {
    "id": "_Zd_57pLAf-L"
   },
   "source": [
    "| Method                                 | When it works (requirements)                                                                                                                                       | Output form                                  |                                                                                 |\n",
    "| -------------------------------------- | ------------------------------------------------------------------------------------------------------------------------------------------------------------------ | -------------------------------------------- | ------------------------------------------------------------------------------------ |\n",
    "| **Diagonalization**                    | Square matrix $A \\in \\mathbb{R}^{n\\times n}$ that has $n$ linearly independent eigenvectors (i.e. diagonalizable). Guaranteed if $A$ is symmetric/Hermitian. | $A = P D P^{-1}$ (or $P D P^T$ if symmetric) |  |\n",
    "| **SVD (Singular Value Decomposition)** | **Any** real (or complex) matrix $A \\in \\mathbb{R}^{m\\times n}$, no restrictions on square/symmetry.                                                               | $A = U \\Sigma V^T$                           |           |\n",
    "| **Cholesky**                           | Square, symmetric, positive definite $A \\in \\mathbb{R}^{n\\times n}$ (Requires all eigenvalues > 0)                                                                                               | $A = L L^T$ with $L$ lower triangular        |"
   ]
  },
  {
   "cell_type": "markdown",
   "metadata": {
    "id": "eP28Xf2_Rhx1"
   },
   "source": [
    "#### Cholensky"
   ]
  },
  {
   "cell_type": "code",
   "execution_count": null,
   "metadata": {
    "id": "MJFDUc7tSNsa"
   },
   "outputs": [],
   "source": [
    "def check_spd(A):\n",
    "    \"\"\" A is positive definite iff all eigenvalues are strictly positive. A is symmetric if A = A.t\"\"\"\n",
    "    # check symmetric\n",
    "    if not torch.allclose(A, A.T, atol=1e-8):\n",
    "        return False\n",
    "    # check eigenvalues > 0\n",
    "    eigvals = torch.linalg.eigvalsh(A)  # works for Hermitian/symmetric, hermitian is just symmetric in complex plane\n",
    "    return torch.all(eigvals > 0).item()\n",
    "# explanation on the notebook, but mainly it is because a matrix is positive definite iff x.T @ A @ x >=0\n",
    "# --> we can write, asssuming the matrix A is symmetric, given spectral theorem and diagonalization\n",
    "# to the conclusion that x.T @ A @ x = lambda_1 y1^2 + lambda_2 y2^2 ... where lambda_n >0 per ogni x, thus"
   ]
  },
  {
   "cell_type": "code",
   "execution_count": null,
   "metadata": {
    "colab": {
     "base_uri": "https://localhost:8080/"
    },
    "executionInfo": {
     "elapsed": 41,
     "status": "ok",
     "timestamp": 1756810644386,
     "user": {
      "displayName": "Piergiorgio Di Pasquale",
      "userId": "07379998051964901818"
     },
     "user_tz": -120
    },
    "id": "8wjjFfB_lEuC",
    "outputId": "95763ca5-1f8f-42fd-f898-5b2fcc21ed9f"
   },
   "outputs": [
    {
     "data": {
      "text/plain": [
       "True"
      ]
     },
     "execution_count": 377,
     "metadata": {},
     "output_type": "execute_result"
    }
   ],
   "source": [
    "A = torch.tensor([[2,1],[1,2]], dtype = torch.float32)\n",
    "check_spd(A)"
   ]
  },
  {
   "cell_type": "code",
   "execution_count": null,
   "metadata": {
    "id": "n7a2di-0k9_p"
   },
   "outputs": [],
   "source": [
    "C = torch.linalg.cholesky(A) # this method needs the matrix to be symmetric positive definite"
   ]
  },
  {
   "cell_type": "code",
   "execution_count": null,
   "metadata": {
    "colab": {
     "base_uri": "https://localhost:8080/"
    },
    "executionInfo": {
     "elapsed": 30,
     "status": "ok",
     "timestamp": 1756810644420,
     "user": {
      "displayName": "Piergiorgio Di Pasquale",
      "userId": "07379998051964901818"
     },
     "user_tz": -120
    },
    "id": "x4bCoJRhlJMJ",
    "outputId": "d4711949-9cf2-46a4-8ea6-0c6bd4a8760d"
   },
   "outputs": [
    {
     "data": {
      "text/plain": [
       "tensor([[2.0000, 1.0000],\n",
       "        [1.0000, 2.0000]])"
      ]
     },
     "execution_count": 379,
     "metadata": {},
     "output_type": "execute_result"
    }
   ],
   "source": [
    "C@C.T # by construction is the matrix A"
   ]
  },
  {
   "cell_type": "markdown",
   "metadata": {
    "id": "uf3oNh0WRlu8"
   },
   "source": [
    "#### Diagonalization"
   ]
  },
  {
   "cell_type": "code",
   "execution_count": null,
   "metadata": {
    "id": "hMSHZm1DRnzV"
   },
   "outputs": [],
   "source": [
    "# Requires a full set of independent eigenvectors\n",
    "\n",
    "# how to check this:\n",
    "# Compute eigenvalues and eigenvectors.\n",
    "# Count how many independent eigenvectors you get.\n",
    "# If that number = matrix size, diagonalizable.\n",
    "\n",
    "# in other words, we have to check if the eigenvectors form a basis for R^n where n is the dimension of the square matrix.\n",
    "# this is because it is central to this kind of matrix decomposition techniques that P is invertible\n",
    "# D = P^-1 @ A @ P --> in particular, P in this specific case represents the matrix that contains all the eigen vectors,\n",
    "# that in order to be invertible NEEDS the eigen vectors to be indipendent.\n",
    "# infact  D = P^-1 @ A @ P is in general a way to change base, where P represents the matrix to change basis to a vector.\n",
    "A = 0.5 * torch.tensor([[5,-2],[-2,5]], dtype = torch.float32)"
   ]
  },
  {
   "cell_type": "code",
   "execution_count": null,
   "metadata": {
    "id": "EtvgYT4VVj6Y"
   },
   "outputs": [],
   "source": [
    "eigenvalues, eigenvectors = torch.linalg.eig(A)\n",
    "real_eigenvalues, real_eigenvectors = torch.real(eigenvalues),torch.real(eigenvectors) # P is the matrix that collects all eigenvectors as columns"
   ]
  },
  {
   "cell_type": "code",
   "execution_count": null,
   "metadata": {
    "colab": {
     "base_uri": "https://localhost:8080/"
    },
    "executionInfo": {
     "elapsed": 11,
     "status": "ok",
     "timestamp": 1756810644460,
     "user": {
      "displayName": "Piergiorgio Di Pasquale",
      "userId": "07379998051964901818"
     },
     "user_tz": -120
    },
    "id": "R0Z0fATtZsXC",
    "outputId": "f68314ca-1fec-410a-dfb4-41980da7c2d1"
   },
   "outputs": [
    {
     "data": {
      "text/plain": [
       "tensor([[ 0.7071,  0.7071],\n",
       "        [-0.7071,  0.7071]])"
      ]
     },
     "execution_count": 382,
     "metadata": {},
     "output_type": "execute_result"
    }
   ],
   "source": [
    "real_eigenvectors"
   ]
  },
  {
   "cell_type": "code",
   "execution_count": null,
   "metadata": {
    "colab": {
     "base_uri": "https://localhost:8080/"
    },
    "executionInfo": {
     "elapsed": 16,
     "status": "ok",
     "timestamp": 1756810644473,
     "user": {
      "displayName": "Piergiorgio Di Pasquale",
      "userId": "07379998051964901818"
     },
     "user_tz": -120
    },
    "id": "DMp4myaPYS1G",
    "outputId": "5c79f618-6316-4581-d577-03c0289258be"
   },
   "outputs": [
    {
     "data": {
      "text/plain": [
       "tensor([[3.5000, 0.0000],\n",
       "        [0.0000, 1.5000]])"
      ]
     },
     "execution_count": 383,
     "metadata": {},
     "output_type": "execute_result"
    }
   ],
   "source": [
    "torch.round(torch.linalg.inv(real_eigenvectors) @ A @ real_eigenvectors,decimals = 2)"
   ]
  },
  {
   "cell_type": "code",
   "execution_count": null,
   "metadata": {
    "colab": {
     "base_uri": "https://localhost:8080/"
    },
    "executionInfo": {
     "elapsed": 52,
     "status": "ok",
     "timestamp": 1756810644526,
     "user": {
      "displayName": "Piergiorgio Di Pasquale",
      "userId": "07379998051964901818"
     },
     "user_tz": -120
    },
    "id": "bLhiDEE-app5",
    "outputId": "15ec073f-9505-4ca5-8ef0-b4f0de79c402"
   },
   "outputs": [
    {
     "data": {
      "text/plain": [
       "tensor([[3., 0.],\n",
       "        [0., 1.]])"
      ]
     },
     "execution_count": 384,
     "metadata": {},
     "output_type": "execute_result"
    }
   ],
   "source": [
    "A = torch.tensor([[2,1],[1,2]], dtype = torch.float32)\n",
    "eigenvalues, eigenvectors = torch.linalg.eig(A)\n",
    "real_eigenvalues, real_eigenvectors = torch.real(eigenvalues),torch.real(eigenvectors) # P is the matrix that collects all eigenvectors as columns\n",
    "torch.round(torch.linalg.inv(real_eigenvectors) @ A @ real_eigenvectors,decimals = 2) # the book is not mistaken, it just ordered the eigenvalues in P differently."
   ]
  },
  {
   "cell_type": "code",
   "execution_count": null,
   "metadata": {
    "colab": {
     "base_uri": "https://localhost:8080/"
    },
    "executionInfo": {
     "elapsed": 8,
     "status": "ok",
     "timestamp": 1756810644535,
     "user": {
      "displayName": "Piergiorgio Di Pasquale",
      "userId": "07379998051964901818"
     },
     "user_tz": -120
    },
    "id": "TRVpLCqma0H3",
    "outputId": "350ef061-dfe1-4d0e-9438-2b912a244802"
   },
   "outputs": [
    {
     "data": {
      "text/plain": [
       "tensor([[3., 0.],\n",
       "        [0., 1.]])"
      ]
     },
     "execution_count": 385,
     "metadata": {},
     "output_type": "execute_result"
    }
   ],
   "source": [
    "A = torch.tensor([[2,1],[1,2]], dtype = torch.float32)\n",
    "eigenvalues, eigenvectors = torch.linalg.eig(A)\n",
    "\n",
    "real_eigenvalues, real_eigenvectors = torch.real(eigenvalues),torch.real(eigenvectors) # P is the matrix that collects all eigenvectors as columns\n",
    "\n",
    "# # swap the vectors ##################################################\n",
    "# sorted_indices = torch.argsort(real_eigenvalues)                    #\n",
    "# real_eigenvalues = real_eigenvalues[sorted_indices]                 #\n",
    "# real_eigenvectors = real_eigenvectors[:, sorted_indices]            #\n",
    "# #####################################################################\n",
    "\n",
    "D = torch.round(torch.linalg.inv(real_eigenvectors) @ A @ real_eigenvectors,decimals = 1) # the book is not mistaken, it just ordered the eigenvalues in P differently.\n",
    "D"
   ]
  },
  {
   "cell_type": "code",
   "execution_count": null,
   "metadata": {
    "id": "RrCeb471sXI1"
   },
   "outputs": [],
   "source": [
    "D = torch.diag(torch.real(eigenvalues)) # D is just the diagonal matrix containing the eigenvalues"
   ]
  },
  {
   "cell_type": "code",
   "execution_count": null,
   "metadata": {
    "colab": {
     "base_uri": "https://localhost:8080/"
    },
    "executionInfo": {
     "elapsed": 10,
     "status": "ok",
     "timestamp": 1756810644590,
     "user": {
      "displayName": "Piergiorgio Di Pasquale",
      "userId": "07379998051964901818"
     },
     "user_tz": -120
    },
    "id": "x2VLMd6EgLUo",
    "outputId": "d4d91e00-8164-463e-b06b-d25f7b7ee9fc"
   },
   "outputs": [
    {
     "data": {
      "text/plain": [
       "tensor([[2., 1.],\n",
       "        [1., 2.]])"
      ]
     },
     "execution_count": 387,
     "metadata": {},
     "output_type": "execute_result"
    }
   ],
   "source": [
    "A"
   ]
  },
  {
   "cell_type": "code",
   "execution_count": null,
   "metadata": {
    "colab": {
     "base_uri": "https://localhost:8080/"
    },
    "executionInfo": {
     "elapsed": 35,
     "status": "ok",
     "timestamp": 1756810644623,
     "user": {
      "displayName": "Piergiorgio Di Pasquale",
      "userId": "07379998051964901818"
     },
     "user_tz": -120
    },
    "id": "OWCnNevjipJi",
    "outputId": "416d21b2-a20e-4c2a-bf3a-cd9045fabea4"
   },
   "outputs": [
    {
     "data": {
      "text/plain": [
       "tensor([[ 0.7071, -0.7071],\n",
       "        [ 0.7071,  0.7071]])"
      ]
     },
     "execution_count": 388,
     "metadata": {},
     "output_type": "execute_result"
    }
   ],
   "source": [
    "P = torch.real(eigenvectors)\n",
    "P # eigenvectors are represented in columns\n",
    "#   one eigenvector     the other eigenvector\n",
    "#             |           |\n",
    "#             V           V\n",
    "#  tensor([[ 0.7071, -0.7071],\n",
    "#          [ 0.7071,  0.7071]])\n",
    "#"
   ]
  },
  {
   "cell_type": "code",
   "execution_count": null,
   "metadata": {
    "id": "mZfEkfhZoOLo"
   },
   "outputs": [],
   "source": [
    "p1 = P[:, 0] # row, column\n",
    "p2 = P[:, 1]"
   ]
  },
  {
   "cell_type": "code",
   "execution_count": null,
   "metadata": {
    "colab": {
     "base_uri": "https://localhost:8080/"
    },
    "executionInfo": {
     "elapsed": 32,
     "status": "ok",
     "timestamp": 1756810644655,
     "user": {
      "displayName": "Piergiorgio Di Pasquale",
      "userId": "07379998051964901818"
     },
     "user_tz": -120
    },
    "id": "JRT8d9-yi11h",
    "outputId": "b92f49f8-f544-4891-a87a-9d704c48d36f"
   },
   "outputs": [
    {
     "data": {
      "text/plain": [
       "tensor([[2., 1.],\n",
       "        [1., 2.]])"
      ]
     },
     "execution_count": 390,
     "metadata": {},
     "output_type": "execute_result"
    }
   ],
   "source": [
    "torch.round(P@D@torch.linalg.inv(P), decimals = 1) # this is A"
   ]
  },
  {
   "cell_type": "code",
   "execution_count": null,
   "metadata": {
    "colab": {
     "base_uri": "https://localhost:8080/"
    },
    "executionInfo": {
     "elapsed": 36,
     "status": "ok",
     "timestamp": 1756810644689,
     "user": {
      "displayName": "Piergiorgio Di Pasquale",
      "userId": "07379998051964901818"
     },
     "user_tz": -120
    },
    "id": "iYPY0CvS7emX",
    "outputId": "d5157de7-2ea8-4e58-e381-7e5551ad5ea2"
   },
   "outputs": [
    {
     "data": {
      "text/plain": [
       "tensor([[ 0.7071, -0.7071],\n",
       "        [ 0.7071,  0.7071]])"
      ]
     },
     "execution_count": 391,
     "metadata": {},
     "output_type": "execute_result"
    }
   ],
   "source": [
    "eigenvalues, eigenvectors = torch.linalg.eig(A)\n",
    "torch.real(eigenvectors)"
   ]
  },
  {
   "cell_type": "code",
   "execution_count": null,
   "metadata": {
    "colab": {
     "base_uri": "https://localhost:8080/",
     "height": 487
    },
    "executionInfo": {
     "elapsed": 487,
     "status": "ok",
     "timestamp": 1756810645174,
     "user": {
      "displayName": "Piergiorgio Di Pasquale",
      "userId": "07379998051964901818"
     },
     "user_tz": -120
    },
    "id": "gyjiLWH14UG6",
    "outputId": "13055dbc-51d2-412f-e1c3-b7786af21ec7"
   },
   "outputs": [
    {
     "data": {
      "image/png": "[encoded data removed]",
      "text/plain": [
       "<Figure size 640x480 with 1 Axes>"
      ]
     },
     "metadata": {},
     "output_type": "display_data"
    }
   ],
   "source": [
    "A = torch.tensor([[2,1],[1,2]], dtype = torch.float32)\n",
    "eigenvalues, eigenvectors = torch.linalg.eig(A)\n",
    "\n",
    "real_eigenvalues, real_eigenvectors = torch.real(eigenvalues),torch.real(eigenvectors) # P is the matrix that collects all eigenvectors as columns\n",
    "\n",
    "\n",
    "\n",
    "D = torch.diag(torch.real(eigenvalues)) # D is just the diagonal matrix containing the eigenvalues\n",
    "P = torch.real(eigenvectors) # P represents the eigenvectors stacked in 2 columns\n",
    "e1 = torch.tensor([1,0], dtype = torch.float32)\n",
    "e2 = torch.tensor([0,1], dtype = torch.float32)\n",
    "\n",
    "p1 = P[:, 0]   # first eigenvector (column 0)  # torch.tensor([1,-1], dtype = torch.float32)\n",
    "p2 = P[:, 1]   # second eigenvector (column 1) # torch.tensor([1,1], dtype = torch.float32)\n",
    "\n",
    "show_vectors(\n",
    "    e1,e2,p1,p2, # vectors p1,p2 are the eigenvectors of A, we use them because they are nice to see. we plot them in base e1,e2\n",
    "    # torch.linalg.inv(P)@p1,torch.linalg.inv(P)@p2, # we apply P^-1 --> this is changing the basis from e1,e2 to p1,p2, the new basis are the eigenvectors\n",
    "    # D@torch.linalg.inv(P)@p1,D@torch.linalg.inv(P)@p2, # scale by corresponding eigenvalue\n",
    "    # P@D@torch.linalg.inv(P)@p1,P@D@torch.linalg.inv(P)@p2, # reapply change of base to return to original coordinate frame\n",
    "\n",
    "    # A@p1,A@p2, # as we can see the above transformations are exactly the same as applying the transformation A directly\n",
    "    color_map = [\"b\",\"b\",\"r\",\"r\", \"g\",\"g\", \"purple\",\"purple\"]\n",
    "    )"
   ]
  },
  {
   "cell_type": "code",
   "execution_count": null,
   "metadata": {
    "colab": {
     "base_uri": "https://localhost:8080/",
     "height": 487
    },
    "executionInfo": {
     "elapsed": 109,
     "status": "ok",
     "timestamp": 1756810637019,
     "user": {
      "displayName": "Piergiorgio Di Pasquale",
      "userId": "07379998051964901818"
     },
     "user_tz": -120
    },
    "id": "J7VI2AiB9qlW",
    "outputId": "790b5d1a-0089-49b2-bada-4f336ae5f13b"
   },
   "outputs": [
    {
     "data": {
      "image/png": "[encoded data removed]",
      "text/plain": [
       "<Figure size 640x480 with 1 Axes>"
      ]
     },
     "metadata": {},
     "output_type": "display_data"
    }
   ],
   "source": [
    "A = torch.tensor([[2,1],[1,2]], dtype = torch.float32)\n",
    "eigenvalues, eigenvectors = torch.linalg.eig(A)\n",
    "\n",
    "real_eigenvalues, real_eigenvectors = torch.real(eigenvalues),torch.real(eigenvectors) # P is the matrix that collects all eigenvectors as columns\n",
    "\n",
    "\n",
    "\n",
    "D = torch.diag(torch.real(eigenvalues)) # D is just the diagonal matrix containing the eigenvalues\n",
    "P = torch.real(eigenvectors) # P represents the eigenvectors stacked in 2 columns\n",
    "e1 = torch.tensor([1,0], dtype = torch.float32)\n",
    "e2 = torch.tensor([0,1], dtype = torch.float32)\n",
    "\n",
    "x = torch.tensor([2,3], dtype= torch.float32)\n",
    "show_vectors(\n",
    "    # e1,e2,x, # vector in base e1,e2\n",
    "    # p1,p2,torch.linalg.inv(P)@x, # change base and calculate vector x in new coordinate system p1,p2 (eigenvectors)\n",
    "    # D@torch.linalg.inv(P)@x,# apply transformation\n",
    "    P@D@torch.linalg.inv(P)@x, # return to e1,e2 basis\n",
    "\n",
    "    # A@x,\n",
    "    color_map = [\"b\",\"b\",\"r\",\"r\", \"g\",\"g\", \"purple\",\"purple\"],\n",
    "    )"
   ]
  },
  {
   "cell_type": "markdown",
   "metadata": {
    "id": "Qf3cdHsrRyPf"
   },
   "source": [
    "#### SVD"
   ]
  },
  {
   "cell_type": "code",
   "execution_count": null,
   "metadata": {
    "colab": {
     "base_uri": "https://localhost:8080/"
    },
    "executionInfo": {
     "elapsed": 7,
     "status": "ok",
     "timestamp": 1756810645183,
     "user": {
      "displayName": "Piergiorgio Di Pasquale",
      "userId": "07379998051964901818"
     },
     "user_tz": -120
    },
    "id": "R2Y9ZQoTRzKu",
    "outputId": "e9eeefe5-cce1-4e7c-d861-d3b7960a6952"
   },
   "outputs": [
    {
     "data": {
      "text/plain": [
       "torch.return_types.linalg_svd(\n",
       "U=tensor([[-0.7071, -0.7071],\n",
       "        [-0.7071,  0.7071]]),\n",
       "S=tensor([3.0000, 1.0000]),\n",
       "Vh=tensor([[-0.7071, -0.7071],\n",
       "        [-0.7071,  0.7071]]))"
      ]
     },
     "execution_count": 393,
     "metadata": {},
     "output_type": "execute_result"
    }
   ],
   "source": [
    "torch.linalg.svd(A)"
   ]
  }
 ],
 "metadata": {
  "colab": {
   "authorship_tag": "ABX9TyNt1yCW0FAg41niATvEaXRh",
   "mount_file_id": "1CIB-uUTSj6tXQWNq3uLqAmvoLsvXzsvx",
   "provenance": []
  },
  "kernelspec": {
   "display_name": "Python 3",
   "name": "python3"
  },
  "language_info": {
   "name": "python"
  }
 },
 "nbformat": 4,
 "nbformat_minor": 0
}
