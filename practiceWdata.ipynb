{
 "cells": [
  {
   "cell_type": "markdown",
   "metadata": {
    "id": "rilumUGbNBQ9"
   },
   "source": [
    "# WikiRank"
   ]
  },
  {
   "cell_type": "code",
   "execution_count": null,
   "metadata": {
    "colab": {
     "base_uri": "https://localhost:8080/"
    },
    "executionInfo": {
     "elapsed": 7253,
     "status": "ok",
     "timestamp": 1756578160924,
     "user": {
      "displayName": "Piergiorgio Di Pasquale",
      "userId": "07379998051964901818"
     },
     "user_tz": -120
    },
    "id": "U5JByGUz1Mpc",
    "outputId": "5df0362e-224e-4e46-89fd-2e0a899d231a"
   },
   "outputs": [
    {
     "name": "stdout",
     "output_type": "stream",
     "text": [
      "Requirement already satisfied: Wikipedia-API in /usr/local/lib/python3.12/dist-packages (0.8.1)\n",
      "Requirement already satisfied: requests in /usr/local/lib/python3.12/dist-packages (from Wikipedia-API) (2.32.4)\n",
      "Requirement already satisfied: charset_normalizer<4,>=2 in /usr/local/lib/python3.12/dist-packages (from requests->Wikipedia-API) (3.4.3)\n",
      "Requirement already satisfied: idna<4,>=2.5 in /usr/local/lib/python3.12/dist-packages (from requests->Wikipedia-API) (3.10)\n",
      "Requirement already satisfied: urllib3<3,>=1.21.1 in /usr/local/lib/python3.12/dist-packages (from requests->Wikipedia-API) (2.5.0)\n",
      "Requirement already satisfied: certifi>=2017.4.17 in /usr/local/lib/python3.12/dist-packages (from requests->Wikipedia-API) (2025.8.3)\n"
     ]
    }
   ],
   "source": [
    "%pip install Wikipedia-API\n",
    "import requests\n",
    "from bs4 import BeautifulSoup\n",
    "import random\n",
    "from google.colab import drive\n",
    "import os\n",
    "from typing import List\n",
    "import wikipediaapi\n",
    "import torch\n",
    "import matplotlib.pyplot as plt\n",
    "import random\n",
    "from collections import Counter\n",
    "import numpy as np\n",
    "import networkx as nx\n",
    "from tqdm.notebook import tqdm\n",
    "from ipywidgets import interact, IntSlider\n",
    "import pickle\n"
   ]
  },
  {
   "cell_type": "code",
   "execution_count": null,
   "metadata": {
    "colab": {
     "base_uri": "https://localhost:8080/"
    },
    "executionInfo": {
     "elapsed": 1881,
     "status": "ok",
     "timestamp": 1756578170847,
     "user": {
      "displayName": "Piergiorgio Di Pasquale",
      "userId": "07379998051964901818"
     },
     "user_tz": -120
    },
    "id": "9d8cc66c",
    "outputId": "0236993e-8bab-422a-e015-56cdde3a8889"
   },
   "outputs": [
    {
     "name": "stdout",
     "output_type": "stream",
     "text": [
      "Drive already mounted at /content/drive; to attempt to forcibly remount, call drive.mount(\"/content/drive\", force_remount=True).\n",
      "Changed directory to: /content/drive/MyDrive/Colab Notebooks\n"
     ]
    }
   ],
   "source": [
    "drive.mount('/content/drive')\n",
    "\n",
    "notebooks_dir = '/content/drive/MyDrive/Colab Notebooks'\n",
    "if os.path.exists(notebooks_dir):\n",
    "  os.chdir(notebooks_dir)\n",
    "  print(f\"Changed directory to: {os.getcwd()}\")\n",
    "else:\n",
    "  print(f\"Directory not found: {notebooks_dir}\")\n",
    "  print(\"Please ensure 'Colab Notebooks' exists in your Google Drive.\")"
   ]
  },
  {
   "cell_type": "code",
   "execution_count": null,
   "metadata": {
    "id": "q3xSheKK0QvF"
   },
   "outputs": [],
   "source": [
    "wiki_wiki = wikipediaapi.Wikipedia(user_agent='EigenPageRank (dipasquale.piergiorgio@gmail.com)', language='en')"
   ]
  },
  {
   "cell_type": "markdown",
   "metadata": {
    "id": "ySvUDrs-px3o"
   },
   "source": [
    "## possible fields"
   ]
  },
  {
   "cell_type": "code",
   "execution_count": null,
   "metadata": {
    "id": "YWvQiS-hqewr"
   },
   "outputs": [],
   "source": [
    "bio_pages = [\n",
    "    wiki_wiki.page('Biology'),\n",
    "    wiki_wiki.page('Cell biology'),\n",
    "    wiki_wiki.page('Genetics'),\n",
    "    wiki_wiki.page('Evolution'),\n",
    "    wiki_wiki.page('Microbiology'),\n",
    "    wiki_wiki.page('Ecology'),\n",
    "    wiki_wiki.page('Neuroscience'),\n",
    "    wiki_wiki.page('Physiology'),\n",
    "    wiki_wiki.page('Immunology'),\n",
    "    wiki_wiki.page('Biochemistry'),\n",
    "    wiki_wiki.page('Molecular biology'),\n",
    "    wiki_wiki.page('Zoology'),\n",
    "    wiki_wiki.page('Botany'),\n",
    "    wiki_wiki.page('Anatomy'),\n",
    "    wiki_wiki.page('Human biology'),\n",
    "    wiki_wiki.page('Biotechnology'),\n",
    "    wiki_wiki.page('Virology'),\n",
    "    wiki_wiki.page('Parasitology'),\n",
    "    wiki_wiki.page('Marine biology'),\n",
    "    wiki_wiki.page('Evolutionary biology')\n",
    "]\n",
    "\n",
    "info_pages = [    wiki_wiki.page('Python'),\n",
    "    wiki_wiki.page('Computer Science'),\n",
    "    wiki_wiki.page('C++'),\n",
    "    wiki_wiki.page('Machine Learning'),\n",
    "    wiki_wiki.page('Algorithm'),\n",
    "    wiki_wiki.page('Data Structure'),\n",
    "    wiki_wiki.page('Software Engineering'),\n",
    "    wiki_wiki.page('Artificial Intelligence'),\n",
    "    wiki_wiki.page('Programmin Languages'),\n",
    "    wiki_wiki.page('Statistics'),\n",
    "    wiki_wiki.page('Computer Programming'),\n",
    "    wiki_wiki.page('Theory of Computation'),\n",
    "    wiki_wiki.page('Database'),\n",
    "    wiki_wiki.page('Operating System'),\n",
    "    wiki_wiki.page('Compiler'),\n",
    "    wiki_wiki.page('Information Theory'),\n",
    "    wiki_wiki.page('Numerical Analysis'),\n",
    "    wiki_wiki.page('Cybersecurity'),\n",
    "    wiki_wiki.page('Parallel Computing'),\n",
    "    wiki_wiki.page('Quantum Computing')\n",
    "]\n",
    "history_pages = [\n",
    "    wiki_wiki.page('History'),\n",
    "    wiki_wiki.page('Ancient history'),\n",
    "    wiki_wiki.page('Middle Ages'),\n",
    "    wiki_wiki.page('Renaissance'),\n",
    "    wiki_wiki.page('Industrial Revolution'),\n",
    "    wiki_wiki.page('World War I'),\n",
    "    wiki_wiki.page('World War II'),\n",
    "    wiki_wiki.page('Cold War'),\n",
    "    wiki_wiki.page('American Revolution'),\n",
    "    wiki_wiki.page('French Revolution'),\n",
    "    wiki_wiki.page('Roman Empire'),\n",
    "    wiki_wiki.page('Ancient Greece'),\n",
    "    wiki_wiki.page('Medieval Europe'),\n",
    "    wiki_wiki.page('Chinese history'),\n",
    "    wiki_wiki.page('Japanese history'),\n",
    "    wiki_wiki.page('Indian history'),\n",
    "    wiki_wiki.page('African history'),\n",
    "    wiki_wiki.page('Islamic Golden Age'),\n",
    "    wiki_wiki.page('Colonialism'),\n",
    "    wiki_wiki.page('History of science')\n",
    "]\n",
    "\n",
    "sports_pages = [\n",
    "    wiki_wiki.page('Sports'),\n",
    "    wiki_wiki.page('Football (soccer)'),\n",
    "    wiki_wiki.page('Basketball'),\n",
    "    wiki_wiki.page('Baseball'),\n",
    "    wiki_wiki.page('Tennis'),\n",
    "    wiki_wiki.page('Cricket'),\n",
    "    wiki_wiki.page('Rugby football'),\n",
    "    wiki_wiki.page('Athletics (track and field)'),\n",
    "    wiki_wiki.page('Olympic Games'),\n",
    "    wiki_wiki.page('FIFA World Cup'),\n",
    "    wiki_wiki.page('National Football League'),\n",
    "    wiki_wiki.page('National Basketball Association'),\n",
    "    wiki_wiki.page('Major League Baseball'),\n",
    "    wiki_wiki.page('Tour de France'),\n",
    "    wiki_wiki.page('Boxing'),\n",
    "    wiki_wiki.page('Mixed martial arts'),\n",
    "    wiki_wiki.page('Wrestling'),\n",
    "    wiki_wiki.page('Volleyball'),\n",
    "    wiki_wiki.page('Hockey'),\n",
    "    wiki_wiki.page('Golf')\n",
    "]\n",
    "\n",
    "\n",
    "media_pages = [\n",
    "    wiki_wiki.page('Film'),\n",
    "    wiki_wiki.page('Television'),\n",
    "    wiki_wiki.page('Cinema of the United States'),\n",
    "    wiki_wiki.page('Cinema of India'),\n",
    "    wiki_wiki.page('Cinema of Japan'),\n",
    "    wiki_wiki.page('Hollywood'),\n",
    "    wiki_wiki.page('Bollywood'),\n",
    "    wiki_wiki.page('Academy Awards'),\n",
    "    wiki_wiki.page('Golden Globe Awards'),\n",
    "    wiki_wiki.page('Streaming television'),\n",
    "    wiki_wiki.page('Netflix'),\n",
    "    wiki_wiki.page('HBO'),\n",
    "    wiki_wiki.page('Disney'),\n",
    "    wiki_wiki.page('Marvel Cinematic Universe'),\n",
    "    wiki_wiki.page('Star Wars'),\n",
    "    wiki_wiki.page('Game of Thrones'),\n",
    "    wiki_wiki.page('Friends'),\n",
    "    wiki_wiki.page('The Simpsons'),\n",
    "    wiki_wiki.page('Anime'),\n",
    "    wiki_wiki.page('Documentary film')\n",
    "]\n",
    "\n",
    "\n",
    "cs_ai_pages = [\n",
    "    wiki_wiki.page('Computer science'),\n",
    "    wiki_wiki.page('Artificial intelligence'),\n",
    "    wiki_wiki.page('Machine learning'),\n",
    "    wiki_wiki.page('Deep learning'),\n",
    "    wiki_wiki.page('Neural network'),\n",
    "    wiki_wiki.page('Natural language processing'),\n",
    "    wiki_wiki.page('Computer vision'),\n",
    "    wiki_wiki.page('Reinforcement learning'),\n",
    "    wiki_wiki.page('Data science'),\n",
    "    wiki_wiki.page('Big data'),\n",
    "    wiki_wiki.page('Algorithm'),\n",
    "    wiki_wiki.page('Programming language'),\n",
    "    wiki_wiki.page('Python (programming language)'),\n",
    "    wiki_wiki.page('Java (programming language)'),\n",
    "    wiki_wiki.page('Operating system'),\n",
    "    wiki_wiki.page('Database'),\n",
    "    wiki_wiki.page('Cybersecurity'),\n",
    "    wiki_wiki.page('Quantum computing'),\n",
    "    wiki_wiki.page('Robotics'),\n",
    "    wiki_wiki.page('Human–computer interaction')\n",
    "]\n"
   ]
  },
  {
   "cell_type": "markdown",
   "metadata": {
    "id": "IhJmxuMOp2n_"
   },
   "source": [
    "## create the graph"
   ]
  },
  {
   "cell_type": "code",
   "execution_count": null,
   "metadata": {
    "id": "cShdoyNaJ3Vi"
   },
   "outputs": [],
   "source": [
    "G = nx.DiGraph()\n",
    "# https://networkx.org/documentation/stable/tutorial.html"
   ]
  },
  {
   "cell_type": "code",
   "execution_count": null,
   "metadata": {
    "id": "9PCUUaVPKICM"
   },
   "outputs": [],
   "source": [
    "def recursive_link_getter(pages, limit=100_000, k=50, pbar=None):\n",
    "    try:\n",
    "      if pbar is None:\n",
    "          pbar = tqdm(total=limit)\n",
    "\n",
    "      next_pages = []\n",
    "      for page in pages:\n",
    "          remaining = limit - G.number_of_edges()\n",
    "          if remaining <= 0:\n",
    "              break\n",
    "\n",
    "          candidates = [p for p in page.links.values() if p.ns == 0 and p.title]\n",
    "          if not candidates:\n",
    "              continue\n",
    "\n",
    "          n = min(k, len(candidates), remaining)\n",
    "          # bias sampling\n",
    "          # weights = [max(1, len(getattr(p, 'links', {}))) for p in candidates]\n",
    "          # total = float(sum(weights))\n",
    "          # probs = [w/total for w in weights]\n",
    "          # sampled = random.choices(candidates, weights=probs, k=n)\n",
    "          sampled = random.sample(candidates, n)\n",
    "\n",
    "          before = G.number_of_edges()\n",
    "          G.add_edges_from([(page.title, p.title) for p in sampled if p.title])\n",
    "          after = G.number_of_edges()\n",
    "\n",
    "          added = after - before\n",
    "          if added > 0:\n",
    "              pbar.update(added)\n",
    "\n",
    "          next_pages.extend(sampled)\n",
    "          if after >= limit:\n",
    "              break\n",
    "\n",
    "      if not next_pages or G.number_of_edges() >= limit:\n",
    "          pbar.close()\n",
    "          return G\n",
    "\n",
    "      random.shuffle(next_pages)\n",
    "      return recursive_link_getter(next_pages, limit, k, pbar)\n",
    "    except Exception as e:\n",
    "      print(e)\n",
    "      pass"
   ]
  },
  {
   "cell_type": "code",
   "execution_count": null,
   "metadata": {
    "colab": {
     "base_uri": "https://localhost:8080/",
     "height": 49,
     "referenced_widgets": [
      "0a3d1c418aea46c588e905f4a42a9a67",
      "5c49c70d406844db8c564870f38f11f0",
      "05eff78ea2f84ed0a296dfad28ba4a54",
      "579686ee3d004e52a429b082f716d6f0",
      "118de66bc6504564a777ec8b59571846",
      "a2eead1c60f345f99645edb6fa8a524c",
      "443337ab750643feaa8d074554368f92",
      "7125c7f73a50419182be3625c9f34ddf",
      "00742a4894ab47df93baf520814cb35a",
      "82991208bf0d4ee7abe132fdc5b810b5",
      "6d9be2a12de041dba0b53f5d2c1f59d5"
     ]
    },
    "executionInfo": {
     "elapsed": 1371651,
     "status": "ok",
     "timestamp": 1756571060751,
     "user": {
      "displayName": "Piergiorgio Di Pasquale",
      "userId": "07379998051964901818"
     },
     "user_tz": -120
    },
    "id": "dtnK8Y1QLSNY",
    "outputId": "0539eaa5-0efe-4e06-c348-fe5456840268"
   },
   "outputs": [],
   "source": [
    "# G = recursive_link_getter([\n",
    "# *media_pages,\n",
    "# *sports_pages,\n",
    "# *info_pages,\n",
    "# *bio_pages,\n",
    "# *history_pages,\n",
    "# *cs_ai_pages,\n",
    "# ])\n",
    "\n",
    "# with open('data/graph_wiki_very_big.gpickle', 'wb') as f:\n",
    "#     pickle.dump(G, f, pickle.HIGHEST_PROTOCOL)"
   ]
  },
  {
   "cell_type": "code",
   "execution_count": null,
   "metadata": {
    "id": "7J3e7V1Q6IX0"
   },
   "outputs": [],
   "source": [
    "with open('data/graph_wiki_cs.gpickle', 'rb') as f:\n",
    "    G = pickle.load(f)"
   ]
  },
  {
   "cell_type": "code",
   "execution_count": null,
   "metadata": {
    "id": "a9aO5msmVc-z"
   },
   "outputs": [],
   "source": [
    "def make_bidirected(G):\n",
    "    \"\"\"\n",
    "    make relationship between nodes biunivoca, just for the toy example\n",
    "    \"\"\"\n",
    "    H = G.copy()\n",
    "    H.add_edges_from([(v, u) for (u, v) in H.edges()])\n",
    "    return H\n",
    "\n",
    "def remove_isolates(G):\n",
    "    \"\"\"\n",
    "    remove isolated nodes, just for the toy example\n",
    "    \"\"\"\n",
    "    H = G.copy()\n",
    "    H.remove_nodes_from(list(nx.isolates(H)))\n",
    "    return H\n",
    "\n",
    "def keep_by_degree(G, min_out=0, min_in=0):\n",
    "    \"\"\"\n",
    "    keep only nodes that have a certain out and in degree\n",
    "    \"\"\"\n",
    "    keep = [n for n in G.nodes() if G.out_degree(n) >= min_out and G.in_degree(n) >= min_in]\n",
    "    return G.subgraph(keep).copy()\n",
    "\n",
    "def apply_pipeline(G, steps):\n",
    "    _ = G.copy()\n",
    "    for func, kwargs in steps:\n",
    "        _ = func(_, **kwargs)\n",
    "    return _"
   ]
  },
  {
   "cell_type": "code",
   "execution_count": null,
   "metadata": {
    "id": "gG9YjyYtsVc_"
   },
   "outputs": [],
   "source": [
    "# choose the transformations to apply\n",
    "steps = [\n",
    "    # (make_bidirected, {}),\n",
    "    (remove_isolates, {}),\n",
    "    (keep_by_degree, {\"min_out\": 3, \"min_in\": 1}),\n",
    "    (remove_isolates, {}),\n",
    "]"
   ]
  },
  {
   "cell_type": "code",
   "execution_count": null,
   "metadata": {
    "id": "Vyb-n_6NsZQw"
   },
   "outputs": [],
   "source": [
    "G_dense = apply_pipeline(G, steps)"
   ]
  },
  {
   "cell_type": "code",
   "execution_count": null,
   "metadata": {
    "id": "Q770_qsinjmG"
   },
   "outputs": [],
   "source": [
    "graph = G_dense # choose the graph to use, if the dense (G_dense) or the normal one (G)"
   ]
  },
  {
   "cell_type": "code",
   "execution_count": null,
   "metadata": {
    "colab": {
     "base_uri": "https://localhost:8080/"
    },
    "executionInfo": {
     "elapsed": 10,
     "status": "ok",
     "timestamp": 1756578295396,
     "user": {
      "displayName": "Piergiorgio Di Pasquale",
      "userId": "07379998051964901818"
     },
     "user_tz": -120
    },
    "id": "K5T-qj0lrxB0",
    "outputId": "8e31e095-4736-4641-fb4c-be18bef321a0"
   },
   "outputs": [
    {
     "data": {
      "text/plain": [
       "False"
      ]
     },
     "execution_count": 1098,
     "metadata": {},
     "output_type": "execute_result"
    }
   ],
   "source": [
    "def check_(G):\n",
    "    for u, v in G.edges():\n",
    "        if not G.has_edge(v, u):\n",
    "            return False\n",
    "    return True\n",
    "check_(graph)"
   ]
  },
  {
   "cell_type": "code",
   "execution_count": null,
   "metadata": {
    "colab": {
     "base_uri": "https://localhost:8080/"
    },
    "executionInfo": {
     "elapsed": 14,
     "status": "ok",
     "timestamp": 1756578296055,
     "user": {
      "displayName": "Piergiorgio Di Pasquale",
      "userId": "07379998051964901818"
     },
     "user_tz": -120
    },
    "id": "9xR_BN_tL14H",
    "outputId": "a7df0558-06b7-4dfd-f750-1badd10c713a"
   },
   "outputs": [
    {
     "data": {
      "text/plain": [
       "(41, 28)"
      ]
     },
     "execution_count": 1099,
     "metadata": {},
     "output_type": "execute_result"
    }
   ],
   "source": [
    "graph.number_of_edges(), graph.number_of_nodes()"
   ]
  },
  {
   "cell_type": "code",
   "execution_count": null,
   "metadata": {
    "colab": {
     "base_uri": "https://localhost:8080/"
    },
    "executionInfo": {
     "elapsed": 6,
     "status": "ok",
     "timestamp": 1756578296654,
     "user": {
      "displayName": "Piergiorgio Di Pasquale",
      "userId": "07379998051964901818"
     },
     "user_tz": -120
    },
    "id": "YJjzC9i9qE5_",
    "outputId": "00eaa84b-3423-4609-fe97-ccf669449209"
   },
   "outputs": [
    {
     "data": {
      "text/plain": [
       "1"
      ]
     },
     "execution_count": 1100,
     "metadata": {},
     "output_type": "execute_result"
    }
   ],
   "source": [
    "len(list(nx.weakly_connected_components(graph))) # number of not connected \"islands\""
   ]
  },
  {
   "cell_type": "code",
   "execution_count": null,
   "metadata": {
    "colab": {
     "base_uri": "https://localhost:8080/",
     "height": 516
    },
    "executionInfo": {
     "elapsed": 904,
     "status": "ok",
     "timestamp": 1756578302389,
     "user": {
      "displayName": "Piergiorgio Di Pasquale",
      "userId": "07379998051964901818"
     },
     "user_tz": -120
    },
    "id": "ZGA1VRn2X4EG",
    "outputId": "74a001ee-af7c-424b-a6b9-0c44c073e1e5"
   },
   "outputs": [
    {
     "data": {
      "image/png": "[encoded data removed]",
      "text/plain": [
       "<Figure size 640x480 with 1 Axes>"
      ]
     },
     "metadata": {},
     "output_type": "display_data"
    }
   ],
   "source": [
    "nx.draw(graph,\n",
    "        # with_labels=True\n",
    "        )"
   ]
  },
  {
   "cell_type": "markdown",
   "metadata": {
    "id": "UCs8RZpYLrUn"
   },
   "source": [
    "## build the matrix"
   ]
  },
  {
   "cell_type": "code",
   "execution_count": null,
   "metadata": {
    "id": "_tReD4EOMzFq"
   },
   "outputs": [],
   "source": [
    "nodes = list(graph.nodes())\n",
    "link_to_id = {title:id for id,title in enumerate(nodes)}\n",
    "id_to_link = {id:title for id,title in enumerate(nodes)}"
   ]
  },
  {
   "cell_type": "code",
   "execution_count": null,
   "metadata": {
    "id": "V8QsoGhvpH8V"
   },
   "outputs": [],
   "source": [
    "num_nodes = graph.number_of_nodes()\n",
    "M = torch.zeros(num_nodes, num_nodes)\n",
    "\n",
    "for src_node in graph:\n",
    "    src_id = link_to_id[src_node]\n",
    "    # print(src_node)\n",
    "    for dest_node in graph[src_node]:\n",
    "        dest_id = link_to_id[dest_node]\n",
    "        M[dest_id][src_id] = 1."
   ]
  },
  {
   "cell_type": "code",
   "execution_count": null,
   "metadata": {
    "colab": {
     "base_uri": "https://localhost:8080/",
     "height": 696
    },
    "executionInfo": {
     "elapsed": 287,
     "status": "ok",
     "timestamp": 1756578306382,
     "user": {
      "displayName": "Piergiorgio Di Pasquale",
      "userId": "07379998051964901818"
     },
     "user_tz": -120
    },
    "id": "bxAy8Mogbr68",
    "outputId": "765cf890-6102-4a4c-96ea-834e4a04e01f"
   },
   "outputs": [
    {
     "data": {
      "image/png": "[encoded data removed]",
      "text/plain": [
       "<Figure size 800x800 with 1 Axes>"
      ]
     },
     "metadata": {},
     "output_type": "display_data"
    }
   ],
   "source": [
    "fig,ax = plt.subplots(1,1, figsize = (8,8))\n",
    "ax.imshow(M, cmap = \"binary\")\n",
    "ax.set_xlabel(\"SOURCE\")\n",
    "ax.set_ylabel(\"DESTINATION\")\n",
    "ax.grid(True, which = \"both\")\n",
    "plt.show()"
   ]
  },
  {
   "cell_type": "markdown",
   "metadata": {
    "id": "0SPUmclksNTF"
   },
   "source": [
    "### ripasso matrici pytorch"
   ]
  },
  {
   "cell_type": "code",
   "execution_count": null,
   "metadata": {
    "colab": {
     "base_uri": "https://localhost:8080/"
    },
    "executionInfo": {
     "elapsed": 20,
     "status": "ok",
     "timestamp": 1756578308770,
     "user": {
      "displayName": "Piergiorgio Di Pasquale",
      "userId": "07379998051964901818"
     },
     "user_tz": -120
    },
    "id": "RMFP6vZkWx-4",
    "outputId": "b77717bb-ac3f-4396-9d8c-f65d5366716a"
   },
   "outputs": [
    {
     "data": {
      "text/plain": [
       "tensor([[0.0000, 0.5000, 0.3333],\n",
       "        [0.0000, 0.5000, 0.6667]])"
      ]
     },
     "execution_count": 1106,
     "metadata": {},
     "output_type": "execute_result"
    }
   ],
   "source": [
    "A = torch.tensor([[0,2,3],[0,2,6]])\n",
    "col_sums = A.sum(dim = 0)\n",
    "col_sums[col_sums == 0] = 1\n",
    "\n",
    "A/col_sums\n",
    "\n",
    "\n",
    "# dim tells PyTorch which axis to collapse when reducing (sum, mean, max, etc).\n",
    "#   dim=0: collapse rows → you get something per column.\n",
    "#   dim=1: collapse columns → you get something per row.\n",
    "\n",
    "# So the dimension you choose disappears (collapses), and the other one stays."
   ]
  },
  {
   "cell_type": "code",
   "execution_count": null,
   "metadata": {
    "colab": {
     "base_uri": "https://localhost:8080/"
    },
    "executionInfo": {
     "elapsed": 5,
     "status": "ok",
     "timestamp": 1756578308986,
     "user": {
      "displayName": "Piergiorgio Di Pasquale",
      "userId": "07379998051964901818"
     },
     "user_tz": -120
    },
    "id": "MljKEBLsdQ5A",
    "outputId": "3299fb22-6984-4930-f1cf-628ebb36beef"
   },
   "outputs": [
    {
     "data": {
      "text/plain": [
       "tensor([0, 4, 9])"
      ]
     },
     "execution_count": 1107,
     "metadata": {},
     "output_type": "execute_result"
    }
   ],
   "source": [
    "A.sum(dim = 0)"
   ]
  },
  {
   "cell_type": "code",
   "execution_count": null,
   "metadata": {
    "colab": {
     "base_uri": "https://localhost:8080/"
    },
    "executionInfo": {
     "elapsed": 78,
     "status": "ok",
     "timestamp": 1756578310674,
     "user": {
      "displayName": "Piergiorgio Di Pasquale",
      "userId": "07379998051964901818"
     },
     "user_tz": -120
    },
    "id": "5qmN7IswdHJj",
    "outputId": "925ea186-c1df-4188-c4ff-dc19849d3031"
   },
   "outputs": [
    {
     "data": {
      "text/plain": [
       "tensor(6)"
      ]
     },
     "execution_count": 1108,
     "metadata": {},
     "output_type": "execute_result"
    }
   ],
   "source": [
    "A[1][2] # row and column\n"
   ]
  },
  {
   "cell_type": "code",
   "execution_count": null,
   "metadata": {
    "colab": {
     "base_uri": "https://localhost:8080/"
    },
    "executionInfo": {
     "elapsed": 16,
     "status": "ok",
     "timestamp": 1756578310814,
     "user": {
      "displayName": "Piergiorgio Di Pasquale",
      "userId": "07379998051964901818"
     },
     "user_tz": -120
    },
    "id": "G2R43rNcheeL",
    "outputId": "20ddf163-95a7-4b74-9341-6460cdb85a38"
   },
   "outputs": [
    {
     "data": {
      "text/plain": [
       "torch.Size([2, 3])"
      ]
     },
     "execution_count": 1109,
     "metadata": {},
     "output_type": "execute_result"
    }
   ],
   "source": [
    "A.shape"
   ]
  },
  {
   "cell_type": "code",
   "execution_count": null,
   "metadata": {
    "colab": {
     "base_uri": "https://localhost:8080/"
    },
    "executionInfo": {
     "elapsed": 11,
     "status": "ok",
     "timestamp": 1756578310923,
     "user": {
      "displayName": "Piergiorgio Di Pasquale",
      "userId": "07379998051964901818"
     },
     "user_tz": -120
    },
    "id": "blqLa7Zqhi8O",
    "outputId": "6ddc110d-1eb2-4c24-fec9-87446a95027f"
   },
   "outputs": [
    {
     "data": {
      "text/plain": [
       "tensor([[0, 2, 3],\n",
       "        [0, 2, 6]])"
      ]
     },
     "execution_count": 1110,
     "metadata": {},
     "output_type": "execute_result"
    }
   ],
   "source": [
    "A"
   ]
  },
  {
   "cell_type": "code",
   "execution_count": null,
   "metadata": {
    "colab": {
     "base_uri": "https://localhost:8080/"
    },
    "executionInfo": {
     "elapsed": 32,
     "status": "ok",
     "timestamp": 1756578311085,
     "user": {
      "displayName": "Piergiorgio Di Pasquale",
      "userId": "07379998051964901818"
     },
     "user_tz": -120
    },
    "id": "w2OafihGbEUk",
    "outputId": "13e013ac-d03e-47a3-e4a1-504e125dec21"
   },
   "outputs": [
    {
     "data": {
      "text/plain": [
       "tensor(6)"
      ]
     },
     "execution_count": 1111,
     "metadata": {},
     "output_type": "execute_result"
    }
   ],
   "source": [
    "A[1][2]"
   ]
  },
  {
   "cell_type": "markdown",
   "metadata": {
    "id": "nuqedKlYsQpK"
   },
   "source": [
    "## interpretazione matrice"
   ]
  },
  {
   "cell_type": "code",
   "execution_count": null,
   "metadata": {
    "colab": {
     "base_uri": "https://localhost:8080/"
    },
    "executionInfo": {
     "elapsed": 37,
     "status": "ok",
     "timestamp": 1756578312613,
     "user": {
      "displayName": "Piergiorgio Di Pasquale",
      "userId": "07379998051964901818"
     },
     "user_tz": -120
    },
    "id": "_JxdEzECQm7h",
    "outputId": "804f7b0b-840d-4520-f165-a6544dda5001"
   },
   "outputs": [
    {
     "data": {
      "text/plain": [
       "tensor([[0.0000, 0.0000, 0.0000, 0.0000, 0.0000, 0.0000, 0.0000, 0.0000, 0.0000,\n",
       "         0.0000, 0.0000, 0.0000, 0.0000, 0.0000, 0.0000, 0.0000, 0.0000, 0.0000,\n",
       "         0.0000, 0.0000, 0.0000, 0.0000, 0.0000, 0.0000, 0.0000, 0.0000, 0.5000,\n",
       "         0.0000],\n",
       "        [0.0000, 0.0000, 0.2500, 0.0000, 0.0000, 0.0000, 0.0000, 0.2500, 0.0000,\n",
       "         0.0000, 0.0000, 0.0000, 0.0000, 0.0000, 0.0000, 0.0000, 0.0000, 0.0000,\n",
       "         0.0000, 0.0000, 0.0000, 0.0000, 0.0000, 0.0000, 0.0000, 0.0000, 0.0000,\n",
       "         0.0000],\n",
       "        [0.0000, 0.0000, 0.0000, 0.0000, 0.0000, 0.0000, 0.0000, 0.0000, 0.0000,\n",
       "         0.0000, 0.0000, 0.0000, 0.0000, 0.0000, 0.0000, 0.0000, 0.0000, 0.0000,\n",
       "         0.0000, 0.2500, 0.0000, 0.3333, 0.0000, 1.0000, 0.0000, 0.0000, 0.5000,\n",
       "         0.0000],\n",
       "        [0.0000, 0.0000, 0.0000, 0.0000, 0.5000, 0.0000, 0.0000, 0.0000, 0.0000,\n",
       "         0.0000, 0.0000, 0.0000, 0.0000, 0.0000, 1.0000, 0.0000, 0.0000, 0.0000,\n",
       "         0.0000, 0.0000, 0.0000, 0.0000, 0.0000, 0.0000, 0.0000, 0.0000, 0.0000,\n",
       "         0.3333],\n",
       "        [0.0000, 0.0000, 0.0000, 0.0000, 0.0000, 0.0000, 0.0000, 0.0000, 0.0000,\n",
       "         0.0000, 0.0000, 0.0000, 0.0000, 0.0000, 0.0000, 0.0000, 0.0000, 0.0000,\n",
       "         0.0000, 0.0000, 0.0000, 0.0000, 0.0000, 0.0000, 0.0000, 0.0000, 0.0000,\n",
       "         0.0000],\n",
       "        [0.0000, 0.0000, 0.0000, 0.0000, 0.0000, 0.0000, 0.0000, 0.0000, 0.0000,\n",
       "         0.0000, 0.0000, 0.0000, 0.0000, 0.5000, 0.0000, 0.0000, 0.0000, 0.0000,\n",
       "         0.0000, 0.0000, 0.0000, 0.0000, 0.0000, 0.0000, 0.0000, 1.0000, 0.0000,\n",
       "         0.0000],\n",
       "        [0.0000, 0.0000, 0.0000, 0.0000, 0.0000, 0.0000, 0.0000, 0.0000, 0.0000,\n",
       "         0.0000, 0.0000, 0.0000, 1.0000, 0.0000, 0.0000, 0.0000, 0.0000, 0.0000,\n",
       "         0.0000, 0.0000, 0.0000, 0.0000, 0.0000, 0.0000, 0.0000, 0.0000, 0.0000,\n",
       "         0.0000],\n",
       "        [0.0000, 0.0000, 0.0000, 0.0000, 0.0000, 0.0000, 0.0000, 0.0000, 0.0000,\n",
       "         0.0000, 0.0000, 0.0000, 0.0000, 0.0000, 0.0000, 0.0000, 0.0000, 0.0000,\n",
       "         0.0000, 0.0000, 0.0000, 0.0000, 0.0000, 0.0000, 0.0000, 0.0000, 0.0000,\n",
       "         0.0000],\n",
       "        [0.0000, 0.0000, 0.0000, 0.0000, 0.0000, 0.0000, 0.0000, 0.0000, 0.0000,\n",
       "         0.0000, 0.0000, 0.0000, 0.0000, 0.0000, 0.0000, 0.0000, 0.0000, 0.0000,\n",
       "         0.0000, 0.2500, 0.0000, 0.0000, 0.0000, 0.0000, 0.0000, 0.0000, 0.0000,\n",
       "         0.0000],\n",
       "        [0.0000, 0.0000, 0.0000, 0.0000, 0.0000, 0.0000, 0.0000, 0.0000, 0.0000,\n",
       "         0.0000, 0.0000, 0.0000, 0.0000, 0.0000, 0.0000, 0.0000, 0.0000, 0.0000,\n",
       "         0.0000, 0.0000, 0.0000, 0.3333, 0.0000, 0.0000, 0.0000, 0.0000, 0.0000,\n",
       "         0.0000],\n",
       "        [0.0000, 0.0000, 0.0000, 0.0000, 0.0000, 0.0000, 0.0000, 0.0000, 0.0000,\n",
       "         0.0000, 0.0000, 0.0000, 0.0000, 0.0000, 0.0000, 0.0000, 0.0000, 0.0000,\n",
       "         0.0000, 0.2500, 0.0000, 0.0000, 0.0000, 0.0000, 0.0000, 0.0000, 0.0000,\n",
       "         0.0000],\n",
       "        [0.0000, 0.0000, 0.0000, 0.0000, 0.0000, 0.0000, 1.0000, 0.2500, 0.0000,\n",
       "         0.5000, 0.0000, 0.0000, 0.0000, 0.0000, 0.0000, 0.0000, 0.0000, 0.0000,\n",
       "         0.0000, 0.0000, 0.0000, 0.0000, 1.0000, 0.0000, 0.0000, 0.0000, 0.0000,\n",
       "         0.0000],\n",
       "        [0.0000, 0.0000, 0.0000, 0.2500, 0.0000, 0.0000, 0.0000, 0.0000, 0.0000,\n",
       "         0.0000, 0.0000, 0.0000, 0.0000, 0.0000, 0.0000, 0.0000, 0.0000, 0.0000,\n",
       "         0.0000, 0.0000, 0.0000, 0.0000, 0.0000, 0.0000, 0.0000, 0.0000, 0.0000,\n",
       "         0.3333],\n",
       "        [0.0000, 0.0000, 0.0000, 0.0000, 0.0000, 0.0000, 0.0000, 0.0000, 0.0000,\n",
       "         0.0000, 0.0000, 0.0000, 0.0000, 0.0000, 0.0000, 0.3333, 0.0000, 0.0000,\n",
       "         0.0000, 0.0000, 0.0000, 0.0000, 0.0000, 0.0000, 0.0000, 0.0000, 0.0000,\n",
       "         0.0000],\n",
       "        [0.0000, 0.0000, 0.0000, 0.0000, 0.0000, 0.0000, 0.0000, 0.2500, 0.0000,\n",
       "         0.0000, 0.0000, 0.0000, 0.0000, 0.0000, 0.0000, 0.0000, 0.0000, 0.0000,\n",
       "         0.0000, 0.0000, 0.0000, 0.0000, 0.0000, 0.0000, 0.0000, 0.0000, 0.0000,\n",
       "         0.3333],\n",
       "        [0.0000, 0.0000, 0.0000, 0.0000, 0.0000, 0.0000, 0.0000, 0.0000, 0.0000,\n",
       "         0.0000, 0.0000, 0.0000, 0.0000, 0.0000, 0.0000, 0.0000, 0.0000, 0.0000,\n",
       "         0.0000, 0.0000, 0.0000, 0.0000, 0.0000, 0.0000, 0.0000, 0.0000, 0.0000,\n",
       "         0.0000],\n",
       "        [0.0000, 0.0000, 0.0000, 0.0000, 0.0000, 0.0000, 0.0000, 0.0000, 0.0000,\n",
       "         0.5000, 0.0000, 0.0000, 0.0000, 0.0000, 0.0000, 0.0000, 0.0000, 0.0000,\n",
       "         0.0000, 0.0000, 0.0000, 0.3333, 0.0000, 0.0000, 0.0000, 0.0000, 0.0000,\n",
       "         0.0000],\n",
       "        [0.0000, 0.0000, 0.0000, 0.0000, 0.0000, 0.0000, 0.0000, 0.0000, 0.0000,\n",
       "         0.0000, 0.0000, 0.0000, 0.0000, 0.5000, 0.0000, 0.0000, 0.0000, 0.0000,\n",
       "         0.0000, 0.0000, 0.0000, 0.0000, 0.0000, 0.0000, 0.0000, 0.0000, 0.0000,\n",
       "         0.0000],\n",
       "        [0.0000, 0.0000, 0.0000, 0.2500, 0.0000, 0.0000, 0.0000, 0.0000, 0.0000,\n",
       "         0.0000, 0.0000, 0.0000, 0.0000, 0.0000, 0.0000, 0.0000, 0.0000, 0.0000,\n",
       "         0.0000, 0.0000, 0.0000, 0.0000, 0.0000, 0.0000, 0.0000, 0.0000, 0.0000,\n",
       "         0.0000],\n",
       "        [0.0000, 0.0000, 0.0000, 0.0000, 0.0000, 0.0000, 0.0000, 0.0000, 0.0000,\n",
       "         0.0000, 0.0000, 0.0000, 0.0000, 0.0000, 0.0000, 0.3333, 0.0000, 0.0000,\n",
       "         0.0000, 0.0000, 0.0000, 0.0000, 0.0000, 0.0000, 0.0000, 0.0000, 0.0000,\n",
       "         0.0000],\n",
       "        [0.0000, 0.0000, 0.2500, 0.2500, 0.0000, 0.0000, 0.0000, 0.0000, 0.0000,\n",
       "         0.0000, 0.0000, 0.0000, 0.0000, 0.0000, 0.0000, 0.3333, 0.0000, 0.0000,\n",
       "         0.0000, 0.0000, 0.0000, 0.0000, 0.0000, 0.0000, 0.0000, 0.0000, 0.0000,\n",
       "         0.0000],\n",
       "        [0.0000, 1.0000, 0.0000, 0.0000, 0.0000, 0.0000, 0.0000, 0.0000, 0.0000,\n",
       "         0.0000, 1.0000, 0.0000, 0.0000, 0.0000, 0.0000, 0.0000, 0.0000, 0.0000,\n",
       "         0.0000, 0.0000, 0.0000, 0.0000, 0.0000, 0.0000, 0.0000, 0.0000, 0.0000,\n",
       "         0.0000],\n",
       "        [0.0000, 0.0000, 0.0000, 0.0000, 0.5000, 0.0000, 0.0000, 0.0000, 0.0000,\n",
       "         0.0000, 0.0000, 0.0000, 0.0000, 0.0000, 0.0000, 0.0000, 0.0000, 0.0000,\n",
       "         0.0000, 0.0000, 0.0000, 0.0000, 0.0000, 0.0000, 0.0000, 0.0000, 0.0000,\n",
       "         0.0000],\n",
       "        [0.0000, 0.0000, 0.2500, 0.0000, 0.0000, 0.0000, 0.0000, 0.0000, 0.0000,\n",
       "         0.0000, 0.0000, 0.0000, 0.0000, 0.0000, 0.0000, 0.0000, 0.0000, 0.0000,\n",
       "         0.0000, 0.0000, 0.0000, 0.0000, 0.0000, 0.0000, 0.0000, 0.0000, 0.0000,\n",
       "         0.0000],\n",
       "        [0.0000, 0.0000, 0.0000, 0.0000, 0.0000, 0.0000, 0.0000, 0.0000, 0.0000,\n",
       "         0.0000, 0.0000, 0.0000, 0.0000, 0.0000, 0.0000, 0.0000, 0.0000, 0.0000,\n",
       "         0.0000, 0.2500, 0.0000, 0.0000, 0.0000, 0.0000, 0.0000, 0.0000, 0.0000,\n",
       "         0.0000],\n",
       "        [0.0000, 0.0000, 0.0000, 0.0000, 0.0000, 0.0000, 0.0000, 0.2500, 0.0000,\n",
       "         0.0000, 0.0000, 0.0000, 0.0000, 0.0000, 0.0000, 0.0000, 0.0000, 0.0000,\n",
       "         0.0000, 0.0000, 0.0000, 0.0000, 0.0000, 0.0000, 0.0000, 0.0000, 0.0000,\n",
       "         0.0000],\n",
       "        [0.0000, 0.0000, 0.0000, 0.2500, 0.0000, 0.0000, 0.0000, 0.0000, 0.0000,\n",
       "         0.0000, 0.0000, 0.0000, 0.0000, 0.0000, 0.0000, 0.0000, 0.0000, 0.0000,\n",
       "         0.0000, 0.0000, 0.0000, 0.0000, 0.0000, 0.0000, 0.0000, 0.0000, 0.0000,\n",
       "         0.0000],\n",
       "        [0.0000, 0.0000, 0.2500, 0.0000, 0.0000, 0.0000, 0.0000, 0.0000, 0.0000,\n",
       "         0.0000, 0.0000, 0.0000, 0.0000, 0.0000, 0.0000, 0.0000, 0.0000, 0.0000,\n",
       "         0.0000, 0.0000, 0.0000, 0.0000, 0.0000, 0.0000, 0.0000, 0.0000, 0.0000,\n",
       "         0.0000]])"
      ]
     },
     "execution_count": 1112,
     "metadata": {},
     "output_type": "execute_result"
    }
   ],
   "source": [
    "col_sums = M.sum(dim=0)\n",
    "col_sums[col_sums == 0] = 1 # pages with no outgoing links, pages that have all zeros in the column vectors\n",
    "normalized = M/col_sums\n",
    "normalized"
   ]
  },
  {
   "cell_type": "code",
   "execution_count": null,
   "metadata": {
    "id": "OihwTl8Walm-"
   },
   "outputs": [],
   "source": [
    "# normalized.sum(dim = 0)"
   ]
  },
  {
   "cell_type": "code",
   "execution_count": null,
   "metadata": {
    "id": "K2tkXKqXhS6l"
   },
   "outputs": [],
   "source": [
    "# normalized[:, 80] # all the rows (destinarions) of a certain column (source)"
   ]
  },
  {
   "cell_type": "code",
   "execution_count": null,
   "metadata": {
    "id": "COEgK4aga_kO"
   },
   "outputs": [],
   "source": [
    "# torch.argmax(normalized[29, :]) # all the columns (source) of a certain row (destination)"
   ]
  },
  {
   "cell_type": "code",
   "execution_count": null,
   "metadata": {
    "colab": {
     "base_uri": "https://localhost:8080/",
     "height": 756,
     "referenced_widgets": [
      "c87497c67b104c9cac6f70eff9f9f71e",
      "3c8300fbf55544f4b4ffe7acfee3a70c",
      "ea7bec7b3270492e9974874bbd4436e3",
      "17f06020c8fa4dc5ba97bbe146391d72",
      "8d2b9252959941f7a93c2480b2f04e68",
      "5a1f002281c541988cdf1a8482729734",
      "35dcdc728c0f46ce833988157db735f4",
      "05e8a09b462a4518a5b7a18838bc11a4",
      "9fadaa5cdd9d4bec831678dc1d03900c",
      "6dd940c18dad48be81af5151fcfc38aa"
     ]
    },
    "executionInfo": {
     "elapsed": 226,
     "status": "ok",
     "timestamp": 1756578377458,
     "user": {
      "displayName": "Piergiorgio Di Pasquale",
      "userId": "07379998051964901818"
     },
     "user_tz": -120
    },
    "id": "-lLhVNGVcP2b",
    "outputId": "648d0ffd-3e35-421a-c549-1f04a81385f2"
   },
   "outputs": [],
   "source": [
    "def plot_interactive(row, col):\n",
    "    fig,ax = plt.subplots(1,1, figsize = (6,6))\n",
    "    col_count = M.sum(dim = 0) # collapse the zeroth dimension, rows\n",
    "    ax.imshow(M, cmap = \"binary\")\n",
    "    ax.set_xlabel(\"SOURCE\")\n",
    "    ax.set_ylabel(\"DESTINATION\")\n",
    "    ax.grid(True, which = \"both\")\n",
    "\n",
    "    rows = (M[:, col] > 0).nonzero(as_tuple=True)[0]\n",
    "\n",
    "    for r in rows:\n",
    "          ax.scatter(col, r.item(), color=\"red\", s=100, marker=\"x\", alpha=1)\n",
    "          ax.annotate(f\"{id_to_link[r.item()]}\", (col-3,r-2), fontsize = 8)\n",
    "    cols = (M[row, :] > 0).nonzero(as_tuple=True)[0]\n",
    "\n",
    "    for c in cols:\n",
    "          ax.scatter(c.item(), row, color=\"red\", s=100, marker=\"x\", alpha=1)\n",
    "          ax.annotate(f\"{id_to_link[c.item()]}\", (c-3,row-2), fontsize = 8)\n",
    "    ax.text(\n",
    "        0.25, 1.05,  # place below the axis\n",
    "        f\"SOURCE -> {id_to_link[col]}\\nDESTINATION -> {id_to_link[row]}\\n the column {id_to_link[col]} is the source of -> {int(col_count[col])} links\",\n",
    "        transform=ax.transAxes,\n",
    "        fontsize=9,\n",
    "        bbox=dict(facecolor='grey', edgecolor='red', alpha=0.7)\n",
    "    )\n",
    "    ax.axhline(y=row)\n",
    "    ax.axvline(x=col)\n",
    "\n",
    "interact(plot_interactive,\n",
    "         row=IntSlider(value=10, min=0, max=graph.number_of_nodes()-1, step=1, description=\"row (destination)\"),\n",
    "         col=IntSlider(value=10, min=0, max=graph.number_of_nodes()-1, step=1, description=\"col (source)\")\n",
    "         )\n"
   ]
  },
  {
   "cell_type": "markdown",
   "metadata": {
    "id": "Du74i9FNIZf1"
   },
   "source": [
    "![image.png](data:image/png;base64,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)"
   ]
  },
  {
   "cell_type": "markdown",
   "metadata": {
    "id": "1O3GDip4ZqtJ"
   },
   "source": [
    "## eigen analysis"
   ]
  },
  {
   "cell_type": "markdown",
   "metadata": {
    "id": "v_fP6gwssnJk"
   },
   "source": [
    "### tiny example"
   ]
  },
  {
   "cell_type": "code",
   "execution_count": null,
   "metadata": {
    "id": "kao9Sm9GivKx"
   },
   "outputs": [],
   "source": [
    "# let's see an easy example"
   ]
  },
  {
   "cell_type": "code",
   "execution_count": null,
   "metadata": {
    "colab": {
     "base_uri": "https://localhost:8080/"
    },
    "executionInfo": {
     "elapsed": 21,
     "status": "ok",
     "timestamp": 1756568408211,
     "user": {
      "displayName": "Piergiorgio Di Pasquale",
      "userId": "07379998051964901818"
     },
     "user_tz": -120
    },
    "id": "yzm3qUR4ixbg",
    "outputId": "bd708d1e-ef5b-416b-fc64-e41c9c5e299f"
   },
   "outputs": [
    {
     "data": {
      "text/plain": [
       "tensor([[1., 0., 1.],\n",
       "        [0., 0., 1.],\n",
       "        [1., 1., 0.]])"
      ]
     },
     "execution_count": 874,
     "metadata": {},
     "output_type": "execute_result"
    }
   ],
   "source": [
    "transition_matrix = torch.tensor([[1,0,1],[0,0,1],[1,1,0]], dtype = torch.float32)\n",
    "transition_matrix"
   ]
  },
  {
   "cell_type": "code",
   "execution_count": null,
   "metadata": {
    "colab": {
     "base_uri": "https://localhost:8080/"
    },
    "executionInfo": {
     "elapsed": 118,
     "status": "ok",
     "timestamp": 1756568408471,
     "user": {
      "displayName": "Piergiorgio Di Pasquale",
      "userId": "07379998051964901818"
     },
     "user_tz": -120
    },
    "id": "OoP1lTE6jAB_",
    "outputId": "aa7ec01d-6dfb-4fb6-d678-df3b7cba9089"
   },
   "outputs": [
    {
     "data": {
      "text/plain": [
       "tensor([[0.5000, 0.0000, 0.5000],\n",
       "        [0.0000, 0.0000, 0.5000],\n",
       "        [0.5000, 1.0000, 0.0000]])"
      ]
     },
     "execution_count": 875,
     "metadata": {},
     "output_type": "execute_result"
    }
   ],
   "source": [
    "col_sums = transition_matrix.sum(dim=0)\n",
    "col_sums[col_sums == 0] = 1 # pages with no outgoing links, pages that have all zeros in the column vectors\n",
    "normalized = transition_matrix/col_sums\n",
    "normalized"
   ]
  },
  {
   "cell_type": "code",
   "execution_count": null,
   "metadata": {
    "id": "LLPGMlc6rF2Z"
   },
   "outputs": [],
   "source": [
    "# the transition matrix can be applyied to any vector, where the vector represents the probability of being in each one of the sites\n",
    "# this process is a Markov process, it is stationary and infact it always admits a eigenvalue = 1,\n",
    "# or in other words, when applying the transition matrix to a vector, the vector does not change when lambda = 1:\n",
    "# Ax = x for lambda = 1\n",
    "# and by definition the vector x gives us the importance of each website\n",
    "# when setting lambda = 1 we are literally finding the stationary matrix, a set of x from which we dont move--> applying the transition matrix again, does not affect the probability AKA stationary"
   ]
  },
  {
   "cell_type": "code",
   "execution_count": null,
   "metadata": {
    "colab": {
     "base_uri": "https://localhost:8080/"
    },
    "executionInfo": {
     "elapsed": 9,
     "status": "ok",
     "timestamp": 1756568408658,
     "user": {
      "displayName": "Piergiorgio Di Pasquale",
      "userId": "07379998051964901818"
     },
     "user_tz": -120
    },
    "id": "hScJyrKM3CaA",
    "outputId": "54fc5475-b27b-4c2d-ba2b-c18f86b1ce7b"
   },
   "outputs": [
    {
     "data": {
      "text/plain": [
       "tensor([0.3333, 0.1667, 0.5000])"
      ]
     },
     "execution_count": 877,
     "metadata": {},
     "output_type": "execute_result"
    }
   ],
   "source": [
    "x = torch.tensor([1/3, 1/3, 1/3], dtype =torch.float32) # we have a uniform probability of being in any one of the sites\n",
    "normalized@x\n"
   ]
  },
  {
   "cell_type": "code",
   "execution_count": null,
   "metadata": {
    "id": "FUMdNVHbRI5R"
   },
   "outputs": [],
   "source": [
    "eigenvalues,eigenvectors = torch.linalg.eig(normalized)"
   ]
  },
  {
   "cell_type": "code",
   "execution_count": null,
   "metadata": {
    "id": "o0vHXGG2T4Zj"
   },
   "outputs": [],
   "source": [
    "eigenvalues = torch.real(eigenvalues)\n",
    "eigenvectors = torch.real(eigenvectors)"
   ]
  },
  {
   "cell_type": "code",
   "execution_count": null,
   "metadata": {
    "colab": {
     "base_uri": "https://localhost:8080/"
    },
    "executionInfo": {
     "elapsed": 7,
     "status": "ok",
     "timestamp": 1756568409229,
     "user": {
      "displayName": "Piergiorgio Di Pasquale",
      "userId": "07379998051964901818"
     },
     "user_tz": -120
    },
    "id": "1cQFCkZnpU11",
    "outputId": "bd426f73-c584-431f-f258-31dbcbf18c28"
   },
   "outputs": [
    {
     "data": {
      "text/plain": [
       "tensor([[ 0.3090, -0.8090, -0.6667],\n",
       "        [ 0.5000,  0.5000, -0.3333],\n",
       "        [-0.8090,  0.3090, -0.6667]])"
      ]
     },
     "execution_count": 880,
     "metadata": {},
     "output_type": "execute_result"
    }
   ],
   "source": [
    "eigenvectors # let's take the vector that refers to the eigenvalue = 1"
   ]
  },
  {
   "cell_type": "code",
   "execution_count": null,
   "metadata": {
    "id": "p9ow89bbrjGN"
   },
   "outputs": [],
   "source": [
    "lambda_1_eigenvector = eigenvectors[:,torch.round(eigenvalues) == 1] # all rows of the index where the eigenvalue = 1"
   ]
  },
  {
   "cell_type": "code",
   "execution_count": null,
   "metadata": {
    "colab": {
     "base_uri": "https://localhost:8080/"
    },
    "executionInfo": {
     "elapsed": 25,
     "status": "ok",
     "timestamp": 1756568409499,
     "user": {
      "displayName": "Piergiorgio Di Pasquale",
      "userId": "07379998051964901818"
     },
     "user_tz": -120
    },
    "id": "KtA_NHHqsAu6",
    "outputId": "17e704a5-7139-486f-8543-9d4fcbf3dd91"
   },
   "outputs": [
    {
     "data": {
      "text/plain": [
       "tensor([[0.4000],\n",
       "        [0.2000],\n",
       "        [0.4000]])"
      ]
     },
     "execution_count": 882,
     "metadata": {},
     "output_type": "execute_result"
    }
   ],
   "source": [
    "abs(lambda_1_eigenvector/lambda_1_eigenvector.sum(dim = 0))"
   ]
  },
  {
   "cell_type": "code",
   "execution_count": null,
   "metadata": {
    "id": "olv7hEjh4CBV"
   },
   "outputs": [],
   "source": [
    "# if we apply the transition matrix multiple times, we get the same result:\n",
    "x = torch.tensor([1/3, 1/3, 1/3], dtype =torch.float32) # we have a uniform probability of being in any one of the sites\n",
    "# matrix x may represent also where the user is in a specific moment, example, it might be [1,0,0] --> the user is at site A\n",
    "x = torch.tensor([1,0,0], dtype = torch.float32)"
   ]
  },
  {
   "cell_type": "code",
   "execution_count": null,
   "metadata": {
    "colab": {
     "base_uri": "https://localhost:8080/"
    },
    "executionInfo": {
     "elapsed": 77,
     "status": "ok",
     "timestamp": 1756568409659,
     "user": {
      "displayName": "Piergiorgio Di Pasquale",
      "userId": "07379998051964901818"
     },
     "user_tz": -120
    },
    "id": "JAcnhlM-4b-R",
    "outputId": "97b67741-ac1f-49ec-fedd-953b7d52ae94"
   },
   "outputs": [
    {
     "name": "stdout",
     "output_type": "stream",
     "text": [
      "tensor([0.5000, 0.0000, 0.5000])\n",
      "tensor([0.5000, 0.2500, 0.2500])\n",
      "tensor([0.3750, 0.1250, 0.5000])\n",
      "tensor([0.4375, 0.2500, 0.3125])\n",
      "tensor([0.3750, 0.1562, 0.4688])\n",
      "tensor([0.4219, 0.2344, 0.3438])\n",
      "tensor([0.3828, 0.1719, 0.4453])\n",
      "tensor([0.4141, 0.2227, 0.3633])\n",
      "tensor([0.3887, 0.1816, 0.4297])\n",
      "tensor([0.4092, 0.2148, 0.3760])\n"
     ]
    }
   ],
   "source": [
    "for _ in range(10):\n",
    "  x = normalized@x\n",
    "  print(x)\n",
    "\n",
    "#when the vector stabilize, that is the stationary distribution. the final result represent the total probability of landing in any one of the websites."
   ]
  },
  {
   "cell_type": "markdown",
   "metadata": {
    "id": "an5eCP3PhmwL"
   },
   "source": [
    "#### with damping"
   ]
  },
  {
   "cell_type": "code",
   "execution_count": null,
   "metadata": {
    "colab": {
     "base_uri": "https://localhost:8080/"
    },
    "executionInfo": {
     "elapsed": 35,
     "status": "ok",
     "timestamp": 1756568410231,
     "user": {
      "displayName": "Piergiorgio Di Pasquale",
      "userId": "07379998051964901818"
     },
     "user_tz": -120
    },
    "id": "QSwJ7umRhRpG",
    "outputId": "61f7ff49-2088-4490-d3b9-2af17c242746"
   },
   "outputs": [
    {
     "data": {
      "text/plain": [
       "tensor([[0.4750, 0.0500, 0.4750],\n",
       "        [0.0500, 0.0500, 0.4750],\n",
       "        [0.4750, 0.9000, 0.0500]])"
      ]
     },
     "execution_count": 885,
     "metadata": {},
     "output_type": "execute_result"
    }
   ],
   "source": [
    "# with damping\n",
    "\n",
    "# damping is usefull when the network of websites is not fully connected. it guarantees a unique ranking for the whole graph.\n",
    "# it is a small chance to jump anywhere, instead of always following links.\n",
    "n = normalized.size(0)\n",
    "alpha = 0.85\n",
    "\n",
    "J = torch.ones((n, n)) / n\n",
    "damped = alpha * normalized + (1 - alpha) * J\n",
    "damped"
   ]
  },
  {
   "cell_type": "code",
   "execution_count": null,
   "metadata": {
    "colab": {
     "base_uri": "https://localhost:8080/"
    },
    "executionInfo": {
     "elapsed": 26,
     "status": "ok",
     "timestamp": 1756568410319,
     "user": {
      "displayName": "Piergiorgio Di Pasquale",
      "userId": "07379998051964901818"
     },
     "user_tz": -120
    },
    "id": "I4c0wgGOhmIV",
    "outputId": "2b7aeebc-e969-40c8-91d0-35895c00950a"
   },
   "outputs": [
    {
     "data": {
      "text/plain": [
       "tensor([[0.3817],\n",
       "        [0.2195],\n",
       "        [0.3988]])"
      ]
     },
     "execution_count": 886,
     "metadata": {},
     "output_type": "execute_result"
    }
   ],
   "source": [
    "eigenvalues,eigenvectors = torch.linalg.eig(damped)\n",
    "\n",
    "eigenvalues = torch.real(eigenvalues)\n",
    "eigenvectors = torch.real(eigenvectors)\n",
    "\n",
    "lambda_1_eigenvector = eigenvectors[:,torch.round(eigenvalues) == 1] # all rows of the index where the eigenvalue = 1\n",
    "\n",
    "abs(lambda_1_eigenvector/lambda_1_eigenvector.sum(dim = 0))"
   ]
  },
  {
   "cell_type": "code",
   "execution_count": null,
   "metadata": {
    "colab": {
     "base_uri": "https://localhost:8080/"
    },
    "executionInfo": {
     "elapsed": 23,
     "status": "ok",
     "timestamp": 1756568410474,
     "user": {
      "displayName": "Piergiorgio Di Pasquale",
      "userId": "07379998051964901818"
     },
     "user_tz": -120
    },
    "id": "hrxAXXxJhZje",
    "outputId": "df2fbe0f-b75d-41d1-b720-c3e8ce3b741a"
   },
   "outputs": [
    {
     "name": "stdout",
     "output_type": "stream",
     "text": [
      "tensor([0.3837, 0.2098, 0.4065])\n",
      "tensor([0.3858, 0.2228, 0.3914])\n",
      "tensor([0.3803, 0.2163, 0.4033])\n",
      "tensor([0.3831, 0.2214, 0.3955])\n",
      "tensor([0.3809, 0.2181, 0.4010])\n",
      "tensor([0.3823, 0.2204, 0.3973])\n",
      "tensor([0.3813, 0.2188, 0.3998])\n",
      "tensor([0.3820, 0.2199, 0.3981])\n",
      "tensor([0.3815, 0.2192, 0.3993])\n",
      "tensor([0.3818, 0.2197, 0.3985])\n"
     ]
    }
   ],
   "source": [
    "for _ in range(10):\n",
    "  x = damped@x\n",
    "  print(x)\n"
   ]
  },
  {
   "cell_type": "markdown",
   "metadata": {
    "id": "O9iE_o2tspIA"
   },
   "source": [
    "### apply to real data"
   ]
  },
  {
   "cell_type": "code",
   "execution_count": null,
   "metadata": {
    "colab": {
     "base_uri": "https://localhost:8080/"
    },
    "executionInfo": {
     "elapsed": 21,
     "status": "ok",
     "timestamp": 1756578397056,
     "user": {
      "displayName": "Piergiorgio Di Pasquale",
      "userId": "07379998051964901818"
     },
     "user_tz": -120
    },
    "id": "WtlahWtKsql3",
    "outputId": "2dc98a41-24b1-46a7-ddbc-8088e8d8bf75"
   },
   "outputs": [
    {
     "data": {
      "text/plain": [
       "tensor([[0.0000, 0.0000, 0.0000, 0.0000, 0.0000, 0.0000, 0.0000, 0.0000, 0.0000,\n",
       "         0.0000, 0.0000, 0.0000, 0.0000, 0.0000, 0.0000, 0.0000, 0.0000, 0.0000,\n",
       "         0.0000, 0.0000, 0.0000, 0.0000, 0.0000, 0.0000, 0.0000, 0.0000, 0.5000,\n",
       "         0.0000],\n",
       "        [0.0000, 0.0000, 0.2500, 0.0000, 0.0000, 0.0000, 0.0000, 0.2500, 0.0000,\n",
       "         0.0000, 0.0000, 0.0000, 0.0000, 0.0000, 0.0000, 0.0000, 0.0000, 0.0000,\n",
       "         0.0000, 0.0000, 0.0000, 0.0000, 0.0000, 0.0000, 0.0000, 0.0000, 0.0000,\n",
       "         0.0000],\n",
       "        [0.0000, 0.0000, 0.0000, 0.0000, 0.0000, 0.0000, 0.0000, 0.0000, 0.0000,\n",
       "         0.0000, 0.0000, 0.0000, 0.0000, 0.0000, 0.0000, 0.0000, 0.0000, 0.0000,\n",
       "         0.0000, 0.2500, 0.0000, 0.3333, 0.0000, 1.0000, 0.0000, 0.0000, 0.5000,\n",
       "         0.0000],\n",
       "        [0.0000, 0.0000, 0.0000, 0.0000, 0.5000, 0.0000, 0.0000, 0.0000, 0.0000,\n",
       "         0.0000, 0.0000, 0.0000, 0.0000, 0.0000, 1.0000, 0.0000, 0.0000, 0.0000,\n",
       "         0.0000, 0.0000, 0.0000, 0.0000, 0.0000, 0.0000, 0.0000, 0.0000, 0.0000,\n",
       "         0.3333],\n",
       "        [0.0000, 0.0000, 0.0000, 0.0000, 0.0000, 0.0000, 0.0000, 0.0000, 0.0000,\n",
       "         0.0000, 0.0000, 0.0000, 0.0000, 0.0000, 0.0000, 0.0000, 0.0000, 0.0000,\n",
       "         0.0000, 0.0000, 0.0000, 0.0000, 0.0000, 0.0000, 0.0000, 0.0000, 0.0000,\n",
       "         0.0000],\n",
       "        [0.0000, 0.0000, 0.0000, 0.0000, 0.0000, 0.0000, 0.0000, 0.0000, 0.0000,\n",
       "         0.0000, 0.0000, 0.0000, 0.0000, 0.5000, 0.0000, 0.0000, 0.0000, 0.0000,\n",
       "         0.0000, 0.0000, 0.0000, 0.0000, 0.0000, 0.0000, 0.0000, 1.0000, 0.0000,\n",
       "         0.0000],\n",
       "        [0.0000, 0.0000, 0.0000, 0.0000, 0.0000, 0.0000, 0.0000, 0.0000, 0.0000,\n",
       "         0.0000, 0.0000, 0.0000, 1.0000, 0.0000, 0.0000, 0.0000, 0.0000, 0.0000,\n",
       "         0.0000, 0.0000, 0.0000, 0.0000, 0.0000, 0.0000, 0.0000, 0.0000, 0.0000,\n",
       "         0.0000],\n",
       "        [0.0000, 0.0000, 0.0000, 0.0000, 0.0000, 0.0000, 0.0000, 0.0000, 0.0000,\n",
       "         0.0000, 0.0000, 0.0000, 0.0000, 0.0000, 0.0000, 0.0000, 0.0000, 0.0000,\n",
       "         0.0000, 0.0000, 0.0000, 0.0000, 0.0000, 0.0000, 0.0000, 0.0000, 0.0000,\n",
       "         0.0000],\n",
       "        [0.0000, 0.0000, 0.0000, 0.0000, 0.0000, 0.0000, 0.0000, 0.0000, 0.0000,\n",
       "         0.0000, 0.0000, 0.0000, 0.0000, 0.0000, 0.0000, 0.0000, 0.0000, 0.0000,\n",
       "         0.0000, 0.2500, 0.0000, 0.0000, 0.0000, 0.0000, 0.0000, 0.0000, 0.0000,\n",
       "         0.0000],\n",
       "        [0.0000, 0.0000, 0.0000, 0.0000, 0.0000, 0.0000, 0.0000, 0.0000, 0.0000,\n",
       "         0.0000, 0.0000, 0.0000, 0.0000, 0.0000, 0.0000, 0.0000, 0.0000, 0.0000,\n",
       "         0.0000, 0.0000, 0.0000, 0.3333, 0.0000, 0.0000, 0.0000, 0.0000, 0.0000,\n",
       "         0.0000],\n",
       "        [0.0000, 0.0000, 0.0000, 0.0000, 0.0000, 0.0000, 0.0000, 0.0000, 0.0000,\n",
       "         0.0000, 0.0000, 0.0000, 0.0000, 0.0000, 0.0000, 0.0000, 0.0000, 0.0000,\n",
       "         0.0000, 0.2500, 0.0000, 0.0000, 0.0000, 0.0000, 0.0000, 0.0000, 0.0000,\n",
       "         0.0000],\n",
       "        [0.0000, 0.0000, 0.0000, 0.0000, 0.0000, 0.0000, 1.0000, 0.2500, 0.0000,\n",
       "         0.5000, 0.0000, 0.0000, 0.0000, 0.0000, 0.0000, 0.0000, 0.0000, 0.0000,\n",
       "         0.0000, 0.0000, 0.0000, 0.0000, 1.0000, 0.0000, 0.0000, 0.0000, 0.0000,\n",
       "         0.0000],\n",
       "        [0.0000, 0.0000, 0.0000, 0.2500, 0.0000, 0.0000, 0.0000, 0.0000, 0.0000,\n",
       "         0.0000, 0.0000, 0.0000, 0.0000, 0.0000, 0.0000, 0.0000, 0.0000, 0.0000,\n",
       "         0.0000, 0.0000, 0.0000, 0.0000, 0.0000, 0.0000, 0.0000, 0.0000, 0.0000,\n",
       "         0.3333],\n",
       "        [0.0000, 0.0000, 0.0000, 0.0000, 0.0000, 0.0000, 0.0000, 0.0000, 0.0000,\n",
       "         0.0000, 0.0000, 0.0000, 0.0000, 0.0000, 0.0000, 0.3333, 0.0000, 0.0000,\n",
       "         0.0000, 0.0000, 0.0000, 0.0000, 0.0000, 0.0000, 0.0000, 0.0000, 0.0000,\n",
       "         0.0000],\n",
       "        [0.0000, 0.0000, 0.0000, 0.0000, 0.0000, 0.0000, 0.0000, 0.2500, 0.0000,\n",
       "         0.0000, 0.0000, 0.0000, 0.0000, 0.0000, 0.0000, 0.0000, 0.0000, 0.0000,\n",
       "         0.0000, 0.0000, 0.0000, 0.0000, 0.0000, 0.0000, 0.0000, 0.0000, 0.0000,\n",
       "         0.3333],\n",
       "        [0.0000, 0.0000, 0.0000, 0.0000, 0.0000, 0.0000, 0.0000, 0.0000, 0.0000,\n",
       "         0.0000, 0.0000, 0.0000, 0.0000, 0.0000, 0.0000, 0.0000, 0.0000, 0.0000,\n",
       "         0.0000, 0.0000, 0.0000, 0.0000, 0.0000, 0.0000, 0.0000, 0.0000, 0.0000,\n",
       "         0.0000],\n",
       "        [0.0000, 0.0000, 0.0000, 0.0000, 0.0000, 0.0000, 0.0000, 0.0000, 0.0000,\n",
       "         0.5000, 0.0000, 0.0000, 0.0000, 0.0000, 0.0000, 0.0000, 0.0000, 0.0000,\n",
       "         0.0000, 0.0000, 0.0000, 0.3333, 0.0000, 0.0000, 0.0000, 0.0000, 0.0000,\n",
       "         0.0000],\n",
       "        [0.0000, 0.0000, 0.0000, 0.0000, 0.0000, 0.0000, 0.0000, 0.0000, 0.0000,\n",
       "         0.0000, 0.0000, 0.0000, 0.0000, 0.5000, 0.0000, 0.0000, 0.0000, 0.0000,\n",
       "         0.0000, 0.0000, 0.0000, 0.0000, 0.0000, 0.0000, 0.0000, 0.0000, 0.0000,\n",
       "         0.0000],\n",
       "        [0.0000, 0.0000, 0.0000, 0.2500, 0.0000, 0.0000, 0.0000, 0.0000, 0.0000,\n",
       "         0.0000, 0.0000, 0.0000, 0.0000, 0.0000, 0.0000, 0.0000, 0.0000, 0.0000,\n",
       "         0.0000, 0.0000, 0.0000, 0.0000, 0.0000, 0.0000, 0.0000, 0.0000, 0.0000,\n",
       "         0.0000],\n",
       "        [0.0000, 0.0000, 0.0000, 0.0000, 0.0000, 0.0000, 0.0000, 0.0000, 0.0000,\n",
       "         0.0000, 0.0000, 0.0000, 0.0000, 0.0000, 0.0000, 0.3333, 0.0000, 0.0000,\n",
       "         0.0000, 0.0000, 0.0000, 0.0000, 0.0000, 0.0000, 0.0000, 0.0000, 0.0000,\n",
       "         0.0000],\n",
       "        [0.0000, 0.0000, 0.2500, 0.2500, 0.0000, 0.0000, 0.0000, 0.0000, 0.0000,\n",
       "         0.0000, 0.0000, 0.0000, 0.0000, 0.0000, 0.0000, 0.3333, 0.0000, 0.0000,\n",
       "         0.0000, 0.0000, 0.0000, 0.0000, 0.0000, 0.0000, 0.0000, 0.0000, 0.0000,\n",
       "         0.0000],\n",
       "        [0.0000, 1.0000, 0.0000, 0.0000, 0.0000, 0.0000, 0.0000, 0.0000, 0.0000,\n",
       "         0.0000, 1.0000, 0.0000, 0.0000, 0.0000, 0.0000, 0.0000, 0.0000, 0.0000,\n",
       "         0.0000, 0.0000, 0.0000, 0.0000, 0.0000, 0.0000, 0.0000, 0.0000, 0.0000,\n",
       "         0.0000],\n",
       "        [0.0000, 0.0000, 0.0000, 0.0000, 0.5000, 0.0000, 0.0000, 0.0000, 0.0000,\n",
       "         0.0000, 0.0000, 0.0000, 0.0000, 0.0000, 0.0000, 0.0000, 0.0000, 0.0000,\n",
       "         0.0000, 0.0000, 0.0000, 0.0000, 0.0000, 0.0000, 0.0000, 0.0000, 0.0000,\n",
       "         0.0000],\n",
       "        [0.0000, 0.0000, 0.2500, 0.0000, 0.0000, 0.0000, 0.0000, 0.0000, 0.0000,\n",
       "         0.0000, 0.0000, 0.0000, 0.0000, 0.0000, 0.0000, 0.0000, 0.0000, 0.0000,\n",
       "         0.0000, 0.0000, 0.0000, 0.0000, 0.0000, 0.0000, 0.0000, 0.0000, 0.0000,\n",
       "         0.0000],\n",
       "        [0.0000, 0.0000, 0.0000, 0.0000, 0.0000, 0.0000, 0.0000, 0.0000, 0.0000,\n",
       "         0.0000, 0.0000, 0.0000, 0.0000, 0.0000, 0.0000, 0.0000, 0.0000, 0.0000,\n",
       "         0.0000, 0.2500, 0.0000, 0.0000, 0.0000, 0.0000, 0.0000, 0.0000, 0.0000,\n",
       "         0.0000],\n",
       "        [0.0000, 0.0000, 0.0000, 0.0000, 0.0000, 0.0000, 0.0000, 0.2500, 0.0000,\n",
       "         0.0000, 0.0000, 0.0000, 0.0000, 0.0000, 0.0000, 0.0000, 0.0000, 0.0000,\n",
       "         0.0000, 0.0000, 0.0000, 0.0000, 0.0000, 0.0000, 0.0000, 0.0000, 0.0000,\n",
       "         0.0000],\n",
       "        [0.0000, 0.0000, 0.0000, 0.2500, 0.0000, 0.0000, 0.0000, 0.0000, 0.0000,\n",
       "         0.0000, 0.0000, 0.0000, 0.0000, 0.0000, 0.0000, 0.0000, 0.0000, 0.0000,\n",
       "         0.0000, 0.0000, 0.0000, 0.0000, 0.0000, 0.0000, 0.0000, 0.0000, 0.0000,\n",
       "         0.0000],\n",
       "        [0.0000, 0.0000, 0.2500, 0.0000, 0.0000, 0.0000, 0.0000, 0.0000, 0.0000,\n",
       "         0.0000, 0.0000, 0.0000, 0.0000, 0.0000, 0.0000, 0.0000, 0.0000, 0.0000,\n",
       "         0.0000, 0.0000, 0.0000, 0.0000, 0.0000, 0.0000, 0.0000, 0.0000, 0.0000,\n",
       "         0.0000]])"
      ]
     },
     "execution_count": 1118,
     "metadata": {},
     "output_type": "execute_result"
    }
   ],
   "source": [
    "col_sums = M.sum(dim=0)\n",
    "col_sums[col_sums == 0] = 1 # pages with no outgoing links, pages that have all zeros in the column vectors\n",
    "normalized = M/col_sums\n",
    "normalized"
   ]
  },
  {
   "cell_type": "code",
   "execution_count": null,
   "metadata": {
    "id": "pYDxPewzsuKL"
   },
   "outputs": [],
   "source": [
    "eigenvalues,eigenvectors = torch.linalg.eig(normalized)"
   ]
  },
  {
   "cell_type": "code",
   "execution_count": null,
   "metadata": {
    "id": "77t47qotsvo9"
   },
   "outputs": [],
   "source": [
    "real_eigenvalues = torch.real(eigenvalues)\n",
    "real_eigenvectors = torch.real(eigenvectors)"
   ]
  },
  {
   "cell_type": "code",
   "execution_count": null,
   "metadata": {
    "id": "LyWbu1Gbsx0_"
   },
   "outputs": [],
   "source": [
    "idx = torch.argmin(torch.abs(real_eigenvalues - 1))  # index of eigenvalue closest to 1\n",
    "lambda_1_eigenvector = eigenvectors[:, idx].real\n"
   ]
  },
  {
   "cell_type": "code",
   "execution_count": null,
   "metadata": {
    "id": "APVpSu8Xs6rn"
   },
   "outputs": [],
   "source": [
    "# lambda_1_eigenvector"
   ]
  },
  {
   "cell_type": "code",
   "execution_count": null,
   "metadata": {
    "id": "88XG4h4isy2R"
   },
   "outputs": [],
   "source": [
    "importance = abs(lambda_1_eigenvector/lambda_1_eigenvector.sum(dim = 0))"
   ]
  },
  {
   "cell_type": "code",
   "execution_count": null,
   "metadata": {
    "colab": {
     "base_uri": "https://localhost:8080/"
    },
    "executionInfo": {
     "elapsed": 44,
     "status": "ok",
     "timestamp": 1756578398323,
     "user": {
      "displayName": "Piergiorgio Di Pasquale",
      "userId": "07379998051964901818"
     },
     "user_tz": -120
    },
    "id": "w2oIJ5Mfu0-L",
    "outputId": "bcc106cd-79b0-4c15-fe81-0513a6e60a29"
   },
   "outputs": [
    {
     "data": {
      "text/plain": [
       "11"
      ]
     },
     "execution_count": 1124,
     "metadata": {},
     "output_type": "execute_result"
    }
   ],
   "source": [
    "torch.argmax(importance).item()"
   ]
  },
  {
   "cell_type": "code",
   "execution_count": null,
   "metadata": {
    "colab": {
     "base_uri": "https://localhost:8080/",
     "height": 36
    },
    "executionInfo": {
     "elapsed": 19,
     "status": "ok",
     "timestamp": 1756578398499,
     "user": {
      "displayName": "Piergiorgio Di Pasquale",
      "userId": "07379998051964901818"
     },
     "user_tz": -120
    },
    "id": "wCdQTLahtcf8",
    "outputId": "6e33f83d-1262-4104-8940-1bc766997ec6"
   },
   "outputs": [
    {
     "data": {
      "application/vnd.google.colaboratory.intrinsic+json": {
       "type": "string"
      },
      "text/plain": [
       "'Artificial intelligence'"
      ]
     },
     "execution_count": 1125,
     "metadata": {},
     "output_type": "execute_result"
    }
   ],
   "source": [
    "id_to_link[torch.argmax(importance).item()]"
   ]
  },
  {
   "cell_type": "code",
   "execution_count": null,
   "metadata": {
    "id": "efeJlNdCvb0m"
   },
   "outputs": [],
   "source": [
    "# That page is the one where a random web surfer is most likely to end up after many clicks.\n",
    "# In PageRank terms, it’s the most “important” page in your network because many other pages\n",
    "# point to it (directly or indirectly), or because it sits at the center of good link paths."
   ]
  },
  {
   "cell_type": "markdown",
   "metadata": {
    "id": "a5x5aX8FFx1F"
   },
   "source": [
    "## damping\n",
    "damping is usefull when the network of websites is not fully connected. it guarantees a unique ranking for the whole graph.\n",
    "it is a small chance to jump anywhere, instead of always following links.\n",
    "\n",
    "\n",
    "P′=αP+(1−α)n1​J"
   ]
  },
  {
   "cell_type": "code",
   "execution_count": null,
   "metadata": {
    "colab": {
     "base_uri": "https://localhost:8080/"
    },
    "executionInfo": {
     "elapsed": 22,
     "status": "ok",
     "timestamp": 1756578399460,
     "user": {
      "displayName": "Piergiorgio Di Pasquale",
      "userId": "07379998051964901818"
     },
     "user_tz": -120
    },
    "id": "2z4wNxJQGQGX",
    "outputId": "f3807b88-3e7d-4dca-fafa-16a1baeff9a8"
   },
   "outputs": [
    {
     "data": {
      "text/plain": [
       "tensor([[0.0000, 0.0000, 0.0000, 0.0000, 0.0000, 0.0000, 0.0000, 0.0000, 0.0000,\n",
       "         0.0000, 0.0000, 0.0000, 0.0000, 0.0000, 0.0000, 0.0000, 0.0000, 0.0000,\n",
       "         0.0000, 0.0000, 0.0000, 0.0000, 0.0000, 0.0000, 0.0000, 0.0000, 0.5000,\n",
       "         0.0000],\n",
       "        [0.0000, 0.0000, 0.2500, 0.0000, 0.0000, 0.0000, 0.0000, 0.2500, 0.0000,\n",
       "         0.0000, 0.0000, 0.0000, 0.0000, 0.0000, 0.0000, 0.0000, 0.0000, 0.0000,\n",
       "         0.0000, 0.0000, 0.0000, 0.0000, 0.0000, 0.0000, 0.0000, 0.0000, 0.0000,\n",
       "         0.0000],\n",
       "        [0.0000, 0.0000, 0.0000, 0.0000, 0.0000, 0.0000, 0.0000, 0.0000, 0.0000,\n",
       "         0.0000, 0.0000, 0.0000, 0.0000, 0.0000, 0.0000, 0.0000, 0.0000, 0.0000,\n",
       "         0.0000, 0.2500, 0.0000, 0.3333, 0.0000, 1.0000, 0.0000, 0.0000, 0.5000,\n",
       "         0.0000],\n",
       "        [0.0000, 0.0000, 0.0000, 0.0000, 0.5000, 0.0000, 0.0000, 0.0000, 0.0000,\n",
       "         0.0000, 0.0000, 0.0000, 0.0000, 0.0000, 1.0000, 0.0000, 0.0000, 0.0000,\n",
       "         0.0000, 0.0000, 0.0000, 0.0000, 0.0000, 0.0000, 0.0000, 0.0000, 0.0000,\n",
       "         0.3333],\n",
       "        [0.0000, 0.0000, 0.0000, 0.0000, 0.0000, 0.0000, 0.0000, 0.0000, 0.0000,\n",
       "         0.0000, 0.0000, 0.0000, 0.0000, 0.0000, 0.0000, 0.0000, 0.0000, 0.0000,\n",
       "         0.0000, 0.0000, 0.0000, 0.0000, 0.0000, 0.0000, 0.0000, 0.0000, 0.0000,\n",
       "         0.0000],\n",
       "        [0.0000, 0.0000, 0.0000, 0.0000, 0.0000, 0.0000, 0.0000, 0.0000, 0.0000,\n",
       "         0.0000, 0.0000, 0.0000, 0.0000, 0.5000, 0.0000, 0.0000, 0.0000, 0.0000,\n",
       "         0.0000, 0.0000, 0.0000, 0.0000, 0.0000, 0.0000, 0.0000, 1.0000, 0.0000,\n",
       "         0.0000],\n",
       "        [0.0000, 0.0000, 0.0000, 0.0000, 0.0000, 0.0000, 0.0000, 0.0000, 0.0000,\n",
       "         0.0000, 0.0000, 0.0000, 1.0000, 0.0000, 0.0000, 0.0000, 0.0000, 0.0000,\n",
       "         0.0000, 0.0000, 0.0000, 0.0000, 0.0000, 0.0000, 0.0000, 0.0000, 0.0000,\n",
       "         0.0000],\n",
       "        [0.0000, 0.0000, 0.0000, 0.0000, 0.0000, 0.0000, 0.0000, 0.0000, 0.0000,\n",
       "         0.0000, 0.0000, 0.0000, 0.0000, 0.0000, 0.0000, 0.0000, 0.0000, 0.0000,\n",
       "         0.0000, 0.0000, 0.0000, 0.0000, 0.0000, 0.0000, 0.0000, 0.0000, 0.0000,\n",
       "         0.0000],\n",
       "        [0.0000, 0.0000, 0.0000, 0.0000, 0.0000, 0.0000, 0.0000, 0.0000, 0.0000,\n",
       "         0.0000, 0.0000, 0.0000, 0.0000, 0.0000, 0.0000, 0.0000, 0.0000, 0.0000,\n",
       "         0.0000, 0.2500, 0.0000, 0.0000, 0.0000, 0.0000, 0.0000, 0.0000, 0.0000,\n",
       "         0.0000],\n",
       "        [0.0000, 0.0000, 0.0000, 0.0000, 0.0000, 0.0000, 0.0000, 0.0000, 0.0000,\n",
       "         0.0000, 0.0000, 0.0000, 0.0000, 0.0000, 0.0000, 0.0000, 0.0000, 0.0000,\n",
       "         0.0000, 0.0000, 0.0000, 0.3333, 0.0000, 0.0000, 0.0000, 0.0000, 0.0000,\n",
       "         0.0000],\n",
       "        [0.0000, 0.0000, 0.0000, 0.0000, 0.0000, 0.0000, 0.0000, 0.0000, 0.0000,\n",
       "         0.0000, 0.0000, 0.0000, 0.0000, 0.0000, 0.0000, 0.0000, 0.0000, 0.0000,\n",
       "         0.0000, 0.2500, 0.0000, 0.0000, 0.0000, 0.0000, 0.0000, 0.0000, 0.0000,\n",
       "         0.0000],\n",
       "        [0.0000, 0.0000, 0.0000, 0.0000, 0.0000, 0.0000, 1.0000, 0.2500, 0.0000,\n",
       "         0.5000, 0.0000, 0.0000, 0.0000, 0.0000, 0.0000, 0.0000, 0.0000, 0.0000,\n",
       "         0.0000, 0.0000, 0.0000, 0.0000, 1.0000, 0.0000, 0.0000, 0.0000, 0.0000,\n",
       "         0.0000],\n",
       "        [0.0000, 0.0000, 0.0000, 0.2500, 0.0000, 0.0000, 0.0000, 0.0000, 0.0000,\n",
       "         0.0000, 0.0000, 0.0000, 0.0000, 0.0000, 0.0000, 0.0000, 0.0000, 0.0000,\n",
       "         0.0000, 0.0000, 0.0000, 0.0000, 0.0000, 0.0000, 0.0000, 0.0000, 0.0000,\n",
       "         0.3333],\n",
       "        [0.0000, 0.0000, 0.0000, 0.0000, 0.0000, 0.0000, 0.0000, 0.0000, 0.0000,\n",
       "         0.0000, 0.0000, 0.0000, 0.0000, 0.0000, 0.0000, 0.3333, 0.0000, 0.0000,\n",
       "         0.0000, 0.0000, 0.0000, 0.0000, 0.0000, 0.0000, 0.0000, 0.0000, 0.0000,\n",
       "         0.0000],\n",
       "        [0.0000, 0.0000, 0.0000, 0.0000, 0.0000, 0.0000, 0.0000, 0.2500, 0.0000,\n",
       "         0.0000, 0.0000, 0.0000, 0.0000, 0.0000, 0.0000, 0.0000, 0.0000, 0.0000,\n",
       "         0.0000, 0.0000, 0.0000, 0.0000, 0.0000, 0.0000, 0.0000, 0.0000, 0.0000,\n",
       "         0.3333],\n",
       "        [0.0000, 0.0000, 0.0000, 0.0000, 0.0000, 0.0000, 0.0000, 0.0000, 0.0000,\n",
       "         0.0000, 0.0000, 0.0000, 0.0000, 0.0000, 0.0000, 0.0000, 0.0000, 0.0000,\n",
       "         0.0000, 0.0000, 0.0000, 0.0000, 0.0000, 0.0000, 0.0000, 0.0000, 0.0000,\n",
       "         0.0000],\n",
       "        [0.0000, 0.0000, 0.0000, 0.0000, 0.0000, 0.0000, 0.0000, 0.0000, 0.0000,\n",
       "         0.5000, 0.0000, 0.0000, 0.0000, 0.0000, 0.0000, 0.0000, 0.0000, 0.0000,\n",
       "         0.0000, 0.0000, 0.0000, 0.3333, 0.0000, 0.0000, 0.0000, 0.0000, 0.0000,\n",
       "         0.0000],\n",
       "        [0.0000, 0.0000, 0.0000, 0.0000, 0.0000, 0.0000, 0.0000, 0.0000, 0.0000,\n",
       "         0.0000, 0.0000, 0.0000, 0.0000, 0.5000, 0.0000, 0.0000, 0.0000, 0.0000,\n",
       "         0.0000, 0.0000, 0.0000, 0.0000, 0.0000, 0.0000, 0.0000, 0.0000, 0.0000,\n",
       "         0.0000],\n",
       "        [0.0000, 0.0000, 0.0000, 0.2500, 0.0000, 0.0000, 0.0000, 0.0000, 0.0000,\n",
       "         0.0000, 0.0000, 0.0000, 0.0000, 0.0000, 0.0000, 0.0000, 0.0000, 0.0000,\n",
       "         0.0000, 0.0000, 0.0000, 0.0000, 0.0000, 0.0000, 0.0000, 0.0000, 0.0000,\n",
       "         0.0000],\n",
       "        [0.0000, 0.0000, 0.0000, 0.0000, 0.0000, 0.0000, 0.0000, 0.0000, 0.0000,\n",
       "         0.0000, 0.0000, 0.0000, 0.0000, 0.0000, 0.0000, 0.3333, 0.0000, 0.0000,\n",
       "         0.0000, 0.0000, 0.0000, 0.0000, 0.0000, 0.0000, 0.0000, 0.0000, 0.0000,\n",
       "         0.0000],\n",
       "        [0.0000, 0.0000, 0.2500, 0.2500, 0.0000, 0.0000, 0.0000, 0.0000, 0.0000,\n",
       "         0.0000, 0.0000, 0.0000, 0.0000, 0.0000, 0.0000, 0.3333, 0.0000, 0.0000,\n",
       "         0.0000, 0.0000, 0.0000, 0.0000, 0.0000, 0.0000, 0.0000, 0.0000, 0.0000,\n",
       "         0.0000],\n",
       "        [0.0000, 1.0000, 0.0000, 0.0000, 0.0000, 0.0000, 0.0000, 0.0000, 0.0000,\n",
       "         0.0000, 1.0000, 0.0000, 0.0000, 0.0000, 0.0000, 0.0000, 0.0000, 0.0000,\n",
       "         0.0000, 0.0000, 0.0000, 0.0000, 0.0000, 0.0000, 0.0000, 0.0000, 0.0000,\n",
       "         0.0000],\n",
       "        [0.0000, 0.0000, 0.0000, 0.0000, 0.5000, 0.0000, 0.0000, 0.0000, 0.0000,\n",
       "         0.0000, 0.0000, 0.0000, 0.0000, 0.0000, 0.0000, 0.0000, 0.0000, 0.0000,\n",
       "         0.0000, 0.0000, 0.0000, 0.0000, 0.0000, 0.0000, 0.0000, 0.0000, 0.0000,\n",
       "         0.0000],\n",
       "        [0.0000, 0.0000, 0.2500, 0.0000, 0.0000, 0.0000, 0.0000, 0.0000, 0.0000,\n",
       "         0.0000, 0.0000, 0.0000, 0.0000, 0.0000, 0.0000, 0.0000, 0.0000, 0.0000,\n",
       "         0.0000, 0.0000, 0.0000, 0.0000, 0.0000, 0.0000, 0.0000, 0.0000, 0.0000,\n",
       "         0.0000],\n",
       "        [0.0000, 0.0000, 0.0000, 0.0000, 0.0000, 0.0000, 0.0000, 0.0000, 0.0000,\n",
       "         0.0000, 0.0000, 0.0000, 0.0000, 0.0000, 0.0000, 0.0000, 0.0000, 0.0000,\n",
       "         0.0000, 0.2500, 0.0000, 0.0000, 0.0000, 0.0000, 0.0000, 0.0000, 0.0000,\n",
       "         0.0000],\n",
       "        [0.0000, 0.0000, 0.0000, 0.0000, 0.0000, 0.0000, 0.0000, 0.2500, 0.0000,\n",
       "         0.0000, 0.0000, 0.0000, 0.0000, 0.0000, 0.0000, 0.0000, 0.0000, 0.0000,\n",
       "         0.0000, 0.0000, 0.0000, 0.0000, 0.0000, 0.0000, 0.0000, 0.0000, 0.0000,\n",
       "         0.0000],\n",
       "        [0.0000, 0.0000, 0.0000, 0.2500, 0.0000, 0.0000, 0.0000, 0.0000, 0.0000,\n",
       "         0.0000, 0.0000, 0.0000, 0.0000, 0.0000, 0.0000, 0.0000, 0.0000, 0.0000,\n",
       "         0.0000, 0.0000, 0.0000, 0.0000, 0.0000, 0.0000, 0.0000, 0.0000, 0.0000,\n",
       "         0.0000],\n",
       "        [0.0000, 0.0000, 0.2500, 0.0000, 0.0000, 0.0000, 0.0000, 0.0000, 0.0000,\n",
       "         0.0000, 0.0000, 0.0000, 0.0000, 0.0000, 0.0000, 0.0000, 0.0000, 0.0000,\n",
       "         0.0000, 0.0000, 0.0000, 0.0000, 0.0000, 0.0000, 0.0000, 0.0000, 0.0000,\n",
       "         0.0000]])"
      ]
     },
     "execution_count": 1127,
     "metadata": {},
     "output_type": "execute_result"
    }
   ],
   "source": [
    "col_sums = M.sum(dim=0)\n",
    "col_sums[col_sums == 0] = 1\n",
    "normalized = M/col_sums\n",
    "normalized"
   ]
  },
  {
   "cell_type": "code",
   "execution_count": null,
   "metadata": {
    "id": "deh01LzMGYNg"
   },
   "outputs": [],
   "source": [
    "n = normalized.size(0)\n",
    "alpha = 0.85\n",
    "\n",
    "J = torch.ones((n, n)) / n\n",
    "damped = alpha * normalized + (1 - alpha) * J\n",
    "# with damping we are modelling the possibility that the user have a low but still NOT zero probability of going from one site to any other site"
   ]
  },
  {
   "cell_type": "code",
   "execution_count": null,
   "metadata": {
    "id": "mONEg7uSGVii"
   },
   "outputs": [],
   "source": [
    "eigenvalues,eigenvectors = torch.linalg.eig(damped)\n",
    "real_eigenvalues = torch.real(eigenvalues)\n",
    "real_eigenvectors = torch.real(eigenvectors)"
   ]
  },
  {
   "cell_type": "code",
   "execution_count": null,
   "metadata": {
    "id": "mNSqqcHmGi1V"
   },
   "outputs": [],
   "source": [
    "idx = torch.argmin(torch.abs(real_eigenvalues - 1))  # index of eigenvalue closest to 1\n",
    "lambda_1_eigenvector = eigenvectors[:, idx].real\n"
   ]
  },
  {
   "cell_type": "code",
   "execution_count": null,
   "metadata": {
    "id": "xSpSUwvzGmj9"
   },
   "outputs": [],
   "source": [
    "# lambda_1_eigenvector"
   ]
  },
  {
   "cell_type": "code",
   "execution_count": null,
   "metadata": {
    "id": "zqW8doZpGoCR"
   },
   "outputs": [],
   "source": [
    "importance = abs(lambda_1_eigenvector/lambda_1_eigenvector.sum(dim = 0))"
   ]
  },
  {
   "cell_type": "code",
   "execution_count": null,
   "metadata": {
    "colab": {
     "base_uri": "https://localhost:8080/"
    },
    "executionInfo": {
     "elapsed": 7,
     "status": "ok",
     "timestamp": 1756578401663,
     "user": {
      "displayName": "Piergiorgio Di Pasquale",
      "userId": "07379998051964901818"
     },
     "user_tz": -120
    },
    "id": "Uqg-n1nqGob7",
    "outputId": "1a45ace1-1c7e-4466-c80b-243a986b3afc"
   },
   "outputs": [
    {
     "data": {
      "text/plain": [
       "11"
      ]
     },
     "execution_count": 1133,
     "metadata": {},
     "output_type": "execute_result"
    }
   ],
   "source": [
    "torch.argmax(importance).item()"
   ]
  },
  {
   "cell_type": "code",
   "execution_count": null,
   "metadata": {
    "colab": {
     "base_uri": "https://localhost:8080/",
     "height": 36
    },
    "executionInfo": {
     "elapsed": 4,
     "status": "ok",
     "timestamp": 1756578402132,
     "user": {
      "displayName": "Piergiorgio Di Pasquale",
      "userId": "07379998051964901818"
     },
     "user_tz": -120
    },
    "id": "9F1jSPcJGrCO",
    "outputId": "133c5f3a-72c7-4c26-f8d0-6a035816e0ff"
   },
   "outputs": [
    {
     "data": {
      "application/vnd.google.colaboratory.intrinsic+json": {
       "type": "string"
      },
      "text/plain": [
       "'Artificial intelligence'"
      ]
     },
     "execution_count": 1134,
     "metadata": {},
     "output_type": "execute_result"
    }
   ],
   "source": [
    "id_to_link[torch.argmax(importance).item()]"
   ]
  }
 ],
 "metadata": {
  "colab": {
   "authorship_tag": "ABX9TyMaZOHC0Jg6gyoHKAKMAbkH",
   "collapsed_sections": [
    "ySvUDrs-px3o",
    "v_fP6gwssnJk"
   ],
   "mount_file_id": "133BUZd78ueFLbO_kFnHVXRn440r9hWzW",
   "provenance": []
  },
  "kernelspec": {
   "display_name": "Python 3",
   "name": "python3"
  },
  "language_info": {
   "name": "python"
  },
  "widgets": {
   "application/vnd.jupyter.widget-state+json": {
    "00742a4894ab47df93baf520814cb35a": {
     "model_module": "@jupyter-widgets/controls",
     "model_module_version": "1.5.0",
     "model_name": "ProgressStyleModel",
     "state": {
      "_model_module": "@jupyter-widgets/controls",
      "_model_module_version": "1.5.0",
      "_model_name": "ProgressStyleModel",
      "_view_count": null,
      "_view_module": "@jupyter-widgets/base",
      "_view_module_version": "1.2.0",
      "_view_name": "StyleView",
      "bar_color": null,
      "description_width": ""
     }
    },
    "05e8a09b462a4518a5b7a18838bc11a4": {
     "model_module": "@jupyter-widgets/base",
     "model_module_version": "1.2.0",
     "model_name": "LayoutModel",
     "state": {
      "_model_module": "@jupyter-widgets/base",
      "_model_module_version": "1.2.0",
      "_model_name": "LayoutModel",
      "_view_count": null,
      "_view_module": "@jupyter-widgets/base",
      "_view_module_version": "1.2.0",
      "_view_name": "LayoutView",
      "align_content": null,
      "align_items": null,
      "align_self": null,
      "border": null,
      "bottom": null,
      "display": null,
      "flex": null,
      "flex_flow": null,
      "grid_area": null,
      "grid_auto_columns": null,
      "grid_auto_flow": null,
      "grid_auto_rows": null,
      "grid_column": null,
      "grid_gap": null,
      "grid_row": null,
      "grid_template_areas": null,
      "grid_template_columns": null,
      "grid_template_rows": null,
      "height": null,
      "justify_content": null,
      "justify_items": null,
      "left": null,
      "margin": null,
      "max_height": null,
      "max_width": null,
      "min_height": null,
      "min_width": null,
      "object_fit": null,
      "object_position": null,
      "order": null,
      "overflow": null,
      "overflow_x": null,
      "overflow_y": null,
      "padding": null,
      "right": null,
      "top": null,
      "visibility": null,
      "width": null
     }
    },
    "05eff78ea2f84ed0a296dfad28ba4a54": {
     "model_module": "@jupyter-widgets/controls",
     "model_module_version": "1.5.0",
     "model_name": "FloatProgressModel",
     "state": {
      "_dom_classes": [],
      "_model_module": "@jupyter-widgets/controls",
      "_model_module_version": "1.5.0",
      "_model_name": "FloatProgressModel",
      "_view_count": null,
      "_view_module": "@jupyter-widgets/controls",
      "_view_module_version": "1.5.0",
      "_view_name": "ProgressView",
      "bar_style": "danger",
      "description": "",
      "description_tooltip": null,
      "layout": "IPY_MODEL_7125c7f73a50419182be3625c9f34ddf",
      "max": 100000,
      "min": 0,
      "orientation": "horizontal",
      "style": "IPY_MODEL_00742a4894ab47df93baf520814cb35a",
      "value": 96000
     }
    },
    "0a3d1c418aea46c588e905f4a42a9a67": {
     "model_module": "@jupyter-widgets/controls",
     "model_module_version": "1.5.0",
     "model_name": "HBoxModel",
     "state": {
      "_dom_classes": [],
      "_model_module": "@jupyter-widgets/controls",
      "_model_module_version": "1.5.0",
      "_model_name": "HBoxModel",
      "_view_count": null,
      "_view_module": "@jupyter-widgets/controls",
      "_view_module_version": "1.5.0",
      "_view_name": "HBoxView",
      "box_style": "",
      "children": [
       "IPY_MODEL_5c49c70d406844db8c564870f38f11f0",
       "IPY_MODEL_05eff78ea2f84ed0a296dfad28ba4a54",
       "IPY_MODEL_579686ee3d004e52a429b082f716d6f0"
      ],
      "layout": "IPY_MODEL_118de66bc6504564a777ec8b59571846"
     }
    },
    "118de66bc6504564a777ec8b59571846": {
     "model_module": "@jupyter-widgets/base",
     "model_module_version": "1.2.0",
     "model_name": "LayoutModel",
     "state": {
      "_model_module": "@jupyter-widgets/base",
      "_model_module_version": "1.2.0",
      "_model_name": "LayoutModel",
      "_view_count": null,
      "_view_module": "@jupyter-widgets/base",
      "_view_module_version": "1.2.0",
      "_view_name": "LayoutView",
      "align_content": null,
      "align_items": null,
      "align_self": null,
      "border": null,
      "bottom": null,
      "display": null,
      "flex": null,
      "flex_flow": null,
      "grid_area": null,
      "grid_auto_columns": null,
      "grid_auto_flow": null,
      "grid_auto_rows": null,
      "grid_column": null,
      "grid_gap": null,
      "grid_row": null,
      "grid_template_areas": null,
      "grid_template_columns": null,
      "grid_template_rows": null,
      "height": null,
      "justify_content": null,
      "justify_items": null,
      "left": null,
      "margin": null,
      "max_height": null,
      "max_width": null,
      "min_height": null,
      "min_width": null,
      "object_fit": null,
      "object_position": null,
      "order": null,
      "overflow": null,
      "overflow_x": null,
      "overflow_y": null,
      "padding": null,
      "right": null,
      "top": null,
      "visibility": null,
      "width": null
     }
    },
    "17f06020c8fa4dc5ba97bbe146391d72": {
     "model_module": "@jupyter-widgets/output",
     "model_module_version": "1.0.0",
     "model_name": "OutputModel",
     "state": {
      "_dom_classes": [],
      "_model_module": "@jupyter-widgets/output",
      "_model_module_version": "1.0.0",
      "_model_name": "OutputModel",
      "_view_count": null,
      "_view_module": "@jupyter-widgets/output",
      "_view_module_version": "1.0.0",
      "_view_name": "OutputView",
      "layout": "IPY_MODEL_6dd940c18dad48be81af5151fcfc38aa",
      "msg_id": "",
      "outputs": [
       {
        "data": {
         "image/png": "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\n",
         "text/plain": "<Figure size 600x600 with 1 Axes>"
        },
        "metadata": {},
        "output_type": "display_data"
       }
      ]
     }
    },
    "35dcdc728c0f46ce833988157db735f4": {
     "model_module": "@jupyter-widgets/controls",
     "model_module_version": "1.5.0",
     "model_name": "SliderStyleModel",
     "state": {
      "_model_module": "@jupyter-widgets/controls",
      "_model_module_version": "1.5.0",
      "_model_name": "SliderStyleModel",
      "_view_count": null,
      "_view_module": "@jupyter-widgets/base",
      "_view_module_version": "1.2.0",
      "_view_name": "StyleView",
      "description_width": "",
      "handle_color": null
     }
    },
    "3c8300fbf55544f4b4ffe7acfee3a70c": {
     "model_module": "@jupyter-widgets/controls",
     "model_module_version": "1.5.0",
     "model_name": "IntSliderModel",
     "state": {
      "_dom_classes": [],
      "_model_module": "@jupyter-widgets/controls",
      "_model_module_version": "1.5.0",
      "_model_name": "IntSliderModel",
      "_view_count": null,
      "_view_module": "@jupyter-widgets/controls",
      "_view_module_version": "1.5.0",
      "_view_name": "IntSliderView",
      "continuous_update": true,
      "description": "row (destination)",
      "description_tooltip": null,
      "disabled": false,
      "layout": "IPY_MODEL_5a1f002281c541988cdf1a8482729734",
      "max": 27,
      "min": 0,
      "orientation": "horizontal",
      "readout": true,
      "readout_format": "d",
      "step": 1,
      "style": "IPY_MODEL_35dcdc728c0f46ce833988157db735f4",
      "value": 16
     }
    },
    "443337ab750643feaa8d074554368f92": {
     "model_module": "@jupyter-widgets/controls",
     "model_module_version": "1.5.0",
     "model_name": "DescriptionStyleModel",
     "state": {
      "_model_module": "@jupyter-widgets/controls",
      "_model_module_version": "1.5.0",
      "_model_name": "DescriptionStyleModel",
      "_view_count": null,
      "_view_module": "@jupyter-widgets/base",
      "_view_module_version": "1.2.0",
      "_view_name": "StyleView",
      "description_width": ""
     }
    },
    "579686ee3d004e52a429b082f716d6f0": {
     "model_module": "@jupyter-widgets/controls",
     "model_module_version": "1.5.0",
     "model_name": "HTMLModel",
     "state": {
      "_dom_classes": [],
      "_model_module": "@jupyter-widgets/controls",
      "_model_module_version": "1.5.0",
      "_model_name": "HTMLModel",
      "_view_count": null,
      "_view_module": "@jupyter-widgets/controls",
      "_view_module_version": "1.5.0",
      "_view_name": "HTMLView",
      "description": "",
      "description_tooltip": null,
      "layout": "IPY_MODEL_82991208bf0d4ee7abe132fdc5b810b5",
      "placeholder": "​",
      "style": "IPY_MODEL_6d9be2a12de041dba0b53f5d2c1f59d5",
      "value": " 96000/100000 [22:51&lt;02:11, 30.39it/s]"
     }
    },
    "5a1f002281c541988cdf1a8482729734": {
     "model_module": "@jupyter-widgets/base",
     "model_module_version": "1.2.0",
     "model_name": "LayoutModel",
     "state": {
      "_model_module": "@jupyter-widgets/base",
      "_model_module_version": "1.2.0",
      "_model_name": "LayoutModel",
      "_view_count": null,
      "_view_module": "@jupyter-widgets/base",
      "_view_module_version": "1.2.0",
      "_view_name": "LayoutView",
      "align_content": null,
      "align_items": null,
      "align_self": null,
      "border": null,
      "bottom": null,
      "display": null,
      "flex": null,
      "flex_flow": null,
      "grid_area": null,
      "grid_auto_columns": null,
      "grid_auto_flow": null,
      "grid_auto_rows": null,
      "grid_column": null,
      "grid_gap": null,
      "grid_row": null,
      "grid_template_areas": null,
      "grid_template_columns": null,
      "grid_template_rows": null,
      "height": null,
      "justify_content": null,
      "justify_items": null,
      "left": null,
      "margin": null,
      "max_height": null,
      "max_width": null,
      "min_height": null,
      "min_width": null,
      "object_fit": null,
      "object_position": null,
      "order": null,
      "overflow": null,
      "overflow_x": null,
      "overflow_y": null,
      "padding": null,
      "right": null,
      "top": null,
      "visibility": null,
      "width": null
     }
    },
    "5c49c70d406844db8c564870f38f11f0": {
     "model_module": "@jupyter-widgets/controls",
     "model_module_version": "1.5.0",
     "model_name": "HTMLModel",
     "state": {
      "_dom_classes": [],
      "_model_module": "@jupyter-widgets/controls",
      "_model_module_version": "1.5.0",
      "_model_name": "HTMLModel",
      "_view_count": null,
      "_view_module": "@jupyter-widgets/controls",
      "_view_module_version": "1.5.0",
      "_view_name": "HTMLView",
      "description": "",
      "description_tooltip": null,
      "layout": "IPY_MODEL_a2eead1c60f345f99645edb6fa8a524c",
      "placeholder": "​",
      "style": "IPY_MODEL_443337ab750643feaa8d074554368f92",
      "value": " 96%"
     }
    },
    "6d9be2a12de041dba0b53f5d2c1f59d5": {
     "model_module": "@jupyter-widgets/controls",
     "model_module_version": "1.5.0",
     "model_name": "DescriptionStyleModel",
     "state": {
      "_model_module": "@jupyter-widgets/controls",
      "_model_module_version": "1.5.0",
      "_model_name": "DescriptionStyleModel",
      "_view_count": null,
      "_view_module": "@jupyter-widgets/base",
      "_view_module_version": "1.2.0",
      "_view_name": "StyleView",
      "description_width": ""
     }
    },
    "6dd940c18dad48be81af5151fcfc38aa": {
     "model_module": "@jupyter-widgets/base",
     "model_module_version": "1.2.0",
     "model_name": "LayoutModel",
     "state": {
      "_model_module": "@jupyter-widgets/base",
      "_model_module_version": "1.2.0",
      "_model_name": "LayoutModel",
      "_view_count": null,
      "_view_module": "@jupyter-widgets/base",
      "_view_module_version": "1.2.0",
      "_view_name": "LayoutView",
      "align_content": null,
      "align_items": null,
      "align_self": null,
      "border": null,
      "bottom": null,
      "display": null,
      "flex": null,
      "flex_flow": null,
      "grid_area": null,
      "grid_auto_columns": null,
      "grid_auto_flow": null,
      "grid_auto_rows": null,
      "grid_column": null,
      "grid_gap": null,
      "grid_row": null,
      "grid_template_areas": null,
      "grid_template_columns": null,
      "grid_template_rows": null,
      "height": null,
      "justify_content": null,
      "justify_items": null,
      "left": null,
      "margin": null,
      "max_height": null,
      "max_width": null,
      "min_height": null,
      "min_width": null,
      "object_fit": null,
      "object_position": null,
      "order": null,
      "overflow": null,
      "overflow_x": null,
      "overflow_y": null,
      "padding": null,
      "right": null,
      "top": null,
      "visibility": null,
      "width": null
     }
    },
    "7125c7f73a50419182be3625c9f34ddf": {
     "model_module": "@jupyter-widgets/base",
     "model_module_version": "1.2.0",
     "model_name": "LayoutModel",
     "state": {
      "_model_module": "@jupyter-widgets/base",
      "_model_module_version": "1.2.0",
      "_model_name": "LayoutModel",
      "_view_count": null,
      "_view_module": "@jupyter-widgets/base",
      "_view_module_version": "1.2.0",
      "_view_name": "LayoutView",
      "align_content": null,
      "align_items": null,
      "align_self": null,
      "border": null,
      "bottom": null,
      "display": null,
      "flex": null,
      "flex_flow": null,
      "grid_area": null,
      "grid_auto_columns": null,
      "grid_auto_flow": null,
      "grid_auto_rows": null,
      "grid_column": null,
      "grid_gap": null,
      "grid_row": null,
      "grid_template_areas": null,
      "grid_template_columns": null,
      "grid_template_rows": null,
      "height": null,
      "justify_content": null,
      "justify_items": null,
      "left": null,
      "margin": null,
      "max_height": null,
      "max_width": null,
      "min_height": null,
      "min_width": null,
      "object_fit": null,
      "object_position": null,
      "order": null,
      "overflow": null,
      "overflow_x": null,
      "overflow_y": null,
      "padding": null,
      "right": null,
      "top": null,
      "visibility": null,
      "width": null
     }
    },
    "82991208bf0d4ee7abe132fdc5b810b5": {
     "model_module": "@jupyter-widgets/base",
     "model_module_version": "1.2.0",
     "model_name": "LayoutModel",
     "state": {
      "_model_module": "@jupyter-widgets/base",
      "_model_module_version": "1.2.0",
      "_model_name": "LayoutModel",
      "_view_count": null,
      "_view_module": "@jupyter-widgets/base",
      "_view_module_version": "1.2.0",
      "_view_name": "LayoutView",
      "align_content": null,
      "align_items": null,
      "align_self": null,
      "border": null,
      "bottom": null,
      "display": null,
      "flex": null,
      "flex_flow": null,
      "grid_area": null,
      "grid_auto_columns": null,
      "grid_auto_flow": null,
      "grid_auto_rows": null,
      "grid_column": null,
      "grid_gap": null,
      "grid_row": null,
      "grid_template_areas": null,
      "grid_template_columns": null,
      "grid_template_rows": null,
      "height": null,
      "justify_content": null,
      "justify_items": null,
      "left": null,
      "margin": null,
      "max_height": null,
      "max_width": null,
      "min_height": null,
      "min_width": null,
      "object_fit": null,
      "object_position": null,
      "order": null,
      "overflow": null,
      "overflow_x": null,
      "overflow_y": null,
      "padding": null,
      "right": null,
      "top": null,
      "visibility": null,
      "width": null
     }
    },
    "8d2b9252959941f7a93c2480b2f04e68": {
     "model_module": "@jupyter-widgets/base",
     "model_module_version": "1.2.0",
     "model_name": "LayoutModel",
     "state": {
      "_model_module": "@jupyter-widgets/base",
      "_model_module_version": "1.2.0",
      "_model_name": "LayoutModel",
      "_view_count": null,
      "_view_module": "@jupyter-widgets/base",
      "_view_module_version": "1.2.0",
      "_view_name": "LayoutView",
      "align_content": null,
      "align_items": null,
      "align_self": null,
      "border": null,
      "bottom": null,
      "display": null,
      "flex": null,
      "flex_flow": null,
      "grid_area": null,
      "grid_auto_columns": null,
      "grid_auto_flow": null,
      "grid_auto_rows": null,
      "grid_column": null,
      "grid_gap": null,
      "grid_row": null,
      "grid_template_areas": null,
      "grid_template_columns": null,
      "grid_template_rows": null,
      "height": null,
      "justify_content": null,
      "justify_items": null,
      "left": null,
      "margin": null,
      "max_height": null,
      "max_width": null,
      "min_height": null,
      "min_width": null,
      "object_fit": null,
      "object_position": null,
      "order": null,
      "overflow": null,
      "overflow_x": null,
      "overflow_y": null,
      "padding": null,
      "right": null,
      "top": null,
      "visibility": null,
      "width": null
     }
    },
    "9fadaa5cdd9d4bec831678dc1d03900c": {
     "model_module": "@jupyter-widgets/controls",
     "model_module_version": "1.5.0",
     "model_name": "SliderStyleModel",
     "state": {
      "_model_module": "@jupyter-widgets/controls",
      "_model_module_version": "1.5.0",
      "_model_name": "SliderStyleModel",
      "_view_count": null,
      "_view_module": "@jupyter-widgets/base",
      "_view_module_version": "1.2.0",
      "_view_name": "StyleView",
      "description_width": "",
      "handle_color": null
     }
    },
    "a2eead1c60f345f99645edb6fa8a524c": {
     "model_module": "@jupyter-widgets/base",
     "model_module_version": "1.2.0",
     "model_name": "LayoutModel",
     "state": {
      "_model_module": "@jupyter-widgets/base",
      "_model_module_version": "1.2.0",
      "_model_name": "LayoutModel",
      "_view_count": null,
      "_view_module": "@jupyter-widgets/base",
      "_view_module_version": "1.2.0",
      "_view_name": "LayoutView",
      "align_content": null,
      "align_items": null,
      "align_self": null,
      "border": null,
      "bottom": null,
      "display": null,
      "flex": null,
      "flex_flow": null,
      "grid_area": null,
      "grid_auto_columns": null,
      "grid_auto_flow": null,
      "grid_auto_rows": null,
      "grid_column": null,
      "grid_gap": null,
      "grid_row": null,
      "grid_template_areas": null,
      "grid_template_columns": null,
      "grid_template_rows": null,
      "height": null,
      "justify_content": null,
      "justify_items": null,
      "left": null,
      "margin": null,
      "max_height": null,
      "max_width": null,
      "min_height": null,
      "min_width": null,
      "object_fit": null,
      "object_position": null,
      "order": null,
      "overflow": null,
      "overflow_x": null,
      "overflow_y": null,
      "padding": null,
      "right": null,
      "top": null,
      "visibility": null,
      "width": null
     }
    },
    "c87497c67b104c9cac6f70eff9f9f71e": {
     "model_module": "@jupyter-widgets/controls",
     "model_module_version": "1.5.0",
     "model_name": "VBoxModel",
     "state": {
      "_dom_classes": [
       "widget-interact"
      ],
      "_model_module": "@jupyter-widgets/controls",
      "_model_module_version": "1.5.0",
      "_model_name": "VBoxModel",
      "_view_count": null,
      "_view_module": "@jupyter-widgets/controls",
      "_view_module_version": "1.5.0",
      "_view_name": "VBoxView",
      "box_style": "",
      "children": [
       "IPY_MODEL_3c8300fbf55544f4b4ffe7acfee3a70c",
       "IPY_MODEL_ea7bec7b3270492e9974874bbd4436e3",
       "IPY_MODEL_17f06020c8fa4dc5ba97bbe146391d72"
      ],
      "layout": "IPY_MODEL_8d2b9252959941f7a93c2480b2f04e68"
     }
    },
    "ea7bec7b3270492e9974874bbd4436e3": {
     "model_module": "@jupyter-widgets/controls",
     "model_module_version": "1.5.0",
     "model_name": "IntSliderModel",
     "state": {
      "_dom_classes": [],
      "_model_module": "@jupyter-widgets/controls",
      "_model_module_version": "1.5.0",
      "_model_name": "IntSliderModel",
      "_view_count": null,
      "_view_module": "@jupyter-widgets/controls",
      "_view_module_version": "1.5.0",
      "_view_name": "IntSliderView",
      "continuous_update": true,
      "description": "col (source)",
      "description_tooltip": null,
      "disabled": false,
      "layout": "IPY_MODEL_05e8a09b462a4518a5b7a18838bc11a4",
      "max": 27,
      "min": 0,
      "orientation": "horizontal",
      "readout": true,
      "readout_format": "d",
      "step": 1,
      "style": "IPY_MODEL_9fadaa5cdd9d4bec831678dc1d03900c",
      "value": 15
     }
    }
   }
  }
 },
 "nbformat": 4,
 "nbformat_minor": 0
}
