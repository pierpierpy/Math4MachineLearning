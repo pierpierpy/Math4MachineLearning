{
 "cells": [
  {
   "cell_type": "code",
   "execution_count": 1,
   "metadata": {
    "executionInfo": {
     "elapsed": 17,
     "status": "ok",
     "timestamp": 1756390343193,
     "user": {
      "displayName": "Piergiorgio Di Pasquale",
      "userId": "07379998051964901818"
     },
     "user_tz": -120
    },
    "id": "yNL3AuQCy6oo"
   },
   "outputs": [],
   "source": [
    "# https://docs.pytorch.org/docs/stable/generated/torch.nn.functional.one_hot.html\n",
    "# https://discuss.pytorch.org/t/will-tensor-to-float32-to-float16-lose-precision-or-values/145264\n",
    "# https://docs.pytorch.org/docs/stable/nn.functional.html\n",
    "# https://docs.pytorch.org/docs/stable/generated/torch.Tensor.element_size.html\n",
    "# https://medium.com/biased-algorithms/guide-to-gradient-clipping-in-pytorch-f1db24ea08a2"
   ]
  },
  {
   "cell_type": "markdown",
   "metadata": {
    "id": "mxh4htblwOIJ"
   },
   "source": [
    " # how things are stored"
   ]
  },
  {
   "cell_type": "markdown",
   "metadata": {
    "id": "-NAuPgg-3qsm"
   },
   "source": [
    "tensors can be represented in memory as:\n",
    "- strided --> we see it here\n",
    "- sparse  --> usefull when the matrix stored has a lot of zeros (ex. image with a lot of white pixels), in that case we store only the location of the non zero values\n",
    "- ...\n",
    "\n"
   ]
  },
  {
   "cell_type": "code",
   "execution_count": 2,
   "metadata": {
    "executionInfo": {
     "elapsed": 2,
     "status": "ok",
     "timestamp": 1756390343197,
     "user": {
      "displayName": "Piergiorgio Di Pasquale",
      "userId": "07379998051964901818"
     },
     "user_tz": -120
    },
    "id": "_7hpWnkK0MKy"
   },
   "outputs": [],
   "source": [
    "# https://blog.ezyang.com/2019/05/pytorch-internals/"
   ]
  },
  {
   "cell_type": "code",
   "execution_count": 3,
   "metadata": {
    "executionInfo": {
     "elapsed": 7763,
     "status": "ok",
     "timestamp": 1756390350962,
     "user": {
      "displayName": "Piergiorgio Di Pasquale",
      "userId": "07379998051964901818"
     },
     "user_tz": -120
    },
    "id": "V1UJjDIVwXqr"
   },
   "outputs": [],
   "source": [
    "import torch"
   ]
  },
  {
   "cell_type": "code",
   "execution_count": 4,
   "metadata": {
    "colab": {
     "base_uri": "https://localhost:8080/"
    },
    "executionInfo": {
     "elapsed": 32,
     "status": "ok",
     "timestamp": 1756390350992,
     "user": {
      "displayName": "Piergiorgio Di Pasquale",
      "userId": "07379998051964901818"
     },
     "user_tz": -120
    },
    "id": "luTwp2DZxPE_",
    "outputId": "74480c9f-0ff6-4148-af65-da6e81d5c847"
   },
   "outputs": [
    {
     "data": {
      "text/plain": [
       "tensor([[ 1,  2,  3,  4],\n",
       "        [ 5,  6,  7,  8],\n",
       "        [ 9, 10, 11, 12]])"
      ]
     },
     "execution_count": 4,
     "metadata": {},
     "output_type": "execute_result"
    }
   ],
   "source": [
    "a = torch.tensor([[1,2,3,4],[5,6,7,8],[9,10,11,12]])\n",
    "a"
   ]
  },
  {
   "cell_type": "code",
   "execution_count": 5,
   "metadata": {
    "colab": {
     "base_uri": "https://localhost:8080/"
    },
    "executionInfo": {
     "elapsed": 23,
     "status": "ok",
     "timestamp": 1756390351015,
     "user": {
      "displayName": "Piergiorgio Di Pasquale",
      "userId": "07379998051964901818"
     },
     "user_tz": -120
    },
    "id": "_B8hSXEBwkkr",
    "outputId": "b0be6445-8215-42dd-9ff8-6720d5fb0a6c"
   },
   "outputs": [
    {
     "data": {
      "text/plain": [
       "((4, 1), torch.Size([3, 4]))"
      ]
     },
     "execution_count": 5,
     "metadata": {},
     "output_type": "execute_result"
    }
   ],
   "source": [
    "# a tensor is stored as a contiguous \"string\" in the memory\n",
    "a.stride(), a.shape # in order to pass from one element to another in one row we add 1, to pass from one element to another in columns we have to add 4\n",
    "# 0 1 2 3 4 5 6 7 8  9 10 11 --> index\n",
    "# 1,2,3,4,5,6,7,8,9,10,11,12\n",
    "\n",
    "# to access the element 10 we have to add 1 stride[1] (=1) and 2 stride[0] (=4)\n",
    "#                 |\n",
    "#                 V\n",
    "# 0 1 2 3 4 5 6 7 8  9 10 11 --> index in memory\n",
    "# 1,2,3,4,5,6,7,8,9,10,11,12 --> added 2 stride 4 we move 8 to the right\n",
    "\n",
    "# then we add 1 to move to the ninht element\n",
    "#                    |\n",
    "#                    V\n",
    "# 0 1 2 3 4 5 6 7 8  9 10 11 --> index in memory\n",
    "# 1,2,3,4,5,6,7,8,9,10,11,12\n",
    "\n",
    "# when we can move using the stride the vector is contigous\n",
    "# A contiguous tensor means you can walk through memory with its stride() without jumps or gaps."
   ]
  },
  {
   "cell_type": "code",
   "execution_count": 6,
   "metadata": {
    "colab": {
     "base_uri": "https://localhost:8080/"
    },
    "executionInfo": {
     "elapsed": 28,
     "status": "ok",
     "timestamp": 1756390351045,
     "user": {
      "displayName": "Piergiorgio Di Pasquale",
      "userId": "07379998051964901818"
     },
     "user_tz": -120
    },
    "id": "WG6uHAYOw0Nl",
    "outputId": "b0793bd9-ba42-4614-cc38-9bb4695ab1f2"
   },
   "outputs": [
    {
     "data": {
      "text/plain": [
       "tensor([[ 1,  2,  3],\n",
       "        [ 4,  5,  6],\n",
       "        [ 7,  8,  9],\n",
       "        [10, 11, 12]])"
      ]
     },
     "execution_count": 6,
     "metadata": {},
     "output_type": "execute_result"
    }
   ],
   "source": [
    "# when we change the dimensions of it, we are just changing the STRIDE, that is the \"steps\" that are between each element row and column based\n",
    "a_ = a.view(4,3)\n",
    "a_"
   ]
  },
  {
   "cell_type": "code",
   "execution_count": 7,
   "metadata": {
    "colab": {
     "base_uri": "https://localhost:8080/"
    },
    "executionInfo": {
     "elapsed": 49,
     "status": "ok",
     "timestamp": 1756390351096,
     "user": {
      "displayName": "Piergiorgio Di Pasquale",
      "userId": "07379998051964901818"
     },
     "user_tz": -120
    },
    "id": "SiJLdRFfxJGc",
    "outputId": "b9e1d972-6cbc-4682-858a-94f2c6454250"
   },
   "outputs": [
    {
     "data": {
      "text/plain": [
       "(3, 1)"
      ]
     },
     "execution_count": 7,
     "metadata": {},
     "output_type": "execute_result"
    }
   ],
   "source": [
    "a_.stride() #"
   ]
  },
  {
   "cell_type": "code",
   "execution_count": 8,
   "metadata": {
    "colab": {
     "base_uri": "https://localhost:8080/"
    },
    "executionInfo": {
     "elapsed": 7,
     "status": "ok",
     "timestamp": 1756390351105,
     "user": {
      "displayName": "Piergiorgio Di Pasquale",
      "userId": "07379998051964901818"
     },
     "user_tz": -120
    },
    "id": "-cKxLtgjwRNl",
    "outputId": "d12b9cdf-4dcc-47b3-bc58-7087a26863a6"
   },
   "outputs": [
    {
     "name": "stdout",
     "output_type": "stream",
     "text": [
      "True\n",
      "(4, 1)\n",
      "tensor([[ 1,  2,  3,  4],\n",
      "        [ 5,  6,  7,  8],\n",
      "        [ 9, 10, 11, 12]])\n"
     ]
    }
   ],
   "source": [
    "print(a.is_contiguous()) # is contiguous tells us if we can access the elements of the tensor like before\n",
    "print(a.stride())\n",
    "print(a)"
   ]
  },
  {
   "cell_type": "markdown",
   "metadata": {
    "id": "pvH84QkKzCSi"
   },
   "source": [
    "### slicing"
   ]
  },
  {
   "cell_type": "code",
   "execution_count": 9,
   "metadata": {
    "colab": {
     "base_uri": "https://localhost:8080/"
    },
    "executionInfo": {
     "elapsed": 11,
     "status": "ok",
     "timestamp": 1756390351117,
     "user": {
      "displayName": "Piergiorgio Di Pasquale",
      "userId": "07379998051964901818"
     },
     "user_tz": -120
    },
    "id": "4l12nsnYwT4d",
    "outputId": "398f9d8f-fc3e-4c24-abfe-9f4d5a1e2090"
   },
   "outputs": [
    {
     "data": {
      "text/plain": [
       "tensor([[ 1,  2],\n",
       "        [ 5,  6],\n",
       "        [ 9, 10]])"
      ]
     },
     "execution_count": 9,
     "metadata": {},
     "output_type": "execute_result"
    }
   ],
   "source": [
    "# PyTorch does not copy the data. It makes a view into the same memory as a\n",
    "b = a[:,0:2] # in this case we are taking of the tensor a only the first 2 elements of each row\n",
    "b"
   ]
  },
  {
   "cell_type": "code",
   "execution_count": 10,
   "metadata": {
    "colab": {
     "base_uri": "https://localhost:8080/"
    },
    "executionInfo": {
     "elapsed": 98,
     "status": "ok",
     "timestamp": 1756390351216,
     "user": {
      "displayName": "Piergiorgio Di Pasquale",
      "userId": "07379998051964901818"
     },
     "user_tz": -120
    },
    "id": "lioDVdlAyXF3",
    "outputId": "7d848c91-2527-4fb6-9458-eb88c1b9c69b"
   },
   "outputs": [
    {
     "name": "stdout",
     "output_type": "stream",
     "text": [
      "False\n",
      "(4, 1)\n"
     ]
    }
   ],
   "source": [
    "print(b.is_contiguous()) # b is no longer contiguous, because it contains \"GAPs\"\n",
    "print(b.stride())\n",
    "# index        0  1  2  3  4  5  6  7  8   9  10  11\n",
    "# a’s memory:  1, 2, 3, 4, 5, 6, 7, 8, 9, 10, 11, 12\n",
    "# b points to: 1, 2, -, -, 5, 6, -, -, 9, 10, -,   -\n",
    "#                    ^ gaps (the 3rd and 4th column are skipped from a)"
   ]
  },
  {
   "cell_type": "markdown",
   "metadata": {
    "id": "h5lgRHhk1Op2"
   },
   "source": [
    "#### PyTorch does not copy the data. It makes a view into the same memory as a\n"
   ]
  },
  {
   "cell_type": "code",
   "execution_count": 11,
   "metadata": {
    "executionInfo": {
     "elapsed": 2,
     "status": "ok",
     "timestamp": 1756390351220,
     "user": {
      "displayName": "Piergiorgio Di Pasquale",
      "userId": "07379998051964901818"
     },
     "user_tz": -120
    },
    "id": "MYOlYuBE1mjx"
   },
   "outputs": [],
   "source": [
    "# .storage().data_ptr()--> returns the memory address of the tensor --> It’s the same kind of address you’d see in C/C++ if you did &array[0].\n",
    "# https://docs.pytorch.org/docs/stable/generated/torch.Tensor.data_ptr.html\n",
    "\n",
    "# this is because pytorch stores raw numbers in a contiguous memory buffer and slices are views (no copy)\n",
    "\n",
    "# In normal python instead lists are:\n",
    "#      a dynamic array of pointers.\n",
    "#      Each slot holds a reference to a Python object (not the value itself).\n",
    "#      Example: [1, 2, 3] → the list object has 3 slots → each slot points to a separate Python int object.\n",
    "#      Slicing a list (a[1:3]) makes a new list with copies of those references. It doesn’t share memory with the original."
   ]
  },
  {
   "cell_type": "code",
   "execution_count": 12,
   "metadata": {
    "colab": {
     "base_uri": "https://localhost:8080/"
    },
    "executionInfo": {
     "elapsed": 8,
     "status": "ok",
     "timestamp": 1756390351234,
     "user": {
      "displayName": "Piergiorgio Di Pasquale",
      "userId": "07379998051964901818"
     },
     "user_tz": -120
    },
    "id": "EZEpcciw0dfE",
    "outputId": "edc6a0a6-db60-4690-9671-dcd47ad00ec4"
   },
   "outputs": [
    {
     "name": "stderr",
     "output_type": "stream",
     "text": [
      "/tmp/ipython-input-4272416585.py:1: UserWarning: TypedStorage is deprecated. It will be removed in the future and UntypedStorage will be the only storage class. This should only matter to you if you are using storages directly.  To access UntypedStorage directly, use tensor.untyped_storage() instead of tensor.storage()\n",
      "  b.storage().data_ptr() # as we can see here the address in memory of the first element of b is:\n"
     ]
    },
    {
     "data": {
      "text/plain": [
       "394657664"
      ]
     },
     "execution_count": 12,
     "metadata": {},
     "output_type": "execute_result"
    }
   ],
   "source": [
    "b.storage().data_ptr() # as we can see here the address in memory of the first element of b is:"
   ]
  },
  {
   "cell_type": "code",
   "execution_count": 13,
   "metadata": {
    "colab": {
     "base_uri": "https://localhost:8080/"
    },
    "executionInfo": {
     "elapsed": 8,
     "status": "ok",
     "timestamp": 1756390351246,
     "user": {
      "displayName": "Piergiorgio Di Pasquale",
      "userId": "07379998051964901818"
     },
     "user_tz": -120
    },
    "id": "WHEPO76e0fuu",
    "outputId": "a0a74d96-8544-48e5-b10a-464bd6b8fb66"
   },
   "outputs": [
    {
     "data": {
      "text/plain": [
       "394657664"
      ]
     },
     "execution_count": 13,
     "metadata": {},
     "output_type": "execute_result"
    }
   ],
   "source": [
    "a.storage().data_ptr() # it is the same as a:"
   ]
  },
  {
   "cell_type": "code",
   "execution_count": 14,
   "metadata": {
    "executionInfo": {
     "elapsed": 31,
     "status": "ok",
     "timestamp": 1756390351278,
     "user": {
      "displayName": "Piergiorgio Di Pasquale",
      "userId": "07379998051964901818"
     },
     "user_tz": -120
    },
    "id": "NgtAdeof1EIt"
   },
   "outputs": [],
   "source": [
    "c = a.clone()"
   ]
  },
  {
   "cell_type": "code",
   "execution_count": 15,
   "metadata": {
    "colab": {
     "base_uri": "https://localhost:8080/"
    },
    "executionInfo": {
     "elapsed": 9,
     "status": "ok",
     "timestamp": 1756390351289,
     "user": {
      "displayName": "Piergiorgio Di Pasquale",
      "userId": "07379998051964901818"
     },
     "user_tz": -120
    },
    "id": "g3lM0TS61Iwt",
    "outputId": "ce928560-a8cb-46bd-bdcf-0985d063b37c"
   },
   "outputs": [
    {
     "data": {
      "text/plain": [
       "394864128"
      ]
     },
     "execution_count": 15,
     "metadata": {},
     "output_type": "execute_result"
    }
   ],
   "source": [
    "c.storage().data_ptr() # here c is copied, thus the address is different"
   ]
  },
  {
   "cell_type": "markdown",
   "metadata": {
    "id": "Qor2RlPVF6NS"
   },
   "source": [
    "# intro"
   ]
  },
  {
   "cell_type": "code",
   "execution_count": 16,
   "metadata": {
    "executionInfo": {
     "elapsed": 7,
     "status": "ok",
     "timestamp": 1756390351300,
     "user": {
      "displayName": "Piergiorgio Di Pasquale",
      "userId": "07379998051964901818"
     },
     "user_tz": -120
    },
    "id": "ITBcm_gIYDtY"
   },
   "outputs": [],
   "source": [
    "import torch"
   ]
  },
  {
   "cell_type": "code",
   "execution_count": 17,
   "metadata": {
    "colab": {
     "base_uri": "https://localhost:8080/"
    },
    "executionInfo": {
     "elapsed": 51,
     "status": "ok",
     "timestamp": 1756390351352,
     "user": {
      "displayName": "Piergiorgio Di Pasquale",
      "userId": "07379998051964901818"
     },
     "user_tz": -120
    },
    "id": "oYQtJqH6Z0pX",
    "outputId": "61036557-f2ba-442b-c4a7-ab1f0a1ef1b1"
   },
   "outputs": [
    {
     "data": {
      "text/plain": [
       "True"
      ]
     },
     "execution_count": 17,
     "metadata": {},
     "output_type": "execute_result"
    }
   ],
   "source": [
    "torch.cuda.is_available()"
   ]
  },
  {
   "cell_type": "code",
   "execution_count": 18,
   "metadata": {
    "executionInfo": {
     "elapsed": 23,
     "status": "ok",
     "timestamp": 1756390351352,
     "user": {
      "displayName": "Piergiorgio Di Pasquale",
      "userId": "07379998051964901818"
     },
     "user_tz": -120
    },
    "id": "d9KitdoC9_zF"
   },
   "outputs": [],
   "source": [
    "device = torch.cuda.device(0).idx"
   ]
  },
  {
   "cell_type": "code",
   "execution_count": 19,
   "metadata": {
    "colab": {
     "base_uri": "https://localhost:8080/"
    },
    "executionInfo": {
     "elapsed": 59,
     "status": "ok",
     "timestamp": 1756390351408,
     "user": {
      "displayName": "Piergiorgio Di Pasquale",
      "userId": "07379998051964901818"
     },
     "user_tz": -120
    },
    "id": "_xMT4VZZ6Dg2",
    "outputId": "54e4cdf4-c435-46e0-f6b1-3c3e3fab2d48"
   },
   "outputs": [
    {
     "name": "stdout",
     "output_type": "stream",
     "text": [
      "|===========================================================================|\n",
      "|                  PyTorch CUDA memory summary, device ID 0                 |\n",
      "|---------------------------------------------------------------------------|\n",
      "|            CUDA OOMs: 0            |        cudaMalloc retries: 0         |\n",
      "|===========================================================================|\n",
      "|        Metric         | Cur Usage  | Peak Usage | Tot Alloc  | Tot Freed  |\n",
      "|---------------------------------------------------------------------------|\n",
      "| Allocated memory      |      0 B   |      0 B   |      0 B   |      0 B   |\n",
      "|       from large pool |      0 B   |      0 B   |      0 B   |      0 B   |\n",
      "|       from small pool |      0 B   |      0 B   |      0 B   |      0 B   |\n",
      "|---------------------------------------------------------------------------|\n",
      "| Active memory         |      0 B   |      0 B   |      0 B   |      0 B   |\n",
      "|       from large pool |      0 B   |      0 B   |      0 B   |      0 B   |\n",
      "|       from small pool |      0 B   |      0 B   |      0 B   |      0 B   |\n",
      "|---------------------------------------------------------------------------|\n",
      "| Requested memory      |      0 B   |      0 B   |      0 B   |      0 B   |\n",
      "|       from large pool |      0 B   |      0 B   |      0 B   |      0 B   |\n",
      "|       from small pool |      0 B   |      0 B   |      0 B   |      0 B   |\n",
      "|---------------------------------------------------------------------------|\n",
      "| GPU reserved memory   |      0 B   |      0 B   |      0 B   |      0 B   |\n",
      "|       from large pool |      0 B   |      0 B   |      0 B   |      0 B   |\n",
      "|       from small pool |      0 B   |      0 B   |      0 B   |      0 B   |\n",
      "|---------------------------------------------------------------------------|\n",
      "| Non-releasable memory |      0 B   |      0 B   |      0 B   |      0 B   |\n",
      "|       from large pool |      0 B   |      0 B   |      0 B   |      0 B   |\n",
      "|       from small pool |      0 B   |      0 B   |      0 B   |      0 B   |\n",
      "|---------------------------------------------------------------------------|\n",
      "| Allocations           |       0    |       0    |       0    |       0    |\n",
      "|       from large pool |       0    |       0    |       0    |       0    |\n",
      "|       from small pool |       0    |       0    |       0    |       0    |\n",
      "|---------------------------------------------------------------------------|\n",
      "| Active allocs         |       0    |       0    |       0    |       0    |\n",
      "|       from large pool |       0    |       0    |       0    |       0    |\n",
      "|       from small pool |       0    |       0    |       0    |       0    |\n",
      "|---------------------------------------------------------------------------|\n",
      "| GPU reserved segments |       0    |       0    |       0    |       0    |\n",
      "|       from large pool |       0    |       0    |       0    |       0    |\n",
      "|       from small pool |       0    |       0    |       0    |       0    |\n",
      "|---------------------------------------------------------------------------|\n",
      "| Non-releasable allocs |       0    |       0    |       0    |       0    |\n",
      "|       from large pool |       0    |       0    |       0    |       0    |\n",
      "|       from small pool |       0    |       0    |       0    |       0    |\n",
      "|---------------------------------------------------------------------------|\n",
      "| Oversize allocations  |       0    |       0    |       0    |       0    |\n",
      "|---------------------------------------------------------------------------|\n",
      "| Oversize GPU segments |       0    |       0    |       0    |       0    |\n",
      "|===========================================================================|\n",
      "\n"
     ]
    }
   ],
   "source": [
    "print(torch.cuda.memory_summary())"
   ]
  },
  {
   "cell_type": "code",
   "execution_count": 20,
   "metadata": {
    "colab": {
     "base_uri": "https://localhost:8080/"
    },
    "executionInfo": {
     "elapsed": 16,
     "status": "ok",
     "timestamp": 1756390351409,
     "user": {
      "displayName": "Piergiorgio Di Pasquale",
      "userId": "07379998051964901818"
     },
     "user_tz": -120
    },
    "id": "4P0YIxWY6Fh_",
    "outputId": "8643beec-7ef4-4282-9ede-7fdf5420fb4b"
   },
   "outputs": [
    {
     "data": {
      "text/plain": [
       "_CudaDeviceProperties(name='Tesla T4', major=7, minor=5, total_memory=15095MB, multi_processor_count=40, uuid=f73e9713-5fb1-6108-8a7e-c8821ea43fcf, pci_bus_id=0, pci_device_id=4, pci_domain_id=0, L2_cache_size=4MB)"
      ]
     },
     "execution_count": 20,
     "metadata": {},
     "output_type": "execute_result"
    }
   ],
   "source": [
    "torch.cuda.get_device_properties(0)"
   ]
  },
  {
   "cell_type": "code",
   "execution_count": 21,
   "metadata": {
    "colab": {
     "base_uri": "https://localhost:8080/"
    },
    "executionInfo": {
     "elapsed": 252,
     "status": "ok",
     "timestamp": 1756390351658,
     "user": {
      "displayName": "Piergiorgio Di Pasquale",
      "userId": "07379998051964901818"
     },
     "user_tz": -120
    },
    "id": "kTIBh0qK6idS",
    "outputId": "8a0c54f9-937e-4219-a289-d1835f160dd8"
   },
   "outputs": [
    {
     "name": "stdout",
     "output_type": "stream",
     "text": [
      "free 14.6407470703125\n",
      "total 14.74127197265625\n"
     ]
    }
   ],
   "source": [
    "free, total = torch.cuda.mem_get_info(0)\n",
    "print(f\"free {free/1024**3}\")\n",
    "print(f\"total {total/1024**3}\")"
   ]
  },
  {
   "cell_type": "code",
   "execution_count": 22,
   "metadata": {
    "colab": {
     "base_uri": "https://localhost:8080/"
    },
    "executionInfo": {
     "elapsed": 12,
     "status": "ok",
     "timestamp": 1756390351671,
     "user": {
      "displayName": "Piergiorgio Di Pasquale",
      "userId": "07379998051964901818"
     },
     "user_tz": -120
    },
    "id": "NMqQQprNkP40",
    "outputId": "e4946a66-b676-47e3-e7e8-7d4bd5422966"
   },
   "outputs": [
    {
     "name": "stdout",
     "output_type": "stream",
     "text": [
      "free 15720382464\n",
      "total 15828320256\n"
     ]
    }
   ],
   "source": [
    "free, total = torch.cuda.mem_get_info(0)\n",
    "print(f\"free {free}\")\n",
    "print(f\"total {total}\")"
   ]
  },
  {
   "cell_type": "code",
   "execution_count": 23,
   "metadata": {
    "executionInfo": {
     "elapsed": 49,
     "status": "ok",
     "timestamp": 1756390351722,
     "user": {
      "displayName": "Piergiorgio Di Pasquale",
      "userId": "07379998051964901818"
     },
     "user_tz": -120
    },
    "id": "ku9gXmss7jar"
   },
   "outputs": [],
   "source": [
    "matrix_a = torch.tensor([[1,2],[4,5],[7,8]], device =device )"
   ]
  },
  {
   "cell_type": "code",
   "execution_count": 24,
   "metadata": {
    "colab": {
     "base_uri": "https://localhost:8080/"
    },
    "executionInfo": {
     "elapsed": 8,
     "status": "ok",
     "timestamp": 1756390351732,
     "user": {
      "displayName": "Piergiorgio Di Pasquale",
      "userId": "07379998051964901818"
     },
     "user_tz": -120
    },
    "id": "lHVFBFmCj77i",
    "outputId": "aa397bf1-4a82-41f6-c480-3f58a3e8158f"
   },
   "outputs": [
    {
     "name": "stdout",
     "output_type": "stream",
     "text": [
      "free 15718285312\n",
      "total 15828320256\n"
     ]
    }
   ],
   "source": [
    "free, total = torch.cuda.mem_get_info(0)\n",
    "print(f\"free {free}\")\n",
    "print(f\"total {total}\")"
   ]
  },
  {
   "cell_type": "code",
   "execution_count": 25,
   "metadata": {
    "executionInfo": {
     "elapsed": 52,
     "status": "ok",
     "timestamp": 1756390351786,
     "user": {
      "displayName": "Piergiorgio Di Pasquale",
      "userId": "07379998051964901818"
     },
     "user_tz": -120
    },
    "id": "A4xhAX709YdV"
   },
   "outputs": [],
   "source": [
    "matrix_b = torch.tensor([[1,0,1],[1,1,0],[0,1,1]])"
   ]
  },
  {
   "cell_type": "code",
   "execution_count": 26,
   "metadata": {
    "colab": {
     "base_uri": "https://localhost:8080/"
    },
    "executionInfo": {
     "elapsed": 14,
     "status": "ok",
     "timestamp": 1756390351787,
     "user": {
      "displayName": "Piergiorgio Di Pasquale",
      "userId": "07379998051964901818"
     },
     "user_tz": -120
    },
    "id": "aN1iBQF99jfv",
    "outputId": "02474b2c-bcb4-4fa2-80c3-0feab7e77c34"
   },
   "outputs": [
    {
     "data": {
      "text/plain": [
       "(torch.Size([3, 2]), torch.Size([3, 3]))"
      ]
     },
     "execution_count": 26,
     "metadata": {},
     "output_type": "execute_result"
    }
   ],
   "source": [
    "matrix_a.size(), matrix_b.size()"
   ]
  },
  {
   "cell_type": "code",
   "execution_count": 27,
   "metadata": {
    "colab": {
     "base_uri": "https://localhost:8080/",
     "height": 159
    },
    "executionInfo": {
     "elapsed": 80,
     "status": "error",
     "timestamp": 1756390351860,
     "user": {
      "displayName": "Piergiorgio Di Pasquale",
      "userId": "07379998051964901818"
     },
     "user_tz": -120
    },
    "id": "Ud_TmGmZ9xEU",
    "outputId": "f3115585-c291-4dff-9f2c-f8fa7754e140"
   },
   "outputs": [
    {
     "ename": "RuntimeError",
     "evalue": "Expected all tensors to be on the same device, but got mat2 is on cpu, different from other tensors on cuda:0 (when checking argument in method wrapper_CUDA_mm)",
     "output_type": "error",
     "traceback": [
      "\u001b[0;31m---------------------------------------------------------------------------\u001b[0m",
      "\u001b[0;31mRuntimeError\u001b[0m                              Traceback (most recent call last)",
      "\u001b[0;32m/tmp/ipython-input-3236841727.py\u001b[0m in \u001b[0;36m<cell line: 0>\u001b[0;34m()\u001b[0m\n\u001b[0;32m----> 1\u001b[0;31m \u001b[0mmatrix_a\u001b[0m \u001b[0;34m@\u001b[0m \u001b[0mmatrix_b\u001b[0m \u001b[0;31m# matrix product not possible\u001b[0m\u001b[0;34m\u001b[0m\u001b[0;34m\u001b[0m\u001b[0m\n\u001b[0m",
      "\u001b[0;31mRuntimeError\u001b[0m: Expected all tensors to be on the same device, but got mat2 is on cpu, different from other tensors on cuda:0 (when checking argument in method wrapper_CUDA_mm)"
     ]
    }
   ],
   "source": [
    "matrix_a @ matrix_b # matrix product not possible"
   ]
  },
  {
   "cell_type": "code",
   "execution_count": 28,
   "metadata": {
    "colab": {
     "base_uri": "https://localhost:8080/"
    },
    "executionInfo": {
     "elapsed": 7,
     "status": "ok",
     "timestamp": 1756390368114,
     "user": {
      "displayName": "Piergiorgio Di Pasquale",
      "userId": "07379998051964901818"
     },
     "user_tz": -120
    },
    "id": "Rc5HUD1_95UN",
    "outputId": "63920da5-4323-4468-b7c3-d76cfa1588bf"
   },
   "outputs": [
    {
     "data": {
      "text/plain": [
       "(device(type='cuda', index=0), device(type='cpu'))"
      ]
     },
     "execution_count": 28,
     "metadata": {},
     "output_type": "execute_result"
    }
   ],
   "source": [
    "matrix_a.device, matrix_b.device"
   ]
  },
  {
   "cell_type": "code",
   "execution_count": 29,
   "metadata": {
    "colab": {
     "base_uri": "https://localhost:8080/"
    },
    "executionInfo": {
     "elapsed": 7,
     "status": "ok",
     "timestamp": 1756390368615,
     "user": {
      "displayName": "Piergiorgio Di Pasquale",
      "userId": "07379998051964901818"
     },
     "user_tz": -120
    },
    "id": "fpX9OKDm-Twc",
    "outputId": "2b1315aa-4435-4f67-f0be-adca25b5a64d"
   },
   "outputs": [
    {
     "data": {
      "text/plain": [
       "device(type='cpu')"
      ]
     },
     "execution_count": 29,
     "metadata": {},
     "output_type": "execute_result"
    }
   ],
   "source": [
    "matrix_b.to(device) # copies and puts in device\n",
    "matrix_b.device"
   ]
  },
  {
   "cell_type": "code",
   "execution_count": 30,
   "metadata": {
    "colab": {
     "base_uri": "https://localhost:8080/"
    },
    "executionInfo": {
     "elapsed": 6,
     "status": "ok",
     "timestamp": 1756390369180,
     "user": {
      "displayName": "Piergiorgio Di Pasquale",
      "userId": "07379998051964901818"
     },
     "user_tz": -120
    },
    "id": "rAvuQaBM-kyT",
    "outputId": "ba9b6125-bb32-4829-c69b-c09462e7baaa"
   },
   "outputs": [
    {
     "data": {
      "text/plain": [
       "device(type='cuda', index=0)"
      ]
     },
     "execution_count": 30,
     "metadata": {},
     "output_type": "execute_result"
    }
   ],
   "source": [
    "matrix_b = matrix_b.to(device) # create a copy on the cuda device\n",
    "matrix_b.device"
   ]
  },
  {
   "cell_type": "code",
   "execution_count": 31,
   "metadata": {
    "colab": {
     "base_uri": "https://localhost:8080/"
    },
    "executionInfo": {
     "elapsed": 22,
     "status": "ok",
     "timestamp": 1756390369511,
     "user": {
      "displayName": "Piergiorgio Di Pasquale",
      "userId": "07379998051964901818"
     },
     "user_tz": -120
    },
    "id": "pWgcYThwkHxf",
    "outputId": "0060c770-f373-42e3-a620-9d7783f3d797"
   },
   "outputs": [
    {
     "name": "stdout",
     "output_type": "stream",
     "text": [
      "free 15718285312\n",
      "total 15828320256\n"
     ]
    }
   ],
   "source": [
    "free, total = torch.cuda.mem_get_info(0)\n",
    "print(f\"free {free}\")\n",
    "print(f\"total {total}\")"
   ]
  },
  {
   "cell_type": "code",
   "execution_count": 32,
   "metadata": {
    "colab": {
     "base_uri": "https://localhost:8080/",
     "height": 141
    },
    "executionInfo": {
     "elapsed": 120,
     "status": "error",
     "timestamp": 1756390369774,
     "user": {
      "displayName": "Piergiorgio Di Pasquale",
      "userId": "07379998051964901818"
     },
     "user_tz": -120
    },
    "id": "7dfRCjKB-hmC",
    "outputId": "80719da8-cb97-45ba-cecb-05228c138bdd"
   },
   "outputs": [
    {
     "ename": "RuntimeError",
     "evalue": "mat1 and mat2 shapes cannot be multiplied (3x2 and 3x3)",
     "output_type": "error",
     "traceback": [
      "\u001b[0;31m---------------------------------------------------------------------------\u001b[0m",
      "\u001b[0;31mRuntimeError\u001b[0m                              Traceback (most recent call last)",
      "\u001b[0;32m/tmp/ipython-input-3488574420.py\u001b[0m in \u001b[0;36m<cell line: 0>\u001b[0;34m()\u001b[0m\n\u001b[0;32m----> 1\u001b[0;31m \u001b[0mmatrix_a\u001b[0m \u001b[0;34m@\u001b[0m \u001b[0mmatrix_b\u001b[0m \u001b[0;31m# matrix product not possible because mismatch\u001b[0m\u001b[0;34m\u001b[0m\u001b[0;34m\u001b[0m\u001b[0m\n\u001b[0m",
      "\u001b[0;31mRuntimeError\u001b[0m: mat1 and mat2 shapes cannot be multiplied (3x2 and 3x3)"
     ]
    }
   ],
   "source": [
    "matrix_a @ matrix_b # matrix product not possible because mismatch"
   ]
  },
  {
   "cell_type": "code",
   "execution_count": 33,
   "metadata": {
    "colab": {
     "base_uri": "https://localhost:8080/"
    },
    "executionInfo": {
     "elapsed": 66,
     "status": "ok",
     "timestamp": 1756390369977,
     "user": {
      "displayName": "Piergiorgio Di Pasquale",
      "userId": "07379998051964901818"
     },
     "user_tz": -120
    },
    "id": "eyx2BYbf_F3g",
    "outputId": "e51aa737-f79e-4b9f-b8f9-83639ea4bc36"
   },
   "outputs": [
    {
     "data": {
      "text/plain": [
       "(torch.Size([2, 3]), device(type='cuda', index=0))"
      ]
     },
     "execution_count": 33,
     "metadata": {},
     "output_type": "execute_result"
    }
   ],
   "source": [
    "transposed_matrix_a = matrix_a.T\n",
    "transposed_matrix_a.size(), transposed_matrix_a.device"
   ]
  },
  {
   "cell_type": "code",
   "execution_count": 34,
   "metadata": {
    "colab": {
     "base_uri": "https://localhost:8080/"
    },
    "executionInfo": {
     "elapsed": 52,
     "status": "ok",
     "timestamp": 1756390370032,
     "user": {
      "displayName": "Piergiorgio Di Pasquale",
      "userId": "07379998051964901818"
     },
     "user_tz": -120
    },
    "id": "I6pxrtHN_iro",
    "outputId": "7f574a47-8bf6-47cf-9ad7-7aa3a82ff091"
   },
   "outputs": [
    {
     "data": {
      "text/plain": [
       "('torch.cuda.LongTensor', 'torch.cuda.LongTensor')"
      ]
     },
     "execution_count": 34,
     "metadata": {},
     "output_type": "execute_result"
    }
   ],
   "source": [
    "matrix_a[0][0].type(), matrix_b[0][0].type() # this type is not gona work, convert into a float32, 16..."
   ]
  },
  {
   "cell_type": "code",
   "execution_count": 35,
   "metadata": {
    "executionInfo": {
     "elapsed": 96,
     "status": "ok",
     "timestamp": 1756390370153,
     "user": {
      "displayName": "Piergiorgio Di Pasquale",
      "userId": "07379998051964901818"
     },
     "user_tz": -120
    },
    "id": "xafZIF3T_wod"
   },
   "outputs": [],
   "source": [
    "transposed_matrix_a = torch.tensor([[1,2],[4,5],[7,8]], device =device, dtype=torch.float16 ).T\n",
    "matrix_b = torch.tensor([[1,0,1],[1,1,0],[0,1,1]], device = device, dtype=torch.float16)"
   ]
  },
  {
   "cell_type": "code",
   "execution_count": 36,
   "metadata": {
    "colab": {
     "base_uri": "https://localhost:8080/"
    },
    "executionInfo": {
     "elapsed": 800,
     "status": "ok",
     "timestamp": 1756390370993,
     "user": {
      "displayName": "Piergiorgio Di Pasquale",
      "userId": "07379998051964901818"
     },
     "user_tz": -120
    },
    "id": "3iRnxUgf_H4A",
    "outputId": "b4609ece-3296-4a81-ed2c-e3cf7c2db857"
   },
   "outputs": [
    {
     "data": {
      "text/plain": [
       "tensor([[ 5., 11.,  8.],\n",
       "        [ 7., 13., 10.]], device='cuda:0', dtype=torch.float16)"
      ]
     },
     "execution_count": 36,
     "metadata": {},
     "output_type": "execute_result"
    }
   ],
   "source": [
    "matrix_product = transposed_matrix_a @ matrix_b\n",
    "matrix_product"
   ]
  },
  {
   "cell_type": "markdown",
   "metadata": {
    "id": "0QwqsmMum0U6"
   },
   "source": [
    " # memory"
   ]
  },
  {
   "cell_type": "code",
   "execution_count": 37,
   "metadata": {
    "colab": {
     "base_uri": "https://localhost:8080/"
    },
    "executionInfo": {
     "elapsed": 83,
     "status": "ok",
     "timestamp": 1756390371039,
     "user": {
      "displayName": "Piergiorgio Di Pasquale",
      "userId": "07379998051964901818"
     },
     "user_tz": -120
    },
    "id": "mwaZMCGSlcyZ",
    "outputId": "8752b7fa-754c-4e48-bbe2-5f6f02b96114"
   },
   "outputs": [
    {
     "data": {
      "text/plain": [
       "16"
      ]
     },
     "execution_count": 37,
     "metadata": {},
     "output_type": "execute_result"
    }
   ],
   "source": [
    "matrix_product.element_size()*8 # bits, element_size() returns bytes, each byte is 8 bit"
   ]
  },
  {
   "cell_type": "code",
   "execution_count": 38,
   "metadata": {
    "colab": {
     "base_uri": "https://localhost:8080/"
    },
    "executionInfo": {
     "elapsed": 49,
     "status": "ok",
     "timestamp": 1756390371048,
     "user": {
      "displayName": "Piergiorgio Di Pasquale",
      "userId": "07379998051964901818"
     },
     "user_tz": -120
    },
    "id": "NOtGTzWZuiiN",
    "outputId": "f8c332e2-c5cd-4daa-f000-7c1b31b3a2e2"
   },
   "outputs": [
    {
     "data": {
      "text/plain": [
       "2"
      ]
     },
     "execution_count": 38,
     "metadata": {},
     "output_type": "execute_result"
    }
   ],
   "source": [
    "matrix_product.element_size() # number of bytes"
   ]
  },
  {
   "cell_type": "code",
   "execution_count": 39,
   "metadata": {
    "colab": {
     "base_uri": "https://localhost:8080/"
    },
    "executionInfo": {
     "elapsed": 68,
     "status": "ok",
     "timestamp": 1756390371117,
     "user": {
      "displayName": "Piergiorgio Di Pasquale",
      "userId": "07379998051964901818"
     },
     "user_tz": -120
    },
    "id": "w9czVkI0ux6C",
    "outputId": "16982866-d9b3-4533-d3a2-39815a8b34a5"
   },
   "outputs": [
    {
     "data": {
      "text/plain": [
       "6"
      ]
     },
     "execution_count": 39,
     "metadata": {},
     "output_type": "execute_result"
    }
   ],
   "source": [
    "matrix_product.nelement()"
   ]
  },
  {
   "cell_type": "code",
   "execution_count": 40,
   "metadata": {
    "colab": {
     "base_uri": "https://localhost:8080/"
    },
    "executionInfo": {
     "elapsed": 8,
     "status": "ok",
     "timestamp": 1756390371139,
     "user": {
      "displayName": "Piergiorgio Di Pasquale",
      "userId": "07379998051964901818"
     },
     "user_tz": -120
    },
    "id": "vHpkQqavvChx",
    "outputId": "9c8874a4-8f2c-4ad3-b7b4-13c74743042c"
   },
   "outputs": [
    {
     "data": {
      "text/plain": [
       "96"
      ]
     },
     "execution_count": 40,
     "metadata": {},
     "output_type": "execute_result"
    }
   ],
   "source": [
    "matrix_product.element_size()*8*matrix_product.nelement()"
   ]
  },
  {
   "cell_type": "code",
   "execution_count": 41,
   "metadata": {
    "executionInfo": {
     "elapsed": 2,
     "status": "ok",
     "timestamp": 1756390371219,
     "user": {
      "displayName": "Piergiorgio Di Pasquale",
      "userId": "07379998051964901818"
     },
     "user_tz": -120
    },
    "id": "fv4J5DNhul47"
   },
   "outputs": [],
   "source": [
    "int64_matrix = torch.tensor([[ 5, 11,  8],\n",
    "        [ 7, 13, 10]], device='cuda:0', dtype=torch.int64)"
   ]
  },
  {
   "cell_type": "code",
   "execution_count": 42,
   "metadata": {
    "colab": {
     "base_uri": "https://localhost:8080/"
    },
    "executionInfo": {
     "elapsed": 5,
     "status": "ok",
     "timestamp": 1756390375369,
     "user": {
      "displayName": "Piergiorgio Di Pasquale",
      "userId": "07379998051964901818"
     },
     "user_tz": -120
    },
    "id": "Z6pR56IIuw76",
    "outputId": "8d18a806-8a66-4e62-dac0-924279ad94b7"
   },
   "outputs": [
    {
     "data": {
      "text/plain": [
       "8"
      ]
     },
     "execution_count": 42,
     "metadata": {},
     "output_type": "execute_result"
    }
   ],
   "source": [
    "int64_matrix.element_size() # bytes"
   ]
  },
  {
   "cell_type": "code",
   "execution_count": 43,
   "metadata": {
    "colab": {
     "base_uri": "https://localhost:8080/"
    },
    "executionInfo": {
     "elapsed": 5,
     "status": "ok",
     "timestamp": 1756390375502,
     "user": {
      "displayName": "Piergiorgio Di Pasquale",
      "userId": "07379998051964901818"
     },
     "user_tz": -120
    },
    "id": "ryxhXWrMlhFU",
    "outputId": "f3c68aae-6be0-4cf7-f070-db22c7ee4492"
   },
   "outputs": [
    {
     "data": {
      "text/plain": [
       "64"
      ]
     },
     "execution_count": 43,
     "metadata": {},
     "output_type": "execute_result"
    }
   ],
   "source": [
    "int64_matrix.element_size()*8 # bits"
   ]
  },
  {
   "cell_type": "code",
   "execution_count": 44,
   "metadata": {
    "colab": {
     "base_uri": "https://localhost:8080/"
    },
    "executionInfo": {
     "elapsed": 16,
     "status": "ok",
     "timestamp": 1756390375717,
     "user": {
      "displayName": "Piergiorgio Di Pasquale",
      "userId": "07379998051964901818"
     },
     "user_tz": -120
    },
    "id": "umjdeLpsuX4x",
    "outputId": "b343fb18-311e-42e6-bf27-caae973c43b6"
   },
   "outputs": [
    {
     "data": {
      "text/plain": [
       "96"
      ]
     },
     "execution_count": 44,
     "metadata": {},
     "output_type": "execute_result"
    }
   ],
   "source": [
    "matrix_product.nelement()*matrix_product.element_size()*8 # dimension of a 2*3 matrix of float16"
   ]
  },
  {
   "cell_type": "code",
   "execution_count": 45,
   "metadata": {
    "colab": {
     "base_uri": "https://localhost:8080/"
    },
    "executionInfo": {
     "elapsed": 22,
     "status": "ok",
     "timestamp": 1756390375778,
     "user": {
      "displayName": "Piergiorgio Di Pasquale",
      "userId": "07379998051964901818"
     },
     "user_tz": -120
    },
    "id": "g1Wl0hDyvaUi",
    "outputId": "651edb9b-dd2d-4812-a216-80d3b26a7e8b"
   },
   "outputs": [
    {
     "data": {
      "text/plain": [
       "384"
      ]
     },
     "execution_count": 45,
     "metadata": {},
     "output_type": "execute_result"
    }
   ],
   "source": [
    "int64_matrix.nelement()*int64_matrix.element_size()*8 # dimension of a 2*3 matrix of int64"
   ]
  },
  {
   "cell_type": "code",
   "execution_count": 46,
   "metadata": {
    "colab": {
     "base_uri": "https://localhost:8080/"
    },
    "executionInfo": {
     "elapsed": 6,
     "status": "ok",
     "timestamp": 1756390375846,
     "user": {
      "displayName": "Piergiorgio Di Pasquale",
      "userId": "07379998051964901818"
     },
     "user_tz": -120
    },
    "id": "FnI-NNhOm2Hf",
    "outputId": "0f840dbf-e0ae-4ebe-896a-1eff916970e6"
   },
   "outputs": [
    {
     "name": "stdout",
     "output_type": "stream",
     "text": [
      "Free before: 14942.12 MB\n",
      "Free after:  14942.12 MB\n",
      "Used memory: 0.000000 MB\n",
      "Tensor size: 12 bytes (0.000011 MB)\n",
      "Difference:  -12 bytes\n"
     ]
    }
   ],
   "source": [
    "def get_free_mem():\n",
    "    free, total = torch.cuda.mem_get_info(0)\n",
    "    return free\n",
    "\n",
    "free_before = get_free_mem()\n",
    "\n",
    "test = torch.tensor([[8., 11., 8.],\n",
    "                     [7., 13., 10.]],\n",
    "                    device='cuda:0', dtype=torch.float16)\n",
    "\n",
    "free_after = get_free_mem()\n",
    "\n",
    "used_mem = free_before - free_after\n",
    "\n",
    "tensor_bytes = test.nelement() * test.element_size()\n",
    "\n",
    "print(f\"Free before: {free_before / 1024**2:.2f} MB\")\n",
    "print(f\"Free after:  {free_after / 1024**2:.2f} MB\")\n",
    "print(f\"Used memory: {used_mem / 1024**2:.6f} MB\")\n",
    "print(f\"Tensor size: {tensor_bytes} bytes ({tensor_bytes / 1024**2:.6f} MB)\")\n",
    "print(f\"Difference:  {used_mem - tensor_bytes} bytes\")\n",
    "# PyTorch’s CUDA allocator doesn’t necessarily ask the GPU for memory each time you create a small tensor."
   ]
  },
  {
   "cell_type": "code",
   "execution_count": 47,
   "metadata": {
    "colab": {
     "base_uri": "https://localhost:8080/"
    },
    "executionInfo": {
     "elapsed": 133,
     "status": "ok",
     "timestamp": 1756390376641,
     "user": {
      "displayName": "Piergiorgio Di Pasquale",
      "userId": "07379998051964901818"
     },
     "user_tz": -120
    },
    "id": "ufEXdEjMnJLN",
    "outputId": "8a5938e9-a6b2-4aa0-a054-5dd1ebe1170b"
   },
   "outputs": [
    {
     "name": "stdout",
     "output_type": "stream",
     "text": [
      "Free before: 14942.12 MB\n",
      "Free after:  12894.12 MB\n",
      "Used memory: 2048.000000 MB\n",
      "Tensor size: 2147483648 bytes (2048.000000 MB)\n",
      "Difference:  0 bytes\n"
     ]
    }
   ],
   "source": [
    "def get_free_mem():\n",
    "    free, total = torch.cuda.mem_get_info(0)\n",
    "    return free\n",
    "\n",
    "free_before = get_free_mem()\n",
    "\n",
    "big = torch.empty((1024, 1024, 1024), device='cuda:0', dtype=torch.float16)  # ~2 GB\n",
    "free_after = get_free_mem()\n",
    "\n",
    "used_mem = free_before - free_after\n",
    "\n",
    "tensor_bytes = big.nelement() * big.element_size()\n",
    "\n",
    "print(f\"Free before: {free_before / 1024**2:.2f} MB\")\n",
    "print(f\"Free after:  {free_after / 1024**2:.2f} MB\")\n",
    "print(f\"Used memory: {used_mem / 1024**2:.6f} MB\")\n",
    "print(f\"Tensor size: {tensor_bytes} bytes ({tensor_bytes / 1024**2:.6f} MB)\")\n",
    "print(f\"Difference:  {used_mem - tensor_bytes} bytes\")\n",
    "# PyTorch’s CUDA allocator doesn’t necessarily ask the GPU for memory each time you create a small tensor.\n",
    "# When you run your code, PyTorch already has a pre-allocated memory pool on the GPU"
   ]
  },
  {
   "cell_type": "code",
   "execution_count": 48,
   "metadata": {
    "executionInfo": {
     "elapsed": 139,
     "status": "ok",
     "timestamp": 1756390376920,
     "user": {
      "displayName": "Piergiorgio Di Pasquale",
      "userId": "07379998051964901818"
     },
     "user_tz": -120
    },
    "id": "wTF8-on8ncOG"
   },
   "outputs": [],
   "source": [
    "del big # PyTorch keeps the freed block in its internal pool for reuse\n"
   ]
  },
  {
   "cell_type": "code",
   "execution_count": 49,
   "metadata": {
    "executionInfo": {
     "elapsed": 3,
     "status": "ok",
     "timestamp": 1756390377088,
     "user": {
      "displayName": "Piergiorgio Di Pasquale",
      "userId": "07379998051964901818"
     },
     "user_tz": -120
    },
    "id": "jrFBPAQDng8t"
   },
   "outputs": [],
   "source": [
    "torch.cuda.empty_cache() # tells PyTorch to release unused memory from its caching allocator back to the CUDA driver\n"
   ]
  },
  {
   "cell_type": "code",
   "execution_count": 50,
   "metadata": {
    "colab": {
     "base_uri": "https://localhost:8080/"
    },
    "executionInfo": {
     "elapsed": 219,
     "status": "ok",
     "timestamp": 1756390377412,
     "user": {
      "displayName": "Piergiorgio Di Pasquale",
      "userId": "07379998051964901818"
     },
     "user_tz": -120
    },
    "id": "GyKGx5bOn8MQ",
    "outputId": "576acc62-b580-4b9c-8243-c8ab2dd26043"
   },
   "outputs": [
    {
     "name": "stdout",
     "output_type": "stream",
     "text": [
      "<class 'torch.Tensor'> torch.Size([3, 2]) torch.float16 cuda:0 | bits:  96 | bytes:  12\n",
      "<class 'torch.Tensor'> torch.Size([2, 3]) torch.float16 cuda:0 | bits:  96 | bytes:  12\n",
      "<class 'torch.Tensor'> torch.Size([3, 3]) torch.float16 cuda:0 | bits:  144 | bytes:  18\n",
      "<class 'torch.Tensor'> torch.Size([2, 3]) torch.float16 cuda:0 | bits:  96 | bytes:  12\n",
      "<class 'torch.Tensor'> torch.Size([2, 3]) torch.int64 cuda:0 | bits:  384 | bytes:  48\n",
      "<class 'torch.Tensor'> torch.Size([2, 3]) torch.float16 cuda:0 | bits:  96 | bytes:  12\n",
      "<class 'torch.Tensor'> torch.Size([3, 2]) torch.int64 cuda:0 | bits:  384 | bytes:  48\n"
     ]
    },
    {
     "name": "stderr",
     "output_type": "stream",
     "text": [
      "/usr/local/lib/python3.12/dist-packages/torch/__init__.py:1125: FutureWarning: `torch.distributed.reduce_op` is deprecated, please use `torch.distributed.ReduceOp` instead\n",
      "  return isinstance(obj, torch.Tensor)\n"
     ]
    }
   ],
   "source": [
    "import gc\n",
    "import torch\n",
    "\n",
    "objs = [obj for obj in gc.get_objects()\n",
    "        if torch.is_tensor(obj) and obj.is_cuda]\n",
    "\n",
    "for o in objs:\n",
    "    print(type(o), o.size(), o.dtype, o.device, \"| bits: \", o.element_size() * o.nelement()*8,\"| bytes: \", o.element_size() * o.nelement())\n"
   ]
  },
  {
   "cell_type": "code",
   "execution_count": 51,
   "metadata": {
    "colab": {
     "base_uri": "https://localhost:8080/"
    },
    "executionInfo": {
     "elapsed": 119,
     "status": "ok",
     "timestamp": 1756390377533,
     "user": {
      "displayName": "Piergiorgio Di Pasquale",
      "userId": "07379998051964901818"
     },
     "user_tz": -120
    },
    "id": "8LNxQb-lsteb",
    "outputId": "ccbc5b89-f08e-4f9d-9463-d387c343985b"
   },
   "outputs": [
    {
     "data": {
      "text/plain": [
       "8522752"
      ]
     },
     "execution_count": 51,
     "metadata": {},
     "output_type": "execute_result"
    }
   ],
   "source": [
    "torch.cuda.memory_allocated(0) #counts all bytes that PyTorch has marked as in use for tensors on the GPU."
   ]
  },
  {
   "cell_type": "code",
   "execution_count": 52,
   "metadata": {
    "colab": {
     "base_uri": "https://localhost:8080/"
    },
    "executionInfo": {
     "elapsed": 7,
     "status": "ok",
     "timestamp": 1756390377574,
     "user": {
      "displayName": "Piergiorgio Di Pasquale",
      "userId": "07379998051964901818"
     },
     "user_tz": -120
    },
    "id": "DAOaAmUfszLw",
    "outputId": "0a634e20-ae1b-4755-d2ef-71244859da6e"
   },
   "outputs": [
    {
     "data": {
      "text/plain": [
       "1296"
      ]
     },
     "execution_count": 52,
     "metadata": {},
     "output_type": "execute_result"
    }
   ],
   "source": [
    "allocated_memory = torch.cuda.memory_allocated(0)\n",
    "dimensions = []\n",
    "for o in objs:\n",
    "    dim = o.element_size() * o.nelement()*8\n",
    "    dimensions.append(dim)\n",
    "sum(dimensions) #only covers tensors that Python’s garbage collector can still see."
   ]
  },
  {
   "cell_type": "code",
   "execution_count": 53,
   "metadata": {
    "colab": {
     "base_uri": "https://localhost:8080/"
    },
    "executionInfo": {
     "elapsed": 6,
     "status": "ok",
     "timestamp": 1756390377623,
     "user": {
      "displayName": "Piergiorgio Di Pasquale",
      "userId": "07379998051964901818"
     },
     "user_tz": -120
    },
    "id": "Zv83amk5tp_v",
    "outputId": "f3214985-a98c-45cd-ee5e-e32d576aa0e1"
   },
   "outputs": [
    {
     "data": {
      "text/plain": [
       "8521456"
      ]
     },
     "execution_count": 53,
     "metadata": {},
     "output_type": "execute_result"
    }
   ],
   "source": [
    "allocated_memory-sum(dimensions) #some PyTorch ops allocate small auxiliary buffers that aren’t exposed as normal tensors"
   ]
  },
  {
   "cell_type": "markdown",
   "metadata": {
    "id": "L5C20_kNB3hc"
   },
   "source": [
    "# another way for matrix mult"
   ]
  },
  {
   "cell_type": "code",
   "execution_count": 54,
   "metadata": {
    "executionInfo": {
     "elapsed": 26,
     "status": "ok",
     "timestamp": 1756390377685,
     "user": {
      "displayName": "Piergiorgio Di Pasquale",
      "userId": "07379998051964901818"
     },
     "user_tz": -120
    },
    "id": "EllLOYeDALik"
   },
   "outputs": [],
   "source": [
    "import torch.nn as nn"
   ]
  },
  {
   "cell_type": "code",
   "execution_count": 55,
   "metadata": {
    "executionInfo": {
     "elapsed": 10,
     "status": "ok",
     "timestamp": 1756390377698,
     "user": {
      "displayName": "Piergiorgio Di Pasquale",
      "userId": "07379998051964901818"
     },
     "user_tz": -120
    },
    "id": "rCJEcUskBvgw"
   },
   "outputs": [],
   "source": [
    "linear = nn.Linear(in_features = 3, out_features=4).requires_grad_(False) # W: (4, 3), b: (4,)"
   ]
  },
  {
   "cell_type": "code",
   "execution_count": 56,
   "metadata": {
    "colab": {
     "base_uri": "https://localhost:8080/"
    },
    "executionInfo": {
     "elapsed": 6,
     "status": "ok",
     "timestamp": 1756390377736,
     "user": {
      "displayName": "Piergiorgio Di Pasquale",
      "userId": "07379998051964901818"
     },
     "user_tz": -120
    },
    "id": "CQ2_BHpCBX9j",
    "outputId": "37717403-363f-4e12-e27d-a33c57e83dc3"
   },
   "outputs": [
    {
     "data": {
      "text/plain": [
       "(torch.Size([4, 3]), torch.Size([4]))"
      ]
     },
     "execution_count": 56,
     "metadata": {},
     "output_type": "execute_result"
    }
   ],
   "source": [
    "linear.weight.size(),linear.bias.size()"
   ]
  },
  {
   "cell_type": "code",
   "execution_count": 57,
   "metadata": {
    "executionInfo": {
     "elapsed": 15,
     "status": "ok",
     "timestamp": 1756390378557,
     "user": {
      "displayName": "Piergiorgio Di Pasquale",
      "userId": "07379998051964901818"
     },
     "user_tz": -120
    },
    "id": "sc1tWbVMBdpk"
   },
   "outputs": [],
   "source": [
    "# when we make train or make inference, we like to do it in batches, example, a batch of 2 elements, each with 3 features;\n",
    "batches = torch.tensor([[1,2,3],[4,5,6]], dtype = torch.float32)"
   ]
  },
  {
   "cell_type": "code",
   "execution_count": 58,
   "metadata": {
    "colab": {
     "base_uri": "https://localhost:8080/"
    },
    "executionInfo": {
     "elapsed": 102,
     "status": "ok",
     "timestamp": 1756390378795,
     "user": {
      "displayName": "Piergiorgio Di Pasquale",
      "userId": "07379998051964901818"
     },
     "user_tz": -120
    },
    "id": "-dUNiO-8CpfG",
    "outputId": "c7cbf397-ac83-410c-da12-887838e5f2a2"
   },
   "outputs": [
    {
     "data": {
      "text/plain": [
       "tensor([[ 0.2258, -0.4995,  0.2714,  1.0519],\n",
       "        [ 0.2344, -0.6997,  2.0046,  2.3773]])"
      ]
     },
     "execution_count": 58,
     "metadata": {},
     "output_type": "execute_result"
    }
   ],
   "source": [
    "linear(batches) # this is equivalent to the operation below"
   ]
  },
  {
   "cell_type": "code",
   "execution_count": 59,
   "metadata": {
    "colab": {
     "base_uri": "https://localhost:8080/"
    },
    "executionInfo": {
     "elapsed": 216,
     "status": "ok",
     "timestamp": 1756390379052,
     "user": {
      "displayName": "Piergiorgio Di Pasquale",
      "userId": "07379998051964901818"
     },
     "user_tz": -120
    },
    "id": "YSFTobtDCtS-",
    "outputId": "ab6068e1-e86d-4a81-8cf4-ab1db0d8189a"
   },
   "outputs": [
    {
     "data": {
      "text/plain": [
       "tensor([[ 0.2258, -0.4995,  0.2714,  1.0519],\n",
       "        [ 0.2344, -0.6997,  2.0046,  2.3773]])"
      ]
     },
     "execution_count": 59,
     "metadata": {},
     "output_type": "execute_result"
    }
   ],
   "source": [
    "batches @ linear.weight.T + linear.bias"
   ]
  },
  {
   "cell_type": "code",
   "execution_count": 60,
   "metadata": {
    "executionInfo": {
     "elapsed": 2,
     "status": "ok",
     "timestamp": 1756390379055,
     "user": {
      "displayName": "Piergiorgio Di Pasquale",
      "userId": "07379998051964901818"
     },
     "user_tz": -120
    },
    "id": "aqo1AaK7Czev"
   },
   "outputs": [],
   "source": [
    "linear_without_bias = nn.Linear(in_features = 3, out_features=4, bias=False).requires_grad_(False) # W: (4, 3), b: (4,)\n",
    "linear_without_bias.bias"
   ]
  },
  {
   "cell_type": "markdown",
   "metadata": {
    "id": "p5a78hmDDPuv"
   },
   "source": [
    "# add non linearity"
   ]
  },
  {
   "cell_type": "code",
   "execution_count": 61,
   "metadata": {
    "executionInfo": {
     "elapsed": 2,
     "status": "ok",
     "timestamp": 1756390379263,
     "user": {
      "displayName": "Piergiorgio Di Pasquale",
      "userId": "07379998051964901818"
     },
     "user_tz": -120
    },
    "id": "gUZBMU04DaYM"
   },
   "outputs": [],
   "source": [
    "batches = torch.tensor([[1,2,3],[4,5,6]], dtype = torch.float32)"
   ]
  },
  {
   "cell_type": "code",
   "execution_count": 62,
   "metadata": {
    "executionInfo": {
     "elapsed": 16,
     "status": "ok",
     "timestamp": 1756390379342,
     "user": {
      "displayName": "Piergiorgio Di Pasquale",
      "userId": "07379998051964901818"
     },
     "user_tz": -120
    },
    "id": "5-ReE1TTDVbr"
   },
   "outputs": [],
   "source": [
    "linear = nn.Linear(in_features = 3, out_features=4).requires_grad_(False) # W: (4, 3), b: (4,)\n",
    "relu = nn.ReLU()"
   ]
  },
  {
   "cell_type": "code",
   "execution_count": 63,
   "metadata": {
    "colab": {
     "base_uri": "https://localhost:8080/"
    },
    "executionInfo": {
     "elapsed": 132,
     "status": "ok",
     "timestamp": 1756390379490,
     "user": {
      "displayName": "Piergiorgio Di Pasquale",
      "userId": "07379998051964901818"
     },
     "user_tz": -120
    },
    "id": "gKrWEi4UDhD3",
    "outputId": "8cb00c5a-3438-4a9e-f779-7e3e3dd7d62d"
   },
   "outputs": [
    {
     "data": {
      "text/plain": [
       "tensor([[2.6648, 0.0000, 0.0000, 2.1199],\n",
       "        [5.4047, 0.0000, 0.0000, 5.1321]])"
      ]
     },
     "execution_count": 63,
     "metadata": {},
     "output_type": "execute_result"
    }
   ],
   "source": [
    "linear_result = linear(batches)\n",
    "non_linear = relu(linear_result)\n",
    "non_linear"
   ]
  },
  {
   "cell_type": "markdown",
   "metadata": {
    "id": "nrYpvVgnGTI-"
   },
   "source": [
    "# import data"
   ]
  },
  {
   "cell_type": "code",
   "execution_count": 64,
   "metadata": {
    "executionInfo": {
     "elapsed": 1331,
     "status": "ok",
     "timestamp": 1756390381164,
     "user": {
      "displayName": "Piergiorgio Di Pasquale",
      "userId": "07379998051964901818"
     },
     "user_tz": -120
    },
    "id": "VoZ-LkHhF_fi"
   },
   "outputs": [],
   "source": [
    "import pandas as pd\n",
    "from sklearn.model_selection import train_test_split\n",
    "import matplotlib.pyplot as plt\n"
   ]
  },
  {
   "cell_type": "code",
   "execution_count": 65,
   "metadata": {
    "executionInfo": {
     "elapsed": 1067,
     "status": "ok",
     "timestamp": 1756390382234,
     "user": {
      "displayName": "Piergiorgio Di Pasquale",
      "userId": "07379998051964901818"
     },
     "user_tz": -120
    },
    "id": "qjolY0xiGVel"
   },
   "outputs": [],
   "source": [
    "data = pd.read_csv(\"sample_data/mnist_train_small.csv\", header=None)"
   ]
  },
  {
   "cell_type": "code",
   "execution_count": 66,
   "metadata": {
    "executionInfo": {
     "elapsed": 75,
     "status": "ok",
     "timestamp": 1756390382326,
     "user": {
      "displayName": "Piergiorgio Di Pasquale",
      "userId": "07379998051964901818"
     },
     "user_tz": -120
    },
    "id": "PLb7VM6wLucq"
   },
   "outputs": [],
   "source": [
    "dataset, dataset_test = train_test_split(data, test_size=0.05)"
   ]
  },
  {
   "cell_type": "code",
   "execution_count": 67,
   "metadata": {
    "colab": {
     "base_uri": "https://localhost:8080/"
    },
    "executionInfo": {
     "elapsed": 29,
     "status": "ok",
     "timestamp": 1756390382359,
     "user": {
      "displayName": "Piergiorgio Di Pasquale",
      "userId": "07379998051964901818"
     },
     "user_tz": -120
    },
    "id": "0wI3UzFrLucq",
    "outputId": "ff357b17-4713-4f45-e3e4-81d44511cbf3"
   },
   "outputs": [
    {
     "data": {
      "text/plain": [
       "((19000, 785), (1000, 785))"
      ]
     },
     "execution_count": 67,
     "metadata": {},
     "output_type": "execute_result"
    }
   ],
   "source": [
    "dataset.shape,dataset_test.shape"
   ]
  },
  {
   "cell_type": "code",
   "execution_count": 68,
   "metadata": {
    "colab": {
     "base_uri": "https://localhost:8080/"
    },
    "executionInfo": {
     "elapsed": 27,
     "status": "ok",
     "timestamp": 1756390382388,
     "user": {
      "displayName": "Piergiorgio Di Pasquale",
      "userId": "07379998051964901818"
     },
     "user_tz": -120
    },
    "id": "wz4ibxU4Lucr",
    "outputId": "3cdc1f7f-97ca-410a-ae9b-87a3d0aa495f"
   },
   "outputs": [
    {
     "data": {
      "text/plain": [
       "(None, None)"
      ]
     },
     "execution_count": 68,
     "metadata": {},
     "output_type": "execute_result"
    }
   ],
   "source": [
    "dataset.reset_index(inplace = True, drop = True), dataset_test.reset_index(inplace = True,drop = True)"
   ]
  },
  {
   "cell_type": "code",
   "execution_count": 69,
   "metadata": {
    "colab": {
     "base_uri": "https://localhost:8080/",
     "height": 236
    },
    "executionInfo": {
     "elapsed": 24,
     "status": "ok",
     "timestamp": 1756390382413,
     "user": {
      "displayName": "Piergiorgio Di Pasquale",
      "userId": "07379998051964901818"
     },
     "user_tz": -120
    },
    "id": "cR_Tns8Zv38l",
    "outputId": "62dc5cb6-72f3-482f-b8e3-ab78a8dd12fc"
   },
   "outputs": [
    {
     "data": {
      "application/vnd.google.colaboratory.intrinsic+json": {
       "type": "dataframe",
       "variable_name": "dataset"
      },
      "text/html": [
       "\n",
       "  <div id=\"df-1db29b60-d7a2-4a53-a4a7-88ef9a5d1228\" class=\"colab-df-container\">\n",
       "    <div>\n",
       "<style scoped>\n",
       "    .dataframe tbody tr th:only-of-type {\n",
       "        vertical-align: middle;\n",
       "    }\n",
       "\n",
       "    .dataframe tbody tr th {\n",
       "        vertical-align: top;\n",
       "    }\n",
       "\n",
       "    .dataframe thead th {\n",
       "        text-align: right;\n",
       "    }\n",
       "</style>\n",
       "<table border=\"1\" class=\"dataframe\">\n",
       "  <thead>\n",
       "    <tr style=\"text-align: right;\">\n",
       "      <th></th>\n",
       "      <th>0</th>\n",
       "      <th>1</th>\n",
       "      <th>2</th>\n",
       "      <th>3</th>\n",
       "      <th>4</th>\n",
       "      <th>5</th>\n",
       "      <th>6</th>\n",
       "      <th>7</th>\n",
       "      <th>8</th>\n",
       "      <th>9</th>\n",
       "      <th>...</th>\n",
       "      <th>775</th>\n",
       "      <th>776</th>\n",
       "      <th>777</th>\n",
       "      <th>778</th>\n",
       "      <th>779</th>\n",
       "      <th>780</th>\n",
       "      <th>781</th>\n",
       "      <th>782</th>\n",
       "      <th>783</th>\n",
       "      <th>784</th>\n",
       "    </tr>\n",
       "  </thead>\n",
       "  <tbody>\n",
       "    <tr>\n",
       "      <th>0</th>\n",
       "      <td>1</td>\n",
       "      <td>0</td>\n",
       "      <td>0</td>\n",
       "      <td>0</td>\n",
       "      <td>0</td>\n",
       "      <td>0</td>\n",
       "      <td>0</td>\n",
       "      <td>0</td>\n",
       "      <td>0</td>\n",
       "      <td>0</td>\n",
       "      <td>...</td>\n",
       "      <td>0</td>\n",
       "      <td>0</td>\n",
       "      <td>0</td>\n",
       "      <td>0</td>\n",
       "      <td>0</td>\n",
       "      <td>0</td>\n",
       "      <td>0</td>\n",
       "      <td>0</td>\n",
       "      <td>0</td>\n",
       "      <td>0</td>\n",
       "    </tr>\n",
       "    <tr>\n",
       "      <th>1</th>\n",
       "      <td>5</td>\n",
       "      <td>0</td>\n",
       "      <td>0</td>\n",
       "      <td>0</td>\n",
       "      <td>0</td>\n",
       "      <td>0</td>\n",
       "      <td>0</td>\n",
       "      <td>0</td>\n",
       "      <td>0</td>\n",
       "      <td>0</td>\n",
       "      <td>...</td>\n",
       "      <td>0</td>\n",
       "      <td>0</td>\n",
       "      <td>0</td>\n",
       "      <td>0</td>\n",
       "      <td>0</td>\n",
       "      <td>0</td>\n",
       "      <td>0</td>\n",
       "      <td>0</td>\n",
       "      <td>0</td>\n",
       "      <td>0</td>\n",
       "    </tr>\n",
       "    <tr>\n",
       "      <th>2</th>\n",
       "      <td>6</td>\n",
       "      <td>0</td>\n",
       "      <td>0</td>\n",
       "      <td>0</td>\n",
       "      <td>0</td>\n",
       "      <td>0</td>\n",
       "      <td>0</td>\n",
       "      <td>0</td>\n",
       "      <td>0</td>\n",
       "      <td>0</td>\n",
       "      <td>...</td>\n",
       "      <td>0</td>\n",
       "      <td>0</td>\n",
       "      <td>0</td>\n",
       "      <td>0</td>\n",
       "      <td>0</td>\n",
       "      <td>0</td>\n",
       "      <td>0</td>\n",
       "      <td>0</td>\n",
       "      <td>0</td>\n",
       "      <td>0</td>\n",
       "    </tr>\n",
       "    <tr>\n",
       "      <th>3</th>\n",
       "      <td>0</td>\n",
       "      <td>0</td>\n",
       "      <td>0</td>\n",
       "      <td>0</td>\n",
       "      <td>0</td>\n",
       "      <td>0</td>\n",
       "      <td>0</td>\n",
       "      <td>0</td>\n",
       "      <td>0</td>\n",
       "      <td>0</td>\n",
       "      <td>...</td>\n",
       "      <td>0</td>\n",
       "      <td>0</td>\n",
       "      <td>0</td>\n",
       "      <td>0</td>\n",
       "      <td>0</td>\n",
       "      <td>0</td>\n",
       "      <td>0</td>\n",
       "      <td>0</td>\n",
       "      <td>0</td>\n",
       "      <td>0</td>\n",
       "    </tr>\n",
       "    <tr>\n",
       "      <th>4</th>\n",
       "      <td>6</td>\n",
       "      <td>0</td>\n",
       "      <td>0</td>\n",
       "      <td>0</td>\n",
       "      <td>0</td>\n",
       "      <td>0</td>\n",
       "      <td>0</td>\n",
       "      <td>0</td>\n",
       "      <td>0</td>\n",
       "      <td>0</td>\n",
       "      <td>...</td>\n",
       "      <td>0</td>\n",
       "      <td>0</td>\n",
       "      <td>0</td>\n",
       "      <td>0</td>\n",
       "      <td>0</td>\n",
       "      <td>0</td>\n",
       "      <td>0</td>\n",
       "      <td>0</td>\n",
       "      <td>0</td>\n",
       "      <td>0</td>\n",
       "    </tr>\n",
       "  </tbody>\n",
       "</table>\n",
       "<p>5 rows × 785 columns</p>\n",
       "</div>\n",
       "    <div class=\"colab-df-buttons\">\n",
       "\n",
       "  <div class=\"colab-df-container\">\n",
       "    <button class=\"colab-df-convert\" onclick=\"convertToInteractive('df-1db29b60-d7a2-4a53-a4a7-88ef9a5d1228')\"\n",
       "            title=\"Convert this dataframe to an interactive table.\"\n",
       "            style=\"display:none;\">\n",
       "\n",
       "  <svg xmlns=\"http://www.w3.org/2000/svg\" height=\"24px\" viewBox=\"0 -960 960 960\">\n",
       "    <path d=\"M120-120v-720h720v720H120Zm60-500h600v-160H180v160Zm220 220h160v-160H400v160Zm0 220h160v-160H400v160ZM180-400h160v-160H180v160Zm440 0h160v-160H620v160ZM180-180h160v-160H180v160Zm440 0h160v-160H620v160Z\"/>\n",
       "  </svg>\n",
       "    </button>\n",
       "\n",
       "  <style>\n",
       "    .colab-df-container {\n",
       "      display:flex;\n",
       "      gap: 12px;\n",
       "    }\n",
       "\n",
       "    .colab-df-convert {\n",
       "      background-color: #E8F0FE;\n",
       "      border: none;\n",
       "      border-radius: 50%;\n",
       "      cursor: pointer;\n",
       "      display: none;\n",
       "      fill: #1967D2;\n",
       "      height: 32px;\n",
       "      padding: 0 0 0 0;\n",
       "      width: 32px;\n",
       "    }\n",
       "\n",
       "    .colab-df-convert:hover {\n",
       "      background-color: #E2EBFA;\n",
       "      box-shadow: 0px 1px 2px rgba(60, 64, 67, 0.3), 0px 1px 3px 1px rgba(60, 64, 67, 0.15);\n",
       "      fill: #174EA6;\n",
       "    }\n",
       "\n",
       "    .colab-df-buttons div {\n",
       "      margin-bottom: 4px;\n",
       "    }\n",
       "\n",
       "    [theme=dark] .colab-df-convert {\n",
       "      background-color: #3B4455;\n",
       "      fill: #D2E3FC;\n",
       "    }\n",
       "\n",
       "    [theme=dark] .colab-df-convert:hover {\n",
       "      background-color: #434B5C;\n",
       "      box-shadow: 0px 1px 3px 1px rgba(0, 0, 0, 0.15);\n",
       "      filter: drop-shadow(0px 1px 2px rgba(0, 0, 0, 0.3));\n",
       "      fill: #FFFFFF;\n",
       "    }\n",
       "  </style>\n",
       "\n",
       "    <script>\n",
       "      const buttonEl =\n",
       "        document.querySelector('#df-1db29b60-d7a2-4a53-a4a7-88ef9a5d1228 button.colab-df-convert');\n",
       "      buttonEl.style.display =\n",
       "        google.colab.kernel.accessAllowed ? 'block' : 'none';\n",
       "\n",
       "      async function convertToInteractive(key) {\n",
       "        const element = document.querySelector('#df-1db29b60-d7a2-4a53-a4a7-88ef9a5d1228');\n",
       "        const dataTable =\n",
       "          await google.colab.kernel.invokeFunction('convertToInteractive',\n",
       "                                                    [key], {});\n",
       "        if (!dataTable) return;\n",
       "\n",
       "        const docLinkHtml = 'Like what you see? Visit the ' +\n",
       "          '<a target=\"_blank\" href=https://colab.research.google.com/notebooks/data_table.ipynb>data table notebook</a>'\n",
       "          + ' to learn more about interactive tables.';\n",
       "        element.innerHTML = '';\n",
       "        dataTable['output_type'] = 'display_data';\n",
       "        await google.colab.output.renderOutput(dataTable, element);\n",
       "        const docLink = document.createElement('div');\n",
       "        docLink.innerHTML = docLinkHtml;\n",
       "        element.appendChild(docLink);\n",
       "      }\n",
       "    </script>\n",
       "  </div>\n",
       "\n",
       "\n",
       "    <div id=\"df-3dcc7f3c-93c1-405f-b092-05472e0eac84\">\n",
       "      <button class=\"colab-df-quickchart\" onclick=\"quickchart('df-3dcc7f3c-93c1-405f-b092-05472e0eac84')\"\n",
       "                title=\"Suggest charts\"\n",
       "                style=\"display:none;\">\n",
       "\n",
       "<svg xmlns=\"http://www.w3.org/2000/svg\" height=\"24px\"viewBox=\"0 0 24 24\"\n",
       "     width=\"24px\">\n",
       "    <g>\n",
       "        <path d=\"M19 3H5c-1.1 0-2 .9-2 2v14c0 1.1.9 2 2 2h14c1.1 0 2-.9 2-2V5c0-1.1-.9-2-2-2zM9 17H7v-7h2v7zm4 0h-2V7h2v10zm4 0h-2v-4h2v4z\"/>\n",
       "    </g>\n",
       "</svg>\n",
       "      </button>\n",
       "\n",
       "<style>\n",
       "  .colab-df-quickchart {\n",
       "      --bg-color: #E8F0FE;\n",
       "      --fill-color: #1967D2;\n",
       "      --hover-bg-color: #E2EBFA;\n",
       "      --hover-fill-color: #174EA6;\n",
       "      --disabled-fill-color: #AAA;\n",
       "      --disabled-bg-color: #DDD;\n",
       "  }\n",
       "\n",
       "  [theme=dark] .colab-df-quickchart {\n",
       "      --bg-color: #3B4455;\n",
       "      --fill-color: #D2E3FC;\n",
       "      --hover-bg-color: #434B5C;\n",
       "      --hover-fill-color: #FFFFFF;\n",
       "      --disabled-bg-color: #3B4455;\n",
       "      --disabled-fill-color: #666;\n",
       "  }\n",
       "\n",
       "  .colab-df-quickchart {\n",
       "    background-color: var(--bg-color);\n",
       "    border: none;\n",
       "    border-radius: 50%;\n",
       "    cursor: pointer;\n",
       "    display: none;\n",
       "    fill: var(--fill-color);\n",
       "    height: 32px;\n",
       "    padding: 0;\n",
       "    width: 32px;\n",
       "  }\n",
       "\n",
       "  .colab-df-quickchart:hover {\n",
       "    background-color: var(--hover-bg-color);\n",
       "    box-shadow: 0 1px 2px rgba(60, 64, 67, 0.3), 0 1px 3px 1px rgba(60, 64, 67, 0.15);\n",
       "    fill: var(--button-hover-fill-color);\n",
       "  }\n",
       "\n",
       "  .colab-df-quickchart-complete:disabled,\n",
       "  .colab-df-quickchart-complete:disabled:hover {\n",
       "    background-color: var(--disabled-bg-color);\n",
       "    fill: var(--disabled-fill-color);\n",
       "    box-shadow: none;\n",
       "  }\n",
       "\n",
       "  .colab-df-spinner {\n",
       "    border: 2px solid var(--fill-color);\n",
       "    border-color: transparent;\n",
       "    border-bottom-color: var(--fill-color);\n",
       "    animation:\n",
       "      spin 1s steps(1) infinite;\n",
       "  }\n",
       "\n",
       "  @keyframes spin {\n",
       "    0% {\n",
       "      border-color: transparent;\n",
       "      border-bottom-color: var(--fill-color);\n",
       "      border-left-color: var(--fill-color);\n",
       "    }\n",
       "    20% {\n",
       "      border-color: transparent;\n",
       "      border-left-color: var(--fill-color);\n",
       "      border-top-color: var(--fill-color);\n",
       "    }\n",
       "    30% {\n",
       "      border-color: transparent;\n",
       "      border-left-color: var(--fill-color);\n",
       "      border-top-color: var(--fill-color);\n",
       "      border-right-color: var(--fill-color);\n",
       "    }\n",
       "    40% {\n",
       "      border-color: transparent;\n",
       "      border-right-color: var(--fill-color);\n",
       "      border-top-color: var(--fill-color);\n",
       "    }\n",
       "    60% {\n",
       "      border-color: transparent;\n",
       "      border-right-color: var(--fill-color);\n",
       "    }\n",
       "    80% {\n",
       "      border-color: transparent;\n",
       "      border-right-color: var(--fill-color);\n",
       "      border-bottom-color: var(--fill-color);\n",
       "    }\n",
       "    90% {\n",
       "      border-color: transparent;\n",
       "      border-bottom-color: var(--fill-color);\n",
       "    }\n",
       "  }\n",
       "</style>\n",
       "\n",
       "      <script>\n",
       "        async function quickchart(key) {\n",
       "          const quickchartButtonEl =\n",
       "            document.querySelector('#' + key + ' button');\n",
       "          quickchartButtonEl.disabled = true;  // To prevent multiple clicks.\n",
       "          quickchartButtonEl.classList.add('colab-df-spinner');\n",
       "          try {\n",
       "            const charts = await google.colab.kernel.invokeFunction(\n",
       "                'suggestCharts', [key], {});\n",
       "          } catch (error) {\n",
       "            console.error('Error during call to suggestCharts:', error);\n",
       "          }\n",
       "          quickchartButtonEl.classList.remove('colab-df-spinner');\n",
       "          quickchartButtonEl.classList.add('colab-df-quickchart-complete');\n",
       "        }\n",
       "        (() => {\n",
       "          let quickchartButtonEl =\n",
       "            document.querySelector('#df-3dcc7f3c-93c1-405f-b092-05472e0eac84 button');\n",
       "          quickchartButtonEl.style.display =\n",
       "            google.colab.kernel.accessAllowed ? 'block' : 'none';\n",
       "        })();\n",
       "      </script>\n",
       "    </div>\n",
       "\n",
       "    </div>\n",
       "  </div>\n"
      ],
      "text/plain": [
       "   0    1    2    3    4    5    6    7    8    9    ...  775  776  777  778  \\\n",
       "0    1    0    0    0    0    0    0    0    0    0  ...    0    0    0    0   \n",
       "1    5    0    0    0    0    0    0    0    0    0  ...    0    0    0    0   \n",
       "2    6    0    0    0    0    0    0    0    0    0  ...    0    0    0    0   \n",
       "3    0    0    0    0    0    0    0    0    0    0  ...    0    0    0    0   \n",
       "4    6    0    0    0    0    0    0    0    0    0  ...    0    0    0    0   \n",
       "\n",
       "   779  780  781  782  783  784  \n",
       "0    0    0    0    0    0    0  \n",
       "1    0    0    0    0    0    0  \n",
       "2    0    0    0    0    0    0  \n",
       "3    0    0    0    0    0    0  \n",
       "4    0    0    0    0    0    0  \n",
       "\n",
       "[5 rows x 785 columns]"
      ]
     },
     "execution_count": 69,
     "metadata": {},
     "output_type": "execute_result"
    }
   ],
   "source": [
    "dataset.head()"
   ]
  },
  {
   "cell_type": "code",
   "execution_count": 70,
   "metadata": {
    "colab": {
     "base_uri": "https://localhost:8080/",
     "height": 458
    },
    "executionInfo": {
     "elapsed": 22,
     "status": "ok",
     "timestamp": 1756390382436,
     "user": {
      "displayName": "Piergiorgio Di Pasquale",
      "userId": "07379998051964901818"
     },
     "user_tz": -120
    },
    "id": "Ga8pLexGGcrm",
    "outputId": "bccbddf7-2ed3-45a8-c020-1bad35c819a6"
   },
   "outputs": [
    {
     "data": {
      "text/html": [
       "<div>\n",
       "<style scoped>\n",
       "    .dataframe tbody tr th:only-of-type {\n",
       "        vertical-align: middle;\n",
       "    }\n",
       "\n",
       "    .dataframe tbody tr th {\n",
       "        vertical-align: top;\n",
       "    }\n",
       "\n",
       "    .dataframe thead th {\n",
       "        text-align: right;\n",
       "    }\n",
       "</style>\n",
       "<table border=\"1\" class=\"dataframe\">\n",
       "  <thead>\n",
       "    <tr style=\"text-align: right;\">\n",
       "      <th></th>\n",
       "      <th>0</th>\n",
       "    </tr>\n",
       "  </thead>\n",
       "  <tbody>\n",
       "    <tr>\n",
       "      <th>0</th>\n",
       "      <td>1</td>\n",
       "    </tr>\n",
       "    <tr>\n",
       "      <th>1</th>\n",
       "      <td>0</td>\n",
       "    </tr>\n",
       "    <tr>\n",
       "      <th>2</th>\n",
       "      <td>0</td>\n",
       "    </tr>\n",
       "    <tr>\n",
       "      <th>3</th>\n",
       "      <td>0</td>\n",
       "    </tr>\n",
       "    <tr>\n",
       "      <th>4</th>\n",
       "      <td>0</td>\n",
       "    </tr>\n",
       "    <tr>\n",
       "      <th>...</th>\n",
       "      <td>...</td>\n",
       "    </tr>\n",
       "    <tr>\n",
       "      <th>780</th>\n",
       "      <td>0</td>\n",
       "    </tr>\n",
       "    <tr>\n",
       "      <th>781</th>\n",
       "      <td>0</td>\n",
       "    </tr>\n",
       "    <tr>\n",
       "      <th>782</th>\n",
       "      <td>0</td>\n",
       "    </tr>\n",
       "    <tr>\n",
       "      <th>783</th>\n",
       "      <td>0</td>\n",
       "    </tr>\n",
       "    <tr>\n",
       "      <th>784</th>\n",
       "      <td>0</td>\n",
       "    </tr>\n",
       "  </tbody>\n",
       "</table>\n",
       "<p>785 rows × 1 columns</p>\n",
       "</div><br><label><b>dtype:</b> int64</label>"
      ],
      "text/plain": [
       "0      1\n",
       "1      0\n",
       "2      0\n",
       "3      0\n",
       "4      0\n",
       "      ..\n",
       "780    0\n",
       "781    0\n",
       "782    0\n",
       "783    0\n",
       "784    0\n",
       "Name: 0, Length: 785, dtype: int64"
      ]
     },
     "execution_count": 70,
     "metadata": {},
     "output_type": "execute_result"
    }
   ],
   "source": [
    "dataset.iloc[0] # index lock the first row"
   ]
  },
  {
   "cell_type": "code",
   "execution_count": 71,
   "metadata": {
    "executionInfo": {
     "elapsed": 20,
     "status": "ok",
     "timestamp": 1756390383429,
     "user": {
      "displayName": "Piergiorgio Di Pasquale",
      "userId": "07379998051964901818"
     },
     "user_tz": -120
    },
    "id": "x1YSyZnbGhvQ"
   },
   "outputs": [],
   "source": [
    "Y_train, X_train = dataset.iloc[:,0], dataset.iloc[:, 1:] # get all the rows of the zeroth column, and all the rows from the first column on"
   ]
  },
  {
   "cell_type": "code",
   "execution_count": 72,
   "metadata": {
    "colab": {
     "base_uri": "https://localhost:8080/",
     "height": 458
    },
    "executionInfo": {
     "elapsed": 4,
     "status": "ok",
     "timestamp": 1756390383434,
     "user": {
      "displayName": "Piergiorgio Di Pasquale",
      "userId": "07379998051964901818"
     },
     "user_tz": -120
    },
    "id": "eCmU_JW-Ifib",
    "outputId": "f08db942-a4af-4c00-f925-f846a05e18ee"
   },
   "outputs": [
    {
     "data": {
      "text/html": [
       "<div>\n",
       "<style scoped>\n",
       "    .dataframe tbody tr th:only-of-type {\n",
       "        vertical-align: middle;\n",
       "    }\n",
       "\n",
       "    .dataframe tbody tr th {\n",
       "        vertical-align: top;\n",
       "    }\n",
       "\n",
       "    .dataframe thead th {\n",
       "        text-align: right;\n",
       "    }\n",
       "</style>\n",
       "<table border=\"1\" class=\"dataframe\">\n",
       "  <thead>\n",
       "    <tr style=\"text-align: right;\">\n",
       "      <th></th>\n",
       "      <th>0</th>\n",
       "    </tr>\n",
       "  </thead>\n",
       "  <tbody>\n",
       "    <tr>\n",
       "      <th>1</th>\n",
       "      <td>0</td>\n",
       "    </tr>\n",
       "    <tr>\n",
       "      <th>2</th>\n",
       "      <td>0</td>\n",
       "    </tr>\n",
       "    <tr>\n",
       "      <th>3</th>\n",
       "      <td>0</td>\n",
       "    </tr>\n",
       "    <tr>\n",
       "      <th>4</th>\n",
       "      <td>0</td>\n",
       "    </tr>\n",
       "    <tr>\n",
       "      <th>5</th>\n",
       "      <td>0</td>\n",
       "    </tr>\n",
       "    <tr>\n",
       "      <th>...</th>\n",
       "      <td>...</td>\n",
       "    </tr>\n",
       "    <tr>\n",
       "      <th>780</th>\n",
       "      <td>0</td>\n",
       "    </tr>\n",
       "    <tr>\n",
       "      <th>781</th>\n",
       "      <td>0</td>\n",
       "    </tr>\n",
       "    <tr>\n",
       "      <th>782</th>\n",
       "      <td>0</td>\n",
       "    </tr>\n",
       "    <tr>\n",
       "      <th>783</th>\n",
       "      <td>0</td>\n",
       "    </tr>\n",
       "    <tr>\n",
       "      <th>784</th>\n",
       "      <td>0</td>\n",
       "    </tr>\n",
       "  </tbody>\n",
       "</table>\n",
       "<p>784 rows × 1 columns</p>\n",
       "</div><br><label><b>dtype:</b> int64</label>"
      ],
      "text/plain": [
       "1      0\n",
       "2      0\n",
       "3      0\n",
       "4      0\n",
       "5      0\n",
       "      ..\n",
       "780    0\n",
       "781    0\n",
       "782    0\n",
       "783    0\n",
       "784    0\n",
       "Name: 0, Length: 784, dtype: int64"
      ]
     },
     "execution_count": 72,
     "metadata": {},
     "output_type": "execute_result"
    }
   ],
   "source": [
    "X_train.iloc[0,:] # let's see one example"
   ]
  },
  {
   "cell_type": "code",
   "execution_count": 73,
   "metadata": {
    "executionInfo": {
     "elapsed": 40,
     "status": "ok",
     "timestamp": 1756390383621,
     "user": {
      "displayName": "Piergiorgio Di Pasquale",
      "userId": "07379998051964901818"
     },
     "user_tz": -120
    },
    "id": "5LANkvRLG_48"
   },
   "outputs": [],
   "source": [
    "example = torch.tensor(X_train.iloc[0,:].to_numpy())"
   ]
  },
  {
   "cell_type": "code",
   "execution_count": 74,
   "metadata": {
    "executionInfo": {
     "elapsed": 2,
     "status": "ok",
     "timestamp": 1756390383705,
     "user": {
      "displayName": "Piergiorgio Di Pasquale",
      "userId": "07379998051964901818"
     },
     "user_tz": -120
    },
    "id": "ZDHR_AAOH3PC"
   },
   "outputs": [],
   "source": [
    "reshaped_example = example.view([28,28]) # view is very usefull to reshape tensors"
   ]
  },
  {
   "cell_type": "code",
   "execution_count": 75,
   "metadata": {
    "colab": {
     "base_uri": "https://localhost:8080/",
     "height": 447
    },
    "executionInfo": {
     "elapsed": 202,
     "status": "ok",
     "timestamp": 1756390384595,
     "user": {
      "displayName": "Piergiorgio Di Pasquale",
      "userId": "07379998051964901818"
     },
     "user_tz": -120
    },
    "id": "7_W7aL1UI_M7",
    "outputId": "73ac4243-be2d-490d-87ea-af9d7f053515"
   },
   "outputs": [
    {
     "data": {
      "text/plain": [
       "<matplotlib.image.AxesImage at 0x7ba5fc1b18b0>"
      ]
     },
     "execution_count": 75,
     "metadata": {},
     "output_type": "execute_result"
    },
    {
     "data": {
      "image/png": "[encoded data removed]",
      "text/plain": [
       "<Figure size 640x480 with 1 Axes>"
      ]
     },
     "metadata": {},
     "output_type": "display_data"
    }
   ],
   "source": [
    "plt.imshow(reshaped_example)"
   ]
  },
  {
   "cell_type": "markdown",
   "metadata": {
    "id": "y9k3a7JnwbVS"
   },
   "source": [
    "# the PyTorch way"
   ]
  },
  {
   "cell_type": "code",
   "execution_count": 76,
   "metadata": {
    "executionInfo": {
     "elapsed": 5,
     "status": "ok",
     "timestamp": 1756390384714,
     "user": {
      "displayName": "Piergiorgio Di Pasquale",
      "userId": "07379998051964901818"
     },
     "user_tz": -120
    },
    "id": "fUbY3ZABwt5X"
   },
   "outputs": [],
   "source": [
    "from torch.utils.data import TensorDataset, DataLoader\n",
    "import torch.nn.functional as F"
   ]
  },
  {
   "cell_type": "code",
   "execution_count": 77,
   "metadata": {
    "executionInfo": {
     "elapsed": 51,
     "status": "ok",
     "timestamp": 1756390385512,
     "user": {
      "displayName": "Piergiorgio Di Pasquale",
      "userId": "07379998051964901818"
     },
     "user_tz": -120
    },
    "id": "kVorsU1MNg-i"
   },
   "outputs": [],
   "source": [
    "Y_train, X_train = torch.tensor(dataset.iloc[:,0].to_numpy()).to(device), torch.tensor(dataset.iloc[:, 1:].to_numpy(),dtype = torch.float32).to(device)\n",
    "Y_test, X_test = torch.tensor(dataset_test.iloc[:,0].to_numpy()).to(device), torch.tensor(dataset_test.iloc[:, 1:].to_numpy(),dtype = torch.float32).to(device)"
   ]
  },
  {
   "cell_type": "code",
   "execution_count": 78,
   "metadata": {
    "colab": {
     "base_uri": "https://localhost:8080/"
    },
    "executionInfo": {
     "elapsed": 60,
     "status": "ok",
     "timestamp": 1756390385654,
     "user": {
      "displayName": "Piergiorgio Di Pasquale",
      "userId": "07379998051964901818"
     },
     "user_tz": -120
    },
    "id": "xOGLcaP_PvjL",
    "outputId": "5f93555b-bd8f-4307-cf2c-36d6520009ea"
   },
   "outputs": [
    {
     "data": {
      "text/plain": [
       "tensor([0., 1., 0., 0., 0., 0., 0., 0., 0., 0.], device='cuda:0',\n",
       "       dtype=torch.float16)"
      ]
     },
     "execution_count": 78,
     "metadata": {},
     "output_type": "execute_result"
    }
   ],
   "source": [
    "Y_train_one_hot = F.one_hot(Y_train, 10).to(torch.float16)\n",
    "Y_test_one_hot = F.one_hot(Y_test, 10).to(torch.float16)\n",
    "Y_train_one_hot[0]"
   ]
  },
  {
   "cell_type": "code",
   "execution_count": 79,
   "metadata": {
    "executionInfo": {
     "elapsed": 3,
     "status": "ok",
     "timestamp": 1756390386038,
     "user": {
      "displayName": "Piergiorgio Di Pasquale",
      "userId": "07379998051964901818"
     },
     "user_tz": -120
    },
    "id": "u90_M-lNSb0U"
   },
   "outputs": [],
   "source": [
    "train_loader = DataLoader(TensorDataset(X_train, Y_train_one_hot), batch_size=128, shuffle=True)\n",
    "test_loader = DataLoader(TensorDataset(X_test, Y_test_one_hot), batch_size=128, shuffle=True)"
   ]
  },
  {
   "cell_type": "code",
   "execution_count": 80,
   "metadata": {
    "colab": {
     "base_uri": "https://localhost:8080/",
     "height": 465
    },
    "executionInfo": {
     "elapsed": 184,
     "status": "ok",
     "timestamp": 1756390386577,
     "user": {
      "displayName": "Piergiorgio Di Pasquale",
      "userId": "07379998051964901818"
     },
     "user_tz": -120
    },
    "id": "YZGq4mXySmFC",
    "outputId": "e715c3ed-0fb6-4db5-e595-d4e2e3347901"
   },
   "outputs": [
    {
     "data": {
      "text/plain": [
       "tensor([0., 0., 0., 0., 0., 0., 0., 1., 0., 0.], device='cuda:0',\n",
       "       dtype=torch.float16)"
      ]
     },
     "execution_count": 80,
     "metadata": {},
     "output_type": "execute_result"
    },
    {
     "data": {
      "image/png": "[encoded data removed]",
      "text/plain": [
       "<Figure size 640x480 with 1 Axes>"
      ]
     },
     "metadata": {},
     "output_type": "display_data"
    }
   ],
   "source": [
    "input,target = next(iter(train_loader))\n",
    "plt.imshow(input[0].view(28,28).to(\"cpu\"))\n",
    "target[0]"
   ]
  },
  {
   "cell_type": "markdown",
   "metadata": {
    "id": "KzVxX2n9Scp_"
   },
   "source": [
    "# Model"
   ]
  },
  {
   "cell_type": "code",
   "execution_count": 81,
   "metadata": {
    "executionInfo": {
     "elapsed": 17,
     "status": "ok",
     "timestamp": 1756390386726,
     "user": {
      "displayName": "Piergiorgio Di Pasquale",
      "userId": "07379998051964901818"
     },
     "user_tz": -120
    },
    "id": "JE5ThkxAJ3J7"
   },
   "outputs": [],
   "source": [
    "import torch.nn as nn\n",
    "import torch.nn.functional as F\n",
    "\n",
    "class MLP(nn.Module):\n",
    "    def __init__(self):\n",
    "        nn.Module.__init__(self)\n",
    "        self.fc1 = nn.Linear(28**2, 28**2*4)\n",
    "        self.fc2 = nn.Linear(28**2*4, 28**2*4)\n",
    "        self.fc3 = nn.Linear(28**2*4, 10)\n",
    "\n",
    "    def forward(self, x):\n",
    "        x = F.relu(self.fc1(x))\n",
    "        x = F.relu(self.fc2(x))\n",
    "        logits = self.fc3(x)\n",
    "        return logits"
   ]
  },
  {
   "cell_type": "code",
   "execution_count": 82,
   "metadata": {
    "executionInfo": {
     "elapsed": 119,
     "status": "ok",
     "timestamp": 1756390386952,
     "user": {
      "displayName": "Piergiorgio Di Pasquale",
      "userId": "07379998051964901818"
     },
     "user_tz": -120
    },
    "id": "_wLGuKkQLDq_"
   },
   "outputs": [],
   "source": [
    "model = MLP()"
   ]
  },
  {
   "cell_type": "code",
   "execution_count": 83,
   "metadata": {
    "colab": {
     "base_uri": "https://localhost:8080/"
    },
    "executionInfo": {
     "elapsed": 255,
     "status": "ok",
     "timestamp": 1756390387814,
     "user": {
      "displayName": "Piergiorgio Di Pasquale",
      "userId": "07379998051964901818"
     },
     "user_tz": -120
    },
    "id": "lGcXlWP9LFdF",
    "outputId": "b33912d1-5eb8-4273-f6d9-f5cfa252f64c"
   },
   "outputs": [
    {
     "data": {
      "text/plain": [
       "[torch.Size([3136, 784]),\n",
       " torch.Size([3136]),\n",
       " torch.Size([3136, 3136]),\n",
       " torch.Size([3136]),\n",
       " torch.Size([10, 3136]),\n",
       " torch.Size([10])]"
      ]
     },
     "execution_count": 83,
     "metadata": {},
     "output_type": "execute_result"
    }
   ],
   "source": [
    "[p.shape for p in model.parameters()] # weight, bias, weight, bias..."
   ]
  },
  {
   "cell_type": "code",
   "execution_count": 84,
   "metadata": {
    "colab": {
     "base_uri": "https://localhost:8080/"
    },
    "executionInfo": {
     "elapsed": 7,
     "status": "ok",
     "timestamp": 1756390387899,
     "user": {
      "displayName": "Piergiorgio Di Pasquale",
      "userId": "07379998051964901818"
     },
     "user_tz": -120
    },
    "id": "MYfKmpcAL04N",
    "outputId": "1abb7096-a5c1-4279-d748-13d669817b26"
   },
   "outputs": [
    {
     "data": {
      "text/plain": [
       "[device(type='cpu'),\n",
       " device(type='cpu'),\n",
       " device(type='cpu'),\n",
       " device(type='cpu'),\n",
       " device(type='cpu'),\n",
       " device(type='cpu')]"
      ]
     },
     "execution_count": 84,
     "metadata": {},
     "output_type": "execute_result"
    }
   ],
   "source": [
    "[p.device for p in model.parameters()]\n",
    "\n"
   ]
  },
  {
   "cell_type": "code",
   "execution_count": 85,
   "metadata": {
    "colab": {
     "base_uri": "https://localhost:8080/"
    },
    "executionInfo": {
     "elapsed": 56,
     "status": "ok",
     "timestamp": 1756390387994,
     "user": {
      "displayName": "Piergiorgio Di Pasquale",
      "userId": "07379998051964901818"
     },
     "user_tz": -120
    },
    "id": "D-qrheROxAPX",
    "outputId": "9ba9373d-bcb0-4880-9f19-a4f79e0db85a"
   },
   "outputs": [
    {
     "data": {
      "text/plain": [
       "[device(type='cuda', index=0),\n",
       " device(type='cuda', index=0),\n",
       " device(type='cuda', index=0),\n",
       " device(type='cuda', index=0),\n",
       " device(type='cuda', index=0),\n",
       " device(type='cuda', index=0)]"
      ]
     },
     "execution_count": 85,
     "metadata": {},
     "output_type": "execute_result"
    }
   ],
   "source": [
    "model.to(device)\n",
    "[p.device for p in model.parameters()] # all in cuda device"
   ]
  },
  {
   "cell_type": "code",
   "execution_count": 86,
   "metadata": {
    "colab": {
     "base_uri": "https://localhost:8080/"
    },
    "executionInfo": {
     "elapsed": 47,
     "status": "ok",
     "timestamp": 1756390388140,
     "user": {
      "displayName": "Piergiorgio Di Pasquale",
      "userId": "07379998051964901818"
     },
     "user_tz": -120
    },
    "id": "u7QfXYVyMDpX",
    "outputId": "6b96f944-68fb-43c6-a406-e47b2bd3dd95"
   },
   "outputs": [
    {
     "data": {
      "text/plain": [
       "[True, True, True, True, True, True]"
      ]
     },
     "execution_count": 86,
     "metadata": {},
     "output_type": "execute_result"
    }
   ],
   "source": [
    "[p.requires_grad for p in model.parameters()] # all requires grad True"
   ]
  },
  {
   "cell_type": "code",
   "execution_count": 87,
   "metadata": {
    "colab": {
     "base_uri": "https://localhost:8080/"
    },
    "executionInfo": {
     "elapsed": 27,
     "status": "ok",
     "timestamp": 1756390388170,
     "user": {
      "displayName": "Piergiorgio Di Pasquale",
      "userId": "07379998051964901818"
     },
     "user_tz": -120
    },
    "id": "b72u6X_UN4cX",
    "outputId": "2b86e884-0f17-455f-f3c5-3b6bb7869065"
   },
   "outputs": [
    {
     "name": "stdout",
     "output_type": "stream",
     "text": [
      "MLP(\n",
      "  (fc1): Linear(in_features=784, out_features=3136, bias=True)\n",
      "  (fc2): Linear(in_features=3136, out_features=3136, bias=True)\n",
      "  (fc3): Linear(in_features=3136, out_features=10, bias=True)\n",
      ")\n"
     ]
    }
   ],
   "source": [
    "print(model)"
   ]
  },
  {
   "cell_type": "markdown",
   "metadata": {
    "id": "G2Bg70VZ2g1a"
   },
   "source": [
    "## pay attention to dimensions"
   ]
  },
  {
   "cell_type": "code",
   "execution_count": 88,
   "metadata": {
    "colab": {
     "base_uri": "https://localhost:8080/"
    },
    "executionInfo": {
     "elapsed": 283,
     "status": "ok",
     "timestamp": 1756390389180,
     "user": {
      "displayName": "Piergiorgio Di Pasquale",
      "userId": "07379998051964901818"
     },
     "user_tz": -120
    },
    "id": "igkbwxOO1hcS",
    "outputId": "fe4baef3-c0b2-456b-a986-8b35e10786cd"
   },
   "outputs": [
    {
     "data": {
      "text/plain": [
       "tensor([[ -5.4973,  10.3431,   6.8945,   2.9943, -19.6836,  -3.5454,   0.4817,\n",
       "          -2.1445,  -4.3881,  16.2558],\n",
       "        [-19.8731,  12.2602,  -1.7504,   3.7559,  -6.5974,  -2.0768,  -7.8852,\n",
       "           4.1525,   6.7537,  12.3867]], device='cuda:0',\n",
       "       grad_fn=<AddmmBackward0>)"
      ]
     },
     "execution_count": 88,
     "metadata": {},
     "output_type": "execute_result"
    }
   ],
   "source": [
    "# make predictions and check confidence of the model\n",
    "input,target = next(iter(train_loader))\n",
    "output, target = model(input[0:2]), target[0:2]\n",
    "# confidence is low, infact the model gives random gibberish as for the results\n",
    "output"
   ]
  },
  {
   "cell_type": "code",
   "execution_count": 89,
   "metadata": {
    "colab": {
     "base_uri": "https://localhost:8080/"
    },
    "executionInfo": {
     "elapsed": 9,
     "status": "ok",
     "timestamp": 1756390389323,
     "user": {
      "displayName": "Piergiorgio Di Pasquale",
      "userId": "07379998051964901818"
     },
     "user_tz": -120
    },
    "id": "r9ptmAmW2xtj",
    "outputId": "76a53b48-522e-4b35-a8b2-b3ce20be340a"
   },
   "outputs": [
    {
     "data": {
      "text/plain": [
       "torch.Size([2, 10])"
      ]
     },
     "execution_count": 89,
     "metadata": {},
     "output_type": "execute_result"
    }
   ],
   "source": [
    "output.size()"
   ]
  },
  {
   "cell_type": "code",
   "execution_count": 90,
   "metadata": {
    "colab": {
     "base_uri": "https://localhost:8080/"
    },
    "executionInfo": {
     "elapsed": 7,
     "status": "ok",
     "timestamp": 1756390389364,
     "user": {
      "displayName": "Piergiorgio Di Pasquale",
      "userId": "07379998051964901818"
     },
     "user_tz": -120
    },
    "id": "J27gWJWw2U89",
    "outputId": "7feb9d7a-1b53-435b-8432-70aa9c83e7cb"
   },
   "outputs": [
    {
     "data": {
      "text/plain": [
       "tensor([3.5607e-10, 2.6973e-03, 8.5743e-05, 1.7352e-06, 2.4574e-16, 2.5073e-09,\n",
       "        1.4066e-07, 1.0177e-08, 1.0795e-09, 9.9722e-01], device='cuda:0',\n",
       "       grad_fn=<SoftmaxBackward0>)"
      ]
     },
     "execution_count": 90,
     "metadata": {},
     "output_type": "execute_result"
    }
   ],
   "source": [
    "output[0].softmax(-1) # we want to calculate softmax along each element in the batch, so we want to do it on\n",
    "           # the second of the 2 dimensions above, not the first\n",
    "           #        NOT THIS ONE\n",
    "           #          |\n",
    "           #          V\n",
    "           # [\n",
    "               # [ -4.0369,  -4.3247, -10.1753,   0.1598,  -2.9019,   4.0838,   7.7013, 2.9484, -12.1731,  -3.8176] <-- along this dimension\n",
    "               # [ -5.4059, -11.0881, -21.5375,  -6.6593,   1.3501,  -1.0939,   3.1066, -1.9324,  -1.4153,  -7.6667]\n",
    "            #]\n"
   ]
  },
  {
   "cell_type": "code",
   "execution_count": 91,
   "metadata": {
    "colab": {
     "base_uri": "https://localhost:8080/"
    },
    "executionInfo": {
     "elapsed": 41,
     "status": "ok",
     "timestamp": 1756390389410,
     "user": {
      "displayName": "Piergiorgio Di Pasquale",
      "userId": "07379998051964901818"
     },
     "user_tz": -120
    },
    "id": "Ns-LcfZd1jZc",
    "outputId": "88b87d92-59db-42e4-f80d-1c316f33043a"
   },
   "outputs": [
    {
     "data": {
      "text/plain": [
       "tensor([[1.0000e+00, 1.2819e-01, 9.9982e-01, 3.1829e-01, 2.0735e-06, 1.8714e-01,\n",
       "         9.9977e-01, 1.8384e-03, 1.4493e-05, 9.7955e-01],\n",
       "        [5.7101e-07, 8.7181e-01, 1.7600e-04, 6.8171e-01, 1.0000e+00, 8.1286e-01,\n",
       "         2.3237e-04, 9.9816e-01, 9.9999e-01, 2.0449e-02]], device='cuda:0',\n",
       "       grad_fn=<SoftmaxBackward0>)"
      ]
     },
     "execution_count": 91,
     "metadata": {},
     "output_type": "execute_result"
    }
   ],
   "source": [
    "output.softmax(dim = 0) # this is wrong, we are calcualting across elements in the batches!"
   ]
  },
  {
   "cell_type": "code",
   "execution_count": 92,
   "metadata": {
    "colab": {
     "base_uri": "https://localhost:8080/"
    },
    "executionInfo": {
     "elapsed": 20,
     "status": "ok",
     "timestamp": 1756390389474,
     "user": {
      "displayName": "Piergiorgio Di Pasquale",
      "userId": "07379998051964901818"
     },
     "user_tz": -120
    },
    "id": "OpmmKgqU1_ij",
    "outputId": "17afc8c8-4ce3-4a87-dd49-2b423ca313a2"
   },
   "outputs": [
    {
     "data": {
      "text/plain": [
       "tensor([[3.5607e-10, 2.6973e-03, 8.5743e-05, 1.7352e-06, 2.4574e-16, 2.5073e-09,\n",
       "         1.4066e-07, 1.0177e-08, 1.0795e-09, 9.9722e-01],\n",
       "        [5.1807e-15, 4.6742e-01, 3.8459e-07, 9.4699e-05, 3.0198e-09, 2.7749e-07,\n",
       "         8.3304e-10, 1.4080e-04, 1.8980e-03, 5.3045e-01]], device='cuda:0',\n",
       "       grad_fn=<SoftmaxBackward0>)"
      ]
     },
     "execution_count": 92,
     "metadata": {},
     "output_type": "execute_result"
    }
   ],
   "source": [
    "output.softmax(dim = -1) # as we can see this is the same as the result we obtained 2 cells above, thus it is the correct one"
   ]
  },
  {
   "cell_type": "code",
   "execution_count": 93,
   "metadata": {
    "colab": {
     "base_uri": "https://localhost:8080/"
    },
    "executionInfo": {
     "elapsed": 23,
     "status": "ok",
     "timestamp": 1756390389915,
     "user": {
      "displayName": "Piergiorgio Di Pasquale",
      "userId": "07379998051964901818"
     },
     "user_tz": -120
    },
    "id": "mTKZyqFm2Nve",
    "outputId": "1c22b3cd-4a1e-47cb-9743-5083042bab85"
   },
   "outputs": [
    {
     "data": {
      "text/plain": [
       "tensor([[3.5607e-10, 2.6973e-03, 8.5743e-05, 1.7352e-06, 2.4574e-16, 2.5073e-09,\n",
       "         1.4066e-07, 1.0177e-08, 1.0795e-09, 9.9722e-01],\n",
       "        [5.1807e-15, 4.6742e-01, 3.8459e-07, 9.4699e-05, 3.0198e-09, 2.7749e-07,\n",
       "         8.3304e-10, 1.4080e-04, 1.8980e-03, 5.3045e-01]], device='cuda:0',\n",
       "       grad_fn=<SoftmaxBackward0>)"
      ]
     },
     "execution_count": 93,
     "metadata": {},
     "output_type": "execute_result"
    }
   ],
   "source": [
    "output.softmax(dim = 1) # when we have multple elements in each batch, we can just indicate the dimension,\n",
    "# if there is only one element, just use -1"
   ]
  },
  {
   "cell_type": "markdown",
   "metadata": {
    "id": "4vfhRmoO2kv-"
   },
   "source": [
    "# model confidence"
   ]
  },
  {
   "cell_type": "code",
   "execution_count": 94,
   "metadata": {
    "colab": {
     "base_uri": "https://localhost:8080/",
     "height": 437
    },
    "executionInfo": {
     "elapsed": 289,
     "status": "ok",
     "timestamp": 1756390390473,
     "user": {
      "displayName": "Piergiorgio Di Pasquale",
      "userId": "07379998051964901818"
     },
     "user_tz": -120
    },
    "id": "y7cVNaSIztmI",
    "outputId": "f64cb999-3195-4469-efd1-3d0ca52bdfdb"
   },
   "outputs": [
    {
     "data": {
      "image/png": "[encoded data removed]",
      "text/plain": [
       "<Figure size 1200x500 with 2 Axes>"
      ]
     },
     "metadata": {},
     "output_type": "display_data"
    }
   ],
   "source": [
    "# make predictions and check confidence of the model\n",
    "input,target = next(iter(train_loader))\n",
    "output, target = model(input[0]), target[0]\n",
    "# confidence is low, infact the model gives random gibberish as for the results\n",
    "output= output.softmax(dim = -1)\n",
    "vals = output.detach().cpu().numpy()\n",
    "\n",
    "\n",
    "fig,ax = plt.subplots(1,2, figsize =( 12,5))\n",
    "\n",
    "ax[0].bar(range(len(vals)), vals)\n",
    "ax[0].set_xticks(range(10))\n",
    "ax[0].set_xticklabels(range(10), rotation=45, ha='right')\n",
    "ax[0].set_ylabel(\"Probability\")\n",
    "ax[0].set_title(f\"prediction: {torch.argmax(output, dim = -1)}\")\n",
    "ax[1].imshow(input[0].view(28,28).to(\"cpu\"))\n",
    "ax[1].set_title(f\"target: {torch.argmax(target, dim=-1)}\")\n",
    "ax[1].set_axis_off()\n",
    "plt.show()"
   ]
  },
  {
   "cell_type": "code",
   "execution_count": 95,
   "metadata": {
    "executionInfo": {
     "elapsed": 4,
     "status": "ok",
     "timestamp": 1756390390481,
     "user": {
      "displayName": "Piergiorgio Di Pasquale",
      "userId": "07379998051964901818"
     },
     "user_tz": -120
    },
    "id": "5MImSdRoxoBN"
   },
   "outputs": [],
   "source": [
    "input,target = next(iter(train_loader))"
   ]
  },
  {
   "cell_type": "code",
   "execution_count": 96,
   "metadata": {
    "executionInfo": {
     "elapsed": 15,
     "status": "ok",
     "timestamp": 1756390391643,
     "user": {
      "displayName": "Piergiorgio Di Pasquale",
      "userId": "07379998051964901818"
     },
     "user_tz": -120
    },
    "id": "pegFJE-tOSjx"
   },
   "outputs": [],
   "source": [
    "output = model(input[0])"
   ]
  },
  {
   "cell_type": "code",
   "execution_count": 97,
   "metadata": {
    "colab": {
     "base_uri": "https://localhost:8080/"
    },
    "executionInfo": {
     "elapsed": 16,
     "status": "ok",
     "timestamp": 1756390391793,
     "user": {
      "displayName": "Piergiorgio Di Pasquale",
      "userId": "07379998051964901818"
     },
     "user_tz": -120
    },
    "id": "gycs6asTLuc3",
    "outputId": "01b2a298-6a12-4241-f382-68a6b171f834"
   },
   "outputs": [
    {
     "data": {
      "text/plain": [
       "torch.Size([10])"
      ]
     },
     "execution_count": 97,
     "metadata": {},
     "output_type": "execute_result"
    }
   ],
   "source": [
    "output.size()"
   ]
  },
  {
   "cell_type": "code",
   "execution_count": 98,
   "metadata": {
    "colab": {
     "base_uri": "https://localhost:8080/"
    },
    "executionInfo": {
     "elapsed": 25,
     "status": "ok",
     "timestamp": 1756390391930,
     "user": {
      "displayName": "Piergiorgio Di Pasquale",
      "userId": "07379998051964901818"
     },
     "user_tz": -120
    },
    "id": "V-wbaWsbLuc4",
    "outputId": "b159f1ce-3a6b-47b5-aa50-ee3f5e963141"
   },
   "outputs": [
    {
     "data": {
      "text/plain": [
       "(torch.Size([1, 10]),\n",
       " tensor([[1.8197e-13, 1.0041e-06, 4.2301e-08, 1.9346e-10, 5.0672e-13, 1.4018e-12,\n",
       "          4.4237e-10, 8.6930e-06, 2.2727e-13, 9.9999e-01]], device='cuda:0',\n",
       "        grad_fn=<SoftmaxBackward0>))"
      ]
     },
     "execution_count": 98,
     "metadata": {},
     "output_type": "execute_result"
    }
   ],
   "source": [
    "output = output.view(1,10)\n",
    "output.size(),output.softmax(dim = 1)"
   ]
  },
  {
   "cell_type": "code",
   "execution_count": 99,
   "metadata": {
    "colab": {
     "base_uri": "https://localhost:8080/"
    },
    "executionInfo": {
     "elapsed": 38,
     "status": "ok",
     "timestamp": 1756390392604,
     "user": {
      "displayName": "Piergiorgio Di Pasquale",
      "userId": "07379998051964901818"
     },
     "user_tz": -120
    },
    "id": "SYF6oAQDOrTM",
    "outputId": "7510b736-4723-47ec-9b8f-e529699432ed"
   },
   "outputs": [
    {
     "data": {
      "text/plain": [
       "tensor(1.0000, device='cuda:0', grad_fn=<AddBackward0>)"
      ]
     },
     "execution_count": 99,
     "metadata": {},
     "output_type": "execute_result"
    }
   ],
   "source": [
    "sum(output.softmax(dim = 1)[0]) # output is softmax"
   ]
  },
  {
   "cell_type": "code",
   "execution_count": 100,
   "metadata": {
    "executionInfo": {
     "elapsed": 3,
     "status": "ok",
     "timestamp": 1756390392693,
     "user": {
      "displayName": "Piergiorgio Di Pasquale",
      "userId": "07379998051964901818"
     },
     "user_tz": -120
    },
    "id": "rr5umJOLO0h2"
   },
   "outputs": [],
   "source": [
    "output_batch = model(input) # we can give the model entire batches, to train or to infer"
   ]
  },
  {
   "cell_type": "code",
   "execution_count": 101,
   "metadata": {
    "colab": {
     "base_uri": "https://localhost:8080/"
    },
    "executionInfo": {
     "elapsed": 114,
     "status": "ok",
     "timestamp": 1756390393360,
     "user": {
      "displayName": "Piergiorgio Di Pasquale",
      "userId": "07379998051964901818"
     },
     "user_tz": -120
    },
    "id": "uqi7IjTvO8zf",
    "outputId": "f6681d54-b024-4248-d10b-042dfc0e0554"
   },
   "outputs": [
    {
     "data": {
      "text/plain": [
       "tensor([[ -6.9297,   8.5939,   5.4268,  ...,  10.7523,  -6.7074,  22.4053],\n",
       "        [-11.8993,   3.1539,   3.7284,  ...,   1.1799,   2.0267,  10.3703],\n",
       "        [ -7.8521,   9.4876,   6.8656,  ...,  -1.9922,   0.4655,   7.8985],\n",
       "        ...,\n",
       "        [-14.0204,  -0.6786,  -2.6072,  ...,  14.0428,  -1.7763,  19.8286],\n",
       "        [ -3.8903,   4.6032,   5.1098,  ...,  11.9453,   0.3700,  21.9499],\n",
       "        [-11.2866,  13.3012,   5.5558,  ...,  19.0742,  -8.9280,  14.9386]],\n",
       "       device='cuda:0', grad_fn=<AddmmBackward0>)"
      ]
     },
     "execution_count": 101,
     "metadata": {},
     "output_type": "execute_result"
    }
   ],
   "source": [
    "output_batch"
   ]
  },
  {
   "cell_type": "code",
   "execution_count": 102,
   "metadata": {
    "colab": {
     "base_uri": "https://localhost:8080/"
    },
    "executionInfo": {
     "elapsed": 10,
     "status": "ok",
     "timestamp": 1756390393372,
     "user": {
      "displayName": "Piergiorgio Di Pasquale",
      "userId": "07379998051964901818"
     },
     "user_tz": -120
    },
    "id": "0UDdMwhkxtKv",
    "outputId": "2dd60291-a393-4d05-81d9-ad2f889947c3"
   },
   "outputs": [
    {
     "data": {
      "text/plain": [
       "torch.Size([128, 10])"
      ]
     },
     "execution_count": 102,
     "metadata": {},
     "output_type": "execute_result"
    }
   ],
   "source": [
    "output_batch.size()"
   ]
  },
  {
   "cell_type": "markdown",
   "metadata": {
    "id": "CkKTF_FozeVt"
   },
   "source": [
    "# train the model"
   ]
  },
  {
   "cell_type": "code",
   "execution_count": 103,
   "metadata": {
    "executionInfo": {
     "elapsed": 145,
     "status": "ok",
     "timestamp": 1756390394576,
     "user": {
      "displayName": "Piergiorgio Di Pasquale",
      "userId": "07379998051964901818"
     },
     "user_tz": -120
    },
    "id": "mGRDVfkuPANk"
   },
   "outputs": [],
   "source": [
    "criterion = nn.CrossEntropyLoss()"
   ]
  },
  {
   "cell_type": "code",
   "execution_count": 104,
   "metadata": {
    "colab": {
     "base_uri": "https://localhost:8080/"
    },
    "executionInfo": {
     "elapsed": 9,
     "status": "ok",
     "timestamp": 1756390394621,
     "user": {
      "displayName": "Piergiorgio Di Pasquale",
      "userId": "07379998051964901818"
     },
     "user_tz": -120
    },
    "id": "UBq47lwcPOjh",
    "outputId": "1ed59e6f-9e32-4fd9-ef32-e8c75b377f38"
   },
   "outputs": [
    {
     "data": {
      "text/plain": [
       "13.935954093933105"
      ]
     },
     "execution_count": 104,
     "metadata": {},
     "output_type": "execute_result"
    }
   ],
   "source": [
    "output = model(input)\n",
    "loss = criterion(output,target)\n",
    "float(loss.detach())"
   ]
  },
  {
   "cell_type": "code",
   "execution_count": 105,
   "metadata": {
    "executionInfo": {
     "elapsed": 4605,
     "status": "ok",
     "timestamp": 1756390399228,
     "user": {
      "displayName": "Piergiorgio Di Pasquale",
      "userId": "07379998051964901818"
     },
     "user_tz": -120
    },
    "id": "ghhMVw0BQlYt"
   },
   "outputs": [],
   "source": [
    "# optimizer = torch.optim.SGD(model.parameters(), lr=1e-30, weight_decay= 1)\n",
    "optimizer = torch.optim.Adam(model.parameters(), lr=1e-5, weight_decay= 1)"
   ]
  },
  {
   "cell_type": "code",
   "execution_count": 106,
   "metadata": {
    "colab": {
     "base_uri": "https://localhost:8080/"
    },
    "executionInfo": {
     "elapsed": 34,
     "status": "ok",
     "timestamp": 1756390399264,
     "user": {
      "displayName": "Piergiorgio Di Pasquale",
      "userId": "07379998051964901818"
     },
     "user_tz": -120
    },
    "id": "5lgW9dh5Luc6",
    "outputId": "ead36ea8-15dd-4ec0-d9d7-88af05c00100"
   },
   "outputs": [
    {
     "data": {
      "text/plain": [
       "tensor(0.)"
      ]
     },
     "execution_count": 106,
     "metadata": {},
     "output_type": "execute_result"
    }
   ],
   "source": [
    "max_norm = 1.0  # Define a threshold\n",
    "torch.nn.utils.clip_grad_norm_(model.parameters(), max_norm)"
   ]
  },
  {
   "cell_type": "code",
   "execution_count": 107,
   "metadata": {
    "executionInfo": {
     "elapsed": 3,
     "status": "ok",
     "timestamp": 1756390399310,
     "user": {
      "displayName": "Piergiorgio Di Pasquale",
      "userId": "07379998051964901818"
     },
     "user_tz": -120
    },
    "id": "YgXaGR1vLuc6"
   },
   "outputs": [],
   "source": [
    "loss_s_train = []\n",
    "loss_s_test = []\n",
    "test = True"
   ]
  },
  {
   "cell_type": "code",
   "execution_count": 108,
   "metadata": {
    "colab": {
     "base_uri": "https://localhost:8080/"
    },
    "executionInfo": {
     "elapsed": 373,
     "status": "ok",
     "timestamp": 1756390399693,
     "user": {
      "displayName": "Piergiorgio Di Pasquale",
      "userId": "07379998051964901818"
     },
     "user_tz": -120
    },
    "id": "ZDtf-b6IRIYb",
    "outputId": "79b51b82-8546-484a-efdf-21954d5aa889"
   },
   "outputs": [
    {
     "name": "stderr",
     "output_type": "stream",
     "text": [
      "/tmp/ipython-input-3392716510.py:1: UserWarning: Converting a tensor with requires_grad=True to a scalar may lead to unexpected behavior.\n",
      "Consider using tensor.detach() first. (Triggered internally at /pytorch/torch/csrc/autograd/generated/python_variable_methods.cpp:835.)\n",
      "  print(float(loss))\n"
     ]
    },
    {
     "name": "stdout",
     "output_type": "stream",
     "text": [
      "13.935954093933105\n",
      "14.948424339294434\n",
      "9.390448570251465\n",
      "7.31874418258667\n",
      "5.99265193939209\n",
      "5.599588871002197\n",
      "5.755127906799316\n",
      "4.9040446281433105\n",
      "5.176251411437988\n",
      "4.052838325500488\n",
      "3.1158299446105957\n"
     ]
    }
   ],
   "source": [
    "print(float(loss))\n",
    "for _ in range(10):\n",
    "  optimizer.zero_grad()\n",
    "  input,target = next(iter(train_loader))\n",
    "\n",
    "  output = model(input)\n",
    "\n",
    "  loss = criterion(output,target)\n",
    "\n",
    "  loss.backward()\n",
    "  optimizer.step()\n",
    "  print(float(loss.detach()))\n",
    "  if test:\n",
    "    input_test,target_test = next(iter(test_loader))\n",
    "    output_test = model(input_test)\n",
    "    loss_test = criterion(output_test, target_test)\n",
    "    loss_s_test.append(float(loss_test.detach()))\n",
    "  loss_s_train.append(float(loss.detach()))\n"
   ]
  },
  {
   "cell_type": "code",
   "execution_count": 109,
   "metadata": {
    "colab": {
     "base_uri": "https://localhost:8080/",
     "height": 454
    },
    "executionInfo": {
     "elapsed": 367,
     "status": "ok",
     "timestamp": 1756390400037,
     "user": {
      "displayName": "Piergiorgio Di Pasquale",
      "userId": "07379998051964901818"
     },
     "user_tz": -120
    },
    "id": "JuqLK_qvLuc7",
    "outputId": "a18473cd-6349-48e9-fcb8-dcb26ea82f15"
   },
   "outputs": [
    {
     "data": {
      "text/plain": [
       "Text(0.5, 1.0, 'test loss')"
      ]
     },
     "execution_count": 109,
     "metadata": {},
     "output_type": "execute_result"
    },
    {
     "data": {
      "image/png": "[encoded data removed]",
      "text/plain": [
       "<Figure size 1200x500 with 2 Axes>"
      ]
     },
     "metadata": {},
     "output_type": "display_data"
    }
   ],
   "source": [
    "fig,ax = plt.subplots(1,2, figsize =( 12,5))\n",
    "\n",
    "ax[0].plot(loss_s_train)\n",
    "ax[0].set_title(\"train loss\")\n",
    "\n",
    "ax[1].plot(loss_s_test, color = \"red\")\n",
    "ax[1].set_title(\"test loss\")\n"
   ]
  },
  {
   "cell_type": "markdown",
   "metadata": {
    "id": "X-4RaBBiLuc7"
   },
   "source": [
    "# try on the train set"
   ]
  },
  {
   "cell_type": "code",
   "execution_count": 110,
   "metadata": {
    "colab": {
     "base_uri": "https://localhost:8080/",
     "height": 437
    },
    "executionInfo": {
     "elapsed": 194,
     "status": "ok",
     "timestamp": 1756390403237,
     "user": {
      "displayName": "Piergiorgio Di Pasquale",
      "userId": "07379998051964901818"
     },
     "user_tz": -120
    },
    "id": "L0aXVzDfy565",
    "outputId": "1d512536-a472-4531-dfda-b46bf4414332"
   },
   "outputs": [
    {
     "data": {
      "image/png": "[encoded data removed]",
      "text/plain": [
       "<Figure size 1200x500 with 2 Axes>"
      ]
     },
     "metadata": {},
     "output_type": "display_data"
    }
   ],
   "source": [
    "input,target = next(iter(train_loader))\n",
    "\n",
    "input_example = input[0]\n",
    "target_example = target[0]\n",
    "train_example_output, train_example_target = model(input_example),target_example\n",
    "\n",
    "\n",
    "train_example_output = train_example_output.softmax(dim = -1)\n",
    "vals = train_example_output.detach().cpu().numpy()\n",
    "\n",
    "fig,ax = plt.subplots(1,2, figsize =( 12,5))\n",
    "\n",
    "ax[0].bar(range(len(vals)), vals)\n",
    "ax[0].set_xticks(range(10))\n",
    "ax[0].set_xticklabels(range(10), rotation=45, ha='right')\n",
    "ax[0].set_ylabel(\"Probability\")\n",
    "ax[0].set_title(f\"prediction: {torch.argmax(train_example_output, dim = -1)}\")\n",
    "ax[1].imshow(input[0].view(28,28).to(\"cpu\"))\n",
    "ax[1].set_title(f\"target: {torch.argmax(target_example, dim=-1)}\")\n",
    "ax[1].set_axis_off()\n",
    "plt.show()"
   ]
  },
  {
   "cell_type": "markdown",
   "metadata": {
    "id": "BvuugK7mLuc8"
   },
   "source": [
    "# try on the test set"
   ]
  },
  {
   "cell_type": "code",
   "execution_count": 111,
   "metadata": {
    "colab": {
     "base_uri": "https://localhost:8080/",
     "height": 437
    },
    "executionInfo": {
     "elapsed": 205,
     "status": "ok",
     "timestamp": 1756390406092,
     "user": {
      "displayName": "Piergiorgio Di Pasquale",
      "userId": "07379998051964901818"
     },
     "user_tz": -120
    },
    "id": "VCBBeqXpLuc8",
    "outputId": "12bd8827-de54-4a17-8552-1c69a81b823f"
   },
   "outputs": [
    {
     "data": {
      "image/png": "[encoded data removed]",
      "text/plain": [
       "<Figure size 1200x500 with 2 Axes>"
      ]
     },
     "metadata": {},
     "output_type": "display_data"
    }
   ],
   "source": [
    "input,target = next(iter(test_loader))\n",
    "\n",
    "input_example = input[0]\n",
    "target_example = target[0]\n",
    "test_example_output, test_example_target = model(input_example),target_example\n",
    "\n",
    "\n",
    "test_example_output = test_example_output.softmax(dim = -1)\n",
    "vals = test_example_output.detach().cpu().numpy()\n",
    "\n",
    "fig,ax = plt.subplots(1,2, figsize =( 12,5))\n",
    "\n",
    "ax[0].bar(range(len(vals)), vals)\n",
    "ax[0].set_xticks(range(10))\n",
    "ax[0].set_xticklabels(range(10), rotation=45, ha='right')\n",
    "ax[0].set_ylabel(\"Probability\")\n",
    "ax[0].set_title(f\"prediction: {torch.argmax(test_example_output, dim = -1)}\")\n",
    "ax[1].imshow(input[0].view(28,28).to(\"cpu\"))\n",
    "ax[1].set_title(f\"target: {torch.argmax(target_example, dim=-1)}\")\n",
    "ax[1].set_axis_off()\n",
    "plt.show()"
   ]
  },
  {
   "cell_type": "code",
   "execution_count": null,
   "metadata": {
    "executionInfo": {
     "elapsed": 233,
     "status": "ok",
     "timestamp": 1756390526490,
     "user": {
      "displayName": "Piergiorgio Di Pasquale",
      "userId": "07379998051964901818"
     },
     "user_tz": -120
    },
    "id": "BPOGk1HdBOoT"
   },
   "outputs": [],
   "source": [
    "torch.save(model.state_dict(), \"models/model.pth\")"
   ]
  }
 ],
 "metadata": {
  "accelerator": "GPU",
  "colab": {
   "gpuType": "T4",
   "provenance": []
  },
  "kernelspec": {
   "display_name": "Python 3",
   "name": "python3"
  },
  "language_info": {
   "codemirror_mode": {
    "name": "ipython",
    "version": 3
   },
   "file_extension": ".py",
   "mimetype": "text/x-python",
   "name": "python",
   "nbconvert_exporter": "python",
   "pygments_lexer": "ipython3",
   "version": "3.12.11"
  }
 },
 "nbformat": 4,
 "nbformat_minor": 0
}
